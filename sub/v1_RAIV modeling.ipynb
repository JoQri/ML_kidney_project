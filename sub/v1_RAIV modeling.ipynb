{
  "cells": [
    {
      "cell_type": "markdown",
      "metadata": {
        "id": "PMWQwwfdHDZu"
      },
      "source": [
        "# 이상치 유지(제거 X) 버전"
      ]
    },
    {
      "cell_type": "markdown",
      "metadata": {
        "id": "Yy9okxENHRI-"
      },
      "source": [
        "# 1. 데이터 불러오기"
      ]
    },
    {
      "cell_type": "code",
      "execution_count": 1,
      "metadata": {
        "id": "6KrTLJ0PYyIk"
      },
      "outputs": [],
      "source": [
        "import pandas as pd\n",
        "import numpy as np\n",
        "import seaborn as sns\n",
        "import matplotlib.pyplot as plt\n",
        "\n",
        "from IPython.display import Image\n",
        "\n",
        "from sklearn.ensemble import RandomForestRegressor\n",
        "from sklearn.tree import DecisionTreeRegressor\n",
        "from sklearn.linear_model import LinearRegression\n",
        "\n",
        "from sklearn.metrics import mean_absolute_error, mean_squared_error\n",
        "\n",
        "from model import *\n",
        "from sklearn.tree import plot_tree\n",
        "\n",
        "from sklearn.cluster import KMeans\n",
        "from sklearn.metrics import silhouette_score\n",
        "\n",
        "import warnings\n",
        "warnings.filterwarnings(action='ignore')"
      ]
    },
    {
      "cell_type": "code",
      "execution_count": 2,
      "metadata": {
        "id": "Nrcs4zdjY9Pd"
      },
      "outputs": [],
      "source": [
        "padua_data = pd.read_csv('../data/kideny_PADUA_upload.csv')\n",
        "renal_data = pd.read_csv('../data/kideny_RENAL_upload.csv')\n",
        "treat_data = pd.read_csv('../data/kidney_treat_upload.csv')"
      ]
    },
    {
      "cell_type": "markdown",
      "metadata": {
        "id": "PvhpeVyivOyP"
      },
      "source": [
        "# 2. 데이터 정리\n",
        "중복 컬럼 삭제(종양의 크기, 외성장 비율) 및 데이터 합치기"
      ]
    },
    {
      "cell_type": "code",
      "execution_count": 3,
      "metadata": {
        "id": "jcZGVLvPZNt7"
      },
      "outputs": [],
      "source": [
        "# padua_data, renal_data 데이터 merge\n",
        "merged_data = pd.merge(padua_data, renal_data, on='serial')\n",
        "# padua 에서 중복 컬럼 삭제\n",
        "merged_data = merged_data.drop(['Tumor_PADUA', 'Exophytic_PADUA'], axis=1)\n",
        "# treat 데이터 merge\n",
        "merged_result = pd.merge(merged_data, treat_data, on='serial', how='left')\n",
        "# serial을 인덱스로 설정\n",
        "merged_result.set_index('serial', inplace=True)"
      ]
    },
    {
      "cell_type": "code",
      "execution_count": 4,
      "metadata": {
        "colab": {
          "base_uri": "https://localhost:8080/",
          "height": 455
        },
        "id": "sU1N_wksI1Wc",
        "outputId": "877c5fae-94ae-49f7-8dce-3d6aaae31b0c"
      },
      "outputs": [],
      "source": [
        "merged_result = merged_result.rename(columns={'Radius_RENAL': 'T_size', 'Exophytic_RENAL':'T_exophytic',\n",
        "                            'Rim_PADUA':'T_surface_loc','Polarlocation_PADUA':'T_height_loc',\n",
        "                            'Collectingsystem_PADUA':'T_GM_over','Sinus_PADUA':'T_Sinus_dt',\n",
        "                            'Nearness_RENAL':'T_near_Ureter','APX_RENAL':'T_APX','Location_RENAL':'T_rel_Ureter','RAIV_1': 'RAIV'\n",
        "                            })"
      ]
    },
    {
      "cell_type": "code",
      "execution_count": 5,
      "metadata": {},
      "outputs": [],
      "source": [
        "merged_result = merged_result.dropna()"
      ]
    },
    {
      "cell_type": "code",
      "execution_count": 6,
      "metadata": {
        "colab": {
          "base_uri": "https://localhost:8080/",
          "height": 238
        },
        "id": "ONIr_EllwL5O",
        "outputId": "b0584419-b30e-4b07-8d07-55a9b8ea42f3"
      },
      "outputs": [],
      "source": [
        "merged_result['Total'] = merged_result[['PADUA_total', 'RENAL_total']].sum(axis=1)\n",
        "merged_result.drop(columns=['PADUA_total', 'RENAL_total'], inplace=True)"
      ]
    },
    {
      "cell_type": "code",
      "execution_count": 7,
      "metadata": {
        "colab": {
          "base_uri": "https://localhost:8080/"
        },
        "id": "DswXK_9hJpmI",
        "outputId": "6026110e-19c4-4c17-ecdf-13d3c76a4721"
      },
      "outputs": [],
      "source": [
        "# 새로운 컬럼(T_size + T_Exophytic = T_size_exo )\n",
        "merged_result['T_size_exo'] = merged_result['T_size'] + merged_result['T_exophytic']"
      ]
    },
    {
      "cell_type": "code",
      "execution_count": 8,
      "metadata": {},
      "outputs": [
        {
          "data": {
            "text/html": [
              "<div>\n",
              "<style scoped>\n",
              "    .dataframe tbody tr th:only-of-type {\n",
              "        vertical-align: middle;\n",
              "    }\n",
              "\n",
              "    .dataframe tbody tr th {\n",
              "        vertical-align: top;\n",
              "    }\n",
              "\n",
              "    .dataframe thead th {\n",
              "        text-align: right;\n",
              "    }\n",
              "</style>\n",
              "<table border=\"1\" class=\"dataframe\">\n",
              "  <thead>\n",
              "    <tr style=\"text-align: right;\">\n",
              "      <th></th>\n",
              "      <th>T_surface_loc</th>\n",
              "      <th>T_Sinus_dt</th>\n",
              "      <th>T_height_loc</th>\n",
              "      <th>T_GM_over</th>\n",
              "      <th>T_size</th>\n",
              "      <th>T_exophytic</th>\n",
              "      <th>T_near_Ureter</th>\n",
              "      <th>T_rel_Ureter</th>\n",
              "      <th>T_APX</th>\n",
              "      <th>Total</th>\n",
              "      <th>T_size_exo</th>\n",
              "      <th>RAIV</th>\n",
              "    </tr>\n",
              "    <tr>\n",
              "      <th>serial</th>\n",
              "      <th></th>\n",
              "      <th></th>\n",
              "      <th></th>\n",
              "      <th></th>\n",
              "      <th></th>\n",
              "      <th></th>\n",
              "      <th></th>\n",
              "      <th></th>\n",
              "      <th></th>\n",
              "      <th></th>\n",
              "      <th></th>\n",
              "      <th></th>\n",
              "    </tr>\n",
              "  </thead>\n",
              "  <tbody>\n",
              "    <tr>\n",
              "      <th>1</th>\n",
              "      <td>2.0</td>\n",
              "      <td>1.0</td>\n",
              "      <td>1.0</td>\n",
              "      <td>1.0</td>\n",
              "      <td>2.0</td>\n",
              "      <td>1.0</td>\n",
              "      <td>1.0</td>\n",
              "      <td>1.0</td>\n",
              "      <td>2.0</td>\n",
              "      <td>12</td>\n",
              "      <td>3.0</td>\n",
              "      <td>51.1</td>\n",
              "    </tr>\n",
              "    <tr>\n",
              "      <th>2</th>\n",
              "      <td>1.0</td>\n",
              "      <td>1.0</td>\n",
              "      <td>2.0</td>\n",
              "      <td>1.0</td>\n",
              "      <td>1.0</td>\n",
              "      <td>2.0</td>\n",
              "      <td>2.0</td>\n",
              "      <td>2.0</td>\n",
              "      <td>2.0</td>\n",
              "      <td>13</td>\n",
              "      <td>3.0</td>\n",
              "      <td>46.1</td>\n",
              "    </tr>\n",
              "    <tr>\n",
              "      <th>3</th>\n",
              "      <td>1.0</td>\n",
              "      <td>1.0</td>\n",
              "      <td>2.0</td>\n",
              "      <td>1.0</td>\n",
              "      <td>1.0</td>\n",
              "      <td>1.0</td>\n",
              "      <td>1.0</td>\n",
              "      <td>1.0</td>\n",
              "      <td>1.0</td>\n",
              "      <td>10</td>\n",
              "      <td>2.0</td>\n",
              "      <td>14.8</td>\n",
              "    </tr>\n",
              "    <tr>\n",
              "      <th>4</th>\n",
              "      <td>1.0</td>\n",
              "      <td>1.0</td>\n",
              "      <td>2.0</td>\n",
              "      <td>2.0</td>\n",
              "      <td>1.0</td>\n",
              "      <td>1.0</td>\n",
              "      <td>3.0</td>\n",
              "      <td>3.0</td>\n",
              "      <td>2.0</td>\n",
              "      <td>13</td>\n",
              "      <td>2.0</td>\n",
              "      <td>19.7</td>\n",
              "    </tr>\n",
              "    <tr>\n",
              "      <th>5</th>\n",
              "      <td>1.0</td>\n",
              "      <td>1.0</td>\n",
              "      <td>2.0</td>\n",
              "      <td>1.0</td>\n",
              "      <td>1.0</td>\n",
              "      <td>2.0</td>\n",
              "      <td>1.0</td>\n",
              "      <td>3.0</td>\n",
              "      <td>1.0</td>\n",
              "      <td>12</td>\n",
              "      <td>3.0</td>\n",
              "      <td>14.8</td>\n",
              "    </tr>\n",
              "    <tr>\n",
              "      <th>...</th>\n",
              "      <td>...</td>\n",
              "      <td>...</td>\n",
              "      <td>...</td>\n",
              "      <td>...</td>\n",
              "      <td>...</td>\n",
              "      <td>...</td>\n",
              "      <td>...</td>\n",
              "      <td>...</td>\n",
              "      <td>...</td>\n",
              "      <td>...</td>\n",
              "      <td>...</td>\n",
              "      <td>...</td>\n",
              "    </tr>\n",
              "    <tr>\n",
              "      <th>408</th>\n",
              "      <td>1.0</td>\n",
              "      <td>1.0</td>\n",
              "      <td>2.0</td>\n",
              "      <td>1.0</td>\n",
              "      <td>1.0</td>\n",
              "      <td>2.0</td>\n",
              "      <td>1.0</td>\n",
              "      <td>3.0</td>\n",
              "      <td>1.0</td>\n",
              "      <td>12</td>\n",
              "      <td>3.0</td>\n",
              "      <td>21.3</td>\n",
              "    </tr>\n",
              "    <tr>\n",
              "      <th>409</th>\n",
              "      <td>1.0</td>\n",
              "      <td>1.0</td>\n",
              "      <td>2.0</td>\n",
              "      <td>1.0</td>\n",
              "      <td>1.0</td>\n",
              "      <td>2.0</td>\n",
              "      <td>1.0</td>\n",
              "      <td>3.0</td>\n",
              "      <td>1.0</td>\n",
              "      <td>12</td>\n",
              "      <td>3.0</td>\n",
              "      <td>30.5</td>\n",
              "    </tr>\n",
              "    <tr>\n",
              "      <th>410</th>\n",
              "      <td>1.0</td>\n",
              "      <td>1.0</td>\n",
              "      <td>1.0</td>\n",
              "      <td>1.0</td>\n",
              "      <td>1.0</td>\n",
              "      <td>2.0</td>\n",
              "      <td>1.0</td>\n",
              "      <td>1.0</td>\n",
              "      <td>1.0</td>\n",
              "      <td>11</td>\n",
              "      <td>3.0</td>\n",
              "      <td>70.7</td>\n",
              "    </tr>\n",
              "    <tr>\n",
              "      <th>411</th>\n",
              "      <td>2.0</td>\n",
              "      <td>2.0</td>\n",
              "      <td>1.0</td>\n",
              "      <td>2.0</td>\n",
              "      <td>1.0</td>\n",
              "      <td>2.0</td>\n",
              "      <td>2.0</td>\n",
              "      <td>1.0</td>\n",
              "      <td>2.0</td>\n",
              "      <td>15</td>\n",
              "      <td>3.0</td>\n",
              "      <td>12.6</td>\n",
              "    </tr>\n",
              "    <tr>\n",
              "      <th>412</th>\n",
              "      <td>1.0</td>\n",
              "      <td>1.0</td>\n",
              "      <td>2.0</td>\n",
              "      <td>1.0</td>\n",
              "      <td>1.0</td>\n",
              "      <td>1.0</td>\n",
              "      <td>1.0</td>\n",
              "      <td>3.0</td>\n",
              "      <td>1.0</td>\n",
              "      <td>10</td>\n",
              "      <td>2.0</td>\n",
              "      <td>11.8</td>\n",
              "    </tr>\n",
              "  </tbody>\n",
              "</table>\n",
              "<p>389 rows × 12 columns</p>\n",
              "</div>"
            ],
            "text/plain": [
              "        T_surface_loc  T_Sinus_dt  T_height_loc  T_GM_over  T_size  \\\n",
              "serial                                                               \n",
              "1                 2.0         1.0           1.0        1.0     2.0   \n",
              "2                 1.0         1.0           2.0        1.0     1.0   \n",
              "3                 1.0         1.0           2.0        1.0     1.0   \n",
              "4                 1.0         1.0           2.0        2.0     1.0   \n",
              "5                 1.0         1.0           2.0        1.0     1.0   \n",
              "...               ...         ...           ...        ...     ...   \n",
              "408               1.0         1.0           2.0        1.0     1.0   \n",
              "409               1.0         1.0           2.0        1.0     1.0   \n",
              "410               1.0         1.0           1.0        1.0     1.0   \n",
              "411               2.0         2.0           1.0        2.0     1.0   \n",
              "412               1.0         1.0           2.0        1.0     1.0   \n",
              "\n",
              "        T_exophytic  T_near_Ureter  T_rel_Ureter  T_APX  Total  T_size_exo  \\\n",
              "serial                                                                       \n",
              "1               1.0            1.0           1.0    2.0     12         3.0   \n",
              "2               2.0            2.0           2.0    2.0     13         3.0   \n",
              "3               1.0            1.0           1.0    1.0     10         2.0   \n",
              "4               1.0            3.0           3.0    2.0     13         2.0   \n",
              "5               2.0            1.0           3.0    1.0     12         3.0   \n",
              "...             ...            ...           ...    ...    ...         ...   \n",
              "408             2.0            1.0           3.0    1.0     12         3.0   \n",
              "409             2.0            1.0           3.0    1.0     12         3.0   \n",
              "410             2.0            1.0           1.0    1.0     11         3.0   \n",
              "411             2.0            2.0           1.0    2.0     15         3.0   \n",
              "412             1.0            1.0           3.0    1.0     10         2.0   \n",
              "\n",
              "        RAIV  \n",
              "serial        \n",
              "1       51.1  \n",
              "2       46.1  \n",
              "3       14.8  \n",
              "4       19.7  \n",
              "5       14.8  \n",
              "...      ...  \n",
              "408     21.3  \n",
              "409     30.5  \n",
              "410     70.7  \n",
              "411     12.6  \n",
              "412     11.8  \n",
              "\n",
              "[389 rows x 12 columns]"
            ]
          },
          "execution_count": 8,
          "metadata": {},
          "output_type": "execute_result"
        }
      ],
      "source": [
        "merged_result = merged_result[['T_surface_loc', 'T_Sinus_dt', 'T_height_loc', 'T_GM_over', 'T_size', 'T_exophytic', 'T_near_Ureter', 'T_rel_Ureter', 'T_APX', 'Total', 'T_size_exo', 'RAIV']]\n",
        "merged_result"
      ]
    },
    {
      "cell_type": "code",
      "execution_count": 9,
      "metadata": {
        "colab": {
          "base_uri": "https://localhost:8080/"
        },
        "id": "SvlhxOgfi-bz",
        "outputId": "921e8a37-b295-4c1e-eca1-d1473fb97fa4"
      },
      "outputs": [
        {
          "name": "stdout",
          "output_type": "stream",
          "text": [
            "<class 'pandas.core.frame.DataFrame'>\n",
            "Index: 389 entries, 1 to 412\n",
            "Data columns (total 12 columns):\n",
            " #   Column         Non-Null Count  Dtype  \n",
            "---  ------         --------------  -----  \n",
            " 0   T_surface_loc  389 non-null    float64\n",
            " 1   T_Sinus_dt     389 non-null    float64\n",
            " 2   T_height_loc   389 non-null    float64\n",
            " 3   T_GM_over      389 non-null    float64\n",
            " 4   T_size         389 non-null    float64\n",
            " 5   T_exophytic    389 non-null    float64\n",
            " 6   T_near_Ureter  389 non-null    float64\n",
            " 7   T_rel_Ureter   389 non-null    float64\n",
            " 8   T_APX          389 non-null    float64\n",
            " 9   Total          389 non-null    int64  \n",
            " 10  T_size_exo     389 non-null    float64\n",
            " 11  RAIV           389 non-null    float64\n",
            "dtypes: float64(11), int64(1)\n",
            "memory usage: 39.5 KB\n"
          ]
        }
      ],
      "source": [
        "merged_result.info()"
      ]
    },
    {
      "cell_type": "markdown",
      "metadata": {
        "id": "bh3oHit50NNI"
      },
      "source": [
        "RAIV80이상인 데이터없는 데이터 새로 만들어줌\n",
        "(merged_data는 살려둠)"
      ]
    },
    {
      "cell_type": "markdown",
      "metadata": {},
      "source": [
        "# 3. 모델링"
      ]
    },
    {
      "cell_type": "markdown",
      "metadata": {
        "id": "Fcl_EryA43PG"
      },
      "source": [
        "## 01. 데이터 나누기(train_test_split)"
      ]
    },
    {
      "cell_type": "code",
      "execution_count": 10,
      "metadata": {},
      "outputs": [],
      "source": [
        "X = merged_result.drop(['RAIV'], axis=1)  # 'RAIV_1' 열을 제외한 모든 열 선택\n",
        "y = merged_result['RAIV']"
      ]
    },
    {
      "cell_type": "code",
      "execution_count": 11,
      "metadata": {},
      "outputs": [],
      "source": [
        "from sklearn.model_selection import train_test_split\n",
        "\n",
        "X_train, X_test, y_train, y_test = train_test_split(X, y, test_size=0.2, random_state=13)"
      ]
    },
    {
      "cell_type": "markdown",
      "metadata": {
        "id": "OPucxpgE3XKp"
      },
      "source": [
        "## X 데이터(RAIV X)로 군집 0 과 1로 나눔 (이상치가 포함됨)"
      ]
    },
    {
      "cell_type": "code",
      "execution_count": 31,
      "metadata": {},
      "outputs": [
        {
          "name": "stdout",
          "output_type": "stream",
          "text": [
            "Optimal number of clusters: 2\n"
          ]
        }
      ],
      "source": [
        "cluster_range = range(2, 11)\n",
        "\n",
        "optimal_clusters = 0\n",
        "max_silhouette_score = -1\n",
        "\n",
        "for n_clusters in cluster_range:\n",
        "    \n",
        "    kmeans = KMeans(n_clusters=n_clusters, random_state=13)\n",
        "    \n",
        "    kmeans.fit(X)\n",
        "    \n",
        "    clusters = kmeans.predict(X)\n",
        "    \n",
        "    silhouette_avg = silhouette_score(X, clusters)\n",
        "    \n",
        "    if silhouette_avg > max_silhouette_score:\n",
        "        max_silhouette_score = silhouette_avg\n",
        "        optimal_clusters = n_clusters\n",
        "\n",
        "# Print the optimal number of clusters\n",
        "print(\"Optimal number of clusters:\", optimal_clusters)"
      ]
    },
    {
      "cell_type": "code",
      "execution_count": 32,
      "metadata": {},
      "outputs": [
        {
          "name": "stdout",
          "output_type": "stream",
          "text": [
            "cluster_labels : [0 0 0 0 0 0 0 1 1 0 0 0 0 1 1 1 0 0 1 0 0 1 0 0 1 1 1 0 0 1 0 0 0 1 0 0 0\n",
            " 1 0 1 0 0 1 1 0 0 0 1 0 0 0 1 0 0 0 0 0 1 1 0 0 0 0 0 0 0 1 0 0 0 1 1 0 1\n",
            " 0 1 1 0 1 1 1 0 0 0 0 0 0 1 0 1 0 1 0 0 0 0 0 0 0 0 0 0 0 0 0 0 1 1 0 0 0\n",
            " 1 0 0 0 1 0 1 0 0 0 0 0 0 0 0 0 0 0 1 1 0 1 1 0 0 1 0 1 0 1 0 1 1 1 1 0 1\n",
            " 0 0 1 0 0 1 1 0 0 0 0 1 0 1 0 0 1 1 1 0 1 0 0 1 1 0 1 1 1 1 1 1 1 0 0 1 1\n",
            " 1 1 0 1 1 1 1 0 0 0 1 1 0 1 0 1 0 0 1 1 1 1 0 0 0 1 1 0 1 1 1 0 0 1 0 1 1\n",
            " 0 1 1 1 1 1 0 0 1 0 1 0 0 0 1 0 0 1 1 1 1 1 1 1 1 1 1 0 1 0 1 0 1 1 0 0 0\n",
            " 0 1 1 0 0 0 1 1 0 1 0 0 1 1 1 0 1 1 1 1 1 1 0 1 1 1 1 0 1 1 0 1 0 1 1 0 1\n",
            " 1 0 0 1 1 0 0 0 1 1 1 1 1 1 0 1 1 1 1 0 1 1 0 1 1 1 1 1 1 0 0 1 0 1 1 0 1\n",
            " 1 0 1 1 1 1 1 0 1 0 1 1 1 1 1 0 0 0 0 0 0 0 0 1 1 0 0 0 0 0 1 0 0 1 0 0 0\n",
            " 1 1 1 0 0 1 0 1 0 0 0 0 0 0 0 0 0 1 0]\n"
          ]
        }
      ],
      "source": [
        "kmeans = KMeans(n_clusters=2, random_state=13)\n",
        "kmeans.fit(X)\n",
        "\n",
        "cluster = kmeans.predict(X)          # X데이터 군집화\n",
        "\n",
        "print('cluster_labels :', cluster)"
      ]
    },
    {
      "cell_type": "code",
      "execution_count": 33,
      "metadata": {
        "id": "fraEpu4hxAdr"
      },
      "outputs": [],
      "source": [
        "# 군집 레이블 생성\n",
        "labels = kmeans.labels_"
      ]
    },
    {
      "cell_type": "code",
      "execution_count": 34,
      "metadata": {},
      "outputs": [],
      "source": [
        "# 군집0\n",
        "X_0 = X[labels == 0]\n",
        "y_0 = y[labels == 0]\n",
        "\n",
        "#군집1\n",
        "X_1 = X[labels == 1]\n",
        "y_1 = y[labels == 1]"
      ]
    },
    {
      "cell_type": "code",
      "execution_count": 35,
      "metadata": {},
      "outputs": [
        {
          "data": {
            "text/plain": [
              "serial\n",
              "1      51.1\n",
              "2      46.1\n",
              "3      14.8\n",
              "4      19.7\n",
              "5      14.8\n",
              "       ... \n",
              "407    24.6\n",
              "408    21.3\n",
              "409    30.5\n",
              "410    70.7\n",
              "412    11.8\n",
              "Name: RAIV, Length: 205, dtype: float64"
            ]
          },
          "execution_count": 35,
          "metadata": {},
          "output_type": "execute_result"
        }
      ],
      "source": [
        "y_0"
      ]
    },
    {
      "cell_type": "markdown",
      "metadata": {},
      "source": [
        "## 군집 0 데이터 나누기"
      ]
    },
    {
      "cell_type": "code",
      "execution_count": 36,
      "metadata": {},
      "outputs": [],
      "source": [
        "from sklearn.model_selection import train_test_split\n",
        "\n",
        "X_tr_0, X_test_0, y_tr_0, y_test_0 = train_test_split(X_0, y_0, test_size=0.2, random_state=13)"
      ]
    },
    {
      "cell_type": "code",
      "execution_count": 37,
      "metadata": {},
      "outputs": [
        {
          "ename": "NameError",
          "evalue": "name 'models' is not defined",
          "output_type": "error",
          "traceback": [
            "\u001b[1;31m---------------------------------------------------------------------------\u001b[0m",
            "\u001b[1;31mNameError\u001b[0m                                 Traceback (most recent call last)",
            "Cell \u001b[1;32mIn[37], line 5\u001b[0m\n\u001b[0;32m      2\u001b[0m test_result_mae \u001b[38;5;241m=\u001b[39m []\n\u001b[0;32m      3\u001b[0m names \u001b[38;5;241m=\u001b[39m []\n\u001b[1;32m----> 5\u001b[0m \u001b[38;5;28;01mfor\u001b[39;00m name, model \u001b[38;5;129;01min\u001b[39;00m \u001b[43mmodels\u001b[49m:\n\u001b[0;32m      6\u001b[0m     \u001b[38;5;66;03m# 모델 훈련\u001b[39;00m\n\u001b[0;32m      7\u001b[0m     model\u001b[38;5;241m.\u001b[39mfit(X_tr_0, y_tr_0)\n\u001b[0;32m      8\u001b[0m     names\u001b[38;5;241m.\u001b[39mappend(name)\n",
            "\u001b[1;31mNameError\u001b[0m: name 'models' is not defined"
          ]
        }
      ],
      "source": [
        "tr_result_mae = []\n",
        "test_result_mae = []\n",
        "names = []\n",
        "\n",
        "for name, model in models:\n",
        "    # 모델 훈련\n",
        "    model.fit(X_tr_0, y_tr_0)\n",
        "    names.append(name)\n",
        "\n",
        "    # 예측\n",
        "    pred_tr = model.predict(X_tr_0)\n",
        "    pred_test = model.predict(X_test_0)\n",
        "\n",
        "    # MAE 계산\n",
        "    mae_tr = mean_absolute_error(y_tr_0, pred_tr)\n",
        "    mae_test = mean_absolute_error(y_test_0, pred_test)\n",
        "\n",
        "    # 결과를 리스트에 추가\n",
        "    tr_result_mae.append(mae_tr)\n",
        "    test_result_mae.append(mae_test)\n",
        "\n",
        "# 결과를 DataFrame으로 정리\n",
        "result_pd_0 = pd.DataFrame({\n",
        "    'Model': names,\n",
        "    'train MAE_0': tr_result_mae,\n",
        "    'test MAE_0': test_result_mae\n",
        "})\n",
        "\n",
        "result_pd_0"
      ]
    },
    {
      "cell_type": "markdown",
      "metadata": {},
      "source": [
        "## 군집 1 데이터 나누기"
      ]
    },
    {
      "cell_type": "code",
      "execution_count": null,
      "metadata": {},
      "outputs": [],
      "source": [
        "from sklearn.model_selection import train_test_split\n",
        "\n",
        "X_tr_1, X_test_1, y_tr_1, y_test_1 = train_test_split(X_1, y_1, test_size=0.2, random_state=13)"
      ]
    },
    {
      "cell_type": "code",
      "execution_count": null,
      "metadata": {},
      "outputs": [
        {
          "data": {
            "text/html": [
              "<div>\n",
              "<style scoped>\n",
              "    .dataframe tbody tr th:only-of-type {\n",
              "        vertical-align: middle;\n",
              "    }\n",
              "\n",
              "    .dataframe tbody tr th {\n",
              "        vertical-align: top;\n",
              "    }\n",
              "\n",
              "    .dataframe thead th {\n",
              "        text-align: right;\n",
              "    }\n",
              "</style>\n",
              "<table border=\"1\" class=\"dataframe\">\n",
              "  <thead>\n",
              "    <tr style=\"text-align: right;\">\n",
              "      <th></th>\n",
              "      <th>Model</th>\n",
              "      <th>train MAE_1</th>\n",
              "      <th>test MAE_1</th>\n",
              "    </tr>\n",
              "  </thead>\n",
              "  <tbody>\n",
              "    <tr>\n",
              "      <th>0</th>\n",
              "      <td>LinearRegression</td>\n",
              "      <td>16.02185</td>\n",
              "      <td>19570010619446.33594</td>\n",
              "    </tr>\n",
              "    <tr>\n",
              "      <th>1</th>\n",
              "      <td>DecisionTreeRegressor</td>\n",
              "      <td>14.76804</td>\n",
              "      <td>16.06774</td>\n",
              "    </tr>\n",
              "    <tr>\n",
              "      <th>2</th>\n",
              "      <td>RandomForestRegressor</td>\n",
              "      <td>9.19249</td>\n",
              "      <td>17.65304</td>\n",
              "    </tr>\n",
              "  </tbody>\n",
              "</table>\n",
              "</div>"
            ],
            "text/plain": [
              "                   Model  train MAE_1           test MAE_1\n",
              "0       LinearRegression     16.02185 19570010619446.33594\n",
              "1  DecisionTreeRegressor     14.76804             16.06774\n",
              "2  RandomForestRegressor      9.19249             17.65304"
            ]
          },
          "execution_count": 112,
          "metadata": {},
          "output_type": "execute_result"
        }
      ],
      "source": [
        "tr_result_mae = []\n",
        "test_result_mae = []\n",
        "names = []\n",
        "\n",
        "for name, model in models:\n",
        "    # 모델 훈련\n",
        "    model.fit(X_tr_1, y_tr_1)\n",
        "    names.append(name)\n",
        "\n",
        "    # 예측\n",
        "    pred_tr = model.predict(X_tr_1)\n",
        "    pred_test = model.predict(X_test_1)\n",
        "\n",
        "    # MAE 계산\n",
        "    mae_tr = mean_absolute_error(y_tr_1, pred_tr)\n",
        "    mae_test = mean_absolute_error(y_test_1, pred_test)\n",
        "\n",
        "    # 결과를 리스트에 추가\n",
        "    tr_result_mae.append(mae_tr)\n",
        "    test_result_mae.append(mae_test)\n",
        "\n",
        "# 결과를 DataFrame으로 정리\n",
        "result_pd_1 = pd.DataFrame({\n",
        "    'Model': names,\n",
        "    'train MAE_1': tr_result_mae,\n",
        "    'test MAE_1': test_result_mae\n",
        "})\n",
        "\n",
        "# 출력 형식을 변경하여 지수 표기법 대신 소수점 형태로 표시\n",
        "pd.options.display.float_format = '{:.5f}'.format\n",
        "\n",
        "result_pd_1"
      ]
    },
    {
      "cell_type": "code",
      "execution_count": null,
      "metadata": {},
      "outputs": [
        {
          "data": {
            "text/html": [
              "<div>\n",
              "<style scoped>\n",
              "    .dataframe tbody tr th:only-of-type {\n",
              "        vertical-align: middle;\n",
              "    }\n",
              "\n",
              "    .dataframe tbody tr th {\n",
              "        vertical-align: top;\n",
              "    }\n",
              "\n",
              "    .dataframe thead th {\n",
              "        text-align: right;\n",
              "    }\n",
              "</style>\n",
              "<table border=\"1\" class=\"dataframe\">\n",
              "  <thead>\n",
              "    <tr style=\"text-align: right;\">\n",
              "      <th></th>\n",
              "      <th>Model</th>\n",
              "      <th>train MAE</th>\n",
              "      <th>test MAE</th>\n",
              "      <th>train MAE_0</th>\n",
              "      <th>test MAE_0</th>\n",
              "      <th>train MAE_1</th>\n",
              "      <th>test MAE_1</th>\n",
              "    </tr>\n",
              "  </thead>\n",
              "  <tbody>\n",
              "    <tr>\n",
              "      <th>0</th>\n",
              "      <td>LinearRegression</td>\n",
              "      <td>15.89753</td>\n",
              "      <td>18.38438</td>\n",
              "      <td>16.47123</td>\n",
              "      <td>16.20082</td>\n",
              "      <td>16.02185</td>\n",
              "      <td>19570010619446.33594</td>\n",
              "    </tr>\n",
              "    <tr>\n",
              "      <th>1</th>\n",
              "      <td>DecisionTreeRegressor</td>\n",
              "      <td>15.24716</td>\n",
              "      <td>19.10187</td>\n",
              "      <td>15.85600</td>\n",
              "      <td>14.57521</td>\n",
              "      <td>14.76804</td>\n",
              "      <td>16.06774</td>\n",
              "    </tr>\n",
              "    <tr>\n",
              "      <th>2</th>\n",
              "      <td>RandomForestRegressor</td>\n",
              "      <td>9.52291</td>\n",
              "      <td>18.98277</td>\n",
              "      <td>11.43087</td>\n",
              "      <td>12.58443</td>\n",
              "      <td>9.19249</td>\n",
              "      <td>17.65304</td>\n",
              "    </tr>\n",
              "  </tbody>\n",
              "</table>\n",
              "</div>"
            ],
            "text/plain": [
              "                   Model  train MAE  test MAE  train MAE_0  test MAE_0  \\\n",
              "0       LinearRegression   15.89753  18.38438     16.47123    16.20082   \n",
              "1  DecisionTreeRegressor   15.24716  19.10187     15.85600    14.57521   \n",
              "2  RandomForestRegressor    9.52291  18.98277     11.43087    12.58443   \n",
              "\n",
              "   train MAE_1           test MAE_1  \n",
              "0     16.02185 19570010619446.33594  \n",
              "1     14.76804             16.06774  \n",
              "2      9.19249             17.65304  "
            ]
          },
          "execution_count": 113,
          "metadata": {},
          "output_type": "execute_result"
        }
      ],
      "source": [
        "result_data = pd.merge(result_pd, result_pd_0, on='Model')\n",
        "merged_result_data = pd.merge(result_data, result_pd_1, on='Model')\n",
        "merged_result_data"
      ]
    },
    {
      "cell_type": "code",
      "execution_count": null,
      "metadata": {},
      "outputs": [],
      "source": []
    }
  ],
  "metadata": {
    "colab": {
      "authorship_tag": "ABX9TyPCzZmpdDECMgY6JRFDd3l2",
      "include_colab_link": true,
      "mount_file_id": "1eLzXRfDUgIZ8H5p31gyujt_MX35dF_DT",
      "provenance": []
    },
    "kernelspec": {
      "display_name": "Python 3",
      "name": "python3"
    },
    "language_info": {
      "codemirror_mode": {
        "name": "ipython",
        "version": 3
      },
      "file_extension": ".py",
      "mimetype": "text/x-python",
      "name": "python",
      "nbconvert_exporter": "python",
      "pygments_lexer": "ipython3",
      "version": "3.8.18"
    }
  },
  "nbformat": 4,
  "nbformat_minor": 0
}
