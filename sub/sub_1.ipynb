{
 "cells": [
  {
   "cell_type": "markdown",
   "metadata": {},
   "source": [
    "# <신장 종양 적출에 따른 손실체적(RAIV) 예측>\n",
    "### 신장 종양 평가지표(PADUA, Renal..)를 활용한 최소한의 필요한 종양 적출 체적 예측"
   ]
  },
  {
   "cell_type": "markdown",
   "metadata": {},
   "source": [
    "- 과거에는 신장에 발생한 악성종양을 제거할 때 한쪽 신장을 모두 제거해왔으나, 최근에는 신장 한쪽을 제거한 경우 수술 후 신부전·심혈관질환 각종 대사성 질환의 빈도가 증가한다는 보고가 있어 가능하면 \"신장을 보존하는것이 최근 경향\"\n",
    "- 신장은 출혈 위험이 크며, 생명 유지에 중요한 기능을 하는 장기이므로  신장의 기능을 보존할 수 있게 신장 \"수술의 목표는 최소 절개 및 최대 보존\"\n",
    "#### 목표: 신장을 최대한 보존해 합병증을 줄임으로써 만성질환 예방과 삶의 질을 높여 환자들에게 큰 도움이 될 것"
   ]
  },
  {
   "cell_type": "markdown",
   "metadata": {},
   "source": [
    "- 그러나 의학 전문가가 아니기에 기본 의학 지식 공부하더라도!\n",
    "## 부제: 도메인 지식이 없어도 데이터만으로도 특성 파악하여 예측하기\n",
    "- 특성 파악하는 방법\n",
    "1. 결측치, 이상치 처리 / 기본통계분석 / 클래스 불균형 이해\n",
    "2. 특성 분포 및 시각화:특성의 분포를 히스토그램이나 상자 그림 등을 사용(관계 이해를 위한 산점도)\n",
    "3. 트리 기반 모델의 특성 중요도: DecisionTreeRegressor나 RandomForestRegressor와 같은 트리 기반 모델은 각 특성의 중요도\n",
    "4. L1 정규화 (Lasso): L1 정규화를 사용한 선형 회귀 모델은 일부 특성의 가중치를 0으로 만들어 특성 선택을 자동\n",
    "5. 다중회귀\n",
    "6. 차원 축소 기법 적용: PCA 차원 축소 기법을 사용 데이터의 주성분을 분석하여 주요 특성\n",
    "7. 재귀적 특성 제거 (RFE):모델을 훈련하고 가장 중요하지 않은 특성을 반복적으로 제거하여 최적의 특성을 선택하는 방법"
   ]
  },
  {
   "cell_type": "markdown",
   "metadata": {},
   "source": [
    "### 1. 데이터 불러오기"
   ]
  },
  {
   "cell_type": "code",
   "execution_count": 30,
   "metadata": {},
   "outputs": [],
   "source": [
    "import pandas as pd\n",
    "import numpy as np\n",
    "import seaborn as sns\n",
    "import matplotlib.pyplot as plt\n",
    "%matplotlib inline\n",
    "\n",
    "import plotly.express as px\n",
    "import plotly.graph_objects as go\n",
    "\n",
    "from sklearn.model_selection import train_test_split\n",
    "from sklearn.metrics import silhouette_score\n",
    "from sklearn.cluster import KMeans"
   ]
  },
  {
   "cell_type": "code",
   "execution_count": 31,
   "metadata": {},
   "outputs": [],
   "source": [
    "padua_data = pd.read_csv('../data/kideny_PADUA_upload.csv')\n",
    "renal_data = pd.read_csv('../data/kideny_RENAL_upload.csv')\n",
    "treat_data = pd.read_csv('../data/kidney_treat_upload.csv')"
   ]
  },
  {
   "cell_type": "markdown",
   "metadata": {},
   "source": [
    "#### RENAL(종양 크기,위치에 초점. 종양 형태 및 인근 구조 관계 간략 평가)\n",
    "- 'serial' : 환자번호<br>\n",
    "- 'Radius_RENAL' : 종양의 최장 반지름 길이(cm) -> T_size<br>\n",
    "- 'Exophytic_RENAL' : 종양의 외성장 정도(%) -> T_exophytic<br>\n",
    "- 'Nearness_RENAL' : 종양의 집배뇨관의 근접 정도 -> T_near_Ureter<br>\n",
    "- 'APX_RENAL' : 종양의 위치(전/후방) -> T_APX<br>\n",
    "- 'Location_RENAL' : 종양의 집배뇨관 기준 상대 위치 -> T_rel_Ureter<br>\n",
    "- 'RENAL_total' : 최종 RENAL 복합성 점수 3점 척도(3~8점)<br>\n",
    "\n",
    "#### PADUA(해부학적 측면 수술 전 측면과 치수)\n",
    "- 'serial' : 환자번호<br>\n",
    "- 'Tumor_PADUA' : 종양의 크기(cm) -> T_size<br>\n",
    "- 'Exophytic_PADUA' : 종양의 외성장 비율(%) -> T_exophytic<br>\n",
    "- 'Rim_PADUA' : 종양의 표면위치(외/내) -> T_surface_loc<br>\n",
    "- 'Sinus_PADUA' : 신동과의 거리 -> T_Sinus_dt<br>\n",
    "- 'Polarlocation_PADUA' : 종양의 세로 기준 위치 -> T_height_loc<br>\n",
    "- 'Collectingsystem_PADUA' :사구체 침범 정도 -> T_GM_over<br>\n",
    "- 'PADUA_total' : 총 PADUA 복합성 점수(3점 척도)(6~13점)\n",
    "\n",
    "#### Treat\n",
    "- 'serial' : 환자번호<br>\n",
    "- 'RAIV' : 신장 종양 적출에 따른 손실 체적(cm^3)"
   ]
  },
  {
   "cell_type": "code",
   "execution_count": 32,
   "metadata": {},
   "outputs": [
    {
     "name": "stdout",
     "output_type": "stream",
     "text": [
      "<class 'pandas.core.frame.DataFrame'>\n",
      "RangeIndex: 400 entries, 0 to 399\n",
      "Data columns (total 2 columns):\n",
      " #   Column  Non-Null Count  Dtype  \n",
      "---  ------  --------------  -----  \n",
      " 0   serial  400 non-null    int64  \n",
      " 1   RAIV_1  397 non-null    float64\n",
      "dtypes: float64(1), int64(1)\n",
      "memory usage: 6.4 KB\n"
     ]
    }
   ],
   "source": [
    "treat_data.info()"
   ]
  },
  {
   "cell_type": "code",
   "execution_count": 33,
   "metadata": {},
   "outputs": [
    {
     "name": "stdout",
     "output_type": "stream",
     "text": [
      "<class 'pandas.core.frame.DataFrame'>\n",
      "RangeIndex: 400 entries, 0 to 399\n",
      "Data columns (total 8 columns):\n",
      " #   Column                  Non-Null Count  Dtype  \n",
      "---  ------                  --------------  -----  \n",
      " 0   serial                  400 non-null    int64  \n",
      " 1   Tumor_PADUA             396 non-null    float64\n",
      " 2   Exophytic_PADUA         395 non-null    float64\n",
      " 3   Rim_PADUA               395 non-null    float64\n",
      " 4   Sinus_PADUA             395 non-null    float64\n",
      " 5   Polarlocation_PADUA     395 non-null    float64\n",
      " 6   Collectingsystem_PADUA  395 non-null    float64\n",
      " 7   PADUA_total             400 non-null    int64  \n",
      "dtypes: float64(6), int64(2)\n",
      "memory usage: 25.1 KB\n"
     ]
    }
   ],
   "source": [
    "padua_data.info()"
   ]
  },
  {
   "cell_type": "code",
   "execution_count": 34,
   "metadata": {},
   "outputs": [
    {
     "name": "stdout",
     "output_type": "stream",
     "text": [
      "<class 'pandas.core.frame.DataFrame'>\n",
      "RangeIndex: 400 entries, 0 to 399\n",
      "Data columns (total 7 columns):\n",
      " #   Column           Non-Null Count  Dtype  \n",
      "---  ------           --------------  -----  \n",
      " 0   serial           400 non-null    int64  \n",
      " 1   Radius_RENAL     396 non-null    float64\n",
      " 2   Exophytic_RENAL  395 non-null    float64\n",
      " 3   Nearness_RENAL   395 non-null    float64\n",
      " 4   APX_RENAL        394 non-null    float64\n",
      " 5   Location_RENAL   395 non-null    float64\n",
      " 6   RENAL_total      400 non-null    int64  \n",
      "dtypes: float64(5), int64(2)\n",
      "memory usage: 22.0 KB\n"
     ]
    }
   ],
   "source": [
    "renal_data.info()"
   ]
  },
  {
   "cell_type": "markdown",
   "metadata": {},
   "source": [
    "### 2. 데이터 정리\n",
    "- 중복 컬럼 삭제(종양의 크기, 외성장 비율) 및 데이터 합치기 "
   ]
  },
  {
   "cell_type": "code",
   "execution_count": 35,
   "metadata": {},
   "outputs": [],
   "source": [
    "merged_data = pd.merge(padua_data, renal_data, on='serial')"
   ]
  },
  {
   "cell_type": "code",
   "execution_count": 36,
   "metadata": {},
   "outputs": [],
   "source": [
    "merged_data.drop(['Tumor_PADUA', 'Exophytic_PADUA'], axis=1, inplace=True)"
   ]
  },
  {
   "cell_type": "code",
   "execution_count": 37,
   "metadata": {},
   "outputs": [],
   "source": [
    "merged_result = pd.merge(merged_data, treat_data, on='serial')"
   ]
  },
  {
   "cell_type": "markdown",
   "metadata": {},
   "source": [
    "- 컬럼명 변경"
   ]
  },
  {
   "cell_type": "markdown",
   "metadata": {},
   "source": [
    "#### RENAL(종양 크기,위치에 초점. 종양 형태 및 인근 구조 관계 간략 평가)\n",
    "- 'serial' : 환자번호<br>\n",
    "- 'Radius_RENAL' : 종양의 최장 반지름 길이(cm) -> T_size<br>\n",
    "- 'Exophytic_RENAL' : 종양의 외성장 정도(%) -> T_exophytic<br>\n",
    "- 'Nearness_RENAL' : 종양의 집배뇨관의 근접 정도 -> T_near_Ureter<br>\n",
    "- 'APX_RENAL' : 종양의 위치(전/후방) -> T_APX<br>\n",
    "- 'Location_RENAL' : 종양의 집배뇨관 기준 상대 위치 -> T_rel_Ureter<br>\n",
    "- 'RENAL_total' : 최종 RENAL 복합성 점수 3점 척도(3~8점)<br>\n",
    "\n",
    "#### PADUA(해부학적 측면 수술 전 측면과 치수)\n",
    "- 'serial' : 환자번호<br>\n",
    "- 'Tumor_PADUA' : 종양의 크기(cm) -> T_size<br>\n",
    "- 'Exophytic_PADUA' : 종양의 외성장 비율(%) -> T_exophytic<br>\n",
    "- 'Rim_PADUA' : 종양의 표면위치(외/내) -> T_surface_loc<br>\n",
    "- 'Sinus_PADUA' : 신동과의 거리 -> T_Sinus_dt<br>\n",
    "- 'Polarlocation_PADUA' : 종양의 세로 기준 위치 -> T_height_loc<br>\n",
    "- 'Collectingsystem_PADUA' :사구체 침범 정도 -> T_GM_over<br>\n",
    "- 'PADUA_total' : 총 PADUA 복합성 점수(3점 척도)(6~13점)\n",
    "\n",
    "#### Treat\n",
    "- 'serial' : 환자번호<br>\n",
    "- 'RAIV' : 신장 종양 적출에 따른 손실 체적(cm^3)"
   ]
  },
  {
   "cell_type": "code",
   "execution_count": 38,
   "metadata": {},
   "outputs": [],
   "source": [
    "merged_result.rename(columns={'Radius_RENAL': 'T_size', 'Exophytic_RENAL':'T_exophytic',\n",
    "                            'Rim_PADUA':'T_surface_loc','Polarlocation_PADUA':'T_height_loc',\n",
    "                            'Collectingsystem_PADUA':'T_GM_over','Sinus_PADUA':'T_Sinus_dt',\n",
    "                            'Nearness_RENAL':'T_near_Ureter','APX_RENAL':'T_APX','Location_RENAL':'T_rel_Ureter','RAIV_1': 'RAIV'\n",
    "                            }, inplace=True)"
   ]
  },
  {
   "cell_type": "code",
   "execution_count": 39,
   "metadata": {},
   "outputs": [
    {
     "name": "stdout",
     "output_type": "stream",
     "text": [
      "<class 'pandas.core.frame.DataFrame'>\n",
      "RangeIndex: 400 entries, 0 to 399\n",
      "Data columns (total 13 columns):\n",
      " #   Column         Non-Null Count  Dtype  \n",
      "---  ------         --------------  -----  \n",
      " 0   serial         400 non-null    int64  \n",
      " 1   T_surface_loc  395 non-null    float64\n",
      " 2   T_Sinus_dt     395 non-null    float64\n",
      " 3   T_height_loc   395 non-null    float64\n",
      " 4   T_GM_over      395 non-null    float64\n",
      " 5   PADUA_total    400 non-null    int64  \n",
      " 6   T_size         396 non-null    float64\n",
      " 7   T_exophytic    395 non-null    float64\n",
      " 8   T_near_Ureter  395 non-null    float64\n",
      " 9   T_APX          394 non-null    float64\n",
      " 10  T_rel_Ureter   395 non-null    float64\n",
      " 11  RENAL_total    400 non-null    int64  \n",
      " 12  RAIV           397 non-null    float64\n",
      "dtypes: float64(10), int64(3)\n",
      "memory usage: 40.8 KB\n"
     ]
    }
   ],
   "source": [
    "merged_result.info()"
   ]
  },
  {
   "cell_type": "markdown",
   "metadata": {},
   "source": [
    "- 결측치 제거"
   ]
  },
  {
   "cell_type": "code",
   "execution_count": 40,
   "metadata": {},
   "outputs": [],
   "source": [
    "merged_data_result = merged_result.dropna()"
   ]
  },
  {
   "cell_type": "code",
   "execution_count": 41,
   "metadata": {},
   "outputs": [
    {
     "name": "stdout",
     "output_type": "stream",
     "text": [
      "<class 'pandas.core.frame.DataFrame'>\n",
      "Index: 389 entries, 0 to 399\n",
      "Data columns (total 13 columns):\n",
      " #   Column         Non-Null Count  Dtype  \n",
      "---  ------         --------------  -----  \n",
      " 0   serial         389 non-null    int64  \n",
      " 1   T_surface_loc  389 non-null    float64\n",
      " 2   T_Sinus_dt     389 non-null    float64\n",
      " 3   T_height_loc   389 non-null    float64\n",
      " 4   T_GM_over      389 non-null    float64\n",
      " 5   PADUA_total    389 non-null    int64  \n",
      " 6   T_size         389 non-null    float64\n",
      " 7   T_exophytic    389 non-null    float64\n",
      " 8   T_near_Ureter  389 non-null    float64\n",
      " 9   T_APX          389 non-null    float64\n",
      " 10  T_rel_Ureter   389 non-null    float64\n",
      " 11  RENAL_total    389 non-null    int64  \n",
      " 12  RAIV           389 non-null    float64\n",
      "dtypes: float64(10), int64(3)\n",
      "memory usage: 42.5 KB\n"
     ]
    }
   ],
   "source": [
    "merged_data_result.info()"
   ]
  },
  {
   "cell_type": "code",
   "execution_count": 42,
   "metadata": {},
   "outputs": [
    {
     "data": {
      "text/html": [
       "<div>\n",
       "<style scoped>\n",
       "    .dataframe tbody tr th:only-of-type {\n",
       "        vertical-align: middle;\n",
       "    }\n",
       "\n",
       "    .dataframe tbody tr th {\n",
       "        vertical-align: top;\n",
       "    }\n",
       "\n",
       "    .dataframe thead th {\n",
       "        text-align: right;\n",
       "    }\n",
       "</style>\n",
       "<table border=\"1\" class=\"dataframe\">\n",
       "  <thead>\n",
       "    <tr style=\"text-align: right;\">\n",
       "      <th></th>\n",
       "      <th>serial</th>\n",
       "      <th>T_surface_loc</th>\n",
       "      <th>T_Sinus_dt</th>\n",
       "      <th>T_height_loc</th>\n",
       "      <th>T_GM_over</th>\n",
       "      <th>PADUA_total</th>\n",
       "      <th>T_size</th>\n",
       "      <th>T_exophytic</th>\n",
       "      <th>T_near_Ureter</th>\n",
       "      <th>T_APX</th>\n",
       "      <th>T_rel_Ureter</th>\n",
       "      <th>RENAL_total</th>\n",
       "      <th>RAIV</th>\n",
       "    </tr>\n",
       "  </thead>\n",
       "  <tbody>\n",
       "    <tr>\n",
       "      <th>0</th>\n",
       "      <td>1</td>\n",
       "      <td>2.0</td>\n",
       "      <td>1.0</td>\n",
       "      <td>1.0</td>\n",
       "      <td>1.0</td>\n",
       "      <td>8</td>\n",
       "      <td>2.0</td>\n",
       "      <td>1.0</td>\n",
       "      <td>1.0</td>\n",
       "      <td>2.0</td>\n",
       "      <td>1.0</td>\n",
       "      <td>4</td>\n",
       "      <td>51.1</td>\n",
       "    </tr>\n",
       "    <tr>\n",
       "      <th>1</th>\n",
       "      <td>2</td>\n",
       "      <td>1.0</td>\n",
       "      <td>1.0</td>\n",
       "      <td>2.0</td>\n",
       "      <td>1.0</td>\n",
       "      <td>8</td>\n",
       "      <td>1.0</td>\n",
       "      <td>2.0</td>\n",
       "      <td>2.0</td>\n",
       "      <td>2.0</td>\n",
       "      <td>2.0</td>\n",
       "      <td>5</td>\n",
       "      <td>46.1</td>\n",
       "    </tr>\n",
       "    <tr>\n",
       "      <th>2</th>\n",
       "      <td>3</td>\n",
       "      <td>1.0</td>\n",
       "      <td>1.0</td>\n",
       "      <td>2.0</td>\n",
       "      <td>1.0</td>\n",
       "      <td>7</td>\n",
       "      <td>1.0</td>\n",
       "      <td>1.0</td>\n",
       "      <td>1.0</td>\n",
       "      <td>1.0</td>\n",
       "      <td>1.0</td>\n",
       "      <td>3</td>\n",
       "      <td>14.8</td>\n",
       "    </tr>\n",
       "    <tr>\n",
       "      <th>3</th>\n",
       "      <td>4</td>\n",
       "      <td>1.0</td>\n",
       "      <td>1.0</td>\n",
       "      <td>2.0</td>\n",
       "      <td>2.0</td>\n",
       "      <td>8</td>\n",
       "      <td>1.0</td>\n",
       "      <td>1.0</td>\n",
       "      <td>3.0</td>\n",
       "      <td>2.0</td>\n",
       "      <td>3.0</td>\n",
       "      <td>5</td>\n",
       "      <td>19.7</td>\n",
       "    </tr>\n",
       "    <tr>\n",
       "      <th>4</th>\n",
       "      <td>5</td>\n",
       "      <td>1.0</td>\n",
       "      <td>1.0</td>\n",
       "      <td>2.0</td>\n",
       "      <td>1.0</td>\n",
       "      <td>8</td>\n",
       "      <td>1.0</td>\n",
       "      <td>2.0</td>\n",
       "      <td>1.0</td>\n",
       "      <td>1.0</td>\n",
       "      <td>3.0</td>\n",
       "      <td>4</td>\n",
       "      <td>14.8</td>\n",
       "    </tr>\n",
       "  </tbody>\n",
       "</table>\n",
       "</div>"
      ],
      "text/plain": [
       "   serial  T_surface_loc  T_Sinus_dt  T_height_loc  T_GM_over  PADUA_total  \\\n",
       "0       1            2.0         1.0           1.0        1.0            8   \n",
       "1       2            1.0         1.0           2.0        1.0            8   \n",
       "2       3            1.0         1.0           2.0        1.0            7   \n",
       "3       4            1.0         1.0           2.0        2.0            8   \n",
       "4       5            1.0         1.0           2.0        1.0            8   \n",
       "\n",
       "   T_size  T_exophytic  T_near_Ureter  T_APX  T_rel_Ureter  RENAL_total  RAIV  \n",
       "0     2.0          1.0            1.0    2.0           1.0            4  51.1  \n",
       "1     1.0          2.0            2.0    2.0           2.0            5  46.1  \n",
       "2     1.0          1.0            1.0    1.0           1.0            3  14.8  \n",
       "3     1.0          1.0            3.0    2.0           3.0            5  19.7  \n",
       "4     1.0          2.0            1.0    1.0           3.0            4  14.8  "
      ]
     },
     "execution_count": 42,
     "metadata": {},
     "output_type": "execute_result"
    }
   ],
   "source": [
    "merged_data_result.head()"
   ]
  },
  {
   "cell_type": "code",
   "execution_count": 43,
   "metadata": {},
   "outputs": [
    {
     "data": {
      "application/vnd.plotly.v1+json": {
       "config": {
        "plotlyServerURL": "https://plot.ly"
       },
       "data": [
        {
         "alignmentgroup": "True",
         "bingroup": "x",
         "hovertemplate": "RAIV=%{x}<br>count=%{y}<extra></extra>",
         "legendgroup": "",
         "marker": {
          "color": "#636efa",
          "pattern": {
           "shape": ""
          }
         },
         "name": "",
         "offsetgroup": "",
         "orientation": "v",
         "showlegend": false,
         "type": "histogram",
         "x": [
          51.1,
          46.1,
          14.8,
          19.7,
          14.8,
          18.5,
          42.5,
          56.3,
          65.3,
          51.1,
          95.7,
          45,
          55.8,
          48.2,
          58.6,
          85.4,
          31.4,
          28.6,
          114,
          27.7,
          75.9,
          154.8,
          25.8,
          45.6,
          36.8,
          57.8,
          44.3,
          6.9,
          43.6,
          48.8,
          46,
          24.7,
          51.6,
          45.6,
          13.1,
          9,
          67.2,
          30.3,
          30.3,
          23.7,
          66.5,
          40.6,
          30.4,
          20.2,
          94.2,
          74.6,
          17.9,
          37.2,
          111.3,
          66.5,
          18.1,
          103.6,
          19.3,
          27.6,
          49.7,
          15.3,
          46.2,
          55.6,
          143.4,
          46.7,
          67.2,
          11.8,
          76.9,
          42.1,
          32.6,
          19.2,
          20.7,
          31.8,
          9.1,
          26.5,
          8.1,
          7.3,
          21.8,
          93.6,
          27.3,
          10.8,
          43.9,
          8.6,
          4.6,
          34.4,
          18.9,
          82.3,
          88.5,
          82.2,
          12.3,
          35.7,
          49.7,
          10.6,
          19,
          18.6,
          52.6,
          74.2,
          27.7,
          36.5,
          8.8,
          22.6,
          11,
          17.7,
          19.4,
          26.8,
          55.8,
          16.6,
          33.4,
          11.9,
          28.8,
          13.6,
          11.4,
          27.9,
          14.1,
          19.6,
          56.3,
          57.8,
          24.1,
          10.8,
          29.1,
          32.8,
          6.7,
          19.8,
          20.2,
          82.2,
          35.1,
          27.8,
          24.4,
          27.6,
          6.6,
          21.5,
          9.6,
          5.3,
          7.4,
          51.9,
          36,
          8.8,
          7.1,
          5.9,
          5.1,
          14,
          17.2,
          5.3,
          13.4,
          15,
          26.9,
          5.1,
          17.2,
          13.1,
          4.3,
          7.7,
          19.3,
          33.2,
          15.2,
          6.1,
          16.8,
          4.1,
          14.9,
          14.2,
          10.9,
          6.5,
          23,
          6.6,
          19.4,
          23,
          12.7,
          13.1,
          4.3,
          7.1,
          13.9,
          18.1,
          12.7,
          8.1,
          13.4,
          21.8,
          21.2,
          5.9,
          9.5,
          22.6,
          10.2,
          16.5,
          27.9,
          35.3,
          22.7,
          4.7,
          11.7,
          13.1,
          21.3,
          11.5,
          13.5,
          8.7,
          14,
          12.5,
          54.4,
          32.7,
          9.1,
          9.2,
          3.7,
          12.7,
          10.4,
          11.5,
          9,
          22.4,
          9.9,
          9.3,
          11.9,
          18.4,
          25.8,
          10.1,
          6.6,
          9.1,
          28,
          8.1,
          6.6,
          10.6,
          36.5,
          43.1,
          8.1,
          10.4,
          14.7,
          42.7,
          5.1,
          9.9,
          36.5,
          17.7,
          18.4,
          10.1,
          7.1,
          11.1,
          26.2,
          19.9,
          4.1,
          13,
          9.3,
          16.2,
          5.9,
          7.1,
          36.5,
          27.6,
          11,
          6.1,
          16.8,
          6.1,
          10.4,
          31.3,
          21.9,
          17.8,
          37.8,
          63.6,
          3.5,
          5.3,
          14.7,
          30.4,
          3.6,
          9.3,
          36.5,
          9.2,
          20.9,
          24.8,
          5.1,
          19.4,
          30.4,
          26.9,
          21.6,
          6.1,
          8.7,
          22.2,
          14.5,
          10.4,
          6.6,
          15.3,
          20.5,
          22.6,
          10.3,
          4.6,
          6.5,
          21.8,
          12,
          19.1,
          14.4,
          13.2,
          13.4,
          26.7,
          15.3,
          14,
          16.8,
          3.6,
          9.6,
          42.7,
          24,
          37,
          8.3,
          14.3,
          13.5,
          9.5,
          31.7,
          37.5,
          15.7,
          10.4,
          5.2,
          63.6,
          20.6,
          6.5,
          25.5,
          11.2,
          9.9,
          15,
          10.9,
          12.1,
          31.6,
          14.3,
          15,
          27.9,
          17.9,
          13.3,
          4.6,
          6.5,
          64.7,
          22.6,
          49.5,
          7.1,
          16.8,
          8.4,
          11.9,
          10.7,
          12.8,
          32.8,
          6.6,
          14,
          13.1,
          5.3,
          14.3,
          32.2,
          12,
          16.1,
          7.4,
          14.7,
          49.5,
          23.3,
          5.7,
          7.6,
          20.6,
          42.1,
          10.4,
          7.1,
          18.1,
          10.9,
          8.4,
          22.4,
          13,
          9,
          24.2,
          17,
          28.5,
          29.1,
          60.5,
          37.9,
          48.9,
          67.8,
          70.1,
          18.9,
          106,
          50.6,
          57.7,
          60.5,
          52.3,
          55.6,
          22.4,
          47.8,
          10.1,
          24.7,
          121.1,
          122.7,
          28.4,
          74.6,
          49.5,
          65.6,
          104.8,
          14.7,
          48.9,
          20.4,
          24,
          16.8,
          55.6,
          10.6,
          23.2,
          17.7,
          97.9,
          24.6,
          21.3,
          30.5,
          70.7,
          12.6,
          11.8
         ],
         "xaxis": "x",
         "yaxis": "y"
        }
       ],
       "layout": {
        "barmode": "relative",
        "legend": {
         "tracegroupgap": 0
        },
        "margin": {
         "t": 60
        },
        "template": {
         "data": {
          "bar": [
           {
            "error_x": {
             "color": "#2a3f5f"
            },
            "error_y": {
             "color": "#2a3f5f"
            },
            "marker": {
             "line": {
              "color": "#E5ECF6",
              "width": 0.5
             },
             "pattern": {
              "fillmode": "overlay",
              "size": 10,
              "solidity": 0.2
             }
            },
            "type": "bar"
           }
          ],
          "barpolar": [
           {
            "marker": {
             "line": {
              "color": "#E5ECF6",
              "width": 0.5
             },
             "pattern": {
              "fillmode": "overlay",
              "size": 10,
              "solidity": 0.2
             }
            },
            "type": "barpolar"
           }
          ],
          "carpet": [
           {
            "aaxis": {
             "endlinecolor": "#2a3f5f",
             "gridcolor": "white",
             "linecolor": "white",
             "minorgridcolor": "white",
             "startlinecolor": "#2a3f5f"
            },
            "baxis": {
             "endlinecolor": "#2a3f5f",
             "gridcolor": "white",
             "linecolor": "white",
             "minorgridcolor": "white",
             "startlinecolor": "#2a3f5f"
            },
            "type": "carpet"
           }
          ],
          "choropleth": [
           {
            "colorbar": {
             "outlinewidth": 0,
             "ticks": ""
            },
            "type": "choropleth"
           }
          ],
          "contour": [
           {
            "colorbar": {
             "outlinewidth": 0,
             "ticks": ""
            },
            "colorscale": [
             [
              0,
              "#0d0887"
             ],
             [
              0.1111111111111111,
              "#46039f"
             ],
             [
              0.2222222222222222,
              "#7201a8"
             ],
             [
              0.3333333333333333,
              "#9c179e"
             ],
             [
              0.4444444444444444,
              "#bd3786"
             ],
             [
              0.5555555555555556,
              "#d8576b"
             ],
             [
              0.6666666666666666,
              "#ed7953"
             ],
             [
              0.7777777777777778,
              "#fb9f3a"
             ],
             [
              0.8888888888888888,
              "#fdca26"
             ],
             [
              1,
              "#f0f921"
             ]
            ],
            "type": "contour"
           }
          ],
          "contourcarpet": [
           {
            "colorbar": {
             "outlinewidth": 0,
             "ticks": ""
            },
            "type": "contourcarpet"
           }
          ],
          "heatmap": [
           {
            "colorbar": {
             "outlinewidth": 0,
             "ticks": ""
            },
            "colorscale": [
             [
              0,
              "#0d0887"
             ],
             [
              0.1111111111111111,
              "#46039f"
             ],
             [
              0.2222222222222222,
              "#7201a8"
             ],
             [
              0.3333333333333333,
              "#9c179e"
             ],
             [
              0.4444444444444444,
              "#bd3786"
             ],
             [
              0.5555555555555556,
              "#d8576b"
             ],
             [
              0.6666666666666666,
              "#ed7953"
             ],
             [
              0.7777777777777778,
              "#fb9f3a"
             ],
             [
              0.8888888888888888,
              "#fdca26"
             ],
             [
              1,
              "#f0f921"
             ]
            ],
            "type": "heatmap"
           }
          ],
          "heatmapgl": [
           {
            "colorbar": {
             "outlinewidth": 0,
             "ticks": ""
            },
            "colorscale": [
             [
              0,
              "#0d0887"
             ],
             [
              0.1111111111111111,
              "#46039f"
             ],
             [
              0.2222222222222222,
              "#7201a8"
             ],
             [
              0.3333333333333333,
              "#9c179e"
             ],
             [
              0.4444444444444444,
              "#bd3786"
             ],
             [
              0.5555555555555556,
              "#d8576b"
             ],
             [
              0.6666666666666666,
              "#ed7953"
             ],
             [
              0.7777777777777778,
              "#fb9f3a"
             ],
             [
              0.8888888888888888,
              "#fdca26"
             ],
             [
              1,
              "#f0f921"
             ]
            ],
            "type": "heatmapgl"
           }
          ],
          "histogram": [
           {
            "marker": {
             "pattern": {
              "fillmode": "overlay",
              "size": 10,
              "solidity": 0.2
             }
            },
            "type": "histogram"
           }
          ],
          "histogram2d": [
           {
            "colorbar": {
             "outlinewidth": 0,
             "ticks": ""
            },
            "colorscale": [
             [
              0,
              "#0d0887"
             ],
             [
              0.1111111111111111,
              "#46039f"
             ],
             [
              0.2222222222222222,
              "#7201a8"
             ],
             [
              0.3333333333333333,
              "#9c179e"
             ],
             [
              0.4444444444444444,
              "#bd3786"
             ],
             [
              0.5555555555555556,
              "#d8576b"
             ],
             [
              0.6666666666666666,
              "#ed7953"
             ],
             [
              0.7777777777777778,
              "#fb9f3a"
             ],
             [
              0.8888888888888888,
              "#fdca26"
             ],
             [
              1,
              "#f0f921"
             ]
            ],
            "type": "histogram2d"
           }
          ],
          "histogram2dcontour": [
           {
            "colorbar": {
             "outlinewidth": 0,
             "ticks": ""
            },
            "colorscale": [
             [
              0,
              "#0d0887"
             ],
             [
              0.1111111111111111,
              "#46039f"
             ],
             [
              0.2222222222222222,
              "#7201a8"
             ],
             [
              0.3333333333333333,
              "#9c179e"
             ],
             [
              0.4444444444444444,
              "#bd3786"
             ],
             [
              0.5555555555555556,
              "#d8576b"
             ],
             [
              0.6666666666666666,
              "#ed7953"
             ],
             [
              0.7777777777777778,
              "#fb9f3a"
             ],
             [
              0.8888888888888888,
              "#fdca26"
             ],
             [
              1,
              "#f0f921"
             ]
            ],
            "type": "histogram2dcontour"
           }
          ],
          "mesh3d": [
           {
            "colorbar": {
             "outlinewidth": 0,
             "ticks": ""
            },
            "type": "mesh3d"
           }
          ],
          "parcoords": [
           {
            "line": {
             "colorbar": {
              "outlinewidth": 0,
              "ticks": ""
             }
            },
            "type": "parcoords"
           }
          ],
          "pie": [
           {
            "automargin": true,
            "type": "pie"
           }
          ],
          "scatter": [
           {
            "fillpattern": {
             "fillmode": "overlay",
             "size": 10,
             "solidity": 0.2
            },
            "type": "scatter"
           }
          ],
          "scatter3d": [
           {
            "line": {
             "colorbar": {
              "outlinewidth": 0,
              "ticks": ""
             }
            },
            "marker": {
             "colorbar": {
              "outlinewidth": 0,
              "ticks": ""
             }
            },
            "type": "scatter3d"
           }
          ],
          "scattercarpet": [
           {
            "marker": {
             "colorbar": {
              "outlinewidth": 0,
              "ticks": ""
             }
            },
            "type": "scattercarpet"
           }
          ],
          "scattergeo": [
           {
            "marker": {
             "colorbar": {
              "outlinewidth": 0,
              "ticks": ""
             }
            },
            "type": "scattergeo"
           }
          ],
          "scattergl": [
           {
            "marker": {
             "colorbar": {
              "outlinewidth": 0,
              "ticks": ""
             }
            },
            "type": "scattergl"
           }
          ],
          "scattermapbox": [
           {
            "marker": {
             "colorbar": {
              "outlinewidth": 0,
              "ticks": ""
             }
            },
            "type": "scattermapbox"
           }
          ],
          "scatterpolar": [
           {
            "marker": {
             "colorbar": {
              "outlinewidth": 0,
              "ticks": ""
             }
            },
            "type": "scatterpolar"
           }
          ],
          "scatterpolargl": [
           {
            "marker": {
             "colorbar": {
              "outlinewidth": 0,
              "ticks": ""
             }
            },
            "type": "scatterpolargl"
           }
          ],
          "scatterternary": [
           {
            "marker": {
             "colorbar": {
              "outlinewidth": 0,
              "ticks": ""
             }
            },
            "type": "scatterternary"
           }
          ],
          "surface": [
           {
            "colorbar": {
             "outlinewidth": 0,
             "ticks": ""
            },
            "colorscale": [
             [
              0,
              "#0d0887"
             ],
             [
              0.1111111111111111,
              "#46039f"
             ],
             [
              0.2222222222222222,
              "#7201a8"
             ],
             [
              0.3333333333333333,
              "#9c179e"
             ],
             [
              0.4444444444444444,
              "#bd3786"
             ],
             [
              0.5555555555555556,
              "#d8576b"
             ],
             [
              0.6666666666666666,
              "#ed7953"
             ],
             [
              0.7777777777777778,
              "#fb9f3a"
             ],
             [
              0.8888888888888888,
              "#fdca26"
             ],
             [
              1,
              "#f0f921"
             ]
            ],
            "type": "surface"
           }
          ],
          "table": [
           {
            "cells": {
             "fill": {
              "color": "#EBF0F8"
             },
             "line": {
              "color": "white"
             }
            },
            "header": {
             "fill": {
              "color": "#C8D4E3"
             },
             "line": {
              "color": "white"
             }
            },
            "type": "table"
           }
          ]
         },
         "layout": {
          "annotationdefaults": {
           "arrowcolor": "#2a3f5f",
           "arrowhead": 0,
           "arrowwidth": 1
          },
          "autotypenumbers": "strict",
          "coloraxis": {
           "colorbar": {
            "outlinewidth": 0,
            "ticks": ""
           }
          },
          "colorscale": {
           "diverging": [
            [
             0,
             "#8e0152"
            ],
            [
             0.1,
             "#c51b7d"
            ],
            [
             0.2,
             "#de77ae"
            ],
            [
             0.3,
             "#f1b6da"
            ],
            [
             0.4,
             "#fde0ef"
            ],
            [
             0.5,
             "#f7f7f7"
            ],
            [
             0.6,
             "#e6f5d0"
            ],
            [
             0.7,
             "#b8e186"
            ],
            [
             0.8,
             "#7fbc41"
            ],
            [
             0.9,
             "#4d9221"
            ],
            [
             1,
             "#276419"
            ]
           ],
           "sequential": [
            [
             0,
             "#0d0887"
            ],
            [
             0.1111111111111111,
             "#46039f"
            ],
            [
             0.2222222222222222,
             "#7201a8"
            ],
            [
             0.3333333333333333,
             "#9c179e"
            ],
            [
             0.4444444444444444,
             "#bd3786"
            ],
            [
             0.5555555555555556,
             "#d8576b"
            ],
            [
             0.6666666666666666,
             "#ed7953"
            ],
            [
             0.7777777777777778,
             "#fb9f3a"
            ],
            [
             0.8888888888888888,
             "#fdca26"
            ],
            [
             1,
             "#f0f921"
            ]
           ],
           "sequentialminus": [
            [
             0,
             "#0d0887"
            ],
            [
             0.1111111111111111,
             "#46039f"
            ],
            [
             0.2222222222222222,
             "#7201a8"
            ],
            [
             0.3333333333333333,
             "#9c179e"
            ],
            [
             0.4444444444444444,
             "#bd3786"
            ],
            [
             0.5555555555555556,
             "#d8576b"
            ],
            [
             0.6666666666666666,
             "#ed7953"
            ],
            [
             0.7777777777777778,
             "#fb9f3a"
            ],
            [
             0.8888888888888888,
             "#fdca26"
            ],
            [
             1,
             "#f0f921"
            ]
           ]
          },
          "colorway": [
           "#636efa",
           "#EF553B",
           "#00cc96",
           "#ab63fa",
           "#FFA15A",
           "#19d3f3",
           "#FF6692",
           "#B6E880",
           "#FF97FF",
           "#FECB52"
          ],
          "font": {
           "color": "#2a3f5f"
          },
          "geo": {
           "bgcolor": "white",
           "lakecolor": "white",
           "landcolor": "#E5ECF6",
           "showlakes": true,
           "showland": true,
           "subunitcolor": "white"
          },
          "hoverlabel": {
           "align": "left"
          },
          "hovermode": "closest",
          "mapbox": {
           "style": "light"
          },
          "paper_bgcolor": "white",
          "plot_bgcolor": "#E5ECF6",
          "polar": {
           "angularaxis": {
            "gridcolor": "white",
            "linecolor": "white",
            "ticks": ""
           },
           "bgcolor": "#E5ECF6",
           "radialaxis": {
            "gridcolor": "white",
            "linecolor": "white",
            "ticks": ""
           }
          },
          "scene": {
           "xaxis": {
            "backgroundcolor": "#E5ECF6",
            "gridcolor": "white",
            "gridwidth": 2,
            "linecolor": "white",
            "showbackground": true,
            "ticks": "",
            "zerolinecolor": "white"
           },
           "yaxis": {
            "backgroundcolor": "#E5ECF6",
            "gridcolor": "white",
            "gridwidth": 2,
            "linecolor": "white",
            "showbackground": true,
            "ticks": "",
            "zerolinecolor": "white"
           },
           "zaxis": {
            "backgroundcolor": "#E5ECF6",
            "gridcolor": "white",
            "gridwidth": 2,
            "linecolor": "white",
            "showbackground": true,
            "ticks": "",
            "zerolinecolor": "white"
           }
          },
          "shapedefaults": {
           "line": {
            "color": "#2a3f5f"
           }
          },
          "ternary": {
           "aaxis": {
            "gridcolor": "white",
            "linecolor": "white",
            "ticks": ""
           },
           "baxis": {
            "gridcolor": "white",
            "linecolor": "white",
            "ticks": ""
           },
           "bgcolor": "#E5ECF6",
           "caxis": {
            "gridcolor": "white",
            "linecolor": "white",
            "ticks": ""
           }
          },
          "title": {
           "x": 0.05
          },
          "xaxis": {
           "automargin": true,
           "gridcolor": "white",
           "linecolor": "white",
           "ticks": "",
           "title": {
            "standoff": 15
           },
           "zerolinecolor": "white",
           "zerolinewidth": 2
          },
          "yaxis": {
           "automargin": true,
           "gridcolor": "white",
           "linecolor": "white",
           "ticks": "",
           "title": {
            "standoff": 15
           },
           "zerolinecolor": "white",
           "zerolinewidth": 2
          }
         }
        },
        "xaxis": {
         "anchor": "y",
         "domain": [
          0,
          1
         ],
         "title": {
          "text": "RAIV"
         }
        },
        "yaxis": {
         "anchor": "x",
         "domain": [
          0,
          1
         ],
         "title": {
          "text": "count"
         }
        }
       }
      }
     },
     "metadata": {},
     "output_type": "display_data"
    }
   ],
   "source": [
    "# Raiv에 대한 histogram\n",
    "import plotly.express as px\n",
    "\n",
    "fig=px.histogram(merged_data_result, x='RAIV')\n",
    "fig.show()"
   ]
  },
  {
   "cell_type": "code",
   "execution_count": 44,
   "metadata": {},
   "outputs": [
    {
     "data": {
      "text/html": [
       "<div>\n",
       "<style scoped>\n",
       "    .dataframe tbody tr th:only-of-type {\n",
       "        vertical-align: middle;\n",
       "    }\n",
       "\n",
       "    .dataframe tbody tr th {\n",
       "        vertical-align: top;\n",
       "    }\n",
       "\n",
       "    .dataframe thead th {\n",
       "        text-align: right;\n",
       "    }\n",
       "</style>\n",
       "<table border=\"1\" class=\"dataframe\">\n",
       "  <thead>\n",
       "    <tr style=\"text-align: right;\">\n",
       "      <th></th>\n",
       "      <th>serial</th>\n",
       "      <th>T_surface_loc</th>\n",
       "      <th>T_Sinus_dt</th>\n",
       "      <th>T_height_loc</th>\n",
       "      <th>T_GM_over</th>\n",
       "      <th>PADUA_total</th>\n",
       "      <th>T_size</th>\n",
       "      <th>T_exophytic</th>\n",
       "      <th>T_near_Ureter</th>\n",
       "      <th>T_APX</th>\n",
       "      <th>T_rel_Ureter</th>\n",
       "      <th>RENAL_total</th>\n",
       "      <th>RAIV</th>\n",
       "    </tr>\n",
       "  </thead>\n",
       "  <tbody>\n",
       "    <tr>\n",
       "      <th>count</th>\n",
       "      <td>389.000000</td>\n",
       "      <td>389.000000</td>\n",
       "      <td>389.000000</td>\n",
       "      <td>389.000000</td>\n",
       "      <td>389.000000</td>\n",
       "      <td>389.000000</td>\n",
       "      <td>389.000000</td>\n",
       "      <td>389.000000</td>\n",
       "      <td>389.000000</td>\n",
       "      <td>389.000000</td>\n",
       "      <td>389.000000</td>\n",
       "      <td>389.000000</td>\n",
       "      <td>389.000000</td>\n",
       "    </tr>\n",
       "    <tr>\n",
       "      <th>mean</th>\n",
       "      <td>202.228792</td>\n",
       "      <td>1.354756</td>\n",
       "      <td>1.318766</td>\n",
       "      <td>1.398458</td>\n",
       "      <td>1.311054</td>\n",
       "      <td>8.460154</td>\n",
       "      <td>1.208226</td>\n",
       "      <td>1.868895</td>\n",
       "      <td>1.920308</td>\n",
       "      <td>1.557841</td>\n",
       "      <td>1.799486</td>\n",
       "      <td>4.989717</td>\n",
       "      <td>27.196144</td>\n",
       "    </tr>\n",
       "    <tr>\n",
       "      <th>std</th>\n",
       "      <td>116.730333</td>\n",
       "      <td>0.479055</td>\n",
       "      <td>0.466598</td>\n",
       "      <td>0.490211</td>\n",
       "      <td>0.485253</td>\n",
       "      <td>1.682714</td>\n",
       "      <td>0.471162</td>\n",
       "      <td>0.718521</td>\n",
       "      <td>0.906064</td>\n",
       "      <td>0.497283</td>\n",
       "      <td>0.806481</td>\n",
       "      <td>1.428682</td>\n",
       "      <td>24.330815</td>\n",
       "    </tr>\n",
       "    <tr>\n",
       "      <th>min</th>\n",
       "      <td>1.000000</td>\n",
       "      <td>1.000000</td>\n",
       "      <td>1.000000</td>\n",
       "      <td>1.000000</td>\n",
       "      <td>1.000000</td>\n",
       "      <td>6.000000</td>\n",
       "      <td>1.000000</td>\n",
       "      <td>1.000000</td>\n",
       "      <td>1.000000</td>\n",
       "      <td>1.000000</td>\n",
       "      <td>1.000000</td>\n",
       "      <td>3.000000</td>\n",
       "      <td>3.500000</td>\n",
       "    </tr>\n",
       "    <tr>\n",
       "      <th>25%</th>\n",
       "      <td>104.000000</td>\n",
       "      <td>1.000000</td>\n",
       "      <td>1.000000</td>\n",
       "      <td>1.000000</td>\n",
       "      <td>1.000000</td>\n",
       "      <td>7.000000</td>\n",
       "      <td>1.000000</td>\n",
       "      <td>1.000000</td>\n",
       "      <td>1.000000</td>\n",
       "      <td>1.000000</td>\n",
       "      <td>1.000000</td>\n",
       "      <td>4.000000</td>\n",
       "      <td>10.800000</td>\n",
       "    </tr>\n",
       "    <tr>\n",
       "      <th>50%</th>\n",
       "      <td>202.000000</td>\n",
       "      <td>1.000000</td>\n",
       "      <td>1.000000</td>\n",
       "      <td>1.000000</td>\n",
       "      <td>1.000000</td>\n",
       "      <td>8.000000</td>\n",
       "      <td>1.000000</td>\n",
       "      <td>2.000000</td>\n",
       "      <td>2.000000</td>\n",
       "      <td>2.000000</td>\n",
       "      <td>2.000000</td>\n",
       "      <td>5.000000</td>\n",
       "      <td>19.000000</td>\n",
       "    </tr>\n",
       "    <tr>\n",
       "      <th>75%</th>\n",
       "      <td>299.000000</td>\n",
       "      <td>2.000000</td>\n",
       "      <td>2.000000</td>\n",
       "      <td>2.000000</td>\n",
       "      <td>2.000000</td>\n",
       "      <td>9.000000</td>\n",
       "      <td>1.000000</td>\n",
       "      <td>2.000000</td>\n",
       "      <td>3.000000</td>\n",
       "      <td>2.000000</td>\n",
       "      <td>2.000000</td>\n",
       "      <td>6.000000</td>\n",
       "      <td>35.100000</td>\n",
       "    </tr>\n",
       "    <tr>\n",
       "      <th>max</th>\n",
       "      <td>412.000000</td>\n",
       "      <td>2.000000</td>\n",
       "      <td>2.000000</td>\n",
       "      <td>2.000000</td>\n",
       "      <td>3.000000</td>\n",
       "      <td>13.000000</td>\n",
       "      <td>3.000000</td>\n",
       "      <td>3.000000</td>\n",
       "      <td>3.000000</td>\n",
       "      <td>2.000000</td>\n",
       "      <td>3.000000</td>\n",
       "      <td>8.000000</td>\n",
       "      <td>154.800000</td>\n",
       "    </tr>\n",
       "  </tbody>\n",
       "</table>\n",
       "</div>"
      ],
      "text/plain": [
       "           serial  T_surface_loc  T_Sinus_dt  T_height_loc   T_GM_over  \\\n",
       "count  389.000000     389.000000  389.000000    389.000000  389.000000   \n",
       "mean   202.228792       1.354756    1.318766      1.398458    1.311054   \n",
       "std    116.730333       0.479055    0.466598      0.490211    0.485253   \n",
       "min      1.000000       1.000000    1.000000      1.000000    1.000000   \n",
       "25%    104.000000       1.000000    1.000000      1.000000    1.000000   \n",
       "50%    202.000000       1.000000    1.000000      1.000000    1.000000   \n",
       "75%    299.000000       2.000000    2.000000      2.000000    2.000000   \n",
       "max    412.000000       2.000000    2.000000      2.000000    3.000000   \n",
       "\n",
       "       PADUA_total      T_size  T_exophytic  T_near_Ureter       T_APX  \\\n",
       "count   389.000000  389.000000   389.000000     389.000000  389.000000   \n",
       "mean      8.460154    1.208226     1.868895       1.920308    1.557841   \n",
       "std       1.682714    0.471162     0.718521       0.906064    0.497283   \n",
       "min       6.000000    1.000000     1.000000       1.000000    1.000000   \n",
       "25%       7.000000    1.000000     1.000000       1.000000    1.000000   \n",
       "50%       8.000000    1.000000     2.000000       2.000000    2.000000   \n",
       "75%       9.000000    1.000000     2.000000       3.000000    2.000000   \n",
       "max      13.000000    3.000000     3.000000       3.000000    2.000000   \n",
       "\n",
       "       T_rel_Ureter  RENAL_total        RAIV  \n",
       "count    389.000000   389.000000  389.000000  \n",
       "mean       1.799486     4.989717   27.196144  \n",
       "std        0.806481     1.428682   24.330815  \n",
       "min        1.000000     3.000000    3.500000  \n",
       "25%        1.000000     4.000000   10.800000  \n",
       "50%        2.000000     5.000000   19.000000  \n",
       "75%        2.000000     6.000000   35.100000  \n",
       "max        3.000000     8.000000  154.800000  "
      ]
     },
     "execution_count": 44,
     "metadata": {},
     "output_type": "execute_result"
    }
   ],
   "source": [
    "merged_data_result.describe()\n",
    "# 데이터 분포이해"
   ]
  },
  {
   "cell_type": "code",
   "execution_count": 45,
   "metadata": {},
   "outputs": [],
   "source": [
    "# 이상치 제거"
   ]
  },
  {
   "cell_type": "markdown",
   "metadata": {},
   "source": [
    "# 상관관계"
   ]
  },
  {
   "cell_type": "code",
   "execution_count": 46,
   "metadata": {},
   "outputs": [
    {
     "data": {
      "image/png": "[encoded data removed]",
      "text/plain": [
       "<Figure size 1500x1000 with 16 Axes>"
      ]
     },
     "metadata": {},
     "output_type": "display_data"
    }
   ],
   "source": [
    "# 분포확인\n",
    "merged_data_result.hist(bins=10, figsize=(15,10))\n",
    "plt.show()"
   ]
  },
  {
   "cell_type": "code",
   "execution_count": 47,
   "metadata": {},
   "outputs": [
    {
     "data": {
      "image/png": "[encoded data removed]",
      "text/plain": [
       "<Figure size 1000x800 with 2 Axes>"
      ]
     },
     "metadata": {},
     "output_type": "display_data"
    }
   ],
   "source": [
    "# corr() 함수이용해보기\n",
    "corr = merged_data_result.corr().round(1)\n",
    "sns.set(rc={'figure.figsize':(10,8)})\n",
    "sns.heatmap(data=corr, annot=True, cmap='bwr');"
   ]
  },
  {
   "cell_type": "code",
   "execution_count": 48,
   "metadata": {},
   "outputs": [],
   "source": [
    "# plt.figure(figsize=(12,6))\n",
    "# sns.pairplot(data=merged_data_result);"
   ]
  },
  {
   "cell_type": "markdown",
   "metadata": {},
   "source": [
    "# 데이터나누기"
   ]
  },
  {
   "cell_type": "code",
   "execution_count": 49,
   "metadata": {},
   "outputs": [],
   "source": [
    "from sklearn.model_selection import train_test_split\n",
    "\n",
    "X = merged_data_result.drop('RAIV', axis=1)  # 'RAIV_1' 열을 제외한 모든 열 선택\n",
    "y = merged_data_result['RAIV']\n",
    "\n",
    "X_train, X_test, y_train, y_test = train_test_split(X, y, test_size=0.2, random_state=42)"
   ]
  },
  {
   "cell_type": "code",
   "execution_count": 50,
   "metadata": {},
   "outputs": [
    {
     "data": {
      "application/vnd.plotly.v1+json": {
       "config": {
        "plotlyServerURL": "https://plot.ly"
       },
       "data": [
        {
         "alignmentgroup": "True",
         "bingroup": "x",
         "hovertemplate": "RAIV=%{x}<br>count=%{y}<extra></extra>",
         "legendgroup": "",
         "marker": {
          "color": "#636efa",
          "pattern": {
           "shape": ""
          }
         },
         "name": "",
         "offsetgroup": "",
         "orientation": "v",
         "showlegend": false,
         "type": "histogram",
         "x": [
          42.1,
          10.4,
          7.1,
          16.6,
          48.9,
          13,
          20.2,
          7.1,
          43.1,
          6.6,
          11,
          22.4,
          30.4,
          4.6,
          10.8,
          12.7,
          6.5,
          31.4,
          20.7,
          7.7,
          56.3,
          27.7,
          14.5,
          48.9,
          10.4,
          14.3,
          16.5,
          42.7,
          20.4,
          37.5,
          67.2,
          34.4,
          24.7,
          8.8,
          5.3,
          10.6,
          19.6,
          28.6,
          15.7,
          36.8,
          23.2,
          18.1,
          12,
          8.3,
          52.3,
          16.8,
          9.5,
          24.8,
          21.3,
          26.9,
          36.5,
          3.5,
          82.2,
          37,
          11.5,
          5.3,
          6.6,
          25.5,
          67.2,
          9.6,
          65.6,
          31.6,
          24.6,
          46.7,
          57.8,
          19.4,
          8.4,
          42.5,
          27.9,
          20.5,
          95.7,
          121.1,
          11.9,
          82.3,
          16.8,
          7.1,
          16.2,
          18.4,
          10.1,
          27.9,
          18.6,
          21.3,
          33.2,
          17.7,
          27.7,
          26.5,
          27.6,
          11,
          13.1,
          5.2,
          17.7,
          5.3,
          9.1,
          45.6,
          30.3,
          4.3,
          24.4,
          31.8,
          35.3,
          14.7,
          36.5,
          49.5,
          11.1,
          21.5,
          19.3,
          13.2,
          49.7,
          32.2,
          9,
          28.4,
          3.7,
          9.3,
          122.7,
          11.5,
          10.4,
          14.4,
          25.8,
          10.9,
          51.9,
          30.3,
          45,
          22.2,
          8.7,
          26.7,
          24.1,
          4.7,
          31.7,
          14.3,
          19.8,
          50.6,
          10.3,
          14.7,
          15.3,
          37.9,
          13.9,
          3.6,
          17.2,
          10.9,
          9.3,
          22.4,
          17.7,
          14.8,
          6.6,
          32.8,
          19.9,
          9.3,
          44.3,
          35.1,
          6.5,
          26.2,
          27.6,
          24.2,
          5.7,
          5.3,
          27.3,
          47.8,
          48.8,
          82.2,
          32.8,
          27.9,
          31.3,
          14.7,
          5.9,
          13.5,
          3.6,
          94.2,
          106,
          19.2,
          14.3,
          35.7,
          37.8,
          14,
          8.1,
          23,
          55.8,
          9,
          43.6,
          21.2,
          17.2,
          13.1,
          23.3,
          10.1,
          22.6,
          103.6,
          21.9,
          9.5,
          64.7,
          22.7,
          40.6,
          15,
          28,
          5.1,
          6.6,
          14.8,
          30.4,
          17,
          55.8,
          4.1,
          49.5,
          10.4,
          5.9,
          19.4,
          42.7,
          11.8,
          37.2,
          51.6,
          22.6,
          11.9,
          9,
          6.9,
          8.4,
          5.9,
          8.7,
          13.5,
          4.3,
          55.6,
          13.4,
          76.9,
          14,
          7.4,
          65.3,
          32.6,
          9.9,
          58.6,
          23,
          66.5,
          18.9,
          49.5,
          5.1,
          14,
          7.6,
          16.8,
          8.1,
          8.1,
          63.6,
          67.8,
          9.2,
          10.6,
          70.1,
          12.1,
          4.6,
          18.4,
          13.1,
          20.2,
          9.9,
          9.1,
          13.3,
          6.1,
          13.6,
          27.6,
          46.1,
          66.5,
          18.9,
          9.1,
          13.1,
          10.4,
          74.2,
          19.3,
          6.6,
          17.8,
          48.2,
          7.1,
          19,
          19.1,
          12.7,
          12,
          97.9,
          5.1,
          15,
          24,
          10.7,
          63.6,
          49.7,
          18.1,
          10.2,
          32.7,
          70.7,
          12.5,
          21.8,
          143.4,
          111.3,
          13,
          6.1,
          20.9,
          154.8,
          22.6,
          12.7,
          13.4,
          9.2,
          10.4,
          22.4,
          26.9,
          17.9,
          6.1,
          36,
          4.1,
          60.5,
          26.8,
          104.8,
          10.6,
          7.4,
          14.7,
          27.8,
          11.8,
          75.9,
          54.4,
          7.3,
          11.4,
          6.5,
          28.5,
          33.4
         ],
         "xaxis": "x",
         "yaxis": "y"
        }
       ],
       "layout": {
        "barmode": "relative",
        "legend": {
         "tracegroupgap": 0
        },
        "margin": {
         "t": 60
        },
        "template": {
         "data": {
          "bar": [
           {
            "error_x": {
             "color": "#2a3f5f"
            },
            "error_y": {
             "color": "#2a3f5f"
            },
            "marker": {
             "line": {
              "color": "#E5ECF6",
              "width": 0.5
             },
             "pattern": {
              "fillmode": "overlay",
              "size": 10,
              "solidity": 0.2
             }
            },
            "type": "bar"
           }
          ],
          "barpolar": [
           {
            "marker": {
             "line": {
              "color": "#E5ECF6",
              "width": 0.5
             },
             "pattern": {
              "fillmode": "overlay",
              "size": 10,
              "solidity": 0.2
             }
            },
            "type": "barpolar"
           }
          ],
          "carpet": [
           {
            "aaxis": {
             "endlinecolor": "#2a3f5f",
             "gridcolor": "white",
             "linecolor": "white",
             "minorgridcolor": "white",
             "startlinecolor": "#2a3f5f"
            },
            "baxis": {
             "endlinecolor": "#2a3f5f",
             "gridcolor": "white",
             "linecolor": "white",
             "minorgridcolor": "white",
             "startlinecolor": "#2a3f5f"
            },
            "type": "carpet"
           }
          ],
          "choropleth": [
           {
            "colorbar": {
             "outlinewidth": 0,
             "ticks": ""
            },
            "type": "choropleth"
           }
          ],
          "contour": [
           {
            "colorbar": {
             "outlinewidth": 0,
             "ticks": ""
            },
            "colorscale": [
             [
              0,
              "#0d0887"
             ],
             [
              0.1111111111111111,
              "#46039f"
             ],
             [
              0.2222222222222222,
              "#7201a8"
             ],
             [
              0.3333333333333333,
              "#9c179e"
             ],
             [
              0.4444444444444444,
              "#bd3786"
             ],
             [
              0.5555555555555556,
              "#d8576b"
             ],
             [
              0.6666666666666666,
              "#ed7953"
             ],
             [
              0.7777777777777778,
              "#fb9f3a"
             ],
             [
              0.8888888888888888,
              "#fdca26"
             ],
             [
              1,
              "#f0f921"
             ]
            ],
            "type": "contour"
           }
          ],
          "contourcarpet": [
           {
            "colorbar": {
             "outlinewidth": 0,
             "ticks": ""
            },
            "type": "contourcarpet"
           }
          ],
          "heatmap": [
           {
            "colorbar": {
             "outlinewidth": 0,
             "ticks": ""
            },
            "colorscale": [
             [
              0,
              "#0d0887"
             ],
             [
              0.1111111111111111,
              "#46039f"
             ],
             [
              0.2222222222222222,
              "#7201a8"
             ],
             [
              0.3333333333333333,
              "#9c179e"
             ],
             [
              0.4444444444444444,
              "#bd3786"
             ],
             [
              0.5555555555555556,
              "#d8576b"
             ],
             [
              0.6666666666666666,
              "#ed7953"
             ],
             [
              0.7777777777777778,
              "#fb9f3a"
             ],
             [
              0.8888888888888888,
              "#fdca26"
             ],
             [
              1,
              "#f0f921"
             ]
            ],
            "type": "heatmap"
           }
          ],
          "heatmapgl": [
           {
            "colorbar": {
             "outlinewidth": 0,
             "ticks": ""
            },
            "colorscale": [
             [
              0,
              "#0d0887"
             ],
             [
              0.1111111111111111,
              "#46039f"
             ],
             [
              0.2222222222222222,
              "#7201a8"
             ],
             [
              0.3333333333333333,
              "#9c179e"
             ],
             [
              0.4444444444444444,
              "#bd3786"
             ],
             [
              0.5555555555555556,
              "#d8576b"
             ],
             [
              0.6666666666666666,
              "#ed7953"
             ],
             [
              0.7777777777777778,
              "#fb9f3a"
             ],
             [
              0.8888888888888888,
              "#fdca26"
             ],
             [
              1,
              "#f0f921"
             ]
            ],
            "type": "heatmapgl"
           }
          ],
          "histogram": [
           {
            "marker": {
             "pattern": {
              "fillmode": "overlay",
              "size": 10,
              "solidity": 0.2
             }
            },
            "type": "histogram"
           }
          ],
          "histogram2d": [
           {
            "colorbar": {
             "outlinewidth": 0,
             "ticks": ""
            },
            "colorscale": [
             [
              0,
              "#0d0887"
             ],
             [
              0.1111111111111111,
              "#46039f"
             ],
             [
              0.2222222222222222,
              "#7201a8"
             ],
             [
              0.3333333333333333,
              "#9c179e"
             ],
             [
              0.4444444444444444,
              "#bd3786"
             ],
             [
              0.5555555555555556,
              "#d8576b"
             ],
             [
              0.6666666666666666,
              "#ed7953"
             ],
             [
              0.7777777777777778,
              "#fb9f3a"
             ],
             [
              0.8888888888888888,
              "#fdca26"
             ],
             [
              1,
              "#f0f921"
             ]
            ],
            "type": "histogram2d"
           }
          ],
          "histogram2dcontour": [
           {
            "colorbar": {
             "outlinewidth": 0,
             "ticks": ""
            },
            "colorscale": [
             [
              0,
              "#0d0887"
             ],
             [
              0.1111111111111111,
              "#46039f"
             ],
             [
              0.2222222222222222,
              "#7201a8"
             ],
             [
              0.3333333333333333,
              "#9c179e"
             ],
             [
              0.4444444444444444,
              "#bd3786"
             ],
             [
              0.5555555555555556,
              "#d8576b"
             ],
             [
              0.6666666666666666,
              "#ed7953"
             ],
             [
              0.7777777777777778,
              "#fb9f3a"
             ],
             [
              0.8888888888888888,
              "#fdca26"
             ],
             [
              1,
              "#f0f921"
             ]
            ],
            "type": "histogram2dcontour"
           }
          ],
          "mesh3d": [
           {
            "colorbar": {
             "outlinewidth": 0,
             "ticks": ""
            },
            "type": "mesh3d"
           }
          ],
          "parcoords": [
           {
            "line": {
             "colorbar": {
              "outlinewidth": 0,
              "ticks": ""
             }
            },
            "type": "parcoords"
           }
          ],
          "pie": [
           {
            "automargin": true,
            "type": "pie"
           }
          ],
          "scatter": [
           {
            "fillpattern": {
             "fillmode": "overlay",
             "size": 10,
             "solidity": 0.2
            },
            "type": "scatter"
           }
          ],
          "scatter3d": [
           {
            "line": {
             "colorbar": {
              "outlinewidth": 0,
              "ticks": ""
             }
            },
            "marker": {
             "colorbar": {
              "outlinewidth": 0,
              "ticks": ""
             }
            },
            "type": "scatter3d"
           }
          ],
          "scattercarpet": [
           {
            "marker": {
             "colorbar": {
              "outlinewidth": 0,
              "ticks": ""
             }
            },
            "type": "scattercarpet"
           }
          ],
          "scattergeo": [
           {
            "marker": {
             "colorbar": {
              "outlinewidth": 0,
              "ticks": ""
             }
            },
            "type": "scattergeo"
           }
          ],
          "scattergl": [
           {
            "marker": {
             "colorbar": {
              "outlinewidth": 0,
              "ticks": ""
             }
            },
            "type": "scattergl"
           }
          ],
          "scattermapbox": [
           {
            "marker": {
             "colorbar": {
              "outlinewidth": 0,
              "ticks": ""
             }
            },
            "type": "scattermapbox"
           }
          ],
          "scatterpolar": [
           {
            "marker": {
             "colorbar": {
              "outlinewidth": 0,
              "ticks": ""
             }
            },
            "type": "scatterpolar"
           }
          ],
          "scatterpolargl": [
           {
            "marker": {
             "colorbar": {
              "outlinewidth": 0,
              "ticks": ""
             }
            },
            "type": "scatterpolargl"
           }
          ],
          "scatterternary": [
           {
            "marker": {
             "colorbar": {
              "outlinewidth": 0,
              "ticks": ""
             }
            },
            "type": "scatterternary"
           }
          ],
          "surface": [
           {
            "colorbar": {
             "outlinewidth": 0,
             "ticks": ""
            },
            "colorscale": [
             [
              0,
              "#0d0887"
             ],
             [
              0.1111111111111111,
              "#46039f"
             ],
             [
              0.2222222222222222,
              "#7201a8"
             ],
             [
              0.3333333333333333,
              "#9c179e"
             ],
             [
              0.4444444444444444,
              "#bd3786"
             ],
             [
              0.5555555555555556,
              "#d8576b"
             ],
             [
              0.6666666666666666,
              "#ed7953"
             ],
             [
              0.7777777777777778,
              "#fb9f3a"
             ],
             [
              0.8888888888888888,
              "#fdca26"
             ],
             [
              1,
              "#f0f921"
             ]
            ],
            "type": "surface"
           }
          ],
          "table": [
           {
            "cells": {
             "fill": {
              "color": "#EBF0F8"
             },
             "line": {
              "color": "white"
             }
            },
            "header": {
             "fill": {
              "color": "#C8D4E3"
             },
             "line": {
              "color": "white"
             }
            },
            "type": "table"
           }
          ]
         },
         "layout": {
          "annotationdefaults": {
           "arrowcolor": "#2a3f5f",
           "arrowhead": 0,
           "arrowwidth": 1
          },
          "autotypenumbers": "strict",
          "coloraxis": {
           "colorbar": {
            "outlinewidth": 0,
            "ticks": ""
           }
          },
          "colorscale": {
           "diverging": [
            [
             0,
             "#8e0152"
            ],
            [
             0.1,
             "#c51b7d"
            ],
            [
             0.2,
             "#de77ae"
            ],
            [
             0.3,
             "#f1b6da"
            ],
            [
             0.4,
             "#fde0ef"
            ],
            [
             0.5,
             "#f7f7f7"
            ],
            [
             0.6,
             "#e6f5d0"
            ],
            [
             0.7,
             "#b8e186"
            ],
            [
             0.8,
             "#7fbc41"
            ],
            [
             0.9,
             "#4d9221"
            ],
            [
             1,
             "#276419"
            ]
           ],
           "sequential": [
            [
             0,
             "#0d0887"
            ],
            [
             0.1111111111111111,
             "#46039f"
            ],
            [
             0.2222222222222222,
             "#7201a8"
            ],
            [
             0.3333333333333333,
             "#9c179e"
            ],
            [
             0.4444444444444444,
             "#bd3786"
            ],
            [
             0.5555555555555556,
             "#d8576b"
            ],
            [
             0.6666666666666666,
             "#ed7953"
            ],
            [
             0.7777777777777778,
             "#fb9f3a"
            ],
            [
             0.8888888888888888,
             "#fdca26"
            ],
            [
             1,
             "#f0f921"
            ]
           ],
           "sequentialminus": [
            [
             0,
             "#0d0887"
            ],
            [
             0.1111111111111111,
             "#46039f"
            ],
            [
             0.2222222222222222,
             "#7201a8"
            ],
            [
             0.3333333333333333,
             "#9c179e"
            ],
            [
             0.4444444444444444,
             "#bd3786"
            ],
            [
             0.5555555555555556,
             "#d8576b"
            ],
            [
             0.6666666666666666,
             "#ed7953"
            ],
            [
             0.7777777777777778,
             "#fb9f3a"
            ],
            [
             0.8888888888888888,
             "#fdca26"
            ],
            [
             1,
             "#f0f921"
            ]
           ]
          },
          "colorway": [
           "#636efa",
           "#EF553B",
           "#00cc96",
           "#ab63fa",
           "#FFA15A",
           "#19d3f3",
           "#FF6692",
           "#B6E880",
           "#FF97FF",
           "#FECB52"
          ],
          "font": {
           "color": "#2a3f5f"
          },
          "geo": {
           "bgcolor": "white",
           "lakecolor": "white",
           "landcolor": "#E5ECF6",
           "showlakes": true,
           "showland": true,
           "subunitcolor": "white"
          },
          "hoverlabel": {
           "align": "left"
          },
          "hovermode": "closest",
          "mapbox": {
           "style": "light"
          },
          "paper_bgcolor": "white",
          "plot_bgcolor": "#E5ECF6",
          "polar": {
           "angularaxis": {
            "gridcolor": "white",
            "linecolor": "white",
            "ticks": ""
           },
           "bgcolor": "#E5ECF6",
           "radialaxis": {
            "gridcolor": "white",
            "linecolor": "white",
            "ticks": ""
           }
          },
          "scene": {
           "xaxis": {
            "backgroundcolor": "#E5ECF6",
            "gridcolor": "white",
            "gridwidth": 2,
            "linecolor": "white",
            "showbackground": true,
            "ticks": "",
            "zerolinecolor": "white"
           },
           "yaxis": {
            "backgroundcolor": "#E5ECF6",
            "gridcolor": "white",
            "gridwidth": 2,
            "linecolor": "white",
            "showbackground": true,
            "ticks": "",
            "zerolinecolor": "white"
           },
           "zaxis": {
            "backgroundcolor": "#E5ECF6",
            "gridcolor": "white",
            "gridwidth": 2,
            "linecolor": "white",
            "showbackground": true,
            "ticks": "",
            "zerolinecolor": "white"
           }
          },
          "shapedefaults": {
           "line": {
            "color": "#2a3f5f"
           }
          },
          "ternary": {
           "aaxis": {
            "gridcolor": "white",
            "linecolor": "white",
            "ticks": ""
           },
           "baxis": {
            "gridcolor": "white",
            "linecolor": "white",
            "ticks": ""
           },
           "bgcolor": "#E5ECF6",
           "caxis": {
            "gridcolor": "white",
            "linecolor": "white",
            "ticks": ""
           }
          },
          "title": {
           "x": 0.05
          },
          "xaxis": {
           "automargin": true,
           "gridcolor": "white",
           "linecolor": "white",
           "ticks": "",
           "title": {
            "standoff": 15
           },
           "zerolinecolor": "white",
           "zerolinewidth": 2
          },
          "yaxis": {
           "automargin": true,
           "gridcolor": "white",
           "linecolor": "white",
           "ticks": "",
           "title": {
            "standoff": 15
           },
           "zerolinecolor": "white",
           "zerolinewidth": 2
          }
         }
        },
        "xaxis": {
         "anchor": "y",
         "domain": [
          0,
          1
         ],
         "title": {
          "text": "RAIV"
         }
        },
        "yaxis": {
         "anchor": "x",
         "domain": [
          0,
          1
         ],
         "title": {
          "text": "count"
         }
        }
       }
      }
     },
     "metadata": {},
     "output_type": "display_data"
    }
   ],
   "source": [
    "# y값 뷸균형 확인하기\n",
    "import plotly.express as px\n",
    "\n",
    "fig=px.histogram(y_train, x='RAIV')\n",
    "fig.show()"
   ]
  },
  {
   "cell_type": "code",
   "execution_count": 51,
   "metadata": {},
   "outputs": [
    {
     "data": {
      "application/vnd.plotly.v1+json": {
       "config": {
        "plotlyServerURL": "https://plot.ly"
       },
       "data": [
        {
         "alignmentgroup": "True",
         "bingroup": "x",
         "hovertemplate": "RAIV=%{x}<br>count=%{y}<extra></extra>",
         "legendgroup": "",
         "marker": {
          "color": "#636efa",
          "pattern": {
           "shape": ""
          }
         },
         "name": "",
         "offsetgroup": "",
         "orientation": "v",
         "showlegend": false,
         "type": "histogram",
         "x": [
          21.8,
          17.9,
          8.1,
          30.4,
          60.5,
          13.1,
          14.2,
          45.6,
          6.7,
          15.2,
          16.8,
          24,
          28.8,
          55.6,
          9.9,
          29.1,
          85.4,
          36.5,
          12.3,
          51.1,
          30.5,
          14.9,
          93.6,
          13.4,
          55.6,
          8.6,
          12.6,
          16.1,
          43.9,
          11.2,
          6.1,
          51.1,
          20.6,
          20.6,
          15.3,
          7.1,
          57.8,
          29.1,
          88.5,
          15,
          5.1,
          22.6,
          52.6,
          9.6,
          23.7,
          42.1,
          21.6,
          10.9,
          6.6,
          11.7,
          12.8,
          46.2,
          25.8,
          24.7,
          10.8,
          16.8,
          8.8,
          21.8,
          46,
          10.1,
          18.1,
          36.5,
          11.9,
          15.3,
          7.1,
          18.5,
          74.6,
          14,
          74.6,
          6.5,
          57.7,
          4.6,
          56.3,
          19.7,
          114,
          36.5,
          14.1,
          19.4
         ],
         "xaxis": "x",
         "yaxis": "y"
        }
       ],
       "layout": {
        "barmode": "relative",
        "legend": {
         "tracegroupgap": 0
        },
        "margin": {
         "t": 60
        },
        "template": {
         "data": {
          "bar": [
           {
            "error_x": {
             "color": "#2a3f5f"
            },
            "error_y": {
             "color": "#2a3f5f"
            },
            "marker": {
             "line": {
              "color": "#E5ECF6",
              "width": 0.5
             },
             "pattern": {
              "fillmode": "overlay",
              "size": 10,
              "solidity": 0.2
             }
            },
            "type": "bar"
           }
          ],
          "barpolar": [
           {
            "marker": {
             "line": {
              "color": "#E5ECF6",
              "width": 0.5
             },
             "pattern": {
              "fillmode": "overlay",
              "size": 10,
              "solidity": 0.2
             }
            },
            "type": "barpolar"
           }
          ],
          "carpet": [
           {
            "aaxis": {
             "endlinecolor": "#2a3f5f",
             "gridcolor": "white",
             "linecolor": "white",
             "minorgridcolor": "white",
             "startlinecolor": "#2a3f5f"
            },
            "baxis": {
             "endlinecolor": "#2a3f5f",
             "gridcolor": "white",
             "linecolor": "white",
             "minorgridcolor": "white",
             "startlinecolor": "#2a3f5f"
            },
            "type": "carpet"
           }
          ],
          "choropleth": [
           {
            "colorbar": {
             "outlinewidth": 0,
             "ticks": ""
            },
            "type": "choropleth"
           }
          ],
          "contour": [
           {
            "colorbar": {
             "outlinewidth": 0,
             "ticks": ""
            },
            "colorscale": [
             [
              0,
              "#0d0887"
             ],
             [
              0.1111111111111111,
              "#46039f"
             ],
             [
              0.2222222222222222,
              "#7201a8"
             ],
             [
              0.3333333333333333,
              "#9c179e"
             ],
             [
              0.4444444444444444,
              "#bd3786"
             ],
             [
              0.5555555555555556,
              "#d8576b"
             ],
             [
              0.6666666666666666,
              "#ed7953"
             ],
             [
              0.7777777777777778,
              "#fb9f3a"
             ],
             [
              0.8888888888888888,
              "#fdca26"
             ],
             [
              1,
              "#f0f921"
             ]
            ],
            "type": "contour"
           }
          ],
          "contourcarpet": [
           {
            "colorbar": {
             "outlinewidth": 0,
             "ticks": ""
            },
            "type": "contourcarpet"
           }
          ],
          "heatmap": [
           {
            "colorbar": {
             "outlinewidth": 0,
             "ticks": ""
            },
            "colorscale": [
             [
              0,
              "#0d0887"
             ],
             [
              0.1111111111111111,
              "#46039f"
             ],
             [
              0.2222222222222222,
              "#7201a8"
             ],
             [
              0.3333333333333333,
              "#9c179e"
             ],
             [
              0.4444444444444444,
              "#bd3786"
             ],
             [
              0.5555555555555556,
              "#d8576b"
             ],
             [
              0.6666666666666666,
              "#ed7953"
             ],
             [
              0.7777777777777778,
              "#fb9f3a"
             ],
             [
              0.8888888888888888,
              "#fdca26"
             ],
             [
              1,
              "#f0f921"
             ]
            ],
            "type": "heatmap"
           }
          ],
          "heatmapgl": [
           {
            "colorbar": {
             "outlinewidth": 0,
             "ticks": ""
            },
            "colorscale": [
             [
              0,
              "#0d0887"
             ],
             [
              0.1111111111111111,
              "#46039f"
             ],
             [
              0.2222222222222222,
              "#7201a8"
             ],
             [
              0.3333333333333333,
              "#9c179e"
             ],
             [
              0.4444444444444444,
              "#bd3786"
             ],
             [
              0.5555555555555556,
              "#d8576b"
             ],
             [
              0.6666666666666666,
              "#ed7953"
             ],
             [
              0.7777777777777778,
              "#fb9f3a"
             ],
             [
              0.8888888888888888,
              "#fdca26"
             ],
             [
              1,
              "#f0f921"
             ]
            ],
            "type": "heatmapgl"
           }
          ],
          "histogram": [
           {
            "marker": {
             "pattern": {
              "fillmode": "overlay",
              "size": 10,
              "solidity": 0.2
             }
            },
            "type": "histogram"
           }
          ],
          "histogram2d": [
           {
            "colorbar": {
             "outlinewidth": 0,
             "ticks": ""
            },
            "colorscale": [
             [
              0,
              "#0d0887"
             ],
             [
              0.1111111111111111,
              "#46039f"
             ],
             [
              0.2222222222222222,
              "#7201a8"
             ],
             [
              0.3333333333333333,
              "#9c179e"
             ],
             [
              0.4444444444444444,
              "#bd3786"
             ],
             [
              0.5555555555555556,
              "#d8576b"
             ],
             [
              0.6666666666666666,
              "#ed7953"
             ],
             [
              0.7777777777777778,
              "#fb9f3a"
             ],
             [
              0.8888888888888888,
              "#fdca26"
             ],
             [
              1,
              "#f0f921"
             ]
            ],
            "type": "histogram2d"
           }
          ],
          "histogram2dcontour": [
           {
            "colorbar": {
             "outlinewidth": 0,
             "ticks": ""
            },
            "colorscale": [
             [
              0,
              "#0d0887"
             ],
             [
              0.1111111111111111,
              "#46039f"
             ],
             [
              0.2222222222222222,
              "#7201a8"
             ],
             [
              0.3333333333333333,
              "#9c179e"
             ],
             [
              0.4444444444444444,
              "#bd3786"
             ],
             [
              0.5555555555555556,
              "#d8576b"
             ],
             [
              0.6666666666666666,
              "#ed7953"
             ],
             [
              0.7777777777777778,
              "#fb9f3a"
             ],
             [
              0.8888888888888888,
              "#fdca26"
             ],
             [
              1,
              "#f0f921"
             ]
            ],
            "type": "histogram2dcontour"
           }
          ],
          "mesh3d": [
           {
            "colorbar": {
             "outlinewidth": 0,
             "ticks": ""
            },
            "type": "mesh3d"
           }
          ],
          "parcoords": [
           {
            "line": {
             "colorbar": {
              "outlinewidth": 0,
              "ticks": ""
             }
            },
            "type": "parcoords"
           }
          ],
          "pie": [
           {
            "automargin": true,
            "type": "pie"
           }
          ],
          "scatter": [
           {
            "fillpattern": {
             "fillmode": "overlay",
             "size": 10,
             "solidity": 0.2
            },
            "type": "scatter"
           }
          ],
          "scatter3d": [
           {
            "line": {
             "colorbar": {
              "outlinewidth": 0,
              "ticks": ""
             }
            },
            "marker": {
             "colorbar": {
              "outlinewidth": 0,
              "ticks": ""
             }
            },
            "type": "scatter3d"
           }
          ],
          "scattercarpet": [
           {
            "marker": {
             "colorbar": {
              "outlinewidth": 0,
              "ticks": ""
             }
            },
            "type": "scattercarpet"
           }
          ],
          "scattergeo": [
           {
            "marker": {
             "colorbar": {
              "outlinewidth": 0,
              "ticks": ""
             }
            },
            "type": "scattergeo"
           }
          ],
          "scattergl": [
           {
            "marker": {
             "colorbar": {
              "outlinewidth": 0,
              "ticks": ""
             }
            },
            "type": "scattergl"
           }
          ],
          "scattermapbox": [
           {
            "marker": {
             "colorbar": {
              "outlinewidth": 0,
              "ticks": ""
             }
            },
            "type": "scattermapbox"
           }
          ],
          "scatterpolar": [
           {
            "marker": {
             "colorbar": {
              "outlinewidth": 0,
              "ticks": ""
             }
            },
            "type": "scatterpolar"
           }
          ],
          "scatterpolargl": [
           {
            "marker": {
             "colorbar": {
              "outlinewidth": 0,
              "ticks": ""
             }
            },
            "type": "scatterpolargl"
           }
          ],
          "scatterternary": [
           {
            "marker": {
             "colorbar": {
              "outlinewidth": 0,
              "ticks": ""
             }
            },
            "type": "scatterternary"
           }
          ],
          "surface": [
           {
            "colorbar": {
             "outlinewidth": 0,
             "ticks": ""
            },
            "colorscale": [
             [
              0,
              "#0d0887"
             ],
             [
              0.1111111111111111,
              "#46039f"
             ],
             [
              0.2222222222222222,
              "#7201a8"
             ],
             [
              0.3333333333333333,
              "#9c179e"
             ],
             [
              0.4444444444444444,
              "#bd3786"
             ],
             [
              0.5555555555555556,
              "#d8576b"
             ],
             [
              0.6666666666666666,
              "#ed7953"
             ],
             [
              0.7777777777777778,
              "#fb9f3a"
             ],
             [
              0.8888888888888888,
              "#fdca26"
             ],
             [
              1,
              "#f0f921"
             ]
            ],
            "type": "surface"
           }
          ],
          "table": [
           {
            "cells": {
             "fill": {
              "color": "#EBF0F8"
             },
             "line": {
              "color": "white"
             }
            },
            "header": {
             "fill": {
              "color": "#C8D4E3"
             },
             "line": {
              "color": "white"
             }
            },
            "type": "table"
           }
          ]
         },
         "layout": {
          "annotationdefaults": {
           "arrowcolor": "#2a3f5f",
           "arrowhead": 0,
           "arrowwidth": 1
          },
          "autotypenumbers": "strict",
          "coloraxis": {
           "colorbar": {
            "outlinewidth": 0,
            "ticks": ""
           }
          },
          "colorscale": {
           "diverging": [
            [
             0,
             "#8e0152"
            ],
            [
             0.1,
             "#c51b7d"
            ],
            [
             0.2,
             "#de77ae"
            ],
            [
             0.3,
             "#f1b6da"
            ],
            [
             0.4,
             "#fde0ef"
            ],
            [
             0.5,
             "#f7f7f7"
            ],
            [
             0.6,
             "#e6f5d0"
            ],
            [
             0.7,
             "#b8e186"
            ],
            [
             0.8,
             "#7fbc41"
            ],
            [
             0.9,
             "#4d9221"
            ],
            [
             1,
             "#276419"
            ]
           ],
           "sequential": [
            [
             0,
             "#0d0887"
            ],
            [
             0.1111111111111111,
             "#46039f"
            ],
            [
             0.2222222222222222,
             "#7201a8"
            ],
            [
             0.3333333333333333,
             "#9c179e"
            ],
            [
             0.4444444444444444,
             "#bd3786"
            ],
            [
             0.5555555555555556,
             "#d8576b"
            ],
            [
             0.6666666666666666,
             "#ed7953"
            ],
            [
             0.7777777777777778,
             "#fb9f3a"
            ],
            [
             0.8888888888888888,
             "#fdca26"
            ],
            [
             1,
             "#f0f921"
            ]
           ],
           "sequentialminus": [
            [
             0,
             "#0d0887"
            ],
            [
             0.1111111111111111,
             "#46039f"
            ],
            [
             0.2222222222222222,
             "#7201a8"
            ],
            [
             0.3333333333333333,
             "#9c179e"
            ],
            [
             0.4444444444444444,
             "#bd3786"
            ],
            [
             0.5555555555555556,
             "#d8576b"
            ],
            [
             0.6666666666666666,
             "#ed7953"
            ],
            [
             0.7777777777777778,
             "#fb9f3a"
            ],
            [
             0.8888888888888888,
             "#fdca26"
            ],
            [
             1,
             "#f0f921"
            ]
           ]
          },
          "colorway": [
           "#636efa",
           "#EF553B",
           "#00cc96",
           "#ab63fa",
           "#FFA15A",
           "#19d3f3",
           "#FF6692",
           "#B6E880",
           "#FF97FF",
           "#FECB52"
          ],
          "font": {
           "color": "#2a3f5f"
          },
          "geo": {
           "bgcolor": "white",
           "lakecolor": "white",
           "landcolor": "#E5ECF6",
           "showlakes": true,
           "showland": true,
           "subunitcolor": "white"
          },
          "hoverlabel": {
           "align": "left"
          },
          "hovermode": "closest",
          "mapbox": {
           "style": "light"
          },
          "paper_bgcolor": "white",
          "plot_bgcolor": "#E5ECF6",
          "polar": {
           "angularaxis": {
            "gridcolor": "white",
            "linecolor": "white",
            "ticks": ""
           },
           "bgcolor": "#E5ECF6",
           "radialaxis": {
            "gridcolor": "white",
            "linecolor": "white",
            "ticks": ""
           }
          },
          "scene": {
           "xaxis": {
            "backgroundcolor": "#E5ECF6",
            "gridcolor": "white",
            "gridwidth": 2,
            "linecolor": "white",
            "showbackground": true,
            "ticks": "",
            "zerolinecolor": "white"
           },
           "yaxis": {
            "backgroundcolor": "#E5ECF6",
            "gridcolor": "white",
            "gridwidth": 2,
            "linecolor": "white",
            "showbackground": true,
            "ticks": "",
            "zerolinecolor": "white"
           },
           "zaxis": {
            "backgroundcolor": "#E5ECF6",
            "gridcolor": "white",
            "gridwidth": 2,
            "linecolor": "white",
            "showbackground": true,
            "ticks": "",
            "zerolinecolor": "white"
           }
          },
          "shapedefaults": {
           "line": {
            "color": "#2a3f5f"
           }
          },
          "ternary": {
           "aaxis": {
            "gridcolor": "white",
            "linecolor": "white",
            "ticks": ""
           },
           "baxis": {
            "gridcolor": "white",
            "linecolor": "white",
            "ticks": ""
           },
           "bgcolor": "#E5ECF6",
           "caxis": {
            "gridcolor": "white",
            "linecolor": "white",
            "ticks": ""
           }
          },
          "title": {
           "x": 0.05
          },
          "xaxis": {
           "automargin": true,
           "gridcolor": "white",
           "linecolor": "white",
           "ticks": "",
           "title": {
            "standoff": 15
           },
           "zerolinecolor": "white",
           "zerolinewidth": 2
          },
          "yaxis": {
           "automargin": true,
           "gridcolor": "white",
           "linecolor": "white",
           "ticks": "",
           "title": {
            "standoff": 15
           },
           "zerolinecolor": "white",
           "zerolinewidth": 2
          }
         }
        },
        "xaxis": {
         "anchor": "y",
         "domain": [
          0,
          1
         ],
         "title": {
          "text": "RAIV"
         }
        },
        "yaxis": {
         "anchor": "x",
         "domain": [
          0,
          1
         ],
         "title": {
          "text": "count"
         }
        }
       }
      }
     },
     "metadata": {},
     "output_type": "display_data"
    }
   ],
   "source": [
    "# y값 뷸균형 확인하기\n",
    "import plotly.express as px\n",
    "\n",
    "fig=px.histogram(y_test, x='RAIV')\n",
    "fig.show()"
   ]
  },
  {
   "cell_type": "code",
   "execution_count": 52,
   "metadata": {},
   "outputs": [],
   "source": [
    "from sklearn.ensemble import (AdaBoostRegressor, GradientBoostingRegressor, RandomForestRegressor)\n",
    "from sklearn.tree import DecisionTreeRegressor\n",
    "from sklearn.linear_model import LinearRegression\n",
    "from xgboost import XGBRegressor\n",
    "\n",
    "models=[]\n",
    "models.append(('LinearRegression',LinearRegression()))\n",
    "models.append(('DecisionTreeRegressor',DecisionTreeRegressor()))\n",
    "models.append(('RandomForestRegressor',RandomForestRegressor()))\n",
    "models.append(('AdaBoostRegressor',AdaBoostRegressor()))\n",
    "models.append(('GradientBoostingRegressor',GradientBoostingRegressor()))\n",
    "models.append(('XGBRegressor', XGBRegressor()))"
   ]
  },
  {
   "cell_type": "markdown",
   "metadata": {},
   "source": [
    "# 제한없이 전체알고리즘"
   ]
  },
  {
   "cell_type": "code",
   "execution_count": 53,
   "metadata": {},
   "outputs": [
    {
     "data": {
      "text/html": [
       "<div>\n",
       "<style scoped>\n",
       "    .dataframe tbody tr th:only-of-type {\n",
       "        vertical-align: middle;\n",
       "    }\n",
       "\n",
       "    .dataframe tbody tr th {\n",
       "        vertical-align: top;\n",
       "    }\n",
       "\n",
       "    .dataframe thead th {\n",
       "        text-align: right;\n",
       "    }\n",
       "</style>\n",
       "<table border=\"1\" class=\"dataframe\">\n",
       "  <thead>\n",
       "    <tr style=\"text-align: right;\">\n",
       "      <th></th>\n",
       "      <th>Model</th>\n",
       "      <th>train MAE</th>\n",
       "      <th>test MAE</th>\n",
       "      <th>train RMSE</th>\n",
       "      <th>test RMSE</th>\n",
       "    </tr>\n",
       "  </thead>\n",
       "  <tbody>\n",
       "    <tr>\n",
       "      <th>0</th>\n",
       "      <td>LinearRegression</td>\n",
       "      <td>16.241615</td>\n",
       "      <td>16.609102</td>\n",
       "      <td>22.627190</td>\n",
       "      <td>21.959298</td>\n",
       "    </tr>\n",
       "    <tr>\n",
       "      <th>1</th>\n",
       "      <td>DecisionTreeRegressor</td>\n",
       "      <td>0.000000</td>\n",
       "      <td>17.415385</td>\n",
       "      <td>0.000000</td>\n",
       "      <td>27.863836</td>\n",
       "    </tr>\n",
       "    <tr>\n",
       "      <th>2</th>\n",
       "      <td>RandomForestRegressor</td>\n",
       "      <td>5.294109</td>\n",
       "      <td>13.904167</td>\n",
       "      <td>7.867171</td>\n",
       "      <td>20.539119</td>\n",
       "    </tr>\n",
       "    <tr>\n",
       "      <th>3</th>\n",
       "      <td>AdaBoostRegressor</td>\n",
       "      <td>16.146330</td>\n",
       "      <td>18.983315</td>\n",
       "      <td>18.545055</td>\n",
       "      <td>22.516351</td>\n",
       "    </tr>\n",
       "    <tr>\n",
       "      <th>4</th>\n",
       "      <td>GradientBoostingRegressor</td>\n",
       "      <td>7.594794</td>\n",
       "      <td>14.172556</td>\n",
       "      <td>9.836639</td>\n",
       "      <td>21.419283</td>\n",
       "    </tr>\n",
       "    <tr>\n",
       "      <th>5</th>\n",
       "      <td>XGBRegressor</td>\n",
       "      <td>0.541869</td>\n",
       "      <td>15.556282</td>\n",
       "      <td>0.769396</td>\n",
       "      <td>25.106868</td>\n",
       "    </tr>\n",
       "  </tbody>\n",
       "</table>\n",
       "</div>"
      ],
      "text/plain": [
       "                       Model  train MAE   test MAE  train RMSE  test RMSE\n",
       "0           LinearRegression  16.241615  16.609102   22.627190  21.959298\n",
       "1      DecisionTreeRegressor   0.000000  17.415385    0.000000  27.863836\n",
       "2      RandomForestRegressor   5.294109  13.904167    7.867171  20.539119\n",
       "3          AdaBoostRegressor  16.146330  18.983315   18.545055  22.516351\n",
       "4  GradientBoostingRegressor   7.594794  14.172556    9.836639  21.419283\n",
       "5               XGBRegressor   0.541869  15.556282    0.769396  25.106868"
      ]
     },
     "execution_count": 53,
     "metadata": {},
     "output_type": "execute_result"
    }
   ],
   "source": [
    "from sklearn.metrics import mean_absolute_error, mean_squared_error\n",
    "\n",
    "tr_result_mae = []\n",
    "test_result_mae = []\n",
    "tr_result_rmse = []\n",
    "test_result_rmse = []\n",
    "names = []\n",
    "\n",
    "for name, model in models:\n",
    "    names.append(name)\n",
    "    # 모델 훈련\n",
    "    model.fit(X_train, y_train)\n",
    "\n",
    "    # 예측\n",
    "    pred_tr = model.predict(X_train)\n",
    "    pred_test = model.predict(X_test)\n",
    "\n",
    "    # MAE 계산\n",
    "    mae_tr = mean_absolute_error(y_train, pred_tr)\n",
    "    mae_test = mean_absolute_error(y_test, pred_test)\n",
    "    \n",
    "    # RMSE 계산\n",
    "    rmse_tr = np.sqrt(mean_squared_error(y_train, pred_tr))\n",
    "    rmse_test = np.sqrt(mean_squared_error(y_test, pred_test))\n",
    "    \n",
    "    # 결과를 리스트에 추가\n",
    "    tr_result_mae.append(mae_tr)\n",
    "    test_result_mae.append(mae_test)\n",
    "    tr_result_rmse.append(rmse_tr)\n",
    "    test_result_rmse.append(rmse_test)\n",
    "\n",
    "# 결과를 DataFrame으로 정리\n",
    "result_pd = pd.DataFrame({\n",
    "    'Model': names,\n",
    "    'train MAE': tr_result_mae,\n",
    "    'test MAE': test_result_mae,\n",
    "    'train RMSE': tr_result_rmse,\n",
    "    'test RMSE': test_result_rmse\n",
    "})\n",
    "\n",
    "result_pd"
   ]
  },
  {
   "cell_type": "markdown",
   "metadata": {},
   "source": [
    "# 교차 검증 train"
   ]
  },
  {
   "cell_type": "code",
   "execution_count": 54,
   "metadata": {},
   "outputs": [
    {
     "data": {
      "text/html": [
       "<div>\n",
       "<style scoped>\n",
       "    .dataframe tbody tr th:only-of-type {\n",
       "        vertical-align: middle;\n",
       "    }\n",
       "\n",
       "    .dataframe tbody tr th {\n",
       "        vertical-align: top;\n",
       "    }\n",
       "\n",
       "    .dataframe thead th {\n",
       "        text-align: right;\n",
       "    }\n",
       "</style>\n",
       "<table border=\"1\" class=\"dataframe\">\n",
       "  <thead>\n",
       "    <tr style=\"text-align: right;\">\n",
       "      <th></th>\n",
       "      <th>Model</th>\n",
       "      <th>Mean MAE</th>\n",
       "      <th>Std MAE</th>\n",
       "      <th>Mean RMSE</th>\n",
       "      <th>Std RMSE</th>\n",
       "    </tr>\n",
       "  </thead>\n",
       "  <tbody>\n",
       "    <tr>\n",
       "      <th>0</th>\n",
       "      <td>LinearRegression</td>\n",
       "      <td>16.7834</td>\n",
       "      <td>2.5485</td>\n",
       "      <td>22.8663</td>\n",
       "      <td>4.8407</td>\n",
       "    </tr>\n",
       "    <tr>\n",
       "      <th>1</th>\n",
       "      <td>DecisionTreeRegressor</td>\n",
       "      <td>17.0131</td>\n",
       "      <td>1.3690</td>\n",
       "      <td>24.0747</td>\n",
       "      <td>2.2689</td>\n",
       "    </tr>\n",
       "    <tr>\n",
       "      <th>2</th>\n",
       "      <td>RandomForestRegressor</td>\n",
       "      <td>14.2251</td>\n",
       "      <td>1.6510</td>\n",
       "      <td>21.2134</td>\n",
       "      <td>2.9117</td>\n",
       "    </tr>\n",
       "    <tr>\n",
       "      <th>3</th>\n",
       "      <td>AdaBoostRegressor</td>\n",
       "      <td>16.8700</td>\n",
       "      <td>2.1866</td>\n",
       "      <td>22.4571</td>\n",
       "      <td>2.8515</td>\n",
       "    </tr>\n",
       "    <tr>\n",
       "      <th>4</th>\n",
       "      <td>GradientBoostingRegressor</td>\n",
       "      <td>14.2066</td>\n",
       "      <td>1.8070</td>\n",
       "      <td>21.2906</td>\n",
       "      <td>3.8089</td>\n",
       "    </tr>\n",
       "    <tr>\n",
       "      <th>5</th>\n",
       "      <td>XGBRegressor</td>\n",
       "      <td>15.5731</td>\n",
       "      <td>1.1355</td>\n",
       "      <td>22.9046</td>\n",
       "      <td>2.4480</td>\n",
       "    </tr>\n",
       "  </tbody>\n",
       "</table>\n",
       "</div>"
      ],
      "text/plain": [
       "                       Model  Mean MAE  Std MAE  Mean RMSE  Std RMSE\n",
       "0           LinearRegression   16.7834   2.5485    22.8663    4.8407\n",
       "1      DecisionTreeRegressor   17.0131   1.3690    24.0747    2.2689\n",
       "2      RandomForestRegressor   14.2251   1.6510    21.2134    2.9117\n",
       "3          AdaBoostRegressor   16.8700   2.1866    22.4571    2.8515\n",
       "4  GradientBoostingRegressor   14.2066   1.8070    21.2906    3.8089\n",
       "5               XGBRegressor   15.5731   1.1355    22.9046    2.4480"
      ]
     },
     "execution_count": 54,
     "metadata": {},
     "output_type": "execute_result"
    }
   ],
   "source": [
    "from sklearn.model_selection import KFold, cross_val_score\n",
    "from sklearn.metrics import mean_squared_error, mean_absolute_error\n",
    "\n",
    "results_mae = []\n",
    "results_rmse = []\n",
    "names = []\n",
    "\n",
    "for name, model in models:\n",
    "    kfold = KFold(n_splits=5, random_state=13, shuffle=True)\n",
    "\n",
    "    # MAE 계산\n",
    "    cv_results_mae = cross_val_score(model, X_train, y_train, cv=kfold, scoring='neg_mean_absolute_error')\n",
    "    cv_results_mae = -cv_results_mae\n",
    "    results_mae.append(cv_results_mae)\n",
    "    \n",
    "    # RMSE 계산\n",
    "    cv_results_rmse = cross_val_score(model, X_train, y_train, cv=kfold, scoring='neg_root_mean_squared_error')\n",
    "    cv_results_rmse = -cv_results_rmse\n",
    "    results_rmse.append(cv_results_rmse)\n",
    "\n",
    "    names.append(name)\n",
    "\n",
    "# DataFrame 생성\n",
    "result_pd = pd.DataFrame({\n",
    "    'Model': names,\n",
    "    'Mean MAE': [round(result.mean(), 4) for result in results_mae],\n",
    "    'Std MAE': [round(result.std(), 4) for result in results_mae],\n",
    "    'Mean RMSE': [round(result.mean(), 4) for result in results_rmse],\n",
    "    'Std RMSE': [round(result.std(), 4) for result in results_rmse]\n",
    "})\n",
    "\n",
    "result_pd"
   ]
  },
  {
   "cell_type": "markdown",
   "metadata": {},
   "source": [
    "# 교차검증 test"
   ]
  },
  {
   "cell_type": "code",
   "execution_count": 55,
   "metadata": {},
   "outputs": [
    {
     "data": {
      "text/html": [
       "<div>\n",
       "<style scoped>\n",
       "    .dataframe tbody tr th:only-of-type {\n",
       "        vertical-align: middle;\n",
       "    }\n",
       "\n",
       "    .dataframe tbody tr th {\n",
       "        vertical-align: top;\n",
       "    }\n",
       "\n",
       "    .dataframe thead th {\n",
       "        text-align: right;\n",
       "    }\n",
       "</style>\n",
       "<table border=\"1\" class=\"dataframe\">\n",
       "  <thead>\n",
       "    <tr style=\"text-align: right;\">\n",
       "      <th></th>\n",
       "      <th>Model</th>\n",
       "      <th>MAE</th>\n",
       "      <th>RMSE</th>\n",
       "    </tr>\n",
       "  </thead>\n",
       "  <tbody>\n",
       "    <tr>\n",
       "      <th>0</th>\n",
       "      <td>LinearRegression</td>\n",
       "      <td>16.759408</td>\n",
       "      <td>22.179921</td>\n",
       "    </tr>\n",
       "    <tr>\n",
       "      <th>1</th>\n",
       "      <td>DecisionTreeRegressor</td>\n",
       "      <td>19.464103</td>\n",
       "      <td>28.785613</td>\n",
       "    </tr>\n",
       "    <tr>\n",
       "      <th>2</th>\n",
       "      <td>RandomForestRegressor</td>\n",
       "      <td>15.543897</td>\n",
       "      <td>22.487846</td>\n",
       "    </tr>\n",
       "    <tr>\n",
       "      <th>3</th>\n",
       "      <td>AdaBoostRegressor</td>\n",
       "      <td>17.258303</td>\n",
       "      <td>24.471608</td>\n",
       "    </tr>\n",
       "    <tr>\n",
       "      <th>4</th>\n",
       "      <td>GradientBoostingRegressor</td>\n",
       "      <td>17.613514</td>\n",
       "      <td>25.170082</td>\n",
       "    </tr>\n",
       "    <tr>\n",
       "      <th>5</th>\n",
       "      <td>XGBRegressor</td>\n",
       "      <td>17.056595</td>\n",
       "      <td>25.225438</td>\n",
       "    </tr>\n",
       "  </tbody>\n",
       "</table>\n",
       "</div>"
      ],
      "text/plain": [
       "                       Model        MAE       RMSE\n",
       "0           LinearRegression  16.759408  22.179921\n",
       "1      DecisionTreeRegressor  19.464103  28.785613\n",
       "2      RandomForestRegressor  15.543897  22.487846\n",
       "3          AdaBoostRegressor  17.258303  24.471608\n",
       "4  GradientBoostingRegressor  17.613514  25.170082\n",
       "5               XGBRegressor  17.056595  25.225438"
      ]
     },
     "execution_count": 55,
     "metadata": {},
     "output_type": "execute_result"
    }
   ],
   "source": [
    "from sklearn.model_selection import cross_val_predict\n",
    "from sklearn.metrics import mean_squared_error, mean_absolute_error\n",
    "\n",
    "results_mae_test = []\n",
    "results_rmse_test = []\n",
    "\n",
    "for name, model in models:\n",
    "    # MAE 계산\n",
    "    pred_test = cross_val_predict(model, X_test, y_test, cv=5)\n",
    "    mae_test = mean_absolute_error(y_test, pred_test)\n",
    "    results_mae_test.append(mae_test)\n",
    "    \n",
    "    # RMSE 계산\n",
    "    rmse_test = np.sqrt(mean_squared_error(y_test, pred_test))\n",
    "    results_rmse_test.append(rmse_test)\n",
    "\n",
    "# DataFrame 생성\n",
    "result_pd_test = pd.DataFrame({\n",
    "    'Model': names,\n",
    "    'MAE':  results_mae_test,\n",
    "    'RMSE': results_rmse_test\n",
    "})\n",
    "\n",
    "result_pd_test"
   ]
  },
  {
   "cell_type": "markdown",
   "metadata": {},
   "source": [
    "### RandomForestRegressor() 모델 활용해서 성능 확인"
   ]
  },
  {
   "cell_type": "code",
   "execution_count": 56,
   "metadata": {},
   "outputs": [
    {
     "data": {
      "image/png": "[encoded data removed]",
      "text/plain": [
       "<Figure size 1000x800 with 1 Axes>"
      ]
     },
     "metadata": {},
     "output_type": "display_data"
    }
   ],
   "source": [
    "# 성능 확인\n",
    "\n",
    "rf_model = RandomForestRegressor()\n",
    "rf_model.fit(X_train, y_train)\n",
    "predictions = rf_model.predict(X_test)\n",
    "\n",
    "plt.scatter(y_test, predictions)\n",
    "plt.xlabel('real')\n",
    "plt.ylabel('predict')\n",
    "plt.plot([min(y_test), max(y_test)], [min(y_test), max(y_test)], 'r') \n",
    "plt.show()\n",
    "# 값들이 빨간선 주위에 오는것이 좋음"
   ]
  },
  {
   "cell_type": "markdown",
   "metadata": {},
   "source": [
    "# 군집 이용"
   ]
  },
  {
   "cell_type": "code",
   "execution_count": 57,
   "metadata": {},
   "outputs": [
    {
     "name": "stderr",
     "output_type": "stream",
     "text": [
      "c:\\Users\\rbfl7\\miniconda3\\envs\\ds_study\\lib\\site-packages\\sklearn\\cluster\\_kmeans.py:1412: FutureWarning:\n",
      "\n",
      "The default value of `n_init` will change from 10 to 'auto' in 1.4. Set the value of `n_init` explicitly to suppress the warning\n",
      "\n",
      "Exception in thread Thread-6:\n",
      "Traceback (most recent call last):\n",
      "  File \"c:\\Users\\rbfl7\\miniconda3\\envs\\ds_study\\lib\\threading.py\", line 932, in _bootstrap_inner\n",
      "    self.run()\n",
      "  File \"c:\\Users\\rbfl7\\miniconda3\\envs\\ds_study\\lib\\threading.py\", line 870, in run\n",
      "    self._target(*self._args, **self._kwargs)\n",
      "  File \"c:\\Users\\rbfl7\\miniconda3\\envs\\ds_study\\lib\\subprocess.py\", line 1386, in _readerthread\n",
      "    buffer.append(fh.read())\n",
      "  File \"c:\\Users\\rbfl7\\miniconda3\\envs\\ds_study\\lib\\codecs.py\", line 322, in decode\n",
      "    (result, consumed) = self._buffer_decode(data, self.errors, final)\n",
      "UnicodeDecodeError: 'utf-8' codec can't decode byte 0xb1 in position 24: invalid start byte\n",
      "c:\\Users\\rbfl7\\miniconda3\\envs\\ds_study\\lib\\site-packages\\joblib\\externals\\loky\\backend\\context.py:110: UserWarning:\n",
      "\n",
      "Could not find the number of physical cores for the following reason:\n",
      "'NoneType' object has no attribute 'splitlines'\n",
      "Returning the number of logical cores instead. You can silence this warning by setting LOKY_MAX_CPU_COUNT to the number of cores you want to use.\n",
      "\n",
      "  File \"c:\\Users\\rbfl7\\miniconda3\\envs\\ds_study\\lib\\site-packages\\joblib\\externals\\loky\\backend\\context.py\", line 202, in _count_physical_cores\n",
      "    cpu_info = cpu_info.stdout.splitlines()\n",
      "c:\\Users\\rbfl7\\miniconda3\\envs\\ds_study\\lib\\site-packages\\sklearn\\cluster\\_kmeans.py:1436: UserWarning:\n",
      "\n",
      "KMeans is known to have a memory leak on Windows with MKL, when there are less chunks than available threads. You can avoid it by setting the environment variable OMP_NUM_THREADS=2.\n",
      "\n"
     ]
    },
    {
     "name": "stderr",
     "output_type": "stream",
     "text": [
      "c:\\Users\\rbfl7\\miniconda3\\envs\\ds_study\\lib\\site-packages\\sklearn\\cluster\\_kmeans.py:1412: FutureWarning:\n",
      "\n",
      "The default value of `n_init` will change from 10 to 'auto' in 1.4. Set the value of `n_init` explicitly to suppress the warning\n",
      "\n",
      "c:\\Users\\rbfl7\\miniconda3\\envs\\ds_study\\lib\\site-packages\\sklearn\\cluster\\_kmeans.py:1436: UserWarning:\n",
      "\n",
      "KMeans is known to have a memory leak on Windows with MKL, when there are less chunks than available threads. You can avoid it by setting the environment variable OMP_NUM_THREADS=2.\n",
      "\n",
      "c:\\Users\\rbfl7\\miniconda3\\envs\\ds_study\\lib\\site-packages\\sklearn\\cluster\\_kmeans.py:1412: FutureWarning:\n",
      "\n",
      "The default value of `n_init` will change from 10 to 'auto' in 1.4. Set the value of `n_init` explicitly to suppress the warning\n",
      "\n",
      "c:\\Users\\rbfl7\\miniconda3\\envs\\ds_study\\lib\\site-packages\\sklearn\\cluster\\_kmeans.py:1436: UserWarning:\n",
      "\n",
      "KMeans is known to have a memory leak on Windows with MKL, when there are less chunks than available threads. You can avoid it by setting the environment variable OMP_NUM_THREADS=2.\n",
      "\n",
      "c:\\Users\\rbfl7\\miniconda3\\envs\\ds_study\\lib\\site-packages\\sklearn\\cluster\\_kmeans.py:1412: FutureWarning:\n",
      "\n",
      "The default value of `n_init` will change from 10 to 'auto' in 1.4. Set the value of `n_init` explicitly to suppress the warning\n",
      "\n",
      "c:\\Users\\rbfl7\\miniconda3\\envs\\ds_study\\lib\\site-packages\\sklearn\\cluster\\_kmeans.py:1436: UserWarning:\n",
      "\n",
      "KMeans is known to have a memory leak on Windows with MKL, when there are less chunks than available threads. You can avoid it by setting the environment variable OMP_NUM_THREADS=2.\n",
      "\n",
      "c:\\Users\\rbfl7\\miniconda3\\envs\\ds_study\\lib\\site-packages\\sklearn\\cluster\\_kmeans.py:1412: FutureWarning:\n",
      "\n",
      "The default value of `n_init` will change from 10 to 'auto' in 1.4. Set the value of `n_init` explicitly to suppress the warning\n",
      "\n",
      "c:\\Users\\rbfl7\\miniconda3\\envs\\ds_study\\lib\\site-packages\\sklearn\\cluster\\_kmeans.py:1436: UserWarning:\n",
      "\n",
      "KMeans is known to have a memory leak on Windows with MKL, when there are less chunks than available threads. You can avoid it by setting the environment variable OMP_NUM_THREADS=2.\n",
      "\n",
      "c:\\Users\\rbfl7\\miniconda3\\envs\\ds_study\\lib\\site-packages\\sklearn\\cluster\\_kmeans.py:1412: FutureWarning:\n",
      "\n",
      "The default value of `n_init` will change from 10 to 'auto' in 1.4. Set the value of `n_init` explicitly to suppress the warning\n",
      "\n",
      "c:\\Users\\rbfl7\\miniconda3\\envs\\ds_study\\lib\\site-packages\\sklearn\\cluster\\_kmeans.py:1436: UserWarning:\n",
      "\n",
      "KMeans is known to have a memory leak on Windows with MKL, when there are less chunks than available threads. You can avoid it by setting the environment variable OMP_NUM_THREADS=2.\n",
      "\n",
      "c:\\Users\\rbfl7\\miniconda3\\envs\\ds_study\\lib\\site-packages\\sklearn\\cluster\\_kmeans.py:1412: FutureWarning:\n",
      "\n",
      "The default value of `n_init` will change from 10 to 'auto' in 1.4. Set the value of `n_init` explicitly to suppress the warning\n",
      "\n",
      "c:\\Users\\rbfl7\\miniconda3\\envs\\ds_study\\lib\\site-packages\\sklearn\\cluster\\_kmeans.py:1436: UserWarning:\n",
      "\n",
      "KMeans is known to have a memory leak on Windows with MKL, when there are less chunks than available threads. You can avoid it by setting the environment variable OMP_NUM_THREADS=2.\n",
      "\n",
      "c:\\Users\\rbfl7\\miniconda3\\envs\\ds_study\\lib\\site-packages\\sklearn\\cluster\\_kmeans.py:1412: FutureWarning:\n",
      "\n",
      "The default value of `n_init` will change from 10 to 'auto' in 1.4. Set the value of `n_init` explicitly to suppress the warning\n",
      "\n",
      "c:\\Users\\rbfl7\\miniconda3\\envs\\ds_study\\lib\\site-packages\\sklearn\\cluster\\_kmeans.py:1436: UserWarning:\n",
      "\n",
      "KMeans is known to have a memory leak on Windows with MKL, when there are less chunks than available threads. You can avoid it by setting the environment variable OMP_NUM_THREADS=2.\n",
      "\n",
      "c:\\Users\\rbfl7\\miniconda3\\envs\\ds_study\\lib\\site-packages\\sklearn\\cluster\\_kmeans.py:1412: FutureWarning:\n",
      "\n",
      "The default value of `n_init` will change from 10 to 'auto' in 1.4. Set the value of `n_init` explicitly to suppress the warning\n",
      "\n",
      "c:\\Users\\rbfl7\\miniconda3\\envs\\ds_study\\lib\\site-packages\\sklearn\\cluster\\_kmeans.py:1436: UserWarning:\n",
      "\n",
      "KMeans is known to have a memory leak on Windows with MKL, when there are less chunks than available threads. You can avoid it by setting the environment variable OMP_NUM_THREADS=2.\n",
      "\n"
     ]
    },
    {
     "name": "stdout",
     "output_type": "stream",
     "text": [
      "Optimal number of clusters: 2\n"
     ]
    }
   ],
   "source": [
    "from sklearn.metrics import silhouette_score\n",
    "from sklearn.cluster import KMeans\n",
    "\n",
    "cluster_range = range(2, 11)\n",
    "\n",
    "optimal_clusters = 0\n",
    "max_silhouette_score = -1\n",
    "\n",
    "for n_clusters in cluster_range:\n",
    "    \n",
    "    kmeans = KMeans(n_clusters=n_clusters, random_state=42)\n",
    "    \n",
    "    kmeans.fit(X_train)\n",
    "    \n",
    "    clusters = kmeans.predict(X_train)\n",
    "    \n",
    "    silhouette_avg = silhouette_score(X_train, clusters)\n",
    "    \n",
    "    if silhouette_avg > max_silhouette_score:\n",
    "        max_silhouette_score = silhouette_avg\n",
    "        optimal_clusters = n_clusters\n",
    "\n",
    "# Print the optimal number of clusters\n",
    "print(\"Optimal number of clusters:\", optimal_clusters)"
   ]
  },
  {
   "cell_type": "code",
   "execution_count": 58,
   "metadata": {},
   "outputs": [
    {
     "name": "stderr",
     "output_type": "stream",
     "text": [
      "c:\\Users\\rbfl7\\miniconda3\\envs\\ds_study\\lib\\site-packages\\sklearn\\cluster\\_kmeans.py:1412: FutureWarning:\n",
      "\n",
      "The default value of `n_init` will change from 10 to 'auto' in 1.4. Set the value of `n_init` explicitly to suppress the warning\n",
      "\n",
      "c:\\Users\\rbfl7\\miniconda3\\envs\\ds_study\\lib\\site-packages\\sklearn\\cluster\\_kmeans.py:1436: UserWarning:\n",
      "\n",
      "KMeans is known to have a memory leak on Windows with MKL, when there are less chunks than available threads. You can avoid it by setting the environment variable OMP_NUM_THREADS=2.\n",
      "\n"
     ]
    },
    {
     "name": "stdout",
     "output_type": "stream",
     "text": [
      "train_cluster_labels : [0 1 0 0 1 1 0 1 1 0 1 1 1 1 0 0 1 0 0 0 0 0 1 1 1 1 0 1 1 1 0 0 1 0 1 1 0\n",
      " 0 1 0 1 1 1 1 1 0 0 1 1 0 1 1 0 1 0 0 0 1 0 1 1 1 1 0 0 0 1 0 1 1 0 1 0 0\n",
      " 1 1 1 1 1 0 0 0 0 1 0 0 0 0 0 1 0 1 0 0 0 0 0 0 0 1 1 1 1 0 0 1 0 1 0 1 0\n",
      " 1 1 0 0 1 1 1 0 0 0 1 0 1 0 0 1 1 0 1 1 1 1 1 0 1 0 0 1 1 1 0 1 0 1 1 0 0\n",
      " 1 1 1 1 1 0 0 1 0 0 1 0 1 1 0 0 1 0 1 0 1 0 1 0 0 0 0 0 0 0 0 1 1 1 0 0 1\n",
      " 1 1 0 0 1 1 1 1 0 1 1 0 1 1 1 0 0 1 0 0 0 1 1 1 0 1 1 1 1 0 1 0 0 0 0 0 0\n",
      " 1 0 0 0 1 1 1 1 1 1 1 1 1 1 1 1 1 1 1 1 0 0 1 0 1 1 0 0 0 0 0 1 0 1 0 0 1\n",
      " 1 0 1 0 1 0 1 1 0 1 1 1 1 0 0 0 0 1 0 0 0 0 1 1 1 0 1 0 1 0 1 1 1 1 0 0 0\n",
      " 1 0 1 0 1 1 0 1 0 0 0 0 1 1 0]\n",
      "test_cluster_labels :  [1 0 0 0 1 0 0 0 0 0 1 1 0 0 1 0 0 1 0 0 1 0 0 0 1 0 1 1 0 1 1 0 1 1 0 0 0\n",
      " 1 0 0 0 0 0 0 0 1 1 1 1 0 1 0 0 0 0 1 0 0 0 1 0 1 1 1 1 0 0 1 1 0 1 0 0 0\n",
      " 0 0 0 1]\n"
     ]
    }
   ],
   "source": [
    "from sklearn.cluster import KMeans\n",
    "\n",
    "\n",
    "kmeans = KMeans(n_clusters=2, random_state=42)\n",
    "kmeans.fit(X_train)\n",
    "\n",
    "# 학습된 모델을 이용하여 train 데이터에 대한 군집 레이블 예측\n",
    "train_cluster_labels = kmeans.predict(X_train)\n",
    "\n",
    "# 학습된 모델을 이용하여 test 데이터에 대한 군집 레이블 예측\n",
    "test_cluster_labels = kmeans.predict(X_test)\n",
    "\n",
    "print('train_cluster_labels :', train_cluster_labels)\n",
    "print('test_cluster_labels : ', test_cluster_labels)"
   ]
  },
  {
   "cell_type": "code",
   "execution_count": 59,
   "metadata": {},
   "outputs": [],
   "source": [
    "X_tr_1 = X_train[train_cluster_labels == 1]\n",
    "X_test_1 = X_test[test_cluster_labels == 1]\n",
    "y_tr_1 = y_train[train_cluster_labels == 1]\n",
    "y_test_1 = y_test[test_cluster_labels == 1]\n",
    "\n",
    "X_tr_0 = X_train[train_cluster_labels == 0]\n",
    "X_test_0 = X_test[test_cluster_labels == 0]\n",
    "y_tr_0 = y_train[train_cluster_labels == 0]\n",
    "y_test_0 = y_test[test_cluster_labels == 0]"
   ]
  },
  {
   "cell_type": "code",
   "execution_count": 63,
   "metadata": {},
   "outputs": [
    {
     "data": {
      "application/vnd.plotly.v1+json": {
       "config": {
        "plotlyServerURL": "https://plot.ly"
       },
       "data": [
        {
         "marker": {
          "color": "blue"
         },
         "mode": "markers",
         "name": "Train Cluster 0",
         "type": "scatter",
         "x": [
          42.1,
          7.1,
          16.6,
          20.2,
          6.6,
          10.8,
          12.7,
          31.4,
          20.7,
          7.7,
          56.3,
          27.7,
          16.5,
          67.2,
          34.4,
          8.8,
          19.6,
          28.6,
          36.8,
          16.8,
          9.5,
          26.9,
          82.2,
          11.5,
          5.3,
          6.6,
          67.2,
          46.7,
          57.8,
          19.4,
          42.5,
          95.7,
          11.9,
          82.3,
          27.9,
          18.6,
          21.3,
          33.2,
          27.7,
          26.5,
          27.6,
          11,
          13.1,
          17.7,
          9.1,
          45.6,
          30.3,
          4.3,
          24.4,
          31.8,
          35.3,
          21.5,
          19.3,
          49.7,
          9,
          3.7,
          11.5,
          10.4,
          51.9,
          30.3,
          45,
          8.7,
          24.1,
          4.7,
          19.8,
          13.9,
          17.2,
          10.9,
          14.8,
          32.8,
          44.3,
          35.1,
          5.3,
          27.3,
          48.8,
          82.2,
          27.9,
          5.9,
          13.5,
          94.2,
          19.2,
          35.7,
          14,
          8.1,
          23,
          55.8,
          9,
          43.6,
          21.2,
          17.2,
          22.6,
          103.6,
          22.7,
          40.6,
          14.8,
          55.8,
          5.9,
          19.4,
          11.8,
          37.2,
          51.6,
          6.9,
          4.3,
          13.4,
          76.9,
          14,
          7.4,
          65.3,
          32.6,
          58.6,
          23,
          66.5,
          13.1,
          20.2,
          9.1,
          13.6,
          27.6,
          46.1,
          66.5,
          18.9,
          13.1,
          74.2,
          19.3,
          48.2,
          19,
          12.7,
          5.1,
          49.7,
          18.1,
          10.2,
          32.7,
          12.5,
          21.8,
          143.4,
          111.3,
          154.8,
          12.7,
          9.2,
          6.1,
          36,
          4.1,
          26.8,
          10.6,
          27.8,
          75.9,
          54.4,
          7.3,
          11.4,
          33.4
         ]
        },
        {
         "marker": {
          "color": "red"
         },
         "mode": "markers",
         "name": "Train Cluster 1",
         "type": "scatter",
         "x": [
          10.4,
          48.9,
          13,
          7.1,
          43.1,
          11,
          22.4,
          30.4,
          4.6,
          6.5,
          14.5,
          48.9,
          10.4,
          14.3,
          42.7,
          20.4,
          37.5,
          24.7,
          5.3,
          10.6,
          15.7,
          23.2,
          18.1,
          12,
          8.3,
          52.3,
          24.8,
          21.3,
          36.5,
          3.5,
          37,
          25.5,
          9.6,
          65.6,
          31.6,
          24.6,
          8.4,
          27.9,
          20.5,
          121.1,
          16.8,
          7.1,
          16.2,
          18.4,
          10.1,
          17.7,
          5.2,
          5.3,
          14.7,
          36.5,
          49.5,
          11.1,
          13.2,
          32.2,
          28.4,
          9.3,
          122.7,
          14.4,
          25.8,
          10.9,
          22.2,
          26.7,
          31.7,
          14.3,
          50.6,
          10.3,
          14.7,
          15.3,
          37.9,
          3.6,
          9.3,
          22.4,
          17.7,
          6.6,
          19.9,
          9.3,
          6.5,
          26.2,
          27.6,
          24.2,
          5.7,
          47.8,
          32.8,
          31.3,
          14.7,
          3.6,
          106,
          14.3,
          37.8,
          13.1,
          23.3,
          10.1,
          21.9,
          9.5,
          64.7,
          15,
          28,
          5.1,
          6.6,
          30.4,
          17,
          4.1,
          49.5,
          10.4,
          42.7,
          22.6,
          11.9,
          9,
          8.4,
          5.9,
          8.7,
          13.5,
          55.6,
          9.9,
          18.9,
          49.5,
          5.1,
          14,
          7.6,
          16.8,
          8.1,
          8.1,
          63.6,
          67.8,
          9.2,
          10.6,
          70.1,
          12.1,
          4.6,
          18.4,
          9.9,
          13.3,
          6.1,
          9.1,
          10.4,
          6.6,
          17.8,
          7.1,
          19.1,
          12,
          97.9,
          15,
          24,
          10.7,
          63.6,
          70.7,
          13,
          6.1,
          20.9,
          22.6,
          13.4,
          10.4,
          22.4,
          26.9,
          17.9,
          60.5,
          104.8,
          7.4,
          14.7,
          11.8,
          6.5,
          28.5
         ]
        },
        {
         "marker": {
          "color": "green"
         },
         "mode": "markers",
         "name": "Test Cluster 0",
         "type": "scatter",
         "x": [
          17.9,
          8.1,
          30.4,
          13.1,
          14.2,
          45.6,
          6.7,
          15.2,
          28.8,
          55.6,
          29.1,
          85.4,
          12.3,
          51.1,
          14.9,
          93.6,
          13.4,
          8.6,
          43.9,
          51.1,
          15.3,
          7.1,
          57.8,
          88.5,
          15,
          5.1,
          22.6,
          52.6,
          9.6,
          23.7,
          11.7,
          46.2,
          25.8,
          24.7,
          10.8,
          8.8,
          21.8,
          46,
          18.1,
          18.5,
          74.6,
          6.5,
          4.6,
          56.3,
          19.7,
          114,
          36.5,
          14.1
         ]
        },
        {
         "marker": {
          "color": "orange"
         },
         "mode": "markers",
         "name": "Test Cluster 1",
         "type": "scatter",
         "x": [
          21.8,
          60.5,
          16.8,
          24,
          9.9,
          36.5,
          30.5,
          55.6,
          12.6,
          16.1,
          11.2,
          6.1,
          20.6,
          20.6,
          29.1,
          42.1,
          21.6,
          10.9,
          6.6,
          12.8,
          16.8,
          10.1,
          36.5,
          11.9,
          15.3,
          7.1,
          14,
          74.6,
          57.7,
          19.4
         ]
        }
       ],
       "layout": {
        "template": {
         "data": {
          "bar": [
           {
            "error_x": {
             "color": "#2a3f5f"
            },
            "error_y": {
             "color": "#2a3f5f"
            },
            "marker": {
             "line": {
              "color": "#E5ECF6",
              "width": 0.5
             },
             "pattern": {
              "fillmode": "overlay",
              "size": 10,
              "solidity": 0.2
             }
            },
            "type": "bar"
           }
          ],
          "barpolar": [
           {
            "marker": {
             "line": {
              "color": "#E5ECF6",
              "width": 0.5
             },
             "pattern": {
              "fillmode": "overlay",
              "size": 10,
              "solidity": 0.2
             }
            },
            "type": "barpolar"
           }
          ],
          "carpet": [
           {
            "aaxis": {
             "endlinecolor": "#2a3f5f",
             "gridcolor": "white",
             "linecolor": "white",
             "minorgridcolor": "white",
             "startlinecolor": "#2a3f5f"
            },
            "baxis": {
             "endlinecolor": "#2a3f5f",
             "gridcolor": "white",
             "linecolor": "white",
             "minorgridcolor": "white",
             "startlinecolor": "#2a3f5f"
            },
            "type": "carpet"
           }
          ],
          "choropleth": [
           {
            "colorbar": {
             "outlinewidth": 0,
             "ticks": ""
            },
            "type": "choropleth"
           }
          ],
          "contour": [
           {
            "colorbar": {
             "outlinewidth": 0,
             "ticks": ""
            },
            "colorscale": [
             [
              0,
              "#0d0887"
             ],
             [
              0.1111111111111111,
              "#46039f"
             ],
             [
              0.2222222222222222,
              "#7201a8"
             ],
             [
              0.3333333333333333,
              "#9c179e"
             ],
             [
              0.4444444444444444,
              "#bd3786"
             ],
             [
              0.5555555555555556,
              "#d8576b"
             ],
             [
              0.6666666666666666,
              "#ed7953"
             ],
             [
              0.7777777777777778,
              "#fb9f3a"
             ],
             [
              0.8888888888888888,
              "#fdca26"
             ],
             [
              1,
              "#f0f921"
             ]
            ],
            "type": "contour"
           }
          ],
          "contourcarpet": [
           {
            "colorbar": {
             "outlinewidth": 0,
             "ticks": ""
            },
            "type": "contourcarpet"
           }
          ],
          "heatmap": [
           {
            "colorbar": {
             "outlinewidth": 0,
             "ticks": ""
            },
            "colorscale": [
             [
              0,
              "#0d0887"
             ],
             [
              0.1111111111111111,
              "#46039f"
             ],
             [
              0.2222222222222222,
              "#7201a8"
             ],
             [
              0.3333333333333333,
              "#9c179e"
             ],
             [
              0.4444444444444444,
              "#bd3786"
             ],
             [
              0.5555555555555556,
              "#d8576b"
             ],
             [
              0.6666666666666666,
              "#ed7953"
             ],
             [
              0.7777777777777778,
              "#fb9f3a"
             ],
             [
              0.8888888888888888,
              "#fdca26"
             ],
             [
              1,
              "#f0f921"
             ]
            ],
            "type": "heatmap"
           }
          ],
          "heatmapgl": [
           {
            "colorbar": {
             "outlinewidth": 0,
             "ticks": ""
            },
            "colorscale": [
             [
              0,
              "#0d0887"
             ],
             [
              0.1111111111111111,
              "#46039f"
             ],
             [
              0.2222222222222222,
              "#7201a8"
             ],
             [
              0.3333333333333333,
              "#9c179e"
             ],
             [
              0.4444444444444444,
              "#bd3786"
             ],
             [
              0.5555555555555556,
              "#d8576b"
             ],
             [
              0.6666666666666666,
              "#ed7953"
             ],
             [
              0.7777777777777778,
              "#fb9f3a"
             ],
             [
              0.8888888888888888,
              "#fdca26"
             ],
             [
              1,
              "#f0f921"
             ]
            ],
            "type": "heatmapgl"
           }
          ],
          "histogram": [
           {
            "marker": {
             "pattern": {
              "fillmode": "overlay",
              "size": 10,
              "solidity": 0.2
             }
            },
            "type": "histogram"
           }
          ],
          "histogram2d": [
           {
            "colorbar": {
             "outlinewidth": 0,
             "ticks": ""
            },
            "colorscale": [
             [
              0,
              "#0d0887"
             ],
             [
              0.1111111111111111,
              "#46039f"
             ],
             [
              0.2222222222222222,
              "#7201a8"
             ],
             [
              0.3333333333333333,
              "#9c179e"
             ],
             [
              0.4444444444444444,
              "#bd3786"
             ],
             [
              0.5555555555555556,
              "#d8576b"
             ],
             [
              0.6666666666666666,
              "#ed7953"
             ],
             [
              0.7777777777777778,
              "#fb9f3a"
             ],
             [
              0.8888888888888888,
              "#fdca26"
             ],
             [
              1,
              "#f0f921"
             ]
            ],
            "type": "histogram2d"
           }
          ],
          "histogram2dcontour": [
           {
            "colorbar": {
             "outlinewidth": 0,
             "ticks": ""
            },
            "colorscale": [
             [
              0,
              "#0d0887"
             ],
             [
              0.1111111111111111,
              "#46039f"
             ],
             [
              0.2222222222222222,
              "#7201a8"
             ],
             [
              0.3333333333333333,
              "#9c179e"
             ],
             [
              0.4444444444444444,
              "#bd3786"
             ],
             [
              0.5555555555555556,
              "#d8576b"
             ],
             [
              0.6666666666666666,
              "#ed7953"
             ],
             [
              0.7777777777777778,
              "#fb9f3a"
             ],
             [
              0.8888888888888888,
              "#fdca26"
             ],
             [
              1,
              "#f0f921"
             ]
            ],
            "type": "histogram2dcontour"
           }
          ],
          "mesh3d": [
           {
            "colorbar": {
             "outlinewidth": 0,
             "ticks": ""
            },
            "type": "mesh3d"
           }
          ],
          "parcoords": [
           {
            "line": {
             "colorbar": {
              "outlinewidth": 0,
              "ticks": ""
             }
            },
            "type": "parcoords"
           }
          ],
          "pie": [
           {
            "automargin": true,
            "type": "pie"
           }
          ],
          "scatter": [
           {
            "fillpattern": {
             "fillmode": "overlay",
             "size": 10,
             "solidity": 0.2
            },
            "type": "scatter"
           }
          ],
          "scatter3d": [
           {
            "line": {
             "colorbar": {
              "outlinewidth": 0,
              "ticks": ""
             }
            },
            "marker": {
             "colorbar": {
              "outlinewidth": 0,
              "ticks": ""
             }
            },
            "type": "scatter3d"
           }
          ],
          "scattercarpet": [
           {
            "marker": {
             "colorbar": {
              "outlinewidth": 0,
              "ticks": ""
             }
            },
            "type": "scattercarpet"
           }
          ],
          "scattergeo": [
           {
            "marker": {
             "colorbar": {
              "outlinewidth": 0,
              "ticks": ""
             }
            },
            "type": "scattergeo"
           }
          ],
          "scattergl": [
           {
            "marker": {
             "colorbar": {
              "outlinewidth": 0,
              "ticks": ""
             }
            },
            "type": "scattergl"
           }
          ],
          "scattermapbox": [
           {
            "marker": {
             "colorbar": {
              "outlinewidth": 0,
              "ticks": ""
             }
            },
            "type": "scattermapbox"
           }
          ],
          "scatterpolar": [
           {
            "marker": {
             "colorbar": {
              "outlinewidth": 0,
              "ticks": ""
             }
            },
            "type": "scatterpolar"
           }
          ],
          "scatterpolargl": [
           {
            "marker": {
             "colorbar": {
              "outlinewidth": 0,
              "ticks": ""
             }
            },
            "type": "scatterpolargl"
           }
          ],
          "scatterternary": [
           {
            "marker": {
             "colorbar": {
              "outlinewidth": 0,
              "ticks": ""
             }
            },
            "type": "scatterternary"
           }
          ],
          "surface": [
           {
            "colorbar": {
             "outlinewidth": 0,
             "ticks": ""
            },
            "colorscale": [
             [
              0,
              "#0d0887"
             ],
             [
              0.1111111111111111,
              "#46039f"
             ],
             [
              0.2222222222222222,
              "#7201a8"
             ],
             [
              0.3333333333333333,
              "#9c179e"
             ],
             [
              0.4444444444444444,
              "#bd3786"
             ],
             [
              0.5555555555555556,
              "#d8576b"
             ],
             [
              0.6666666666666666,
              "#ed7953"
             ],
             [
              0.7777777777777778,
              "#fb9f3a"
             ],
             [
              0.8888888888888888,
              "#fdca26"
             ],
             [
              1,
              "#f0f921"
             ]
            ],
            "type": "surface"
           }
          ],
          "table": [
           {
            "cells": {
             "fill": {
              "color": "#EBF0F8"
             },
             "line": {
              "color": "white"
             }
            },
            "header": {
             "fill": {
              "color": "#C8D4E3"
             },
             "line": {
              "color": "white"
             }
            },
            "type": "table"
           }
          ]
         },
         "layout": {
          "annotationdefaults": {
           "arrowcolor": "#2a3f5f",
           "arrowhead": 0,
           "arrowwidth": 1
          },
          "autotypenumbers": "strict",
          "coloraxis": {
           "colorbar": {
            "outlinewidth": 0,
            "ticks": ""
           }
          },
          "colorscale": {
           "diverging": [
            [
             0,
             "#8e0152"
            ],
            [
             0.1,
             "#c51b7d"
            ],
            [
             0.2,
             "#de77ae"
            ],
            [
             0.3,
             "#f1b6da"
            ],
            [
             0.4,
             "#fde0ef"
            ],
            [
             0.5,
             "#f7f7f7"
            ],
            [
             0.6,
             "#e6f5d0"
            ],
            [
             0.7,
             "#b8e186"
            ],
            [
             0.8,
             "#7fbc41"
            ],
            [
             0.9,
             "#4d9221"
            ],
            [
             1,
             "#276419"
            ]
           ],
           "sequential": [
            [
             0,
             "#0d0887"
            ],
            [
             0.1111111111111111,
             "#46039f"
            ],
            [
             0.2222222222222222,
             "#7201a8"
            ],
            [
             0.3333333333333333,
             "#9c179e"
            ],
            [
             0.4444444444444444,
             "#bd3786"
            ],
            [
             0.5555555555555556,
             "#d8576b"
            ],
            [
             0.6666666666666666,
             "#ed7953"
            ],
            [
             0.7777777777777778,
             "#fb9f3a"
            ],
            [
             0.8888888888888888,
             "#fdca26"
            ],
            [
             1,
             "#f0f921"
            ]
           ],
           "sequentialminus": [
            [
             0,
             "#0d0887"
            ],
            [
             0.1111111111111111,
             "#46039f"
            ],
            [
             0.2222222222222222,
             "#7201a8"
            ],
            [
             0.3333333333333333,
             "#9c179e"
            ],
            [
             0.4444444444444444,
             "#bd3786"
            ],
            [
             0.5555555555555556,
             "#d8576b"
            ],
            [
             0.6666666666666666,
             "#ed7953"
            ],
            [
             0.7777777777777778,
             "#fb9f3a"
            ],
            [
             0.8888888888888888,
             "#fdca26"
            ],
            [
             1,
             "#f0f921"
            ]
           ]
          },
          "colorway": [
           "#636efa",
           "#EF553B",
           "#00cc96",
           "#ab63fa",
           "#FFA15A",
           "#19d3f3",
           "#FF6692",
           "#B6E880",
           "#FF97FF",
           "#FECB52"
          ],
          "font": {
           "color": "#2a3f5f"
          },
          "geo": {
           "bgcolor": "white",
           "lakecolor": "white",
           "landcolor": "#E5ECF6",
           "showlakes": true,
           "showland": true,
           "subunitcolor": "white"
          },
          "hoverlabel": {
           "align": "left"
          },
          "hovermode": "closest",
          "mapbox": {
           "style": "light"
          },
          "paper_bgcolor": "white",
          "plot_bgcolor": "#E5ECF6",
          "polar": {
           "angularaxis": {
            "gridcolor": "white",
            "linecolor": "white",
            "ticks": ""
           },
           "bgcolor": "#E5ECF6",
           "radialaxis": {
            "gridcolor": "white",
            "linecolor": "white",
            "ticks": ""
           }
          },
          "scene": {
           "xaxis": {
            "backgroundcolor": "#E5ECF6",
            "gridcolor": "white",
            "gridwidth": 2,
            "linecolor": "white",
            "showbackground": true,
            "ticks": "",
            "zerolinecolor": "white"
           },
           "yaxis": {
            "backgroundcolor": "#E5ECF6",
            "gridcolor": "white",
            "gridwidth": 2,
            "linecolor": "white",
            "showbackground": true,
            "ticks": "",
            "zerolinecolor": "white"
           },
           "zaxis": {
            "backgroundcolor": "#E5ECF6",
            "gridcolor": "white",
            "gridwidth": 2,
            "linecolor": "white",
            "showbackground": true,
            "ticks": "",
            "zerolinecolor": "white"
           }
          },
          "shapedefaults": {
           "line": {
            "color": "#2a3f5f"
           }
          },
          "ternary": {
           "aaxis": {
            "gridcolor": "white",
            "linecolor": "white",
            "ticks": ""
           },
           "baxis": {
            "gridcolor": "white",
            "linecolor": "white",
            "ticks": ""
           },
           "bgcolor": "#E5ECF6",
           "caxis": {
            "gridcolor": "white",
            "linecolor": "white",
            "ticks": ""
           }
          },
          "title": {
           "x": 0.05
          },
          "xaxis": {
           "automargin": true,
           "gridcolor": "white",
           "linecolor": "white",
           "ticks": "",
           "title": {
            "standoff": 15
           },
           "zerolinecolor": "white",
           "zerolinewidth": 2
          },
          "yaxis": {
           "automargin": true,
           "gridcolor": "white",
           "linecolor": "white",
           "ticks": "",
           "title": {
            "standoff": 15
           },
           "zerolinecolor": "white",
           "zerolinewidth": 2
          }
         }
        }
       }
      }
     },
     "metadata": {},
     "output_type": "display_data"
    }
   ],
   "source": [
    "import plotly.graph_objects as go\n",
    "\n",
    "# Plotly를 사용하여 시각화\n",
    "fig = go.Figure()\n",
    "\n",
    "# 훈련 군집 0에 대한 산점도\n",
    "fig.add_trace(go.Scatter(x=y_tr_0.iloc[:], mode='markers', marker=dict(color='blue'), name='Train Cluster 0'))\n",
    "\n",
    "# 훈련 군집 1에 대한 산점도\n",
    "fig.add_trace(go.Scatter(x=y_tr_1.iloc[:], mode='markers', marker=dict(color='red'), name='Train Cluster 1'))\n",
    "\n",
    "# 테스트 군집 0에 대한 산점도\n",
    "fig.add_trace(go.Scatter(x=y_test_0.iloc[:], mode='markers', marker=dict(color='green'), name='Test Cluster 0'))\n",
    "\n",
    "# 테스트 군집 1에 대한 산점도\n",
    "fig.add_trace(go.Scatter(x=y_test_1.iloc[:], mode='markers', marker=dict(color='orange'), name='Test Cluster 1'))\n",
    "\n",
    "fig.show()"
   ]
  },
  {
   "cell_type": "code",
   "execution_count": 64,
   "metadata": {},
   "outputs": [
    {
     "data": {
      "application/vnd.plotly.v1+json": {
       "config": {
        "plotlyServerURL": "https://plot.ly"
       },
       "data": [
        {
         "marker": {
          "color": "blue"
         },
         "mode": "markers",
         "name": "Train Cluster 0",
         "type": "scatter",
         "x": [
          42.1,
          7.1,
          16.6,
          20.2,
          6.6,
          10.8,
          12.7,
          31.4,
          20.7,
          7.7,
          56.3,
          27.7,
          16.5,
          67.2,
          34.4,
          8.8,
          19.6,
          28.6,
          36.8,
          16.8,
          9.5,
          26.9,
          82.2,
          11.5,
          5.3,
          6.6,
          67.2,
          46.7,
          57.8,
          19.4,
          42.5,
          95.7,
          11.9,
          82.3,
          27.9,
          18.6,
          21.3,
          33.2,
          27.7,
          26.5,
          27.6,
          11,
          13.1,
          17.7,
          9.1,
          45.6,
          30.3,
          4.3,
          24.4,
          31.8,
          35.3,
          21.5,
          19.3,
          49.7,
          9,
          3.7,
          11.5,
          10.4,
          51.9,
          30.3,
          45,
          8.7,
          24.1,
          4.7,
          19.8,
          13.9,
          17.2,
          10.9,
          14.8,
          32.8,
          44.3,
          35.1,
          5.3,
          27.3,
          48.8,
          82.2,
          27.9,
          5.9,
          13.5,
          94.2,
          19.2,
          35.7,
          14,
          8.1,
          23,
          55.8,
          9,
          43.6,
          21.2,
          17.2,
          22.6,
          103.6,
          22.7,
          40.6,
          14.8,
          55.8,
          5.9,
          19.4,
          11.8,
          37.2,
          51.6,
          6.9,
          4.3,
          13.4,
          76.9,
          14,
          7.4,
          65.3,
          32.6,
          58.6,
          23,
          66.5,
          13.1,
          20.2,
          9.1,
          13.6,
          27.6,
          46.1,
          66.5,
          18.9,
          13.1,
          74.2,
          19.3,
          48.2,
          19,
          12.7,
          5.1,
          49.7,
          18.1,
          10.2,
          32.7,
          12.5,
          21.8,
          143.4,
          111.3,
          154.8,
          12.7,
          9.2,
          6.1,
          36,
          4.1,
          26.8,
          10.6,
          27.8,
          75.9,
          54.4,
          7.3,
          11.4,
          33.4
         ]
        },
        {
         "marker": {
          "color": "red"
         },
         "mode": "markers",
         "name": "Train Cluster 1",
         "type": "scatter",
         "x": [
          10.4,
          48.9,
          13,
          7.1,
          43.1,
          11,
          22.4,
          30.4,
          4.6,
          6.5,
          14.5,
          48.9,
          10.4,
          14.3,
          42.7,
          20.4,
          37.5,
          24.7,
          5.3,
          10.6,
          15.7,
          23.2,
          18.1,
          12,
          8.3,
          52.3,
          24.8,
          21.3,
          36.5,
          3.5,
          37,
          25.5,
          9.6,
          65.6,
          31.6,
          24.6,
          8.4,
          27.9,
          20.5,
          121.1,
          16.8,
          7.1,
          16.2,
          18.4,
          10.1,
          17.7,
          5.2,
          5.3,
          14.7,
          36.5,
          49.5,
          11.1,
          13.2,
          32.2,
          28.4,
          9.3,
          122.7,
          14.4,
          25.8,
          10.9,
          22.2,
          26.7,
          31.7,
          14.3,
          50.6,
          10.3,
          14.7,
          15.3,
          37.9,
          3.6,
          9.3,
          22.4,
          17.7,
          6.6,
          19.9,
          9.3,
          6.5,
          26.2,
          27.6,
          24.2,
          5.7,
          47.8,
          32.8,
          31.3,
          14.7,
          3.6,
          106,
          14.3,
          37.8,
          13.1,
          23.3,
          10.1,
          21.9,
          9.5,
          64.7,
          15,
          28,
          5.1,
          6.6,
          30.4,
          17,
          4.1,
          49.5,
          10.4,
          42.7,
          22.6,
          11.9,
          9,
          8.4,
          5.9,
          8.7,
          13.5,
          55.6,
          9.9,
          18.9,
          49.5,
          5.1,
          14,
          7.6,
          16.8,
          8.1,
          8.1,
          63.6,
          67.8,
          9.2,
          10.6,
          70.1,
          12.1,
          4.6,
          18.4,
          9.9,
          13.3,
          6.1,
          9.1,
          10.4,
          6.6,
          17.8,
          7.1,
          19.1,
          12,
          97.9,
          15,
          24,
          10.7,
          63.6,
          70.7,
          13,
          6.1,
          20.9,
          22.6,
          13.4,
          10.4,
          22.4,
          26.9,
          17.9,
          60.5,
          104.8,
          7.4,
          14.7,
          11.8,
          6.5,
          28.5
         ]
        }
       ],
       "layout": {
        "template": {
         "data": {
          "bar": [
           {
            "error_x": {
             "color": "#2a3f5f"
            },
            "error_y": {
             "color": "#2a3f5f"
            },
            "marker": {
             "line": {
              "color": "#E5ECF6",
              "width": 0.5
             },
             "pattern": {
              "fillmode": "overlay",
              "size": 10,
              "solidity": 0.2
             }
            },
            "type": "bar"
           }
          ],
          "barpolar": [
           {
            "marker": {
             "line": {
              "color": "#E5ECF6",
              "width": 0.5
             },
             "pattern": {
              "fillmode": "overlay",
              "size": 10,
              "solidity": 0.2
             }
            },
            "type": "barpolar"
           }
          ],
          "carpet": [
           {
            "aaxis": {
             "endlinecolor": "#2a3f5f",
             "gridcolor": "white",
             "linecolor": "white",
             "minorgridcolor": "white",
             "startlinecolor": "#2a3f5f"
            },
            "baxis": {
             "endlinecolor": "#2a3f5f",
             "gridcolor": "white",
             "linecolor": "white",
             "minorgridcolor": "white",
             "startlinecolor": "#2a3f5f"
            },
            "type": "carpet"
           }
          ],
          "choropleth": [
           {
            "colorbar": {
             "outlinewidth": 0,
             "ticks": ""
            },
            "type": "choropleth"
           }
          ],
          "contour": [
           {
            "colorbar": {
             "outlinewidth": 0,
             "ticks": ""
            },
            "colorscale": [
             [
              0,
              "#0d0887"
             ],
             [
              0.1111111111111111,
              "#46039f"
             ],
             [
              0.2222222222222222,
              "#7201a8"
             ],
             [
              0.3333333333333333,
              "#9c179e"
             ],
             [
              0.4444444444444444,
              "#bd3786"
             ],
             [
              0.5555555555555556,
              "#d8576b"
             ],
             [
              0.6666666666666666,
              "#ed7953"
             ],
             [
              0.7777777777777778,
              "#fb9f3a"
             ],
             [
              0.8888888888888888,
              "#fdca26"
             ],
             [
              1,
              "#f0f921"
             ]
            ],
            "type": "contour"
           }
          ],
          "contourcarpet": [
           {
            "colorbar": {
             "outlinewidth": 0,
             "ticks": ""
            },
            "type": "contourcarpet"
           }
          ],
          "heatmap": [
           {
            "colorbar": {
             "outlinewidth": 0,
             "ticks": ""
            },
            "colorscale": [
             [
              0,
              "#0d0887"
             ],
             [
              0.1111111111111111,
              "#46039f"
             ],
             [
              0.2222222222222222,
              "#7201a8"
             ],
             [
              0.3333333333333333,
              "#9c179e"
             ],
             [
              0.4444444444444444,
              "#bd3786"
             ],
             [
              0.5555555555555556,
              "#d8576b"
             ],
             [
              0.6666666666666666,
              "#ed7953"
             ],
             [
              0.7777777777777778,
              "#fb9f3a"
             ],
             [
              0.8888888888888888,
              "#fdca26"
             ],
             [
              1,
              "#f0f921"
             ]
            ],
            "type": "heatmap"
           }
          ],
          "heatmapgl": [
           {
            "colorbar": {
             "outlinewidth": 0,
             "ticks": ""
            },
            "colorscale": [
             [
              0,
              "#0d0887"
             ],
             [
              0.1111111111111111,
              "#46039f"
             ],
             [
              0.2222222222222222,
              "#7201a8"
             ],
             [
              0.3333333333333333,
              "#9c179e"
             ],
             [
              0.4444444444444444,
              "#bd3786"
             ],
             [
              0.5555555555555556,
              "#d8576b"
             ],
             [
              0.6666666666666666,
              "#ed7953"
             ],
             [
              0.7777777777777778,
              "#fb9f3a"
             ],
             [
              0.8888888888888888,
              "#fdca26"
             ],
             [
              1,
              "#f0f921"
             ]
            ],
            "type": "heatmapgl"
           }
          ],
          "histogram": [
           {
            "marker": {
             "pattern": {
              "fillmode": "overlay",
              "size": 10,
              "solidity": 0.2
             }
            },
            "type": "histogram"
           }
          ],
          "histogram2d": [
           {
            "colorbar": {
             "outlinewidth": 0,
             "ticks": ""
            },
            "colorscale": [
             [
              0,
              "#0d0887"
             ],
             [
              0.1111111111111111,
              "#46039f"
             ],
             [
              0.2222222222222222,
              "#7201a8"
             ],
             [
              0.3333333333333333,
              "#9c179e"
             ],
             [
              0.4444444444444444,
              "#bd3786"
             ],
             [
              0.5555555555555556,
              "#d8576b"
             ],
             [
              0.6666666666666666,
              "#ed7953"
             ],
             [
              0.7777777777777778,
              "#fb9f3a"
             ],
             [
              0.8888888888888888,
              "#fdca26"
             ],
             [
              1,
              "#f0f921"
             ]
            ],
            "type": "histogram2d"
           }
          ],
          "histogram2dcontour": [
           {
            "colorbar": {
             "outlinewidth": 0,
             "ticks": ""
            },
            "colorscale": [
             [
              0,
              "#0d0887"
             ],
             [
              0.1111111111111111,
              "#46039f"
             ],
             [
              0.2222222222222222,
              "#7201a8"
             ],
             [
              0.3333333333333333,
              "#9c179e"
             ],
             [
              0.4444444444444444,
              "#bd3786"
             ],
             [
              0.5555555555555556,
              "#d8576b"
             ],
             [
              0.6666666666666666,
              "#ed7953"
             ],
             [
              0.7777777777777778,
              "#fb9f3a"
             ],
             [
              0.8888888888888888,
              "#fdca26"
             ],
             [
              1,
              "#f0f921"
             ]
            ],
            "type": "histogram2dcontour"
           }
          ],
          "mesh3d": [
           {
            "colorbar": {
             "outlinewidth": 0,
             "ticks": ""
            },
            "type": "mesh3d"
           }
          ],
          "parcoords": [
           {
            "line": {
             "colorbar": {
              "outlinewidth": 0,
              "ticks": ""
             }
            },
            "type": "parcoords"
           }
          ],
          "pie": [
           {
            "automargin": true,
            "type": "pie"
           }
          ],
          "scatter": [
           {
            "fillpattern": {
             "fillmode": "overlay",
             "size": 10,
             "solidity": 0.2
            },
            "type": "scatter"
           }
          ],
          "scatter3d": [
           {
            "line": {
             "colorbar": {
              "outlinewidth": 0,
              "ticks": ""
             }
            },
            "marker": {
             "colorbar": {
              "outlinewidth": 0,
              "ticks": ""
             }
            },
            "type": "scatter3d"
           }
          ],
          "scattercarpet": [
           {
            "marker": {
             "colorbar": {
              "outlinewidth": 0,
              "ticks": ""
             }
            },
            "type": "scattercarpet"
           }
          ],
          "scattergeo": [
           {
            "marker": {
             "colorbar": {
              "outlinewidth": 0,
              "ticks": ""
             }
            },
            "type": "scattergeo"
           }
          ],
          "scattergl": [
           {
            "marker": {
             "colorbar": {
              "outlinewidth": 0,
              "ticks": ""
             }
            },
            "type": "scattergl"
           }
          ],
          "scattermapbox": [
           {
            "marker": {
             "colorbar": {
              "outlinewidth": 0,
              "ticks": ""
             }
            },
            "type": "scattermapbox"
           }
          ],
          "scatterpolar": [
           {
            "marker": {
             "colorbar": {
              "outlinewidth": 0,
              "ticks": ""
             }
            },
            "type": "scatterpolar"
           }
          ],
          "scatterpolargl": [
           {
            "marker": {
             "colorbar": {
              "outlinewidth": 0,
              "ticks": ""
             }
            },
            "type": "scatterpolargl"
           }
          ],
          "scatterternary": [
           {
            "marker": {
             "colorbar": {
              "outlinewidth": 0,
              "ticks": ""
             }
            },
            "type": "scatterternary"
           }
          ],
          "surface": [
           {
            "colorbar": {
             "outlinewidth": 0,
             "ticks": ""
            },
            "colorscale": [
             [
              0,
              "#0d0887"
             ],
             [
              0.1111111111111111,
              "#46039f"
             ],
             [
              0.2222222222222222,
              "#7201a8"
             ],
             [
              0.3333333333333333,
              "#9c179e"
             ],
             [
              0.4444444444444444,
              "#bd3786"
             ],
             [
              0.5555555555555556,
              "#d8576b"
             ],
             [
              0.6666666666666666,
              "#ed7953"
             ],
             [
              0.7777777777777778,
              "#fb9f3a"
             ],
             [
              0.8888888888888888,
              "#fdca26"
             ],
             [
              1,
              "#f0f921"
             ]
            ],
            "type": "surface"
           }
          ],
          "table": [
           {
            "cells": {
             "fill": {
              "color": "#EBF0F8"
             },
             "line": {
              "color": "white"
             }
            },
            "header": {
             "fill": {
              "color": "#C8D4E3"
             },
             "line": {
              "color": "white"
             }
            },
            "type": "table"
           }
          ]
         },
         "layout": {
          "annotationdefaults": {
           "arrowcolor": "#2a3f5f",
           "arrowhead": 0,
           "arrowwidth": 1
          },
          "autotypenumbers": "strict",
          "coloraxis": {
           "colorbar": {
            "outlinewidth": 0,
            "ticks": ""
           }
          },
          "colorscale": {
           "diverging": [
            [
             0,
             "#8e0152"
            ],
            [
             0.1,
             "#c51b7d"
            ],
            [
             0.2,
             "#de77ae"
            ],
            [
             0.3,
             "#f1b6da"
            ],
            [
             0.4,
             "#fde0ef"
            ],
            [
             0.5,
             "#f7f7f7"
            ],
            [
             0.6,
             "#e6f5d0"
            ],
            [
             0.7,
             "#b8e186"
            ],
            [
             0.8,
             "#7fbc41"
            ],
            [
             0.9,
             "#4d9221"
            ],
            [
             1,
             "#276419"
            ]
           ],
           "sequential": [
            [
             0,
             "#0d0887"
            ],
            [
             0.1111111111111111,
             "#46039f"
            ],
            [
             0.2222222222222222,
             "#7201a8"
            ],
            [
             0.3333333333333333,
             "#9c179e"
            ],
            [
             0.4444444444444444,
             "#bd3786"
            ],
            [
             0.5555555555555556,
             "#d8576b"
            ],
            [
             0.6666666666666666,
             "#ed7953"
            ],
            [
             0.7777777777777778,
             "#fb9f3a"
            ],
            [
             0.8888888888888888,
             "#fdca26"
            ],
            [
             1,
             "#f0f921"
            ]
           ],
           "sequentialminus": [
            [
             0,
             "#0d0887"
            ],
            [
             0.1111111111111111,
             "#46039f"
            ],
            [
             0.2222222222222222,
             "#7201a8"
            ],
            [
             0.3333333333333333,
             "#9c179e"
            ],
            [
             0.4444444444444444,
             "#bd3786"
            ],
            [
             0.5555555555555556,
             "#d8576b"
            ],
            [
             0.6666666666666666,
             "#ed7953"
            ],
            [
             0.7777777777777778,
             "#fb9f3a"
            ],
            [
             0.8888888888888888,
             "#fdca26"
            ],
            [
             1,
             "#f0f921"
            ]
           ]
          },
          "colorway": [
           "#636efa",
           "#EF553B",
           "#00cc96",
           "#ab63fa",
           "#FFA15A",
           "#19d3f3",
           "#FF6692",
           "#B6E880",
           "#FF97FF",
           "#FECB52"
          ],
          "font": {
           "color": "#2a3f5f"
          },
          "geo": {
           "bgcolor": "white",
           "lakecolor": "white",
           "landcolor": "#E5ECF6",
           "showlakes": true,
           "showland": true,
           "subunitcolor": "white"
          },
          "hoverlabel": {
           "align": "left"
          },
          "hovermode": "closest",
          "mapbox": {
           "style": "light"
          },
          "paper_bgcolor": "white",
          "plot_bgcolor": "#E5ECF6",
          "polar": {
           "angularaxis": {
            "gridcolor": "white",
            "linecolor": "white",
            "ticks": ""
           },
           "bgcolor": "#E5ECF6",
           "radialaxis": {
            "gridcolor": "white",
            "linecolor": "white",
            "ticks": ""
           }
          },
          "scene": {
           "xaxis": {
            "backgroundcolor": "#E5ECF6",
            "gridcolor": "white",
            "gridwidth": 2,
            "linecolor": "white",
            "showbackground": true,
            "ticks": "",
            "zerolinecolor": "white"
           },
           "yaxis": {
            "backgroundcolor": "#E5ECF6",
            "gridcolor": "white",
            "gridwidth": 2,
            "linecolor": "white",
            "showbackground": true,
            "ticks": "",
            "zerolinecolor": "white"
           },
           "zaxis": {
            "backgroundcolor": "#E5ECF6",
            "gridcolor": "white",
            "gridwidth": 2,
            "linecolor": "white",
            "showbackground": true,
            "ticks": "",
            "zerolinecolor": "white"
           }
          },
          "shapedefaults": {
           "line": {
            "color": "#2a3f5f"
           }
          },
          "ternary": {
           "aaxis": {
            "gridcolor": "white",
            "linecolor": "white",
            "ticks": ""
           },
           "baxis": {
            "gridcolor": "white",
            "linecolor": "white",
            "ticks": ""
           },
           "bgcolor": "#E5ECF6",
           "caxis": {
            "gridcolor": "white",
            "linecolor": "white",
            "ticks": ""
           }
          },
          "title": {
           "x": 0.05
          },
          "xaxis": {
           "automargin": true,
           "gridcolor": "white",
           "linecolor": "white",
           "ticks": "",
           "title": {
            "standoff": 15
           },
           "zerolinecolor": "white",
           "zerolinewidth": 2
          },
          "yaxis": {
           "automargin": true,
           "gridcolor": "white",
           "linecolor": "white",
           "ticks": "",
           "title": {
            "standoff": 15
           },
           "zerolinecolor": "white",
           "zerolinewidth": 2
          }
         }
        }
       }
      }
     },
     "metadata": {},
     "output_type": "display_data"
    }
   ],
   "source": [
    "import plotly.graph_objects as go\n",
    "\n",
    "# Plotly를 사용하여 시각화\n",
    "fig = go.Figure()\n",
    "\n",
    "# 훈련 군집 0에 대한 산점도\n",
    "fig.add_trace(go.Scatter(x=y_tr_0.iloc[:], mode='markers', marker=dict(color='blue'), name='Train Cluster 0'))\n",
    "\n",
    "# 훈련 군집 1에 대한 산점도\n",
    "fig.add_trace(go.Scatter(x=y_tr_1.iloc[:], mode='markers', marker=dict(color='red'), name='Train Cluster 1'))\n",
    "\n",
    "fig.show()"
   ]
  },
  {
   "cell_type": "code",
   "execution_count": 65,
   "metadata": {},
   "outputs": [
    {
     "data": {
      "application/vnd.plotly.v1+json": {
       "config": {
        "plotlyServerURL": "https://plot.ly"
       },
       "data": [
        {
         "marker": {
          "color": "green"
         },
         "mode": "markers",
         "name": "Test Cluster 0",
         "type": "scatter",
         "x": [
          17.9,
          8.1,
          30.4,
          13.1,
          14.2,
          45.6,
          6.7,
          15.2,
          28.8,
          55.6,
          29.1,
          85.4,
          12.3,
          51.1,
          14.9,
          93.6,
          13.4,
          8.6,
          43.9,
          51.1,
          15.3,
          7.1,
          57.8,
          88.5,
          15,
          5.1,
          22.6,
          52.6,
          9.6,
          23.7,
          11.7,
          46.2,
          25.8,
          24.7,
          10.8,
          8.8,
          21.8,
          46,
          18.1,
          18.5,
          74.6,
          6.5,
          4.6,
          56.3,
          19.7,
          114,
          36.5,
          14.1
         ]
        },
        {
         "marker": {
          "color": "orange"
         },
         "mode": "markers",
         "name": "Test Cluster 1",
         "type": "scatter",
         "x": [
          21.8,
          60.5,
          16.8,
          24,
          9.9,
          36.5,
          30.5,
          55.6,
          12.6,
          16.1,
          11.2,
          6.1,
          20.6,
          20.6,
          29.1,
          42.1,
          21.6,
          10.9,
          6.6,
          12.8,
          16.8,
          10.1,
          36.5,
          11.9,
          15.3,
          7.1,
          14,
          74.6,
          57.7,
          19.4
         ]
        }
       ],
       "layout": {
        "template": {
         "data": {
          "bar": [
           {
            "error_x": {
             "color": "#2a3f5f"
            },
            "error_y": {
             "color": "#2a3f5f"
            },
            "marker": {
             "line": {
              "color": "#E5ECF6",
              "width": 0.5
             },
             "pattern": {
              "fillmode": "overlay",
              "size": 10,
              "solidity": 0.2
             }
            },
            "type": "bar"
           }
          ],
          "barpolar": [
           {
            "marker": {
             "line": {
              "color": "#E5ECF6",
              "width": 0.5
             },
             "pattern": {
              "fillmode": "overlay",
              "size": 10,
              "solidity": 0.2
             }
            },
            "type": "barpolar"
           }
          ],
          "carpet": [
           {
            "aaxis": {
             "endlinecolor": "#2a3f5f",
             "gridcolor": "white",
             "linecolor": "white",
             "minorgridcolor": "white",
             "startlinecolor": "#2a3f5f"
            },
            "baxis": {
             "endlinecolor": "#2a3f5f",
             "gridcolor": "white",
             "linecolor": "white",
             "minorgridcolor": "white",
             "startlinecolor": "#2a3f5f"
            },
            "type": "carpet"
           }
          ],
          "choropleth": [
           {
            "colorbar": {
             "outlinewidth": 0,
             "ticks": ""
            },
            "type": "choropleth"
           }
          ],
          "contour": [
           {
            "colorbar": {
             "outlinewidth": 0,
             "ticks": ""
            },
            "colorscale": [
             [
              0,
              "#0d0887"
             ],
             [
              0.1111111111111111,
              "#46039f"
             ],
             [
              0.2222222222222222,
              "#7201a8"
             ],
             [
              0.3333333333333333,
              "#9c179e"
             ],
             [
              0.4444444444444444,
              "#bd3786"
             ],
             [
              0.5555555555555556,
              "#d8576b"
             ],
             [
              0.6666666666666666,
              "#ed7953"
             ],
             [
              0.7777777777777778,
              "#fb9f3a"
             ],
             [
              0.8888888888888888,
              "#fdca26"
             ],
             [
              1,
              "#f0f921"
             ]
            ],
            "type": "contour"
           }
          ],
          "contourcarpet": [
           {
            "colorbar": {
             "outlinewidth": 0,
             "ticks": ""
            },
            "type": "contourcarpet"
           }
          ],
          "heatmap": [
           {
            "colorbar": {
             "outlinewidth": 0,
             "ticks": ""
            },
            "colorscale": [
             [
              0,
              "#0d0887"
             ],
             [
              0.1111111111111111,
              "#46039f"
             ],
             [
              0.2222222222222222,
              "#7201a8"
             ],
             [
              0.3333333333333333,
              "#9c179e"
             ],
             [
              0.4444444444444444,
              "#bd3786"
             ],
             [
              0.5555555555555556,
              "#d8576b"
             ],
             [
              0.6666666666666666,
              "#ed7953"
             ],
             [
              0.7777777777777778,
              "#fb9f3a"
             ],
             [
              0.8888888888888888,
              "#fdca26"
             ],
             [
              1,
              "#f0f921"
             ]
            ],
            "type": "heatmap"
           }
          ],
          "heatmapgl": [
           {
            "colorbar": {
             "outlinewidth": 0,
             "ticks": ""
            },
            "colorscale": [
             [
              0,
              "#0d0887"
             ],
             [
              0.1111111111111111,
              "#46039f"
             ],
             [
              0.2222222222222222,
              "#7201a8"
             ],
             [
              0.3333333333333333,
              "#9c179e"
             ],
             [
              0.4444444444444444,
              "#bd3786"
             ],
             [
              0.5555555555555556,
              "#d8576b"
             ],
             [
              0.6666666666666666,
              "#ed7953"
             ],
             [
              0.7777777777777778,
              "#fb9f3a"
             ],
             [
              0.8888888888888888,
              "#fdca26"
             ],
             [
              1,
              "#f0f921"
             ]
            ],
            "type": "heatmapgl"
           }
          ],
          "histogram": [
           {
            "marker": {
             "pattern": {
              "fillmode": "overlay",
              "size": 10,
              "solidity": 0.2
             }
            },
            "type": "histogram"
           }
          ],
          "histogram2d": [
           {
            "colorbar": {
             "outlinewidth": 0,
             "ticks": ""
            },
            "colorscale": [
             [
              0,
              "#0d0887"
             ],
             [
              0.1111111111111111,
              "#46039f"
             ],
             [
              0.2222222222222222,
              "#7201a8"
             ],
             [
              0.3333333333333333,
              "#9c179e"
             ],
             [
              0.4444444444444444,
              "#bd3786"
             ],
             [
              0.5555555555555556,
              "#d8576b"
             ],
             [
              0.6666666666666666,
              "#ed7953"
             ],
             [
              0.7777777777777778,
              "#fb9f3a"
             ],
             [
              0.8888888888888888,
              "#fdca26"
             ],
             [
              1,
              "#f0f921"
             ]
            ],
            "type": "histogram2d"
           }
          ],
          "histogram2dcontour": [
           {
            "colorbar": {
             "outlinewidth": 0,
             "ticks": ""
            },
            "colorscale": [
             [
              0,
              "#0d0887"
             ],
             [
              0.1111111111111111,
              "#46039f"
             ],
             [
              0.2222222222222222,
              "#7201a8"
             ],
             [
              0.3333333333333333,
              "#9c179e"
             ],
             [
              0.4444444444444444,
              "#bd3786"
             ],
             [
              0.5555555555555556,
              "#d8576b"
             ],
             [
              0.6666666666666666,
              "#ed7953"
             ],
             [
              0.7777777777777778,
              "#fb9f3a"
             ],
             [
              0.8888888888888888,
              "#fdca26"
             ],
             [
              1,
              "#f0f921"
             ]
            ],
            "type": "histogram2dcontour"
           }
          ],
          "mesh3d": [
           {
            "colorbar": {
             "outlinewidth": 0,
             "ticks": ""
            },
            "type": "mesh3d"
           }
          ],
          "parcoords": [
           {
            "line": {
             "colorbar": {
              "outlinewidth": 0,
              "ticks": ""
             }
            },
            "type": "parcoords"
           }
          ],
          "pie": [
           {
            "automargin": true,
            "type": "pie"
           }
          ],
          "scatter": [
           {
            "fillpattern": {
             "fillmode": "overlay",
             "size": 10,
             "solidity": 0.2
            },
            "type": "scatter"
           }
          ],
          "scatter3d": [
           {
            "line": {
             "colorbar": {
              "outlinewidth": 0,
              "ticks": ""
             }
            },
            "marker": {
             "colorbar": {
              "outlinewidth": 0,
              "ticks": ""
             }
            },
            "type": "scatter3d"
           }
          ],
          "scattercarpet": [
           {
            "marker": {
             "colorbar": {
              "outlinewidth": 0,
              "ticks": ""
             }
            },
            "type": "scattercarpet"
           }
          ],
          "scattergeo": [
           {
            "marker": {
             "colorbar": {
              "outlinewidth": 0,
              "ticks": ""
             }
            },
            "type": "scattergeo"
           }
          ],
          "scattergl": [
           {
            "marker": {
             "colorbar": {
              "outlinewidth": 0,
              "ticks": ""
             }
            },
            "type": "scattergl"
           }
          ],
          "scattermapbox": [
           {
            "marker": {
             "colorbar": {
              "outlinewidth": 0,
              "ticks": ""
             }
            },
            "type": "scattermapbox"
           }
          ],
          "scatterpolar": [
           {
            "marker": {
             "colorbar": {
              "outlinewidth": 0,
              "ticks": ""
             }
            },
            "type": "scatterpolar"
           }
          ],
          "scatterpolargl": [
           {
            "marker": {
             "colorbar": {
              "outlinewidth": 0,
              "ticks": ""
             }
            },
            "type": "scatterpolargl"
           }
          ],
          "scatterternary": [
           {
            "marker": {
             "colorbar": {
              "outlinewidth": 0,
              "ticks": ""
             }
            },
            "type": "scatterternary"
           }
          ],
          "surface": [
           {
            "colorbar": {
             "outlinewidth": 0,
             "ticks": ""
            },
            "colorscale": [
             [
              0,
              "#0d0887"
             ],
             [
              0.1111111111111111,
              "#46039f"
             ],
             [
              0.2222222222222222,
              "#7201a8"
             ],
             [
              0.3333333333333333,
              "#9c179e"
             ],
             [
              0.4444444444444444,
              "#bd3786"
             ],
             [
              0.5555555555555556,
              "#d8576b"
             ],
             [
              0.6666666666666666,
              "#ed7953"
             ],
             [
              0.7777777777777778,
              "#fb9f3a"
             ],
             [
              0.8888888888888888,
              "#fdca26"
             ],
             [
              1,
              "#f0f921"
             ]
            ],
            "type": "surface"
           }
          ],
          "table": [
           {
            "cells": {
             "fill": {
              "color": "#EBF0F8"
             },
             "line": {
              "color": "white"
             }
            },
            "header": {
             "fill": {
              "color": "#C8D4E3"
             },
             "line": {
              "color": "white"
             }
            },
            "type": "table"
           }
          ]
         },
         "layout": {
          "annotationdefaults": {
           "arrowcolor": "#2a3f5f",
           "arrowhead": 0,
           "arrowwidth": 1
          },
          "autotypenumbers": "strict",
          "coloraxis": {
           "colorbar": {
            "outlinewidth": 0,
            "ticks": ""
           }
          },
          "colorscale": {
           "diverging": [
            [
             0,
             "#8e0152"
            ],
            [
             0.1,
             "#c51b7d"
            ],
            [
             0.2,
             "#de77ae"
            ],
            [
             0.3,
             "#f1b6da"
            ],
            [
             0.4,
             "#fde0ef"
            ],
            [
             0.5,
             "#f7f7f7"
            ],
            [
             0.6,
             "#e6f5d0"
            ],
            [
             0.7,
             "#b8e186"
            ],
            [
             0.8,
             "#7fbc41"
            ],
            [
             0.9,
             "#4d9221"
            ],
            [
             1,
             "#276419"
            ]
           ],
           "sequential": [
            [
             0,
             "#0d0887"
            ],
            [
             0.1111111111111111,
             "#46039f"
            ],
            [
             0.2222222222222222,
             "#7201a8"
            ],
            [
             0.3333333333333333,
             "#9c179e"
            ],
            [
             0.4444444444444444,
             "#bd3786"
            ],
            [
             0.5555555555555556,
             "#d8576b"
            ],
            [
             0.6666666666666666,
             "#ed7953"
            ],
            [
             0.7777777777777778,
             "#fb9f3a"
            ],
            [
             0.8888888888888888,
             "#fdca26"
            ],
            [
             1,
             "#f0f921"
            ]
           ],
           "sequentialminus": [
            [
             0,
             "#0d0887"
            ],
            [
             0.1111111111111111,
             "#46039f"
            ],
            [
             0.2222222222222222,
             "#7201a8"
            ],
            [
             0.3333333333333333,
             "#9c179e"
            ],
            [
             0.4444444444444444,
             "#bd3786"
            ],
            [
             0.5555555555555556,
             "#d8576b"
            ],
            [
             0.6666666666666666,
             "#ed7953"
            ],
            [
             0.7777777777777778,
             "#fb9f3a"
            ],
            [
             0.8888888888888888,
             "#fdca26"
            ],
            [
             1,
             "#f0f921"
            ]
           ]
          },
          "colorway": [
           "#636efa",
           "#EF553B",
           "#00cc96",
           "#ab63fa",
           "#FFA15A",
           "#19d3f3",
           "#FF6692",
           "#B6E880",
           "#FF97FF",
           "#FECB52"
          ],
          "font": {
           "color": "#2a3f5f"
          },
          "geo": {
           "bgcolor": "white",
           "lakecolor": "white",
           "landcolor": "#E5ECF6",
           "showlakes": true,
           "showland": true,
           "subunitcolor": "white"
          },
          "hoverlabel": {
           "align": "left"
          },
          "hovermode": "closest",
          "mapbox": {
           "style": "light"
          },
          "paper_bgcolor": "white",
          "plot_bgcolor": "#E5ECF6",
          "polar": {
           "angularaxis": {
            "gridcolor": "white",
            "linecolor": "white",
            "ticks": ""
           },
           "bgcolor": "#E5ECF6",
           "radialaxis": {
            "gridcolor": "white",
            "linecolor": "white",
            "ticks": ""
           }
          },
          "scene": {
           "xaxis": {
            "backgroundcolor": "#E5ECF6",
            "gridcolor": "white",
            "gridwidth": 2,
            "linecolor": "white",
            "showbackground": true,
            "ticks": "",
            "zerolinecolor": "white"
           },
           "yaxis": {
            "backgroundcolor": "#E5ECF6",
            "gridcolor": "white",
            "gridwidth": 2,
            "linecolor": "white",
            "showbackground": true,
            "ticks": "",
            "zerolinecolor": "white"
           },
           "zaxis": {
            "backgroundcolor": "#E5ECF6",
            "gridcolor": "white",
            "gridwidth": 2,
            "linecolor": "white",
            "showbackground": true,
            "ticks": "",
            "zerolinecolor": "white"
           }
          },
          "shapedefaults": {
           "line": {
            "color": "#2a3f5f"
           }
          },
          "ternary": {
           "aaxis": {
            "gridcolor": "white",
            "linecolor": "white",
            "ticks": ""
           },
           "baxis": {
            "gridcolor": "white",
            "linecolor": "white",
            "ticks": ""
           },
           "bgcolor": "#E5ECF6",
           "caxis": {
            "gridcolor": "white",
            "linecolor": "white",
            "ticks": ""
           }
          },
          "title": {
           "x": 0.05
          },
          "xaxis": {
           "automargin": true,
           "gridcolor": "white",
           "linecolor": "white",
           "ticks": "",
           "title": {
            "standoff": 15
           },
           "zerolinecolor": "white",
           "zerolinewidth": 2
          },
          "yaxis": {
           "automargin": true,
           "gridcolor": "white",
           "linecolor": "white",
           "ticks": "",
           "title": {
            "standoff": 15
           },
           "zerolinecolor": "white",
           "zerolinewidth": 2
          }
         }
        }
       }
      }
     },
     "metadata": {},
     "output_type": "display_data"
    }
   ],
   "source": [
    "import plotly.graph_objects as go\n",
    "\n",
    "# Plotly를 사용하여 시각화\n",
    "fig = go.Figure()\n",
    "\n",
    "# 테스트 군집 0에 대한 산점도\n",
    "fig.add_trace(go.Scatter(x=y_test_0.iloc[:], mode='markers', marker=dict(color='green'), name='Test Cluster 0'))\n",
    "\n",
    "# 테스트 군집 1에 대한 산점도\n",
    "fig.add_trace(go.Scatter(x=y_test_1.iloc[:], mode='markers', marker=dict(color='orange'), name='Test Cluster 1'))\n",
    "\n",
    "fig.show()"
   ]
  },
  {
   "cell_type": "markdown",
   "metadata": {},
   "source": [
    "---"
   ]
  },
  {
   "cell_type": "markdown",
   "metadata": {},
   "source": [
    "## 군집0"
   ]
  },
  {
   "cell_type": "code",
   "execution_count": 66,
   "metadata": {},
   "outputs": [
    {
     "data": {
      "text/html": [
       "<div>\n",
       "<style scoped>\n",
       "    .dataframe tbody tr th:only-of-type {\n",
       "        vertical-align: middle;\n",
       "    }\n",
       "\n",
       "    .dataframe tbody tr th {\n",
       "        vertical-align: top;\n",
       "    }\n",
       "\n",
       "    .dataframe thead th {\n",
       "        text-align: right;\n",
       "    }\n",
       "</style>\n",
       "<table border=\"1\" class=\"dataframe\">\n",
       "  <thead>\n",
       "    <tr style=\"text-align: right;\">\n",
       "      <th></th>\n",
       "      <th>Model</th>\n",
       "      <th>train MAE</th>\n",
       "      <th>test MAE</th>\n",
       "      <th>train RMSE</th>\n",
       "      <th>test RMSE</th>\n",
       "    </tr>\n",
       "  </thead>\n",
       "  <tbody>\n",
       "    <tr>\n",
       "      <th>0</th>\n",
       "      <td>LinearRegression</td>\n",
       "      <td>14.976262</td>\n",
       "      <td>17.156185</td>\n",
       "      <td>21.028164</td>\n",
       "      <td>23.092079</td>\n",
       "    </tr>\n",
       "    <tr>\n",
       "      <th>1</th>\n",
       "      <td>DecisionTreeRegressor</td>\n",
       "      <td>0.000000</td>\n",
       "      <td>18.391667</td>\n",
       "      <td>0.000000</td>\n",
       "      <td>26.551475</td>\n",
       "    </tr>\n",
       "    <tr>\n",
       "      <th>2</th>\n",
       "      <td>RandomForestRegressor</td>\n",
       "      <td>6.062034</td>\n",
       "      <td>16.122250</td>\n",
       "      <td>8.559339</td>\n",
       "      <td>22.005562</td>\n",
       "    </tr>\n",
       "    <tr>\n",
       "      <th>3</th>\n",
       "      <td>AdaBoostRegressor</td>\n",
       "      <td>14.036691</td>\n",
       "      <td>19.311493</td>\n",
       "      <td>16.531991</td>\n",
       "      <td>23.424536</td>\n",
       "    </tr>\n",
       "    <tr>\n",
       "      <th>4</th>\n",
       "      <td>GradientBoostingRegressor</td>\n",
       "      <td>5.928002</td>\n",
       "      <td>15.830496</td>\n",
       "      <td>7.701236</td>\n",
       "      <td>22.454874</td>\n",
       "    </tr>\n",
       "    <tr>\n",
       "      <th>5</th>\n",
       "      <td>XGBRegressor</td>\n",
       "      <td>0.071429</td>\n",
       "      <td>17.310960</td>\n",
       "      <td>0.098850</td>\n",
       "      <td>27.441594</td>\n",
       "    </tr>\n",
       "  </tbody>\n",
       "</table>\n",
       "</div>"
      ],
      "text/plain": [
       "                       Model  train MAE   test MAE  train RMSE  test RMSE\n",
       "0           LinearRegression  14.976262  17.156185   21.028164  23.092079\n",
       "1      DecisionTreeRegressor   0.000000  18.391667    0.000000  26.551475\n",
       "2      RandomForestRegressor   6.062034  16.122250    8.559339  22.005562\n",
       "3          AdaBoostRegressor  14.036691  19.311493   16.531991  23.424536\n",
       "4  GradientBoostingRegressor   5.928002  15.830496    7.701236  22.454874\n",
       "5               XGBRegressor   0.071429  17.310960    0.098850  27.441594"
      ]
     },
     "execution_count": 66,
     "metadata": {},
     "output_type": "execute_result"
    }
   ],
   "source": [
    "from sklearn.metrics import r2_score, mean_squared_error\n",
    "\n",
    "tr_result_mae = []\n",
    "test_result_mae = []\n",
    "tr_result_rmse = []\n",
    "test_result_rmse = []\n",
    "names = []\n",
    "\n",
    "for name, model in models:\n",
    "    # 모델 훈련\n",
    "    model.fit(X_tr_0, y_tr_0)\n",
    "    names.append(name)\n",
    "\n",
    "    # 예측\n",
    "    pred_tr = model.predict(X_tr_0)\n",
    "    pred_test = model.predict(X_test_0)\n",
    "\n",
    "    # MAE 계산\n",
    "    mae_tr = mean_absolute_error(y_tr_0, pred_tr)\n",
    "    mae_test = mean_absolute_error(y_test_0, pred_test)\n",
    "\n",
    "    # RMSE 계산\n",
    "    rmse_tr = np.sqrt(mean_squared_error(y_tr_0, pred_tr))\n",
    "    rmse_test = np.sqrt(mean_squared_error(y_test_0, pred_test))\n",
    "\n",
    "    # 결과를 리스트에 추가\n",
    "    tr_result_mae.append(mae_tr)\n",
    "    test_result_mae.append(mae_test)\n",
    "    tr_result_rmse.append(rmse_tr)\n",
    "    test_result_rmse.append(rmse_test)\n",
    "\n",
    "# 결과를 DataFrame으로 정리\n",
    "result_pd = pd.DataFrame({\n",
    "    'Model': names,\n",
    "    'train MAE': tr_result_mae,\n",
    "    'test MAE': test_result_mae,\n",
    "    'train RMSE': tr_result_rmse,\n",
    "    'test RMSE': test_result_rmse\n",
    "})\n",
    "\n",
    "result_pd"
   ]
  },
  {
   "cell_type": "markdown",
   "metadata": {},
   "source": [
    "- DecisionTreeRegressor 같은경우 규제를 주지 않아 과적합이 됨\n",
    "### GradientBoostingRegressor() 모델 활용해서 성능 확인"
   ]
  },
  {
   "cell_type": "code",
   "execution_count": 67,
   "metadata": {},
   "outputs": [
    {
     "data": {
      "image/png": "[encoded data removed]",
      "text/plain": [
       "<Figure size 1000x800 with 1 Axes>"
      ]
     },
     "metadata": {},
     "output_type": "display_data"
    }
   ],
   "source": [
    "# 성능 확인\n",
    "\n",
    "gb_model = GradientBoostingRegressor()\n",
    "gb_model.fit(X_tr_0, y_tr_0)\n",
    "predictions = gb_model.predict(X_test_0)\n",
    "\n",
    "plt.scatter(y_test_0, predictions)\n",
    "plt.xlabel('real')\n",
    "plt.ylabel('predict')\n",
    "plt.plot([min(y_test_0), max(y_test_0)], [min(y_test_0), max(y_test_0)], 'r') \n",
    "plt.show()\n",
    "# 값들이 빨간선 주위에 오는것이 좋음"
   ]
  },
  {
   "cell_type": "markdown",
   "metadata": {},
   "source": [
    "## 교차검증 train"
   ]
  },
  {
   "cell_type": "code",
   "execution_count": 68,
   "metadata": {},
   "outputs": [
    {
     "data": {
      "text/html": [
       "<div>\n",
       "<style scoped>\n",
       "    .dataframe tbody tr th:only-of-type {\n",
       "        vertical-align: middle;\n",
       "    }\n",
       "\n",
       "    .dataframe tbody tr th {\n",
       "        vertical-align: top;\n",
       "    }\n",
       "\n",
       "    .dataframe thead th {\n",
       "        text-align: right;\n",
       "    }\n",
       "</style>\n",
       "<table border=\"1\" class=\"dataframe\">\n",
       "  <thead>\n",
       "    <tr style=\"text-align: right;\">\n",
       "      <th></th>\n",
       "      <th>Model</th>\n",
       "      <th>Mean MAE</th>\n",
       "      <th>Std MAE</th>\n",
       "      <th>Mean RMSE</th>\n",
       "      <th>Std RMSE</th>\n",
       "    </tr>\n",
       "  </thead>\n",
       "  <tbody>\n",
       "    <tr>\n",
       "      <th>0</th>\n",
       "      <td>LinearRegression</td>\n",
       "      <td>16.2414</td>\n",
       "      <td>2.0075</td>\n",
       "      <td>22.0733</td>\n",
       "      <td>5.6328</td>\n",
       "    </tr>\n",
       "    <tr>\n",
       "      <th>1</th>\n",
       "      <td>DecisionTreeRegressor</td>\n",
       "      <td>18.5402</td>\n",
       "      <td>3.9052</td>\n",
       "      <td>27.6809</td>\n",
       "      <td>5.5197</td>\n",
       "    </tr>\n",
       "    <tr>\n",
       "      <th>2</th>\n",
       "      <td>RandomForestRegressor</td>\n",
       "      <td>15.5138</td>\n",
       "      <td>2.9927</td>\n",
       "      <td>22.5626</td>\n",
       "      <td>6.0889</td>\n",
       "    </tr>\n",
       "    <tr>\n",
       "      <th>3</th>\n",
       "      <td>AdaBoostRegressor</td>\n",
       "      <td>17.6076</td>\n",
       "      <td>2.9724</td>\n",
       "      <td>23.0823</td>\n",
       "      <td>6.3747</td>\n",
       "    </tr>\n",
       "    <tr>\n",
       "      <th>4</th>\n",
       "      <td>GradientBoostingRegressor</td>\n",
       "      <td>16.5926</td>\n",
       "      <td>3.5116</td>\n",
       "      <td>23.3081</td>\n",
       "      <td>6.7610</td>\n",
       "    </tr>\n",
       "    <tr>\n",
       "      <th>5</th>\n",
       "      <td>XGBRegressor</td>\n",
       "      <td>17.4470</td>\n",
       "      <td>3.5807</td>\n",
       "      <td>24.8170</td>\n",
       "      <td>7.2827</td>\n",
       "    </tr>\n",
       "  </tbody>\n",
       "</table>\n",
       "</div>"
      ],
      "text/plain": [
       "                       Model  Mean MAE  Std MAE  Mean RMSE  Std RMSE\n",
       "0           LinearRegression   16.2414   2.0075    22.0733    5.6328\n",
       "1      DecisionTreeRegressor   18.5402   3.9052    27.6809    5.5197\n",
       "2      RandomForestRegressor   15.5138   2.9927    22.5626    6.0889\n",
       "3          AdaBoostRegressor   17.6076   2.9724    23.0823    6.3747\n",
       "4  GradientBoostingRegressor   16.5926   3.5116    23.3081    6.7610\n",
       "5               XGBRegressor   17.4470   3.5807    24.8170    7.2827"
      ]
     },
     "execution_count": 68,
     "metadata": {},
     "output_type": "execute_result"
    }
   ],
   "source": [
    "from sklearn.model_selection import KFold, cross_val_score\n",
    "from sklearn.metrics import mean_squared_error, mean_absolute_error\n",
    "\n",
    "results_mae = []\n",
    "results_rmse = []\n",
    "names = []\n",
    "\n",
    "for name, model in models:\n",
    "    kfold = KFold(n_splits=5, random_state=13, shuffle=True)\n",
    "\n",
    "    # MAE 계산\n",
    "    cv_results_mae = cross_val_score(model, X_tr_0, y_tr_0, cv=kfold, scoring='neg_mean_absolute_error')\n",
    "    cv_results_mae = -cv_results_mae\n",
    "    results_mae.append(cv_results_mae)\n",
    "    \n",
    "    # RMSE 계산\n",
    "    cv_results_rmse = cross_val_score(model, X_tr_0, y_tr_0, cv=kfold,  scoring='neg_root_mean_squared_error')\n",
    "    cv_results_rmse = -cv_results_rmse\n",
    "    results_rmse.append(cv_results_rmse)\n",
    "\n",
    "    names.append(name)\n",
    "\n",
    "# DataFrame 생성\n",
    "result_pd = pd.DataFrame({\n",
    "    'Model': names,\n",
    "    'Mean MAE': [round(result.mean(), 4) for result in results_mae],\n",
    "    'Std MAE': [round(result.std(), 4) for result in results_mae],\n",
    "    'Mean RMSE': [round(result.mean(), 4) for result in results_rmse],\n",
    "    'Std RMSE': [round(result.std(), 4) for result in results_rmse]\n",
    "})\n",
    "\n",
    "result_pd"
   ]
  },
  {
   "cell_type": "markdown",
   "metadata": {},
   "source": [
    "## 교차검증 test"
   ]
  },
  {
   "cell_type": "code",
   "execution_count": 69,
   "metadata": {},
   "outputs": [
    {
     "data": {
      "text/html": [
       "<div>\n",
       "<style scoped>\n",
       "    .dataframe tbody tr th:only-of-type {\n",
       "        vertical-align: middle;\n",
       "    }\n",
       "\n",
       "    .dataframe tbody tr th {\n",
       "        vertical-align: top;\n",
       "    }\n",
       "\n",
       "    .dataframe thead th {\n",
       "        text-align: right;\n",
       "    }\n",
       "</style>\n",
       "<table border=\"1\" class=\"dataframe\">\n",
       "  <thead>\n",
       "    <tr style=\"text-align: right;\">\n",
       "      <th></th>\n",
       "      <th>Model</th>\n",
       "      <th>MAE</th>\n",
       "      <th>RMSE</th>\n",
       "    </tr>\n",
       "  </thead>\n",
       "  <tbody>\n",
       "    <tr>\n",
       "      <th>0</th>\n",
       "      <td>LinearRegression</td>\n",
       "      <td>19.275875</td>\n",
       "      <td>24.959726</td>\n",
       "    </tr>\n",
       "    <tr>\n",
       "      <th>1</th>\n",
       "      <td>DecisionTreeRegressor</td>\n",
       "      <td>22.360417</td>\n",
       "      <td>31.084143</td>\n",
       "    </tr>\n",
       "    <tr>\n",
       "      <th>2</th>\n",
       "      <td>RandomForestRegressor</td>\n",
       "      <td>19.454146</td>\n",
       "      <td>26.324215</td>\n",
       "    </tr>\n",
       "    <tr>\n",
       "      <th>3</th>\n",
       "      <td>AdaBoostRegressor</td>\n",
       "      <td>21.296764</td>\n",
       "      <td>29.894396</td>\n",
       "    </tr>\n",
       "    <tr>\n",
       "      <th>4</th>\n",
       "      <td>GradientBoostingRegressor</td>\n",
       "      <td>21.949466</td>\n",
       "      <td>30.241779</td>\n",
       "    </tr>\n",
       "    <tr>\n",
       "      <th>5</th>\n",
       "      <td>XGBRegressor</td>\n",
       "      <td>21.934990</td>\n",
       "      <td>30.050374</td>\n",
       "    </tr>\n",
       "  </tbody>\n",
       "</table>\n",
       "</div>"
      ],
      "text/plain": [
       "                       Model        MAE       RMSE\n",
       "0           LinearRegression  19.275875  24.959726\n",
       "1      DecisionTreeRegressor  22.360417  31.084143\n",
       "2      RandomForestRegressor  19.454146  26.324215\n",
       "3          AdaBoostRegressor  21.296764  29.894396\n",
       "4  GradientBoostingRegressor  21.949466  30.241779\n",
       "5               XGBRegressor  21.934990  30.050374"
      ]
     },
     "execution_count": 69,
     "metadata": {},
     "output_type": "execute_result"
    }
   ],
   "source": [
    "from sklearn.model_selection import cross_val_predict\n",
    "from sklearn.metrics import mean_squared_error, mean_absolute_error\n",
    "\n",
    "results_mae_test = []\n",
    "results_rmse_test = []\n",
    "\n",
    "for name, model in models:\n",
    "    # MAE 계산\n",
    "    pred_test = cross_val_predict(model, X_test_0, y_test_0, cv=5)\n",
    "    mae_test = mean_absolute_error(y_test_0, pred_test)\n",
    "    results_mae_test.append(mae_test)\n",
    "    \n",
    "    # RMSE 계산\n",
    "    rmse_test = np.sqrt(mean_squared_error(y_test_0, pred_test))\n",
    "    results_rmse_test.append(rmse_test)\n",
    "\n",
    "# DataFrame 생성\n",
    "result_pd_test = pd.DataFrame({\n",
    "    'Model': names,\n",
    "    'MAE':  results_mae_test,\n",
    "    'RMSE': results_rmse_test\n",
    "})\n",
    "\n",
    "result_pd_test"
   ]
  },
  {
   "cell_type": "markdown",
   "metadata": {},
   "source": [
    "---"
   ]
  },
  {
   "cell_type": "markdown",
   "metadata": {},
   "source": [
    "## 군집1"
   ]
  },
  {
   "cell_type": "code",
   "execution_count": 70,
   "metadata": {},
   "outputs": [
    {
     "data": {
      "text/html": [
       "<div>\n",
       "<style scoped>\n",
       "    .dataframe tbody tr th:only-of-type {\n",
       "        vertical-align: middle;\n",
       "    }\n",
       "\n",
       "    .dataframe tbody tr th {\n",
       "        vertical-align: top;\n",
       "    }\n",
       "\n",
       "    .dataframe thead th {\n",
       "        text-align: right;\n",
       "    }\n",
       "</style>\n",
       "<table border=\"1\" class=\"dataframe\">\n",
       "  <thead>\n",
       "    <tr style=\"text-align: right;\">\n",
       "      <th></th>\n",
       "      <th>Model</th>\n",
       "      <th>train MAE</th>\n",
       "      <th>test MAE</th>\n",
       "      <th>train RMSE</th>\n",
       "      <th>test RMSE</th>\n",
       "    </tr>\n",
       "  </thead>\n",
       "  <tbody>\n",
       "    <tr>\n",
       "      <th>0</th>\n",
       "      <td>LinearRegression</td>\n",
       "      <td>13.282177</td>\n",
       "      <td>11.856253</td>\n",
       "      <td>17.980051</td>\n",
       "      <td>13.660123</td>\n",
       "    </tr>\n",
       "    <tr>\n",
       "      <th>1</th>\n",
       "      <td>DecisionTreeRegressor</td>\n",
       "      <td>0.000000</td>\n",
       "      <td>19.463333</td>\n",
       "      <td>0.000000</td>\n",
       "      <td>34.006622</td>\n",
       "    </tr>\n",
       "    <tr>\n",
       "      <th>2</th>\n",
       "      <td>RandomForestRegressor</td>\n",
       "      <td>4.716049</td>\n",
       "      <td>10.147433</td>\n",
       "      <td>7.088605</td>\n",
       "      <td>16.709786</td>\n",
       "    </tr>\n",
       "    <tr>\n",
       "      <th>3</th>\n",
       "      <td>AdaBoostRegressor</td>\n",
       "      <td>9.164907</td>\n",
       "      <td>12.478169</td>\n",
       "      <td>10.853656</td>\n",
       "      <td>17.298347</td>\n",
       "    </tr>\n",
       "    <tr>\n",
       "      <th>4</th>\n",
       "      <td>GradientBoostingRegressor</td>\n",
       "      <td>4.809021</td>\n",
       "      <td>12.212102</td>\n",
       "      <td>6.018241</td>\n",
       "      <td>19.032255</td>\n",
       "    </tr>\n",
       "    <tr>\n",
       "      <th>5</th>\n",
       "      <td>XGBRegressor</td>\n",
       "      <td>0.036634</td>\n",
       "      <td>12.930141</td>\n",
       "      <td>0.048492</td>\n",
       "      <td>18.468462</td>\n",
       "    </tr>\n",
       "  </tbody>\n",
       "</table>\n",
       "</div>"
      ],
      "text/plain": [
       "                       Model  train MAE   test MAE  train RMSE  test RMSE\n",
       "0           LinearRegression  13.282177  11.856253   17.980051  13.660123\n",
       "1      DecisionTreeRegressor   0.000000  19.463333    0.000000  34.006622\n",
       "2      RandomForestRegressor   4.716049  10.147433    7.088605  16.709786\n",
       "3          AdaBoostRegressor   9.164907  12.478169   10.853656  17.298347\n",
       "4  GradientBoostingRegressor   4.809021  12.212102    6.018241  19.032255\n",
       "5               XGBRegressor   0.036634  12.930141    0.048492  18.468462"
      ]
     },
     "execution_count": 70,
     "metadata": {},
     "output_type": "execute_result"
    }
   ],
   "source": [
    "from sklearn.metrics import r2_score, mean_squared_error\n",
    "\n",
    "tr_result_mae = []\n",
    "test_result_mae = []\n",
    "tr_result_rmse = []\n",
    "test_result_rmse = []\n",
    "names = []\n",
    "\n",
    "for name, model in models:\n",
    "    # 모델 훈련\n",
    "    model.fit(X_tr_1, y_tr_1)\n",
    "    names.append(name)\n",
    "\n",
    "    # 예측\n",
    "    pred_tr = model.predict(X_tr_1)\n",
    "    pred_test = model.predict(X_test_1)\n",
    "\n",
    "    # MAE 계산\n",
    "    mae_tr = mean_absolute_error(y_tr_1, pred_tr)\n",
    "    mae_test = mean_absolute_error(y_test_1, pred_test)\n",
    "\n",
    "    # RMSE 계산\n",
    "    rmse_tr = np.sqrt(mean_squared_error(y_tr_1, pred_tr))\n",
    "    rmse_test = np.sqrt(mean_squared_error(y_test_1, pred_test))\n",
    "\n",
    "    # 결과를 리스트에 추가\n",
    "    tr_result_mae.append(mae_tr)\n",
    "    test_result_mae.append(mae_test)\n",
    "    tr_result_rmse.append(rmse_tr)\n",
    "    test_result_rmse.append(rmse_test)\n",
    "\n",
    "# 결과를 DataFrame으로 정리\n",
    "result_pd = pd.DataFrame({\n",
    "    'Model': names,\n",
    "    'train MAE': tr_result_mae,\n",
    "    'test MAE': test_result_mae,\n",
    "    'train RMSE': tr_result_rmse,\n",
    "    'test RMSE': test_result_rmse\n",
    "})\n",
    "\n",
    "result_pd"
   ]
  },
  {
   "cell_type": "markdown",
   "metadata": {},
   "source": [
    "### XGBRegressor() 모델 활용해서 성능 확인"
   ]
  },
  {
   "cell_type": "code",
   "execution_count": 71,
   "metadata": {},
   "outputs": [
    {
     "data": {
      "image/png": "[encoded data removed]",
      "text/plain": [
       "<Figure size 1000x800 with 1 Axes>"
      ]
     },
     "metadata": {},
     "output_type": "display_data"
    }
   ],
   "source": [
    "# 성능 확인\n",
    "\n",
    "xg_model = XGBRegressor()\n",
    "xg_model.fit(X_tr_1, y_tr_1)\n",
    "predictions = xg_model.predict(X_test_1)\n",
    "\n",
    "plt.scatter(y_test_1, predictions)\n",
    "plt.xlabel('real')\n",
    "plt.ylabel('predict')\n",
    "plt.plot([min(y_test_1), max(y_test_1)], [min(y_test_1), max(y_test_1)], 'r') \n",
    "plt.show()\n",
    "# 값들이 빨간선 주위에 오는것이 좋음"
   ]
  },
  {
   "cell_type": "markdown",
   "metadata": {},
   "source": [
    "## 교차검증 train"
   ]
  },
  {
   "cell_type": "code",
   "execution_count": 72,
   "metadata": {},
   "outputs": [
    {
     "data": {
      "text/html": [
       "<div>\n",
       "<style scoped>\n",
       "    .dataframe tbody tr th:only-of-type {\n",
       "        vertical-align: middle;\n",
       "    }\n",
       "\n",
       "    .dataframe tbody tr th {\n",
       "        vertical-align: top;\n",
       "    }\n",
       "\n",
       "    .dataframe thead th {\n",
       "        text-align: right;\n",
       "    }\n",
       "</style>\n",
       "<table border=\"1\" class=\"dataframe\">\n",
       "  <thead>\n",
       "    <tr style=\"text-align: right;\">\n",
       "      <th></th>\n",
       "      <th>Model</th>\n",
       "      <th>Mean MAE</th>\n",
       "      <th>Std MAE</th>\n",
       "      <th>Mean RMSE</th>\n",
       "      <th>Std RMSE</th>\n",
       "    </tr>\n",
       "  </thead>\n",
       "  <tbody>\n",
       "    <tr>\n",
       "      <th>0</th>\n",
       "      <td>LinearRegression</td>\n",
       "      <td>14.2119</td>\n",
       "      <td>2.8140</td>\n",
       "      <td>18.6595</td>\n",
       "      <td>4.2423</td>\n",
       "    </tr>\n",
       "    <tr>\n",
       "      <th>1</th>\n",
       "      <td>DecisionTreeRegressor</td>\n",
       "      <td>16.4681</td>\n",
       "      <td>3.0140</td>\n",
       "      <td>23.5906</td>\n",
       "      <td>5.5053</td>\n",
       "    </tr>\n",
       "    <tr>\n",
       "      <th>2</th>\n",
       "      <td>RandomForestRegressor</td>\n",
       "      <td>12.9193</td>\n",
       "      <td>1.9072</td>\n",
       "      <td>17.9909</td>\n",
       "      <td>3.6003</td>\n",
       "    </tr>\n",
       "    <tr>\n",
       "      <th>3</th>\n",
       "      <td>AdaBoostRegressor</td>\n",
       "      <td>12.7799</td>\n",
       "      <td>1.8112</td>\n",
       "      <td>17.7290</td>\n",
       "      <td>3.7883</td>\n",
       "    </tr>\n",
       "    <tr>\n",
       "      <th>4</th>\n",
       "      <td>GradientBoostingRegressor</td>\n",
       "      <td>13.0418</td>\n",
       "      <td>2.1253</td>\n",
       "      <td>18.5219</td>\n",
       "      <td>4.0489</td>\n",
       "    </tr>\n",
       "    <tr>\n",
       "      <th>5</th>\n",
       "      <td>XGBRegressor</td>\n",
       "      <td>13.7212</td>\n",
       "      <td>1.6720</td>\n",
       "      <td>19.2377</td>\n",
       "      <td>3.3332</td>\n",
       "    </tr>\n",
       "  </tbody>\n",
       "</table>\n",
       "</div>"
      ],
      "text/plain": [
       "                       Model  Mean MAE  Std MAE  Mean RMSE  Std RMSE\n",
       "0           LinearRegression   14.2119   2.8140    18.6595    4.2423\n",
       "1      DecisionTreeRegressor   16.4681   3.0140    23.5906    5.5053\n",
       "2      RandomForestRegressor   12.9193   1.9072    17.9909    3.6003\n",
       "3          AdaBoostRegressor   12.7799   1.8112    17.7290    3.7883\n",
       "4  GradientBoostingRegressor   13.0418   2.1253    18.5219    4.0489\n",
       "5               XGBRegressor   13.7212   1.6720    19.2377    3.3332"
      ]
     },
     "execution_count": 72,
     "metadata": {},
     "output_type": "execute_result"
    }
   ],
   "source": [
    "from sklearn.model_selection import KFold, cross_val_score\n",
    "from sklearn.metrics import mean_squared_error, mean_absolute_error\n",
    "\n",
    "results_mae = []\n",
    "results_rmse = []\n",
    "names = []\n",
    "\n",
    "for name, model in models:\n",
    "    kfold = KFold(n_splits=5, random_state=13, shuffle=True)\n",
    "\n",
    "    # MAE 계산\n",
    "    cv_results_mae = cross_val_score(model, X_tr_1, y_tr_1, cv=kfold, scoring='neg_mean_absolute_error')\n",
    "    cv_results_mae = -cv_results_mae\n",
    "    results_mae.append(cv_results_mae)\n",
    "    \n",
    "    # RMSE 계산\n",
    "    cv_results_rmse = cross_val_score(model, X_tr_1, y_tr_1, cv=kfold,  scoring='neg_root_mean_squared_error')\n",
    "    cv_results_rmse = -cv_results_rmse\n",
    "    results_rmse.append(cv_results_rmse)\n",
    "\n",
    "    names.append(name)\n",
    "\n",
    "# DataFrame 생성\n",
    "result_pd = pd.DataFrame({\n",
    "    'Model': names,\n",
    "    'Mean MAE': [round(result.mean(), 4) for result in results_mae],\n",
    "    'Std MAE': [round(result.std(), 4) for result in results_mae],\n",
    "    'Mean RMSE': [round(result.mean(), 4) for result in results_rmse],\n",
    "    'Std RMSE': [round(result.std(), 4) for result in results_rmse]\n",
    "})\n",
    "\n",
    "result_pd"
   ]
  },
  {
   "cell_type": "markdown",
   "metadata": {},
   "source": [
    "## 교차검증 test"
   ]
  },
  {
   "cell_type": "code",
   "execution_count": 73,
   "metadata": {},
   "outputs": [
    {
     "data": {
      "text/html": [
       "<div>\n",
       "<style scoped>\n",
       "    .dataframe tbody tr th:only-of-type {\n",
       "        vertical-align: middle;\n",
       "    }\n",
       "\n",
       "    .dataframe tbody tr th {\n",
       "        vertical-align: top;\n",
       "    }\n",
       "\n",
       "    .dataframe thead th {\n",
       "        text-align: right;\n",
       "    }\n",
       "</style>\n",
       "<table border=\"1\" class=\"dataframe\">\n",
       "  <thead>\n",
       "    <tr style=\"text-align: right;\">\n",
       "      <th></th>\n",
       "      <th>Model</th>\n",
       "      <th>MAE</th>\n",
       "      <th>RMSE</th>\n",
       "    </tr>\n",
       "  </thead>\n",
       "  <tbody>\n",
       "    <tr>\n",
       "      <th>0</th>\n",
       "      <td>LinearRegression</td>\n",
       "      <td>19.275875</td>\n",
       "      <td>24.959726</td>\n",
       "    </tr>\n",
       "    <tr>\n",
       "      <th>1</th>\n",
       "      <td>DecisionTreeRegressor</td>\n",
       "      <td>20.460417</td>\n",
       "      <td>29.257595</td>\n",
       "    </tr>\n",
       "    <tr>\n",
       "      <th>2</th>\n",
       "      <td>RandomForestRegressor</td>\n",
       "      <td>19.050229</td>\n",
       "      <td>26.637740</td>\n",
       "    </tr>\n",
       "    <tr>\n",
       "      <th>3</th>\n",
       "      <td>AdaBoostRegressor</td>\n",
       "      <td>21.543070</td>\n",
       "      <td>30.023989</td>\n",
       "    </tr>\n",
       "    <tr>\n",
       "      <th>4</th>\n",
       "      <td>GradientBoostingRegressor</td>\n",
       "      <td>21.868556</td>\n",
       "      <td>30.268790</td>\n",
       "    </tr>\n",
       "    <tr>\n",
       "      <th>5</th>\n",
       "      <td>XGBRegressor</td>\n",
       "      <td>21.934990</td>\n",
       "      <td>30.050374</td>\n",
       "    </tr>\n",
       "  </tbody>\n",
       "</table>\n",
       "</div>"
      ],
      "text/plain": [
       "                       Model        MAE       RMSE\n",
       "0           LinearRegression  19.275875  24.959726\n",
       "1      DecisionTreeRegressor  20.460417  29.257595\n",
       "2      RandomForestRegressor  19.050229  26.637740\n",
       "3          AdaBoostRegressor  21.543070  30.023989\n",
       "4  GradientBoostingRegressor  21.868556  30.268790\n",
       "5               XGBRegressor  21.934990  30.050374"
      ]
     },
     "execution_count": 73,
     "metadata": {},
     "output_type": "execute_result"
    }
   ],
   "source": [
    "from sklearn.model_selection import cross_val_predict\n",
    "from sklearn.metrics import mean_squared_error, mean_absolute_error\n",
    "\n",
    "results_mae_test = []\n",
    "results_rmse_test = []\n",
    "\n",
    "for name, model in models:\n",
    "    # MAE 계산\n",
    "    pred_test = cross_val_predict(model, X_test_0, y_test_0, cv=5)\n",
    "    mae_test = mean_absolute_error(y_test_0, pred_test)\n",
    "    results_mae_test.append(mae_test)\n",
    "    \n",
    "    # RMSE 계산\n",
    "    rmse_test = np.sqrt(mean_squared_error(y_test_0, pred_test))\n",
    "    results_rmse_test.append(rmse_test)\n",
    "\n",
    "# DataFrame 생성\n",
    "result_pd_test = pd.DataFrame({\n",
    "    'Model': names,\n",
    "    'MAE':  results_mae_test,\n",
    "    'RMSE': results_rmse_test\n",
    "})\n",
    "\n",
    "result_pd_test"
   ]
  },
  {
   "cell_type": "markdown",
   "metadata": {},
   "source": [
    "---"
   ]
  },
  {
   "cell_type": "markdown",
   "metadata": {},
   "source": [
    "# 생각거리 (시행하지  말것!)"
   ]
  },
  {
   "cell_type": "markdown",
   "metadata": {},
   "source": [
    "- corr로 높은상관관계들 피쳐 몇개만\n",
    "- 선형회귀분석(1항, 다항)\n",
    "- 군집없이\n",
    "- 다양한 모델 한번에 테스트\n",
    "- 이것에 대한 검증평가\n",
    "- 결정나무에서 나온 베스트 상관관계이용해보기"
   ]
  },
  {
   "cell_type": "code",
   "execution_count": null,
   "metadata": {},
   "outputs": [],
   "source": [
    "# 데이터를 3개로 나눠도 될까?? \n",
    "# DecisionTreeRegressor, RandomForestRegressor으로 중요 특성 찾아 import statsmodels.api as sm /  lm = sm.OLS(y_train, X_train).fit()\n",
    "# 그리드CV - best찾기 - 옵티마\n",
    "# pipe라인\n",
    "# 데이터 전처리\n",
    "# 평가기준 def함수 \n",
    "# 학습데이터 늘리기"
   ]
  },
  {
   "cell_type": "code",
   "execution_count": null,
   "metadata": {},
   "outputs": [],
   "source": [
    "lm = sm.OLS(y_train, X_train).fit()\n",
    "lm.summary()"
   ]
  },
  {
   "cell_type": "code",
   "execution_count": null,
   "metadata": {},
   "outputs": [],
   "source": [
    "pred = lm.predict(X_test)\n",
    "\n",
    "sns.scatterplot(x=y_test, y=pred)\n",
    "plt.plot([min(y_test), max(y_test)], [min(y_test), max(y_test)], 'r', ls='dashed', lw=3"
   ]
  },
  {
   "cell_type": "code",
   "execution_count": null,
   "metadata": {},
   "outputs": [],
   "source": [
    "# 상관이 높은것만 통계적회귀\n",
    "import statsmodels.api as sm\n",
    "\n",
    "X= merged_data_result[]\n",
    "y= merged_data_result['RAIV']"
   ]
  },
  {
   "cell_type": "code",
   "execution_count": null,
   "metadata": {},
   "outputs": [],
   "source": [
    "# 상수항 넣기\n",
    "X= np.c_[X, [1]*len(X)]\n",
    "X[:5]\n",
    "\n",
    "lm = sm.OLS(y, X).fit()\n",
    "lm.summary()\n",
    "\n",
    "# ols?? #잔차 확인? resid\n",
    "# R-squared"
   ]
  },
  {
   "cell_type": "code",
   "execution_count": null,
   "metadata": {},
   "outputs": [],
   "source": [
    "pred = lm.predict(X)\n",
    "\n",
    "sns.scatterplot(x=X[:,0], y=y)\n",
    "plt.plot(X[:,0], pred, 'r', ls='dashed', lw=3);"
   ]
  },
  {
   "cell_type": "code",
   "execution_count": null,
   "metadata": {},
   "outputs": [],
   "source": [
    "# 참값, 예측값 -> y=x 기울기가 1인 선이 모여있으면 좋음\n",
    "sns.scatterplot(x=y, y=pred)\n",
    "plt.plot([min(y), max(y)], [min(y), max(y)], 'r', ls='dashed', lw=3);"
   ]
  },
  {
   "cell_type": "code",
   "execution_count": null,
   "metadata": {},
   "outputs": [],
   "source": [
    "from sklearn.tree import DecisionTreeRegressor\n",
    "from sklearn.ensemble import RandomForestRegressor\n",
    "\n",
    "def train_decision_tree(X, y, max_depth=None, min_samples_split=2):\n",
    "    model = DecisionTreeRegressor(max_depth=max_depth, min_samples_split=min_samples_split)\n",
    "    model.fit(X, y)\n",
    "    return model\n",
    "\n",
    "def train_random_forest(X, y, n_estimators=100, max_depth=None, min_samples_split=2):\n",
    "    model = RandomForestRegressor(n_estimators=n_estimators, max_depth=max_depth, min_samples_split=min_samples_split)\n",
    "    model.fit(X, y)\n",
    "    return model\n",
    "\n",
    "# 예시\n",
    "decision_tree_model = train_decision_tree(X_train, y_train, max_depth=5)\n",
    "random_forest_model = train_random_forest(X_train, y_train)"
   ]
  },
  {
   "cell_type": "code",
   "execution_count": null,
   "metadata": {},
   "outputs": [],
   "source": [
    "# 성능평가?\n",
    "- R-squared가 높을수록좋음 => 너무 믿으면 안됨 / AIC 낮을수록 좋음 - 모델이 데이터에 잘 반영되었다는 측정하기위한 도구\n",
    "\n",
    "# 모델평가 RMS\n",
    "from sklearn.metrics import mean_squared_error\n",
    "pred_tr = reg.predict(X_train)\n",
    "pred_test = reg.predict(X_test)\n",
    "rms_tr = (np.sqrt(mean_squared_error(y_train, pred_tr)))\n",
    "rms_test = (np.sqrt(mean_squared_error(y_test, pred_test)))\n",
    "\n",
    "print('RMS of Train : ',rms_tr)\n",
    "print('RMS of Test : ',rms_test)"
   ]
  }
 ],
 "metadata": {
  "kernelspec": {
   "display_name": "ds_study",
   "language": "python",
   "name": "python3"
  },
  "language_info": {
   "codemirror_mode": {
    "name": "ipython",
    "version": 3
   },
   "file_extension": ".py",
   "mimetype": "text/x-python",
   "name": "python",
   "nbconvert_exporter": "python",
   "pygments_lexer": "ipython3",
   "version": "3.8.18"
  }
 },
 "nbformat": 4,
 "nbformat_minor": 2
}
