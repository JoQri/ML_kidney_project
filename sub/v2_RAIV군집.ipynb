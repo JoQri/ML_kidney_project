{
  "cells": [
    {
      "cell_type": "markdown",
      "metadata": {
        "id": "PMWQwwfdHDZu"
      },
      "source": [
        "# 이상치 제거 버전"
      ]
    },
    {
      "cell_type": "markdown",
      "metadata": {
        "id": "Yy9okxENHRI-"
      },
      "source": [
        "# 1. 데이터 불러오기"
      ]
    },
    {
      "cell_type": "code",
      "execution_count": 1,
      "metadata": {
        "id": "6KrTLJ0PYyIk"
      },
      "outputs": [],
      "source": [
        "import pandas as pd\n",
        "import numpy as np\n",
        "import seaborn as sns\n",
        "import matplotlib.pyplot as plt\n",
        "\n",
        "import plotly.express as px\n",
        "import plotly.graph_objects as go\n",
        "\n",
        "from sklearn.model_selection import train_test_split\n",
        "from sklearn.metrics import silhouette_score\n",
        "from sklearn.cluster import KMeans\n",
        "\n",
        "import warnings\n",
        "warnings.filterwarnings(action='ignore')"
      ]
    },
    {
      "cell_type": "code",
      "execution_count": 2,
      "metadata": {
        "id": "Nrcs4zdjY9Pd"
      },
      "outputs": [],
      "source": [
        "padua = pd.read_csv('../data/kideny_PADUA_upload.csv')\n",
        "renal = pd.read_csv('../data/kideny_RENAL_upload.csv')\n",
        "treat = pd.read_csv('../data/kidney_treat_upload.csv')"
      ]
    },
    {
      "cell_type": "markdown",
      "metadata": {
        "id": "PvhpeVyivOyP"
      },
      "source": [
        "# 2. 데이터 정리\n",
        "- V1 동일 내용 생략"
      ]
    },
    {
      "cell_type": "code",
      "execution_count": 3,
      "metadata": {
        "id": "jcZGVLvPZNt7"
      },
      "outputs": [],
      "source": [
        "# padua_data, renal_data 데이터 merge\n",
        "merged_data = pd.merge(padua, renal, on='serial')\n",
        "# padua 에서 중복 컬럼 삭제\n",
        "merged_data = merged_data.drop(['Tumor_PADUA', 'Exophytic_PADUA'], axis=1)\n",
        "# treat 데이터 merge\n",
        "merged_result = pd.merge(merged_data, treat, on='serial', how='left')\n",
        "# serial을 인덱스로 설정\n",
        "merged_result.set_index('serial', inplace=True)"
      ]
    },
    {
      "cell_type": "code",
      "execution_count": 4,
      "metadata": {
        "colab": {
          "base_uri": "https://localhost:8080/",
          "height": 455
        },
        "id": "sU1N_wksI1Wc",
        "outputId": "de7185d5-93f6-40a4-fc69-0132363ee4ee"
      },
      "outputs": [],
      "source": [
        "merged_result = merged_result.rename(columns={'Radius_RENAL': 'T_size', 'Exophytic_RENAL':'T_exophytic',\n",
        "                            'Rim_PADUA':'T_surface_loc','Polarlocation_PADUA':'T_height_loc',\n",
        "                            'Collectingsystem_PADUA':'T_GM_over','Sinus_PADUA':'T_Sinus_dt',\n",
        "                            'Nearness_RENAL':'T_near_Ureter','APX_RENAL':'T_APX','Location_RENAL':'T_rel_Ureter','RAIV_1': 'RAIV'\n",
        "                            })"
      ]
    },
    {
      "cell_type": "code",
      "execution_count": 5,
      "metadata": {},
      "outputs": [],
      "source": [
        "merged_result = merged_result.dropna()"
      ]
    },
    {
      "cell_type": "code",
      "execution_count": 6,
      "metadata": {
        "colab": {
          "base_uri": "https://localhost:8080/",
          "height": 238
        },
        "id": "ONIr_EllwL5O",
        "outputId": "d9039ea5-ab38-4b68-b14d-c3ca64d8e483"
      },
      "outputs": [],
      "source": [
        "merged_result['Total'] = merged_result[['PADUA_total', 'RENAL_total']].sum(axis=1)\n",
        "merged_result.drop(columns=['PADUA_total', 'RENAL_total'], inplace=True)"
      ]
    },
    {
      "cell_type": "code",
      "execution_count": 7,
      "metadata": {},
      "outputs": [],
      "source": [
        "merged_result['T_size_exo'] = merged_result['T_size'] + merged_result['T_exophytic']"
      ]
    },
    {
      "cell_type": "code",
      "execution_count": 8,
      "metadata": {},
      "outputs": [],
      "source": [
        "merged_result = merged_result[['T_surface_loc', 'T_Sinus_dt', 'T_height_loc', 'T_GM_over', 'T_size', 'T_exophytic', 'T_near_Ureter', 'T_rel_Ureter', 'T_APX', 'Total', 'T_size_exo', 'RAIV']]"
      ]
    },
    {
      "cell_type": "code",
      "execution_count": 9,
      "metadata": {
        "colab": {
          "base_uri": "https://localhost:8080/",
          "height": 455
        },
        "id": "7-TqCn99haul",
        "outputId": "7aaf4129-1c84-41b2-8cb0-f8f756d209ef"
      },
      "outputs": [],
      "source": [
        "merged_result = merged_result.dropna()"
      ]
    },
    {
      "cell_type": "code",
      "execution_count": 10,
      "metadata": {},
      "outputs": [
        {
          "data": {
            "text/html": [
              "<div>\n",
              "<style scoped>\n",
              "    .dataframe tbody tr th:only-of-type {\n",
              "        vertical-align: middle;\n",
              "    }\n",
              "\n",
              "    .dataframe tbody tr th {\n",
              "        vertical-align: top;\n",
              "    }\n",
              "\n",
              "    .dataframe thead th {\n",
              "        text-align: right;\n",
              "    }\n",
              "</style>\n",
              "<table border=\"1\" class=\"dataframe\">\n",
              "  <thead>\n",
              "    <tr style=\"text-align: right;\">\n",
              "      <th></th>\n",
              "      <th>T_surface_loc</th>\n",
              "      <th>T_Sinus_dt</th>\n",
              "      <th>T_height_loc</th>\n",
              "      <th>T_GM_over</th>\n",
              "      <th>T_size</th>\n",
              "      <th>T_exophytic</th>\n",
              "      <th>T_near_Ureter</th>\n",
              "      <th>T_rel_Ureter</th>\n",
              "      <th>T_APX</th>\n",
              "      <th>Total</th>\n",
              "      <th>T_size_exo</th>\n",
              "      <th>RAIV</th>\n",
              "    </tr>\n",
              "    <tr>\n",
              "      <th>serial</th>\n",
              "      <th></th>\n",
              "      <th></th>\n",
              "      <th></th>\n",
              "      <th></th>\n",
              "      <th></th>\n",
              "      <th></th>\n",
              "      <th></th>\n",
              "      <th></th>\n",
              "      <th></th>\n",
              "      <th></th>\n",
              "      <th></th>\n",
              "      <th></th>\n",
              "    </tr>\n",
              "  </thead>\n",
              "  <tbody>\n",
              "    <tr>\n",
              "      <th>1</th>\n",
              "      <td>2.0</td>\n",
              "      <td>1.0</td>\n",
              "      <td>1.0</td>\n",
              "      <td>1.0</td>\n",
              "      <td>2.0</td>\n",
              "      <td>1.0</td>\n",
              "      <td>1.0</td>\n",
              "      <td>1.0</td>\n",
              "      <td>2.0</td>\n",
              "      <td>12</td>\n",
              "      <td>3.0</td>\n",
              "      <td>51.1</td>\n",
              "    </tr>\n",
              "    <tr>\n",
              "      <th>2</th>\n",
              "      <td>1.0</td>\n",
              "      <td>1.0</td>\n",
              "      <td>2.0</td>\n",
              "      <td>1.0</td>\n",
              "      <td>1.0</td>\n",
              "      <td>2.0</td>\n",
              "      <td>2.0</td>\n",
              "      <td>2.0</td>\n",
              "      <td>2.0</td>\n",
              "      <td>13</td>\n",
              "      <td>3.0</td>\n",
              "      <td>46.1</td>\n",
              "    </tr>\n",
              "    <tr>\n",
              "      <th>3</th>\n",
              "      <td>1.0</td>\n",
              "      <td>1.0</td>\n",
              "      <td>2.0</td>\n",
              "      <td>1.0</td>\n",
              "      <td>1.0</td>\n",
              "      <td>1.0</td>\n",
              "      <td>1.0</td>\n",
              "      <td>1.0</td>\n",
              "      <td>1.0</td>\n",
              "      <td>10</td>\n",
              "      <td>2.0</td>\n",
              "      <td>14.8</td>\n",
              "    </tr>\n",
              "    <tr>\n",
              "      <th>4</th>\n",
              "      <td>1.0</td>\n",
              "      <td>1.0</td>\n",
              "      <td>2.0</td>\n",
              "      <td>2.0</td>\n",
              "      <td>1.0</td>\n",
              "      <td>1.0</td>\n",
              "      <td>3.0</td>\n",
              "      <td>3.0</td>\n",
              "      <td>2.0</td>\n",
              "      <td>13</td>\n",
              "      <td>2.0</td>\n",
              "      <td>19.7</td>\n",
              "    </tr>\n",
              "    <tr>\n",
              "      <th>5</th>\n",
              "      <td>1.0</td>\n",
              "      <td>1.0</td>\n",
              "      <td>2.0</td>\n",
              "      <td>1.0</td>\n",
              "      <td>1.0</td>\n",
              "      <td>2.0</td>\n",
              "      <td>1.0</td>\n",
              "      <td>3.0</td>\n",
              "      <td>1.0</td>\n",
              "      <td>12</td>\n",
              "      <td>3.0</td>\n",
              "      <td>14.8</td>\n",
              "    </tr>\n",
              "    <tr>\n",
              "      <th>...</th>\n",
              "      <td>...</td>\n",
              "      <td>...</td>\n",
              "      <td>...</td>\n",
              "      <td>...</td>\n",
              "      <td>...</td>\n",
              "      <td>...</td>\n",
              "      <td>...</td>\n",
              "      <td>...</td>\n",
              "      <td>...</td>\n",
              "      <td>...</td>\n",
              "      <td>...</td>\n",
              "      <td>...</td>\n",
              "    </tr>\n",
              "    <tr>\n",
              "      <th>408</th>\n",
              "      <td>1.0</td>\n",
              "      <td>1.0</td>\n",
              "      <td>2.0</td>\n",
              "      <td>1.0</td>\n",
              "      <td>1.0</td>\n",
              "      <td>2.0</td>\n",
              "      <td>1.0</td>\n",
              "      <td>3.0</td>\n",
              "      <td>1.0</td>\n",
              "      <td>12</td>\n",
              "      <td>3.0</td>\n",
              "      <td>21.3</td>\n",
              "    </tr>\n",
              "    <tr>\n",
              "      <th>409</th>\n",
              "      <td>1.0</td>\n",
              "      <td>1.0</td>\n",
              "      <td>2.0</td>\n",
              "      <td>1.0</td>\n",
              "      <td>1.0</td>\n",
              "      <td>2.0</td>\n",
              "      <td>1.0</td>\n",
              "      <td>3.0</td>\n",
              "      <td>1.0</td>\n",
              "      <td>12</td>\n",
              "      <td>3.0</td>\n",
              "      <td>30.5</td>\n",
              "    </tr>\n",
              "    <tr>\n",
              "      <th>410</th>\n",
              "      <td>1.0</td>\n",
              "      <td>1.0</td>\n",
              "      <td>1.0</td>\n",
              "      <td>1.0</td>\n",
              "      <td>1.0</td>\n",
              "      <td>2.0</td>\n",
              "      <td>1.0</td>\n",
              "      <td>1.0</td>\n",
              "      <td>1.0</td>\n",
              "      <td>11</td>\n",
              "      <td>3.0</td>\n",
              "      <td>70.7</td>\n",
              "    </tr>\n",
              "    <tr>\n",
              "      <th>411</th>\n",
              "      <td>2.0</td>\n",
              "      <td>2.0</td>\n",
              "      <td>1.0</td>\n",
              "      <td>2.0</td>\n",
              "      <td>1.0</td>\n",
              "      <td>2.0</td>\n",
              "      <td>2.0</td>\n",
              "      <td>1.0</td>\n",
              "      <td>2.0</td>\n",
              "      <td>15</td>\n",
              "      <td>3.0</td>\n",
              "      <td>12.6</td>\n",
              "    </tr>\n",
              "    <tr>\n",
              "      <th>412</th>\n",
              "      <td>1.0</td>\n",
              "      <td>1.0</td>\n",
              "      <td>2.0</td>\n",
              "      <td>1.0</td>\n",
              "      <td>1.0</td>\n",
              "      <td>1.0</td>\n",
              "      <td>1.0</td>\n",
              "      <td>3.0</td>\n",
              "      <td>1.0</td>\n",
              "      <td>10</td>\n",
              "      <td>2.0</td>\n",
              "      <td>11.8</td>\n",
              "    </tr>\n",
              "  </tbody>\n",
              "</table>\n",
              "<p>389 rows × 12 columns</p>\n",
              "</div>"
            ],
            "text/plain": [
              "        T_surface_loc  T_Sinus_dt  T_height_loc  T_GM_over  T_size  \\\n",
              "serial                                                               \n",
              "1                 2.0         1.0           1.0        1.0     2.0   \n",
              "2                 1.0         1.0           2.0        1.0     1.0   \n",
              "3                 1.0         1.0           2.0        1.0     1.0   \n",
              "4                 1.0         1.0           2.0        2.0     1.0   \n",
              "5                 1.0         1.0           2.0        1.0     1.0   \n",
              "...               ...         ...           ...        ...     ...   \n",
              "408               1.0         1.0           2.0        1.0     1.0   \n",
              "409               1.0         1.0           2.0        1.0     1.0   \n",
              "410               1.0         1.0           1.0        1.0     1.0   \n",
              "411               2.0         2.0           1.0        2.0     1.0   \n",
              "412               1.0         1.0           2.0        1.0     1.0   \n",
              "\n",
              "        T_exophytic  T_near_Ureter  T_rel_Ureter  T_APX  Total  T_size_exo  \\\n",
              "serial                                                                       \n",
              "1               1.0            1.0           1.0    2.0     12         3.0   \n",
              "2               2.0            2.0           2.0    2.0     13         3.0   \n",
              "3               1.0            1.0           1.0    1.0     10         2.0   \n",
              "4               1.0            3.0           3.0    2.0     13         2.0   \n",
              "5               2.0            1.0           3.0    1.0     12         3.0   \n",
              "...             ...            ...           ...    ...    ...         ...   \n",
              "408             2.0            1.0           3.0    1.0     12         3.0   \n",
              "409             2.0            1.0           3.0    1.0     12         3.0   \n",
              "410             2.0            1.0           1.0    1.0     11         3.0   \n",
              "411             2.0            2.0           1.0    2.0     15         3.0   \n",
              "412             1.0            1.0           3.0    1.0     10         2.0   \n",
              "\n",
              "        RAIV  \n",
              "serial        \n",
              "1       51.1  \n",
              "2       46.1  \n",
              "3       14.8  \n",
              "4       19.7  \n",
              "5       14.8  \n",
              "...      ...  \n",
              "408     21.3  \n",
              "409     30.5  \n",
              "410     70.7  \n",
              "411     12.6  \n",
              "412     11.8  \n",
              "\n",
              "[389 rows x 12 columns]"
            ]
          },
          "execution_count": 10,
          "metadata": {},
          "output_type": "execute_result"
        }
      ],
      "source": [
        "merged_result"
      ]
    },
    {
      "cell_type": "code",
      "execution_count": 11,
      "metadata": {
        "colab": {
          "base_uri": "https://localhost:8080/"
        },
        "id": "SvlhxOgfi-bz",
        "outputId": "2e6cae38-d930-4326-fbfc-72a719a68246"
      },
      "outputs": [
        {
          "name": "stdout",
          "output_type": "stream",
          "text": [
            "<class 'pandas.core.frame.DataFrame'>\n",
            "Index: 389 entries, 1 to 412\n",
            "Data columns (total 12 columns):\n",
            " #   Column         Non-Null Count  Dtype  \n",
            "---  ------         --------------  -----  \n",
            " 0   T_surface_loc  389 non-null    float64\n",
            " 1   T_Sinus_dt     389 non-null    float64\n",
            " 2   T_height_loc   389 non-null    float64\n",
            " 3   T_GM_over      389 non-null    float64\n",
            " 4   T_size         389 non-null    float64\n",
            " 5   T_exophytic    389 non-null    float64\n",
            " 6   T_near_Ureter  389 non-null    float64\n",
            " 7   T_rel_Ureter   389 non-null    float64\n",
            " 8   T_APX          389 non-null    float64\n",
            " 9   Total          389 non-null    int64  \n",
            " 10  T_size_exo     389 non-null    float64\n",
            " 11  RAIV           389 non-null    float64\n",
            "dtypes: float64(11), int64(1)\n",
            "memory usage: 39.5 KB\n"
          ]
        }
      ],
      "source": [
        "merged_result.info()"
      ]
    },
    {
      "cell_type": "markdown",
      "metadata": {
        "id": "lJHPYf6DJ10a"
      },
      "source": [
        "# 3. 데이터 탐색(EDA)\n",
        "- V1버전 동일 내용 생략"
      ]
    },
    {
      "cell_type": "markdown",
      "metadata": {},
      "source": [
        "---"
      ]
    },
    {
      "cell_type": "markdown",
      "metadata": {
        "id": "IbU_SIHVdm_c"
      },
      "source": [
        "## 이상치제거O : merged_data_80이라는 변수를 제거한 merged_drop 을 사용하세요 (아래에 생성해둠) (v2버전)\n"
      ]
    },
    {
      "cell_type": "markdown",
      "metadata": {
        "id": "iaCyJ0jj0Fzw"
      },
      "source": [
        "RAIV가 80이상인 데이터 따로 변수에 할당해줌"
      ]
    },
    {
      "cell_type": "code",
      "execution_count": 12,
      "metadata": {
        "colab": {
          "base_uri": "https://localhost:8080/",
          "height": 645
        },
        "id": "OLWeHvGCscdQ",
        "outputId": "def68cc5-e884-438d-b62d-e62cd2af5ac3"
      },
      "outputs": [
        {
          "data": {
            "text/html": [
              "<div>\n",
              "<style scoped>\n",
              "    .dataframe tbody tr th:only-of-type {\n",
              "        vertical-align: middle;\n",
              "    }\n",
              "\n",
              "    .dataframe tbody tr th {\n",
              "        vertical-align: top;\n",
              "    }\n",
              "\n",
              "    .dataframe thead th {\n",
              "        text-align: right;\n",
              "    }\n",
              "</style>\n",
              "<table border=\"1\" class=\"dataframe\">\n",
              "  <thead>\n",
              "    <tr style=\"text-align: right;\">\n",
              "      <th></th>\n",
              "      <th>T_surface_loc</th>\n",
              "      <th>T_Sinus_dt</th>\n",
              "      <th>T_height_loc</th>\n",
              "      <th>T_GM_over</th>\n",
              "      <th>T_size</th>\n",
              "      <th>T_exophytic</th>\n",
              "      <th>T_near_Ureter</th>\n",
              "      <th>T_rel_Ureter</th>\n",
              "      <th>T_APX</th>\n",
              "      <th>Total</th>\n",
              "      <th>T_size_exo</th>\n",
              "      <th>RAIV</th>\n",
              "    </tr>\n",
              "    <tr>\n",
              "      <th>serial</th>\n",
              "      <th></th>\n",
              "      <th></th>\n",
              "      <th></th>\n",
              "      <th></th>\n",
              "      <th></th>\n",
              "      <th></th>\n",
              "      <th></th>\n",
              "      <th></th>\n",
              "      <th></th>\n",
              "      <th></th>\n",
              "      <th></th>\n",
              "      <th></th>\n",
              "    </tr>\n",
              "  </thead>\n",
              "  <tbody>\n",
              "    <tr>\n",
              "      <th>11</th>\n",
              "      <td>2.0</td>\n",
              "      <td>1.0</td>\n",
              "      <td>1.0</td>\n",
              "      <td>1.0</td>\n",
              "      <td>1.0</td>\n",
              "      <td>1.0</td>\n",
              "      <td>1.0</td>\n",
              "      <td>2.0</td>\n",
              "      <td>1.0</td>\n",
              "      <td>10</td>\n",
              "      <td>2.0</td>\n",
              "      <td>95.7</td>\n",
              "    </tr>\n",
              "    <tr>\n",
              "      <th>16</th>\n",
              "      <td>1.0</td>\n",
              "      <td>2.0</td>\n",
              "      <td>1.0</td>\n",
              "      <td>1.0</td>\n",
              "      <td>1.0</td>\n",
              "      <td>2.0</td>\n",
              "      <td>3.0</td>\n",
              "      <td>1.0</td>\n",
              "      <td>2.0</td>\n",
              "      <td>14</td>\n",
              "      <td>3.0</td>\n",
              "      <td>85.4</td>\n",
              "    </tr>\n",
              "    <tr>\n",
              "      <th>19</th>\n",
              "      <td>2.0</td>\n",
              "      <td>1.0</td>\n",
              "      <td>2.0</td>\n",
              "      <td>1.0</td>\n",
              "      <td>1.0</td>\n",
              "      <td>3.0</td>\n",
              "      <td>1.0</td>\n",
              "      <td>2.0</td>\n",
              "      <td>2.0</td>\n",
              "      <td>15</td>\n",
              "      <td>4.0</td>\n",
              "      <td>114.0</td>\n",
              "    </tr>\n",
              "    <tr>\n",
              "      <th>22</th>\n",
              "      <td>1.0</td>\n",
              "      <td>2.0</td>\n",
              "      <td>1.0</td>\n",
              "      <td>1.0</td>\n",
              "      <td>1.0</td>\n",
              "      <td>3.0</td>\n",
              "      <td>3.0</td>\n",
              "      <td>1.0</td>\n",
              "      <td>1.0</td>\n",
              "      <td>16</td>\n",
              "      <td>4.0</td>\n",
              "      <td>154.8</td>\n",
              "    </tr>\n",
              "    <tr>\n",
              "      <th>46</th>\n",
              "      <td>1.0</td>\n",
              "      <td>1.0</td>\n",
              "      <td>1.0</td>\n",
              "      <td>1.0</td>\n",
              "      <td>1.0</td>\n",
              "      <td>2.0</td>\n",
              "      <td>1.0</td>\n",
              "      <td>1.0</td>\n",
              "      <td>1.0</td>\n",
              "      <td>11</td>\n",
              "      <td>3.0</td>\n",
              "      <td>94.2</td>\n",
              "    </tr>\n",
              "    <tr>\n",
              "      <th>50</th>\n",
              "      <td>1.0</td>\n",
              "      <td>1.0</td>\n",
              "      <td>1.0</td>\n",
              "      <td>1.0</td>\n",
              "      <td>1.0</td>\n",
              "      <td>3.0</td>\n",
              "      <td>1.0</td>\n",
              "      <td>3.0</td>\n",
              "      <td>1.0</td>\n",
              "      <td>13</td>\n",
              "      <td>4.0</td>\n",
              "      <td>111.3</td>\n",
              "    </tr>\n",
              "    <tr>\n",
              "      <th>53</th>\n",
              "      <td>2.0</td>\n",
              "      <td>1.0</td>\n",
              "      <td>1.0</td>\n",
              "      <td>1.0</td>\n",
              "      <td>1.0</td>\n",
              "      <td>3.0</td>\n",
              "      <td>1.0</td>\n",
              "      <td>2.0</td>\n",
              "      <td>2.0</td>\n",
              "      <td>14</td>\n",
              "      <td>4.0</td>\n",
              "      <td>103.6</td>\n",
              "    </tr>\n",
              "    <tr>\n",
              "      <th>60</th>\n",
              "      <td>1.0</td>\n",
              "      <td>1.0</td>\n",
              "      <td>2.0</td>\n",
              "      <td>1.0</td>\n",
              "      <td>1.0</td>\n",
              "      <td>3.0</td>\n",
              "      <td>1.0</td>\n",
              "      <td>3.0</td>\n",
              "      <td>1.0</td>\n",
              "      <td>14</td>\n",
              "      <td>4.0</td>\n",
              "      <td>143.4</td>\n",
              "    </tr>\n",
              "    <tr>\n",
              "      <th>79</th>\n",
              "      <td>1.0</td>\n",
              "      <td>1.0</td>\n",
              "      <td>2.0</td>\n",
              "      <td>1.0</td>\n",
              "      <td>1.0</td>\n",
              "      <td>2.0</td>\n",
              "      <td>3.0</td>\n",
              "      <td>2.0</td>\n",
              "      <td>2.0</td>\n",
              "      <td>14</td>\n",
              "      <td>3.0</td>\n",
              "      <td>93.6</td>\n",
              "    </tr>\n",
              "    <tr>\n",
              "      <th>87</th>\n",
              "      <td>2.0</td>\n",
              "      <td>1.0</td>\n",
              "      <td>1.0</td>\n",
              "      <td>1.0</td>\n",
              "      <td>1.0</td>\n",
              "      <td>1.0</td>\n",
              "      <td>3.0</td>\n",
              "      <td>1.0</td>\n",
              "      <td>2.0</td>\n",
              "      <td>12</td>\n",
              "      <td>2.0</td>\n",
              "      <td>82.3</td>\n",
              "    </tr>\n",
              "    <tr>\n",
              "      <th>88</th>\n",
              "      <td>2.0</td>\n",
              "      <td>1.0</td>\n",
              "      <td>1.0</td>\n",
              "      <td>1.0</td>\n",
              "      <td>1.0</td>\n",
              "      <td>1.0</td>\n",
              "      <td>3.0</td>\n",
              "      <td>1.0</td>\n",
              "      <td>2.0</td>\n",
              "      <td>12</td>\n",
              "      <td>2.0</td>\n",
              "      <td>88.5</td>\n",
              "    </tr>\n",
              "    <tr>\n",
              "      <th>89</th>\n",
              "      <td>1.0</td>\n",
              "      <td>1.0</td>\n",
              "      <td>1.0</td>\n",
              "      <td>1.0</td>\n",
              "      <td>2.0</td>\n",
              "      <td>1.0</td>\n",
              "      <td>3.0</td>\n",
              "      <td>2.0</td>\n",
              "      <td>2.0</td>\n",
              "      <td>13</td>\n",
              "      <td>3.0</td>\n",
              "      <td>82.2</td>\n",
              "    </tr>\n",
              "    <tr>\n",
              "      <th>127</th>\n",
              "      <td>2.0</td>\n",
              "      <td>2.0</td>\n",
              "      <td>1.0</td>\n",
              "      <td>1.0</td>\n",
              "      <td>1.0</td>\n",
              "      <td>1.0</td>\n",
              "      <td>1.0</td>\n",
              "      <td>1.0</td>\n",
              "      <td>1.0</td>\n",
              "      <td>11</td>\n",
              "      <td>2.0</td>\n",
              "      <td>82.2</td>\n",
              "    </tr>\n",
              "    <tr>\n",
              "      <th>378</th>\n",
              "      <td>1.0</td>\n",
              "      <td>1.0</td>\n",
              "      <td>2.0</td>\n",
              "      <td>1.0</td>\n",
              "      <td>1.0</td>\n",
              "      <td>2.0</td>\n",
              "      <td>3.0</td>\n",
              "      <td>3.0</td>\n",
              "      <td>2.0</td>\n",
              "      <td>14</td>\n",
              "      <td>3.0</td>\n",
              "      <td>106.0</td>\n",
              "    </tr>\n",
              "    <tr>\n",
              "      <th>388</th>\n",
              "      <td>2.0</td>\n",
              "      <td>1.0</td>\n",
              "      <td>1.0</td>\n",
              "      <td>1.0</td>\n",
              "      <td>2.0</td>\n",
              "      <td>2.0</td>\n",
              "      <td>3.0</td>\n",
              "      <td>1.0</td>\n",
              "      <td>2.0</td>\n",
              "      <td>16</td>\n",
              "      <td>4.0</td>\n",
              "      <td>121.1</td>\n",
              "    </tr>\n",
              "    <tr>\n",
              "      <th>389</th>\n",
              "      <td>1.0</td>\n",
              "      <td>1.0</td>\n",
              "      <td>1.0</td>\n",
              "      <td>1.0</td>\n",
              "      <td>1.0</td>\n",
              "      <td>2.0</td>\n",
              "      <td>2.0</td>\n",
              "      <td>2.0</td>\n",
              "      <td>2.0</td>\n",
              "      <td>12</td>\n",
              "      <td>3.0</td>\n",
              "      <td>122.7</td>\n",
              "    </tr>\n",
              "    <tr>\n",
              "      <th>394</th>\n",
              "      <td>1.0</td>\n",
              "      <td>1.0</td>\n",
              "      <td>2.0</td>\n",
              "      <td>1.0</td>\n",
              "      <td>1.0</td>\n",
              "      <td>2.0</td>\n",
              "      <td>3.0</td>\n",
              "      <td>2.0</td>\n",
              "      <td>1.0</td>\n",
              "      <td>14</td>\n",
              "      <td>3.0</td>\n",
              "      <td>104.8</td>\n",
              "    </tr>\n",
              "    <tr>\n",
              "      <th>406</th>\n",
              "      <td>2.0</td>\n",
              "      <td>1.0</td>\n",
              "      <td>1.0</td>\n",
              "      <td>1.0</td>\n",
              "      <td>1.0</td>\n",
              "      <td>1.0</td>\n",
              "      <td>1.0</td>\n",
              "      <td>1.0</td>\n",
              "      <td>2.0</td>\n",
              "      <td>10</td>\n",
              "      <td>2.0</td>\n",
              "      <td>97.9</td>\n",
              "    </tr>\n",
              "  </tbody>\n",
              "</table>\n",
              "</div>"
            ],
            "text/plain": [
              "        T_surface_loc  T_Sinus_dt  T_height_loc  T_GM_over  T_size  \\\n",
              "serial                                                               \n",
              "11                2.0         1.0           1.0        1.0     1.0   \n",
              "16                1.0         2.0           1.0        1.0     1.0   \n",
              "19                2.0         1.0           2.0        1.0     1.0   \n",
              "22                1.0         2.0           1.0        1.0     1.0   \n",
              "46                1.0         1.0           1.0        1.0     1.0   \n",
              "50                1.0         1.0           1.0        1.0     1.0   \n",
              "53                2.0         1.0           1.0        1.0     1.0   \n",
              "60                1.0         1.0           2.0        1.0     1.0   \n",
              "79                1.0         1.0           2.0        1.0     1.0   \n",
              "87                2.0         1.0           1.0        1.0     1.0   \n",
              "88                2.0         1.0           1.0        1.0     1.0   \n",
              "89                1.0         1.0           1.0        1.0     2.0   \n",
              "127               2.0         2.0           1.0        1.0     1.0   \n",
              "378               1.0         1.0           2.0        1.0     1.0   \n",
              "388               2.0         1.0           1.0        1.0     2.0   \n",
              "389               1.0         1.0           1.0        1.0     1.0   \n",
              "394               1.0         1.0           2.0        1.0     1.0   \n",
              "406               2.0         1.0           1.0        1.0     1.0   \n",
              "\n",
              "        T_exophytic  T_near_Ureter  T_rel_Ureter  T_APX  Total  T_size_exo  \\\n",
              "serial                                                                       \n",
              "11              1.0            1.0           2.0    1.0     10         2.0   \n",
              "16              2.0            3.0           1.0    2.0     14         3.0   \n",
              "19              3.0            1.0           2.0    2.0     15         4.0   \n",
              "22              3.0            3.0           1.0    1.0     16         4.0   \n",
              "46              2.0            1.0           1.0    1.0     11         3.0   \n",
              "50              3.0            1.0           3.0    1.0     13         4.0   \n",
              "53              3.0            1.0           2.0    2.0     14         4.0   \n",
              "60              3.0            1.0           3.0    1.0     14         4.0   \n",
              "79              2.0            3.0           2.0    2.0     14         3.0   \n",
              "87              1.0            3.0           1.0    2.0     12         2.0   \n",
              "88              1.0            3.0           1.0    2.0     12         2.0   \n",
              "89              1.0            3.0           2.0    2.0     13         3.0   \n",
              "127             1.0            1.0           1.0    1.0     11         2.0   \n",
              "378             2.0            3.0           3.0    2.0     14         3.0   \n",
              "388             2.0            3.0           1.0    2.0     16         4.0   \n",
              "389             2.0            2.0           2.0    2.0     12         3.0   \n",
              "394             2.0            3.0           2.0    1.0     14         3.0   \n",
              "406             1.0            1.0           1.0    2.0     10         2.0   \n",
              "\n",
              "         RAIV  \n",
              "serial         \n",
              "11       95.7  \n",
              "16       85.4  \n",
              "19      114.0  \n",
              "22      154.8  \n",
              "46       94.2  \n",
              "50      111.3  \n",
              "53      103.6  \n",
              "60      143.4  \n",
              "79       93.6  \n",
              "87       82.3  \n",
              "88       88.5  \n",
              "89       82.2  \n",
              "127      82.2  \n",
              "378     106.0  \n",
              "388     121.1  \n",
              "389     122.7  \n",
              "394     104.8  \n",
              "406      97.9  "
            ]
          },
          "execution_count": 12,
          "metadata": {},
          "output_type": "execute_result"
        }
      ],
      "source": [
        "merged_data_80 = merged_result[merged_result['RAIV'] > 80]\n",
        "merged_data_80"
      ]
    },
    {
      "cell_type": "markdown",
      "metadata": {
        "id": "bh3oHit50NNI"
      },
      "source": [
        "RAIV80이상인 데이터없는 데이터 새로 만들어줌\n",
        "(merged_data는 살려둠)"
      ]
    },
    {
      "cell_type": "code",
      "execution_count": 13,
      "metadata": {
        "id": "_4UsbRMD8JhD"
      },
      "outputs": [],
      "source": [
        "result_copy = merged_result.copy()"
      ]
    },
    {
      "cell_type": "markdown",
      "metadata": {
        "id": "wD0EYcOQfZp1"
      },
      "source": [
        "## 2. v2 데이터 (이상치제거O)"
      ]
    },
    {
      "cell_type": "code",
      "execution_count": 14,
      "metadata": {
        "colab": {
          "base_uri": "https://localhost:8080/"
        },
        "id": "MUPA9eWNeZfI",
        "outputId": "4f16dcbd-1da3-474c-d8eb-c2efe4d1665f"
      },
      "outputs": [
        {
          "name": "stdout",
          "output_type": "stream",
          "text": [
            "<class 'pandas.core.frame.DataFrame'>\n",
            "Index: 371 entries, 1 to 412\n",
            "Data columns (total 12 columns):\n",
            " #   Column         Non-Null Count  Dtype  \n",
            "---  ------         --------------  -----  \n",
            " 0   T_surface_loc  371 non-null    float64\n",
            " 1   T_Sinus_dt     371 non-null    float64\n",
            " 2   T_height_loc   371 non-null    float64\n",
            " 3   T_GM_over      371 non-null    float64\n",
            " 4   T_size         371 non-null    float64\n",
            " 5   T_exophytic    371 non-null    float64\n",
            " 6   T_near_Ureter  371 non-null    float64\n",
            " 7   T_rel_Ureter   371 non-null    float64\n",
            " 8   T_APX          371 non-null    float64\n",
            " 9   Total          371 non-null    int64  \n",
            " 10  T_size_exo     371 non-null    float64\n",
            " 11  RAIV           371 non-null    float64\n",
            "dtypes: float64(11), int64(1)\n",
            "memory usage: 37.7 KB\n"
          ]
        }
      ],
      "source": [
        "#이상치 제거버전\n",
        "merged_drop = merged_result.drop(merged_data_80.index)\n",
        "merged_drop.info()"
      ]
    },
    {
      "cell_type": "markdown",
      "metadata": {
        "id": "Fcl_EryA43PG"
      },
      "source": [
        "# 04. 데이터 나누기(train_test_split)"
      ]
    },
    {
      "cell_type": "code",
      "execution_count": 15,
      "metadata": {},
      "outputs": [],
      "source": [
        "from sklearn.model_selection import train_test_split\n",
        "\n",
        "X = merged_drop.drop(['RAIV'], axis=1)  # 'RAIV_1' 열을 제외한 모든 열 선택\n",
        "y = merged_drop['RAIV']\n",
        "\n",
        "X_train, X_test, y_train, y_test = train_test_split(X, y, test_size=0.2, random_state=13)"
      ]
    },
    {
      "cell_type": "markdown",
      "metadata": {
        "id": "JbTGjZ7Lwskc"
      },
      "source": [
        "## 실루엣계수로 최적 군집 개수 확인"
      ]
    },
    {
      "cell_type": "code",
      "execution_count": 16,
      "metadata": {},
      "outputs": [],
      "source": [
        "# 수정 전\n",
        "# kmeans.fit(merged_drop)\n",
        "# silhouette_score_ = silhouette_score(merged_drop, kmeans.labels_)"
      ]
    },
    {
      "cell_type": "code",
      "execution_count": 17,
      "metadata": {
        "colab": {
          "base_uri": "https://localhost:8080/",
          "height": 1000
        },
        "id": "5JsQntcYwbQ9",
        "outputId": "d376b00d-4b65-498a-9bfd-a0e3527fe084"
      },
      "outputs": [
        {
          "name": "stderr",
          "output_type": "stream",
          "text": [
            "Exception in thread Thread-5:\n",
            "Traceback (most recent call last):\n",
            "  File \"c:\\Users\\rbfl7\\miniconda3\\envs\\ds_study\\lib\\threading.py\", line 932, in _bootstrap_inner\n",
            "    self.run()\n",
            "  File \"c:\\Users\\rbfl7\\miniconda3\\envs\\ds_study\\lib\\threading.py\", line 870, in run\n",
            "    self._target(*self._args, **self._kwargs)\n",
            "  File \"c:\\Users\\rbfl7\\miniconda3\\envs\\ds_study\\lib\\subprocess.py\", line 1386, in _readerthread\n",
            "    buffer.append(fh.read())\n",
            "  File \"c:\\Users\\rbfl7\\miniconda3\\envs\\ds_study\\lib\\codecs.py\", line 322, in decode\n",
            "    (result, consumed) = self._buffer_decode(data, self.errors, final)\n",
            "UnicodeDecodeError: 'utf-8' codec can't decode byte 0xb1 in position 24: invalid start byte\n"
          ]
        },
        {
          "name": "stderr",
          "output_type": "stream",
          "text": [
            "  File \"c:\\Users\\rbfl7\\miniconda3\\envs\\ds_study\\lib\\site-packages\\joblib\\externals\\loky\\backend\\context.py\", line 202, in _count_physical_cores\n",
            "    cpu_info = cpu_info.stdout.splitlines()\n"
          ]
        },
        {
          "data": {
            "image/png": "[encoded data removed]",
            "text/plain": [
              "<Figure size 640x480 with 1 Axes>"
            ]
          },
          "metadata": {},
          "output_type": "display_data"
        }
      ],
      "source": [
        "from sklearn.metrics import silhouette_score\n",
        "from sklearn.cluster import KMeans\n",
        "import matplotlib.pyplot as plt\n",
        "\n",
        "# 군집수에 따른 실루엣계수를 담을 리스트\n",
        "silhouette_scores = []\n",
        "\n",
        "# 2~10까지 군집수를 변화시키며 실루엣계수를 계산\n",
        "for n_clusters in range(2, 11):\n",
        "    # KMeans 군집화 수행\n",
        "    kmeans = KMeans(n_clusters=n_clusters, random_state=13)\n",
        "    kmeans.fit(merged_drop)\n",
        "\n",
        "    # 실루엣계수 계산\n",
        "    silhouette_score_ = silhouette_score(merged_drop, kmeans.labels_)\n",
        "    silhouette_scores.append(silhouette_score_)\n",
        "\n",
        "# 군집수에 따른 실루엣계수 그래프 그리기\n",
        "plt.plot(range(2, 11), silhouette_scores, 'bo-')\n",
        "plt.xlabel('Number of clusters')\n",
        "plt.ylabel('Silhouette score')\n",
        "plt.title('Silhouette Method')\n",
        "plt.show()"
      ]
    },
    {
      "cell_type": "markdown",
      "metadata": {
        "id": "Pnr1oxntx-Wt"
      },
      "source": [
        "실루엣 점수가 가장 높은 2개가 최적의 군집 수로 판단"
      ]
    },
    {
      "cell_type": "markdown",
      "metadata": {
        "id": "sdhhKt8v3pA0"
      },
      "source": [
        "## X_train 데이터로 군집 0 과 1로 나눔 (이상치 제거O)"
      ]
    },
    {
      "cell_type": "code",
      "execution_count": 18,
      "metadata": {},
      "outputs": [],
      "source": [
        "# 수정 전\n",
        "# kmeans.fit(merged_drop)\n",
        "# # 군집 0과 1로 나누기\n",
        "# re_cluster_0 = merged_drop[labels == 0]\n",
        "# re_cluster_1 = merged_drop[labels == 1]"
      ]
    },
    {
      "cell_type": "code",
      "execution_count": 19,
      "metadata": {
        "colab": {
          "base_uri": "https://localhost:8080/"
        },
        "id": "uh5gZaj52qfo",
        "outputId": "23f4e68e-2c14-49bb-da99-957d59ae4f25"
      },
      "outputs": [
        {
          "name": "stdout",
          "output_type": "stream",
          "text": [
            "\n",
            "mer_cluster_0:\n",
            "        T_surface_loc  T_Sinus_dt  T_height_loc  T_GM_over  T_size  \\\n",
            "serial                                                               \n",
            "3                 1.0         1.0           2.0        1.0     1.0   \n",
            "4                 1.0         1.0           2.0        2.0     1.0   \n",
            "5                 1.0         1.0           2.0        1.0     1.0   \n",
            "6                 1.0         1.0           1.0        1.0     1.0   \n",
            "17                1.0         2.0           2.0        1.0     1.0   \n",
            "\n",
            "        T_exophytic  T_near_Ureter  T_rel_Ureter  T_APX  Total  T_size_exo  \\\n",
            "serial                                                                       \n",
            "3               1.0            1.0           1.0    1.0     10         2.0   \n",
            "4               1.0            3.0           3.0    2.0     13         2.0   \n",
            "5               2.0            1.0           3.0    1.0     12         3.0   \n",
            "6               1.0            1.0           1.0    1.0      9         2.0   \n",
            "17              1.0            3.0           2.0    2.0     13         2.0   \n",
            "\n",
            "        RAIV  \n",
            "serial        \n",
            "3       14.8  \n",
            "4       19.7  \n",
            "5       14.8  \n",
            "6       18.5  \n",
            "17      31.4  \n",
            "\n",
            "mer_cluster_1:\n",
            "        T_surface_loc  T_Sinus_dt  T_height_loc  T_GM_over  T_size  \\\n",
            "serial                                                               \n",
            "1                 2.0         1.0           1.0        1.0     2.0   \n",
            "2                 1.0         1.0           2.0        1.0     1.0   \n",
            "7                 1.0         1.0           1.0        1.0     1.0   \n",
            "8                 2.0         1.0           1.0        1.0     1.0   \n",
            "9                 1.0         2.0           2.0        1.0     1.0   \n",
            "\n",
            "        T_exophytic  T_near_Ureter  T_rel_Ureter  T_APX  Total  T_size_exo  \\\n",
            "serial                                                                       \n",
            "1               1.0            1.0           1.0    2.0     12         3.0   \n",
            "2               2.0            2.0           2.0    2.0     13         3.0   \n",
            "7               1.0            2.0           1.0    2.0     10         2.0   \n",
            "8               3.0            1.0           2.0    2.0     14         4.0   \n",
            "9               2.0            3.0           3.0    2.0     15         3.0   \n",
            "\n",
            "        RAIV  \n",
            "serial        \n",
            "1       51.1  \n",
            "2       46.1  \n",
            "7       42.5  \n",
            "8       56.3  \n",
            "9       65.3  \n"
          ]
        }
      ],
      "source": [
        "# 군집화 수행\n",
        "kmeans = KMeans(n_clusters=2, random_state=13)\n",
        "kmeans.fit(merged_drop)\n",
        "\n",
        "# 군집 레이블 생성\n",
        "labels = kmeans.labels_\n",
        "\n",
        "# 군집 0과 1로 나누기\n",
        "mer_cluster_0 = merged_drop[labels == 0]\n",
        "mer_cluster_1 = merged_drop[labels == 1]\n",
        "\n",
        "# 군집 0과 1 출력\n",
        "print(\"\\nmer_cluster_0:\")\n",
        "print(mer_cluster_0.head())\n",
        "print(\"\\nmer_cluster_1:\")\n",
        "print(mer_cluster_1.head())\n"
      ]
    },
    {
      "cell_type": "markdown",
      "metadata": {},
      "source": [
        "### 군집0 과 군집1의 모든 변수들의 분포도를 2차원데이터로 시각화"
      ]
    },
    {
      "cell_type": "code",
      "execution_count": 20,
      "metadata": {},
      "outputs": [],
      "source": [
        "# 수정 전\n",
        "# # Create a list of variable names\n",
        "# variable_names = ['T_surface_loc', 'T_sinus_dt', 'T_height_loc', 'T_gm_over', 'T_size', 'T_Exophytic', 'T_near_ureter', 'T_rel_ureter', 'T_APX' , 'RAIV', 'Total', 'T_size_exo']\n",
        "\n",
        "# y=mer_cluster_0['RAIV']"
      ]
    },
    {
      "cell_type": "code",
      "execution_count": 21,
      "metadata": {
        "colab": {
          "base_uri": "https://localhost:8080/",
          "height": 1000
        },
        "id": "unEIP4Lc376e",
        "outputId": "d70a966b-9fd1-4f54-f776-aeadd173b8b2"
      },
      "outputs": [
        {
          "data": {
            "application/vnd.plotly.v1+json": {
              "config": {
                "plotlyServerURL": "https://plot.ly"
              },
              "data": [
                {
                  "mode": "markers",
                  "name": "mer_cluster_0",
                  "type": "scatter",
                  "x": [
                    1,
                    1,
                    1,
                    1,
                    1,
                    1,
                    2,
                    1,
                    2,
                    1,
                    1,
                    1,
                    1,
                    2,
                    2,
                    2,
                    1,
                    1,
                    1,
                    1,
                    2,
                    1,
                    1,
                    1,
                    1,
                    2,
                    1,
                    1,
                    1,
                    2,
                    1,
                    2,
                    1,
                    2,
                    1,
                    2,
                    2,
                    2,
                    1,
                    1,
                    1,
                    2,
                    2,
                    2,
                    2,
                    2,
                    2,
                    1,
                    2,
                    1,
                    2,
                    1,
                    1,
                    2,
                    2,
                    1,
                    2,
                    2,
                    1,
                    2,
                    1,
                    2,
                    2,
                    1,
                    2,
                    1,
                    1,
                    1,
                    2,
                    1,
                    1,
                    1,
                    1,
                    1,
                    1,
                    1,
                    1,
                    1,
                    1,
                    1,
                    1,
                    1,
                    2,
                    1,
                    2,
                    1,
                    1,
                    1,
                    1,
                    1,
                    1,
                    2,
                    1,
                    1,
                    1,
                    2,
                    1,
                    2,
                    1,
                    1,
                    1,
                    1,
                    2,
                    1,
                    1,
                    1,
                    2,
                    1,
                    1,
                    2,
                    1,
                    1,
                    2,
                    1,
                    1,
                    1,
                    1,
                    1,
                    1,
                    1,
                    1,
                    1,
                    1,
                    1,
                    1,
                    2,
                    2,
                    2,
                    1,
                    1,
                    1,
                    1,
                    1,
                    1,
                    1,
                    2,
                    1,
                    1,
                    1,
                    1,
                    2,
                    1,
                    1,
                    1,
                    2,
                    1,
                    1,
                    1,
                    1,
                    1,
                    2,
                    2,
                    1,
                    1,
                    1,
                    2,
                    2,
                    2,
                    2,
                    2,
                    1,
                    1,
                    1,
                    1,
                    1,
                    1,
                    1,
                    1,
                    1,
                    1,
                    1,
                    1,
                    1,
                    1,
                    1,
                    1,
                    1,
                    1,
                    2,
                    1,
                    1,
                    1,
                    1,
                    1,
                    1,
                    1,
                    1,
                    1,
                    1,
                    1,
                    1,
                    2,
                    1,
                    1,
                    2,
                    1,
                    1,
                    2,
                    1,
                    1,
                    1,
                    2,
                    2,
                    2,
                    1,
                    1,
                    2,
                    1,
                    1,
                    1,
                    1,
                    2,
                    2,
                    2,
                    2,
                    1,
                    1,
                    1,
                    1,
                    2,
                    1,
                    2,
                    2,
                    1,
                    1,
                    1,
                    2,
                    2,
                    1,
                    1,
                    1,
                    2,
                    2,
                    2,
                    2,
                    1,
                    1,
                    1,
                    1,
                    1,
                    1,
                    2,
                    1,
                    1,
                    1,
                    1,
                    1,
                    1,
                    1,
                    2,
                    1,
                    1,
                    1,
                    1,
                    2,
                    2,
                    2,
                    2,
                    1,
                    2,
                    2,
                    2,
                    2,
                    1,
                    2,
                    1,
                    2,
                    2,
                    2,
                    1,
                    2,
                    2,
                    1,
                    2,
                    1,
                    1,
                    1,
                    1,
                    2,
                    1,
                    1,
                    1,
                    2,
                    2,
                    1,
                    1,
                    1,
                    1,
                    2,
                    1
                  ],
                  "y": [
                    14.8,
                    19.7,
                    14.8,
                    18.5,
                    31.4,
                    28.6,
                    27.7,
                    25.8,
                    6.9,
                    24.7,
                    13.1,
                    9,
                    30.3,
                    30.3,
                    23.7,
                    30.4,
                    20.2,
                    17.9,
                    18.1,
                    19.3,
                    27.6,
                    15.3,
                    11.8,
                    32.6,
                    19.2,
                    20.7,
                    31.8,
                    9.1,
                    26.5,
                    8.1,
                    7.3,
                    21.8,
                    27.3,
                    10.8,
                    8.6,
                    4.6,
                    18.9,
                    12.3,
                    10.6,
                    19,
                    18.6,
                    27.7,
                    8.8,
                    22.6,
                    11,
                    17.7,
                    19.4,
                    26.8,
                    16.6,
                    33.4,
                    11.9,
                    28.8,
                    13.6,
                    11.4,
                    27.9,
                    14.1,
                    19.6,
                    24.1,
                    10.8,
                    29.1,
                    32.8,
                    6.7,
                    19.8,
                    20.2,
                    27.8,
                    24.4,
                    27.6,
                    6.6,
                    21.5,
                    9.6,
                    5.3,
                    7.4,
                    8.8,
                    7.1,
                    5.9,
                    5.1,
                    14,
                    17.2,
                    5.3,
                    13.4,
                    15,
                    26.9,
                    5.1,
                    17.2,
                    13.1,
                    4.3,
                    7.7,
                    19.3,
                    33.2,
                    15.2,
                    6.1,
                    16.8,
                    4.1,
                    14.9,
                    14.2,
                    10.9,
                    6.5,
                    23,
                    6.6,
                    19.4,
                    23,
                    12.7,
                    13.1,
                    4.3,
                    7.1,
                    13.9,
                    18.1,
                    12.7,
                    8.1,
                    13.4,
                    21.8,
                    21.2,
                    5.9,
                    9.5,
                    22.6,
                    10.2,
                    16.5,
                    27.9,
                    22.7,
                    4.7,
                    11.7,
                    13.1,
                    21.3,
                    11.5,
                    13.5,
                    8.7,
                    14,
                    12.5,
                    32.7,
                    9.1,
                    9.2,
                    3.7,
                    12.7,
                    10.4,
                    11.5,
                    9,
                    22.4,
                    9.9,
                    9.3,
                    11.9,
                    18.4,
                    25.8,
                    10.1,
                    6.6,
                    9.1,
                    28,
                    8.1,
                    6.6,
                    10.6,
                    8.1,
                    10.4,
                    14.7,
                    5.1,
                    9.9,
                    17.7,
                    18.4,
                    10.1,
                    7.1,
                    11.1,
                    26.2,
                    19.9,
                    4.1,
                    13,
                    9.3,
                    16.2,
                    5.9,
                    7.1,
                    27.6,
                    11,
                    6.1,
                    16.8,
                    6.1,
                    10.4,
                    31.3,
                    21.9,
                    17.8,
                    3.5,
                    5.3,
                    14.7,
                    30.4,
                    3.6,
                    9.3,
                    9.2,
                    20.9,
                    24.8,
                    5.1,
                    19.4,
                    30.4,
                    26.9,
                    21.6,
                    6.1,
                    8.7,
                    22.2,
                    14.5,
                    10.4,
                    6.6,
                    15.3,
                    20.5,
                    22.6,
                    10.3,
                    4.6,
                    6.5,
                    21.8,
                    12,
                    19.1,
                    14.4,
                    13.2,
                    13.4,
                    26.7,
                    15.3,
                    14,
                    16.8,
                    3.6,
                    9.6,
                    24,
                    8.3,
                    14.3,
                    13.5,
                    9.5,
                    31.7,
                    15.7,
                    10.4,
                    5.2,
                    20.6,
                    6.5,
                    25.5,
                    11.2,
                    9.9,
                    15,
                    10.9,
                    12.1,
                    31.6,
                    14.3,
                    15,
                    27.9,
                    17.9,
                    13.3,
                    4.6,
                    6.5,
                    22.6,
                    7.1,
                    16.8,
                    8.4,
                    11.9,
                    10.7,
                    12.8,
                    32.8,
                    6.6,
                    14,
                    13.1,
                    5.3,
                    14.3,
                    32.2,
                    12,
                    16.1,
                    7.4,
                    14.7,
                    23.3,
                    5.7,
                    7.6,
                    20.6,
                    10.4,
                    7.1,
                    18.1,
                    10.9,
                    8.4,
                    22.4,
                    13,
                    9,
                    24.2,
                    17,
                    28.5,
                    29.1,
                    18.9,
                    22.4,
                    10.1,
                    24.7,
                    28.4,
                    14.7,
                    20.4,
                    24,
                    16.8,
                    10.6,
                    23.2,
                    17.7,
                    24.6,
                    21.3,
                    30.5,
                    12.6,
                    11.8
                  ]
                },
                {
                  "mode": "markers",
                  "name": "mer_cluster_1",
                  "type": "scatter",
                  "x": [
                    2,
                    1,
                    1,
                    2,
                    1,
                    2,
                    1,
                    1,
                    2,
                    2,
                    1,
                    1,
                    2,
                    2,
                    2,
                    2,
                    2,
                    1,
                    2,
                    1,
                    2,
                    1,
                    1,
                    1,
                    2,
                    1,
                    1,
                    1,
                    1,
                    1,
                    1,
                    1,
                    1,
                    2,
                    2,
                    2,
                    2,
                    2,
                    2,
                    2,
                    2,
                    1,
                    2,
                    2,
                    2,
                    1,
                    2,
                    1,
                    2,
                    2,
                    1,
                    1,
                    1,
                    1,
                    1,
                    1,
                    2,
                    1,
                    1,
                    2,
                    2,
                    2,
                    2,
                    1,
                    1,
                    1,
                    2,
                    1,
                    1,
                    2,
                    2,
                    1,
                    1,
                    2,
                    1,
                    1,
                    1,
                    1,
                    1,
                    1,
                    1
                  ],
                  "y": [
                    51.1,
                    46.1,
                    42.5,
                    56.3,
                    65.3,
                    51.1,
                    45,
                    55.8,
                    48.2,
                    58.6,
                    75.9,
                    45.6,
                    36.8,
                    57.8,
                    44.3,
                    43.6,
                    48.8,
                    46,
                    51.6,
                    45.6,
                    67.2,
                    66.5,
                    40.6,
                    74.6,
                    37.2,
                    66.5,
                    49.7,
                    46.2,
                    55.6,
                    46.7,
                    67.2,
                    76.9,
                    42.1,
                    43.9,
                    34.4,
                    35.7,
                    49.7,
                    52.6,
                    74.2,
                    36.5,
                    55.8,
                    56.3,
                    57.8,
                    35.1,
                    51.9,
                    36,
                    35.3,
                    54.4,
                    36.5,
                    43.1,
                    42.7,
                    36.5,
                    36.5,
                    37.8,
                    63.6,
                    36.5,
                    42.7,
                    37,
                    37.5,
                    63.6,
                    64.7,
                    49.5,
                    49.5,
                    42.1,
                    60.5,
                    37.9,
                    48.9,
                    67.8,
                    70.1,
                    50.6,
                    57.7,
                    60.5,
                    52.3,
                    55.6,
                    47.8,
                    74.6,
                    49.5,
                    65.6,
                    48.9,
                    55.6,
                    70.7
                  ]
                }
              ],
              "layout": {
                "template": {
                  "data": {
                    "bar": [
                      {
                        "error_x": {
                          "color": "#2a3f5f"
                        },
                        "error_y": {
                          "color": "#2a3f5f"
                        },
                        "marker": {
                          "line": {
                            "color": "#E5ECF6",
                            "width": 0.5
                          },
                          "pattern": {
                            "fillmode": "overlay",
                            "size": 10,
                            "solidity": 0.2
                          }
                        },
                        "type": "bar"
                      }
                    ],
                    "barpolar": [
                      {
                        "marker": {
                          "line": {
                            "color": "#E5ECF6",
                            "width": 0.5
                          },
                          "pattern": {
                            "fillmode": "overlay",
                            "size": 10,
                            "solidity": 0.2
                          }
                        },
                        "type": "barpolar"
                      }
                    ],
                    "carpet": [
                      {
                        "aaxis": {
                          "endlinecolor": "#2a3f5f",
                          "gridcolor": "white",
                          "linecolor": "white",
                          "minorgridcolor": "white",
                          "startlinecolor": "#2a3f5f"
                        },
                        "baxis": {
                          "endlinecolor": "#2a3f5f",
                          "gridcolor": "white",
                          "linecolor": "white",
                          "minorgridcolor": "white",
                          "startlinecolor": "#2a3f5f"
                        },
                        "type": "carpet"
                      }
                    ],
                    "choropleth": [
                      {
                        "colorbar": {
                          "outlinewidth": 0,
                          "ticks": ""
                        },
                        "type": "choropleth"
                      }
                    ],
                    "contour": [
                      {
                        "colorbar": {
                          "outlinewidth": 0,
                          "ticks": ""
                        },
                        "colorscale": [
                          [
                            0,
                            "#0d0887"
                          ],
                          [
                            0.1111111111111111,
                            "#46039f"
                          ],
                          [
                            0.2222222222222222,
                            "#7201a8"
                          ],
                          [
                            0.3333333333333333,
                            "#9c179e"
                          ],
                          [
                            0.4444444444444444,
                            "#bd3786"
                          ],
                          [
                            0.5555555555555556,
                            "#d8576b"
                          ],
                          [
                            0.6666666666666666,
                            "#ed7953"
                          ],
                          [
                            0.7777777777777778,
                            "#fb9f3a"
                          ],
                          [
                            0.8888888888888888,
                            "#fdca26"
                          ],
                          [
                            1,
                            "#f0f921"
                          ]
                        ],
                        "type": "contour"
                      }
                    ],
                    "contourcarpet": [
                      {
                        "colorbar": {
                          "outlinewidth": 0,
                          "ticks": ""
                        },
                        "type": "contourcarpet"
                      }
                    ],
                    "heatmap": [
                      {
                        "colorbar": {
                          "outlinewidth": 0,
                          "ticks": ""
                        },
                        "colorscale": [
                          [
                            0,
                            "#0d0887"
                          ],
                          [
                            0.1111111111111111,
                            "#46039f"
                          ],
                          [
                            0.2222222222222222,
                            "#7201a8"
                          ],
                          [
                            0.3333333333333333,
                            "#9c179e"
                          ],
                          [
                            0.4444444444444444,
                            "#bd3786"
                          ],
                          [
                            0.5555555555555556,
                            "#d8576b"
                          ],
                          [
                            0.6666666666666666,
                            "#ed7953"
                          ],
                          [
                            0.7777777777777778,
                            "#fb9f3a"
                          ],
                          [
                            0.8888888888888888,
                            "#fdca26"
                          ],
                          [
                            1,
                            "#f0f921"
                          ]
                        ],
                        "type": "heatmap"
                      }
                    ],
                    "heatmapgl": [
                      {
                        "colorbar": {
                          "outlinewidth": 0,
                          "ticks": ""
                        },
                        "colorscale": [
                          [
                            0,
                            "#0d0887"
                          ],
                          [
                            0.1111111111111111,
                            "#46039f"
                          ],
                          [
                            0.2222222222222222,
                            "#7201a8"
                          ],
                          [
                            0.3333333333333333,
                            "#9c179e"
                          ],
                          [
                            0.4444444444444444,
                            "#bd3786"
                          ],
                          [
                            0.5555555555555556,
                            "#d8576b"
                          ],
                          [
                            0.6666666666666666,
                            "#ed7953"
                          ],
                          [
                            0.7777777777777778,
                            "#fb9f3a"
                          ],
                          [
                            0.8888888888888888,
                            "#fdca26"
                          ],
                          [
                            1,
                            "#f0f921"
                          ]
                        ],
                        "type": "heatmapgl"
                      }
                    ],
                    "histogram": [
                      {
                        "marker": {
                          "pattern": {
                            "fillmode": "overlay",
                            "size": 10,
                            "solidity": 0.2
                          }
                        },
                        "type": "histogram"
                      }
                    ],
                    "histogram2d": [
                      {
                        "colorbar": {
                          "outlinewidth": 0,
                          "ticks": ""
                        },
                        "colorscale": [
                          [
                            0,
                            "#0d0887"
                          ],
                          [
                            0.1111111111111111,
                            "#46039f"
                          ],
                          [
                            0.2222222222222222,
                            "#7201a8"
                          ],
                          [
                            0.3333333333333333,
                            "#9c179e"
                          ],
                          [
                            0.4444444444444444,
                            "#bd3786"
                          ],
                          [
                            0.5555555555555556,
                            "#d8576b"
                          ],
                          [
                            0.6666666666666666,
                            "#ed7953"
                          ],
                          [
                            0.7777777777777778,
                            "#fb9f3a"
                          ],
                          [
                            0.8888888888888888,
                            "#fdca26"
                          ],
                          [
                            1,
                            "#f0f921"
                          ]
                        ],
                        "type": "histogram2d"
                      }
                    ],
                    "histogram2dcontour": [
                      {
                        "colorbar": {
                          "outlinewidth": 0,
                          "ticks": ""
                        },
                        "colorscale": [
                          [
                            0,
                            "#0d0887"
                          ],
                          [
                            0.1111111111111111,
                            "#46039f"
                          ],
                          [
                            0.2222222222222222,
                            "#7201a8"
                          ],
                          [
                            0.3333333333333333,
                            "#9c179e"
                          ],
                          [
                            0.4444444444444444,
                            "#bd3786"
                          ],
                          [
                            0.5555555555555556,
                            "#d8576b"
                          ],
                          [
                            0.6666666666666666,
                            "#ed7953"
                          ],
                          [
                            0.7777777777777778,
                            "#fb9f3a"
                          ],
                          [
                            0.8888888888888888,
                            "#fdca26"
                          ],
                          [
                            1,
                            "#f0f921"
                          ]
                        ],
                        "type": "histogram2dcontour"
                      }
                    ],
                    "mesh3d": [
                      {
                        "colorbar": {
                          "outlinewidth": 0,
                          "ticks": ""
                        },
                        "type": "mesh3d"
                      }
                    ],
                    "parcoords": [
                      {
                        "line": {
                          "colorbar": {
                            "outlinewidth": 0,
                            "ticks": ""
                          }
                        },
                        "type": "parcoords"
                      }
                    ],
                    "pie": [
                      {
                        "automargin": true,
                        "type": "pie"
                      }
                    ],
                    "scatter": [
                      {
                        "fillpattern": {
                          "fillmode": "overlay",
                          "size": 10,
                          "solidity": 0.2
                        },
                        "type": "scatter"
                      }
                    ],
                    "scatter3d": [
                      {
                        "line": {
                          "colorbar": {
                            "outlinewidth": 0,
                            "ticks": ""
                          }
                        },
                        "marker": {
                          "colorbar": {
                            "outlinewidth": 0,
                            "ticks": ""
                          }
                        },
                        "type": "scatter3d"
                      }
                    ],
                    "scattercarpet": [
                      {
                        "marker": {
                          "colorbar": {
                            "outlinewidth": 0,
                            "ticks": ""
                          }
                        },
                        "type": "scattercarpet"
                      }
                    ],
                    "scattergeo": [
                      {
                        "marker": {
                          "colorbar": {
                            "outlinewidth": 0,
                            "ticks": ""
                          }
                        },
                        "type": "scattergeo"
                      }
                    ],
                    "scattergl": [
                      {
                        "marker": {
                          "colorbar": {
                            "outlinewidth": 0,
                            "ticks": ""
                          }
                        },
                        "type": "scattergl"
                      }
                    ],
                    "scattermapbox": [
                      {
                        "marker": {
                          "colorbar": {
                            "outlinewidth": 0,
                            "ticks": ""
                          }
                        },
                        "type": "scattermapbox"
                      }
                    ],
                    "scatterpolar": [
                      {
                        "marker": {
                          "colorbar": {
                            "outlinewidth": 0,
                            "ticks": ""
                          }
                        },
                        "type": "scatterpolar"
                      }
                    ],
                    "scatterpolargl": [
                      {
                        "marker": {
                          "colorbar": {
                            "outlinewidth": 0,
                            "ticks": ""
                          }
                        },
                        "type": "scatterpolargl"
                      }
                    ],
                    "scatterternary": [
                      {
                        "marker": {
                          "colorbar": {
                            "outlinewidth": 0,
                            "ticks": ""
                          }
                        },
                        "type": "scatterternary"
                      }
                    ],
                    "surface": [
                      {
                        "colorbar": {
                          "outlinewidth": 0,
                          "ticks": ""
                        },
                        "colorscale": [
                          [
                            0,
                            "#0d0887"
                          ],
                          [
                            0.1111111111111111,
                            "#46039f"
                          ],
                          [
                            0.2222222222222222,
                            "#7201a8"
                          ],
                          [
                            0.3333333333333333,
                            "#9c179e"
                          ],
                          [
                            0.4444444444444444,
                            "#bd3786"
                          ],
                          [
                            0.5555555555555556,
                            "#d8576b"
                          ],
                          [
                            0.6666666666666666,
                            "#ed7953"
                          ],
                          [
                            0.7777777777777778,
                            "#fb9f3a"
                          ],
                          [
                            0.8888888888888888,
                            "#fdca26"
                          ],
                          [
                            1,
                            "#f0f921"
                          ]
                        ],
                        "type": "surface"
                      }
                    ],
                    "table": [
                      {
                        "cells": {
                          "fill": {
                            "color": "#EBF0F8"
                          },
                          "line": {
                            "color": "white"
                          }
                        },
                        "header": {
                          "fill": {
                            "color": "#C8D4E3"
                          },
                          "line": {
                            "color": "white"
                          }
                        },
                        "type": "table"
                      }
                    ]
                  },
                  "layout": {
                    "annotationdefaults": {
                      "arrowcolor": "#2a3f5f",
                      "arrowhead": 0,
                      "arrowwidth": 1
                    },
                    "autotypenumbers": "strict",
                    "coloraxis": {
                      "colorbar": {
                        "outlinewidth": 0,
                        "ticks": ""
                      }
                    },
                    "colorscale": {
                      "diverging": [
                        [
                          0,
                          "#8e0152"
                        ],
                        [
                          0.1,
                          "#c51b7d"
                        ],
                        [
                          0.2,
                          "#de77ae"
                        ],
                        [
                          0.3,
                          "#f1b6da"
                        ],
                        [
                          0.4,
                          "#fde0ef"
                        ],
                        [
                          0.5,
                          "#f7f7f7"
                        ],
                        [
                          0.6,
                          "#e6f5d0"
                        ],
                        [
                          0.7,
                          "#b8e186"
                        ],
                        [
                          0.8,
                          "#7fbc41"
                        ],
                        [
                          0.9,
                          "#4d9221"
                        ],
                        [
                          1,
                          "#276419"
                        ]
                      ],
                      "sequential": [
                        [
                          0,
                          "#0d0887"
                        ],
                        [
                          0.1111111111111111,
                          "#46039f"
                        ],
                        [
                          0.2222222222222222,
                          "#7201a8"
                        ],
                        [
                          0.3333333333333333,
                          "#9c179e"
                        ],
                        [
                          0.4444444444444444,
                          "#bd3786"
                        ],
                        [
                          0.5555555555555556,
                          "#d8576b"
                        ],
                        [
                          0.6666666666666666,
                          "#ed7953"
                        ],
                        [
                          0.7777777777777778,
                          "#fb9f3a"
                        ],
                        [
                          0.8888888888888888,
                          "#fdca26"
                        ],
                        [
                          1,
                          "#f0f921"
                        ]
                      ],
                      "sequentialminus": [
                        [
                          0,
                          "#0d0887"
                        ],
                        [
                          0.1111111111111111,
                          "#46039f"
                        ],
                        [
                          0.2222222222222222,
                          "#7201a8"
                        ],
                        [
                          0.3333333333333333,
                          "#9c179e"
                        ],
                        [
                          0.4444444444444444,
                          "#bd3786"
                        ],
                        [
                          0.5555555555555556,
                          "#d8576b"
                        ],
                        [
                          0.6666666666666666,
                          "#ed7953"
                        ],
                        [
                          0.7777777777777778,
                          "#fb9f3a"
                        ],
                        [
                          0.8888888888888888,
                          "#fdca26"
                        ],
                        [
                          1,
                          "#f0f921"
                        ]
                      ]
                    },
                    "colorway": [
                      "#636efa",
                      "#EF553B",
                      "#00cc96",
                      "#ab63fa",
                      "#FFA15A",
                      "#19d3f3",
                      "#FF6692",
                      "#B6E880",
                      "#FF97FF",
                      "#FECB52"
                    ],
                    "font": {
                      "color": "#2a3f5f"
                    },
                    "geo": {
                      "bgcolor": "white",
                      "lakecolor": "white",
                      "landcolor": "#E5ECF6",
                      "showlakes": true,
                      "showland": true,
                      "subunitcolor": "white"
                    },
                    "hoverlabel": {
                      "align": "left"
                    },
                    "hovermode": "closest",
                    "mapbox": {
                      "style": "light"
                    },
                    "paper_bgcolor": "white",
                    "plot_bgcolor": "#E5ECF6",
                    "polar": {
                      "angularaxis": {
                        "gridcolor": "white",
                        "linecolor": "white",
                        "ticks": ""
                      },
                      "bgcolor": "#E5ECF6",
                      "radialaxis": {
                        "gridcolor": "white",
                        "linecolor": "white",
                        "ticks": ""
                      }
                    },
                    "scene": {
                      "xaxis": {
                        "backgroundcolor": "#E5ECF6",
                        "gridcolor": "white",
                        "gridwidth": 2,
                        "linecolor": "white",
                        "showbackground": true,
                        "ticks": "",
                        "zerolinecolor": "white"
                      },
                      "yaxis": {
                        "backgroundcolor": "#E5ECF6",
                        "gridcolor": "white",
                        "gridwidth": 2,
                        "linecolor": "white",
                        "showbackground": true,
                        "ticks": "",
                        "zerolinecolor": "white"
                      },
                      "zaxis": {
                        "backgroundcolor": "#E5ECF6",
                        "gridcolor": "white",
                        "gridwidth": 2,
                        "linecolor": "white",
                        "showbackground": true,
                        "ticks": "",
                        "zerolinecolor": "white"
                      }
                    },
                    "shapedefaults": {
                      "line": {
                        "color": "#2a3f5f"
                      }
                    },
                    "ternary": {
                      "aaxis": {
                        "gridcolor": "white",
                        "linecolor": "white",
                        "ticks": ""
                      },
                      "baxis": {
                        "gridcolor": "white",
                        "linecolor": "white",
                        "ticks": ""
                      },
                      "bgcolor": "#E5ECF6",
                      "caxis": {
                        "gridcolor": "white",
                        "linecolor": "white",
                        "ticks": ""
                      }
                    },
                    "title": {
                      "x": 0.05
                    },
                    "xaxis": {
                      "automargin": true,
                      "gridcolor": "white",
                      "linecolor": "white",
                      "ticks": "",
                      "title": {
                        "standoff": 15
                      },
                      "zerolinecolor": "white",
                      "zerolinewidth": 2
                    },
                    "yaxis": {
                      "automargin": true,
                      "gridcolor": "white",
                      "linecolor": "white",
                      "ticks": "",
                      "title": {
                        "standoff": 15
                      },
                      "zerolinecolor": "white",
                      "zerolinewidth": 2
                    }
                  }
                },
                "title": {
                  "text": "Scatter Plot of T_surface_loc vs RAIV"
                },
                "xaxis": {
                  "title": {
                    "text": "T_surface_loc"
                  }
                },
                "yaxis": {
                  "title": {
                    "text": "RAIV"
                  }
                }
              }
            }
          },
          "metadata": {},
          "output_type": "display_data"
        },
        {
          "data": {
            "application/vnd.plotly.v1+json": {
              "config": {
                "plotlyServerURL": "https://plot.ly"
              },
              "data": [
                {
                  "mode": "markers",
                  "name": "mer_cluster_0",
                  "type": "scatter",
                  "x": [
                    1,
                    1,
                    1,
                    1,
                    2,
                    1,
                    1,
                    1,
                    1,
                    1,
                    1,
                    1,
                    1,
                    1,
                    1,
                    1,
                    1,
                    1,
                    1,
                    1,
                    1,
                    1,
                    1,
                    2,
                    1,
                    1,
                    1,
                    1,
                    1,
                    2,
                    2,
                    1,
                    1,
                    1,
                    1,
                    1,
                    1,
                    1,
                    1,
                    1,
                    1,
                    2,
                    2,
                    1,
                    1,
                    1,
                    1,
                    1,
                    1,
                    1,
                    1,
                    1,
                    1,
                    2,
                    2,
                    1,
                    1,
                    1,
                    1,
                    1,
                    1,
                    1,
                    1,
                    1,
                    1,
                    1,
                    1,
                    2,
                    1,
                    1,
                    1,
                    1,
                    1,
                    2,
                    2,
                    1,
                    2,
                    2,
                    1,
                    2,
                    1,
                    2,
                    1,
                    2,
                    2,
                    1,
                    2,
                    1,
                    2,
                    1,
                    1,
                    2,
                    1,
                    1,
                    2,
                    2,
                    1,
                    1,
                    1,
                    2,
                    2,
                    1,
                    2,
                    1,
                    1,
                    2,
                    2,
                    2,
                    1,
                    2,
                    2,
                    1,
                    2,
                    2,
                    1,
                    2,
                    2,
                    2,
                    2,
                    2,
                    1,
                    2,
                    1,
                    1,
                    2,
                    2,
                    2,
                    1,
                    2,
                    2,
                    2,
                    1,
                    1,
                    2,
                    2,
                    2,
                    1,
                    1,
                    1,
                    1,
                    1,
                    1,
                    2,
                    2,
                    2,
                    2,
                    1,
                    1,
                    1,
                    1,
                    2,
                    2,
                    1,
                    1,
                    1,
                    1,
                    1,
                    1,
                    1,
                    2,
                    2,
                    1,
                    2,
                    1,
                    1,
                    1,
                    1,
                    1,
                    1,
                    1,
                    2,
                    1,
                    1,
                    2,
                    1,
                    2,
                    2,
                    2,
                    2,
                    2,
                    1,
                    1,
                    1,
                    2,
                    1,
                    2,
                    2,
                    1,
                    1,
                    1,
                    1,
                    2,
                    1,
                    1,
                    1,
                    1,
                    2,
                    2,
                    1,
                    2,
                    1,
                    1,
                    2,
                    2,
                    2,
                    1,
                    2,
                    2,
                    2,
                    2,
                    2,
                    1,
                    1,
                    2,
                    2,
                    1,
                    1,
                    2,
                    1,
                    2,
                    2,
                    2,
                    1,
                    1,
                    1,
                    1,
                    2,
                    2,
                    1,
                    1,
                    1,
                    2,
                    2,
                    2,
                    1,
                    1,
                    1,
                    1,
                    1,
                    1,
                    1,
                    2,
                    1,
                    1,
                    1,
                    1,
                    2,
                    1,
                    2,
                    1,
                    1,
                    1,
                    1,
                    1,
                    2,
                    1,
                    1,
                    1,
                    1,
                    1,
                    1,
                    1,
                    1,
                    1,
                    2,
                    1,
                    1,
                    1,
                    2,
                    1,
                    1,
                    1,
                    1,
                    1,
                    1,
                    1,
                    1,
                    1,
                    1,
                    1,
                    1,
                    2,
                    1,
                    1,
                    1,
                    1,
                    1,
                    1,
                    2,
                    1
                  ],
                  "y": [
                    14.8,
                    19.7,
                    14.8,
                    18.5,
                    31.4,
                    28.6,
                    27.7,
                    25.8,
                    6.9,
                    24.7,
                    13.1,
                    9,
                    30.3,
                    30.3,
                    23.7,
                    30.4,
                    20.2,
                    17.9,
                    18.1,
                    19.3,
                    27.6,
                    15.3,
                    11.8,
                    32.6,
                    19.2,
                    20.7,
                    31.8,
                    9.1,
                    26.5,
                    8.1,
                    7.3,
                    21.8,
                    27.3,
                    10.8,
                    8.6,
                    4.6,
                    18.9,
                    12.3,
                    10.6,
                    19,
                    18.6,
                    27.7,
                    8.8,
                    22.6,
                    11,
                    17.7,
                    19.4,
                    26.8,
                    16.6,
                    33.4,
                    11.9,
                    28.8,
                    13.6,
                    11.4,
                    27.9,
                    14.1,
                    19.6,
                    24.1,
                    10.8,
                    29.1,
                    32.8,
                    6.7,
                    19.8,
                    20.2,
                    27.8,
                    24.4,
                    27.6,
                    6.6,
                    21.5,
                    9.6,
                    5.3,
                    7.4,
                    8.8,
                    7.1,
                    5.9,
                    5.1,
                    14,
                    17.2,
                    5.3,
                    13.4,
                    15,
                    26.9,
                    5.1,
                    17.2,
                    13.1,
                    4.3,
                    7.7,
                    19.3,
                    33.2,
                    15.2,
                    6.1,
                    16.8,
                    4.1,
                    14.9,
                    14.2,
                    10.9,
                    6.5,
                    23,
                    6.6,
                    19.4,
                    23,
                    12.7,
                    13.1,
                    4.3,
                    7.1,
                    13.9,
                    18.1,
                    12.7,
                    8.1,
                    13.4,
                    21.8,
                    21.2,
                    5.9,
                    9.5,
                    22.6,
                    10.2,
                    16.5,
                    27.9,
                    22.7,
                    4.7,
                    11.7,
                    13.1,
                    21.3,
                    11.5,
                    13.5,
                    8.7,
                    14,
                    12.5,
                    32.7,
                    9.1,
                    9.2,
                    3.7,
                    12.7,
                    10.4,
                    11.5,
                    9,
                    22.4,
                    9.9,
                    9.3,
                    11.9,
                    18.4,
                    25.8,
                    10.1,
                    6.6,
                    9.1,
                    28,
                    8.1,
                    6.6,
                    10.6,
                    8.1,
                    10.4,
                    14.7,
                    5.1,
                    9.9,
                    17.7,
                    18.4,
                    10.1,
                    7.1,
                    11.1,
                    26.2,
                    19.9,
                    4.1,
                    13,
                    9.3,
                    16.2,
                    5.9,
                    7.1,
                    27.6,
                    11,
                    6.1,
                    16.8,
                    6.1,
                    10.4,
                    31.3,
                    21.9,
                    17.8,
                    3.5,
                    5.3,
                    14.7,
                    30.4,
                    3.6,
                    9.3,
                    9.2,
                    20.9,
                    24.8,
                    5.1,
                    19.4,
                    30.4,
                    26.9,
                    21.6,
                    6.1,
                    8.7,
                    22.2,
                    14.5,
                    10.4,
                    6.6,
                    15.3,
                    20.5,
                    22.6,
                    10.3,
                    4.6,
                    6.5,
                    21.8,
                    12,
                    19.1,
                    14.4,
                    13.2,
                    13.4,
                    26.7,
                    15.3,
                    14,
                    16.8,
                    3.6,
                    9.6,
                    24,
                    8.3,
                    14.3,
                    13.5,
                    9.5,
                    31.7,
                    15.7,
                    10.4,
                    5.2,
                    20.6,
                    6.5,
                    25.5,
                    11.2,
                    9.9,
                    15,
                    10.9,
                    12.1,
                    31.6,
                    14.3,
                    15,
                    27.9,
                    17.9,
                    13.3,
                    4.6,
                    6.5,
                    22.6,
                    7.1,
                    16.8,
                    8.4,
                    11.9,
                    10.7,
                    12.8,
                    32.8,
                    6.6,
                    14,
                    13.1,
                    5.3,
                    14.3,
                    32.2,
                    12,
                    16.1,
                    7.4,
                    14.7,
                    23.3,
                    5.7,
                    7.6,
                    20.6,
                    10.4,
                    7.1,
                    18.1,
                    10.9,
                    8.4,
                    22.4,
                    13,
                    9,
                    24.2,
                    17,
                    28.5,
                    29.1,
                    18.9,
                    22.4,
                    10.1,
                    24.7,
                    28.4,
                    14.7,
                    20.4,
                    24,
                    16.8,
                    10.6,
                    23.2,
                    17.7,
                    24.6,
                    21.3,
                    30.5,
                    12.6,
                    11.8
                  ]
                },
                {
                  "mode": "markers",
                  "name": "mer_cluster_1",
                  "type": "scatter",
                  "x": [
                    1,
                    1,
                    1,
                    1,
                    2,
                    1,
                    1,
                    1,
                    1,
                    1,
                    1,
                    1,
                    1,
                    2,
                    2,
                    1,
                    1,
                    1,
                    1,
                    1,
                    1,
                    1,
                    1,
                    1,
                    1,
                    1,
                    1,
                    1,
                    1,
                    1,
                    1,
                    1,
                    1,
                    1,
                    1,
                    1,
                    1,
                    2,
                    1,
                    2,
                    1,
                    1,
                    2,
                    1,
                    1,
                    2,
                    1,
                    2,
                    2,
                    2,
                    2,
                    2,
                    2,
                    2,
                    2,
                    2,
                    2,
                    2,
                    1,
                    2,
                    2,
                    2,
                    2,
                    2,
                    1,
                    1,
                    1,
                    1,
                    1,
                    1,
                    1,
                    1,
                    1,
                    1,
                    1,
                    1,
                    1,
                    1,
                    1,
                    2,
                    1
                  ],
                  "y": [
                    51.1,
                    46.1,
                    42.5,
                    56.3,
                    65.3,
                    51.1,
                    45,
                    55.8,
                    48.2,
                    58.6,
                    75.9,
                    45.6,
                    36.8,
                    57.8,
                    44.3,
                    43.6,
                    48.8,
                    46,
                    51.6,
                    45.6,
                    67.2,
                    66.5,
                    40.6,
                    74.6,
                    37.2,
                    66.5,
                    49.7,
                    46.2,
                    55.6,
                    46.7,
                    67.2,
                    76.9,
                    42.1,
                    43.9,
                    34.4,
                    35.7,
                    49.7,
                    52.6,
                    74.2,
                    36.5,
                    55.8,
                    56.3,
                    57.8,
                    35.1,
                    51.9,
                    36,
                    35.3,
                    54.4,
                    36.5,
                    43.1,
                    42.7,
                    36.5,
                    36.5,
                    37.8,
                    63.6,
                    36.5,
                    42.7,
                    37,
                    37.5,
                    63.6,
                    64.7,
                    49.5,
                    49.5,
                    42.1,
                    60.5,
                    37.9,
                    48.9,
                    67.8,
                    70.1,
                    50.6,
                    57.7,
                    60.5,
                    52.3,
                    55.6,
                    47.8,
                    74.6,
                    49.5,
                    65.6,
                    48.9,
                    55.6,
                    70.7
                  ]
                }
              ],
              "layout": {
                "template": {
                  "data": {
                    "bar": [
                      {
                        "error_x": {
                          "color": "#2a3f5f"
                        },
                        "error_y": {
                          "color": "#2a3f5f"
                        },
                        "marker": {
                          "line": {
                            "color": "#E5ECF6",
                            "width": 0.5
                          },
                          "pattern": {
                            "fillmode": "overlay",
                            "size": 10,
                            "solidity": 0.2
                          }
                        },
                        "type": "bar"
                      }
                    ],
                    "barpolar": [
                      {
                        "marker": {
                          "line": {
                            "color": "#E5ECF6",
                            "width": 0.5
                          },
                          "pattern": {
                            "fillmode": "overlay",
                            "size": 10,
                            "solidity": 0.2
                          }
                        },
                        "type": "barpolar"
                      }
                    ],
                    "carpet": [
                      {
                        "aaxis": {
                          "endlinecolor": "#2a3f5f",
                          "gridcolor": "white",
                          "linecolor": "white",
                          "minorgridcolor": "white",
                          "startlinecolor": "#2a3f5f"
                        },
                        "baxis": {
                          "endlinecolor": "#2a3f5f",
                          "gridcolor": "white",
                          "linecolor": "white",
                          "minorgridcolor": "white",
                          "startlinecolor": "#2a3f5f"
                        },
                        "type": "carpet"
                      }
                    ],
                    "choropleth": [
                      {
                        "colorbar": {
                          "outlinewidth": 0,
                          "ticks": ""
                        },
                        "type": "choropleth"
                      }
                    ],
                    "contour": [
                      {
                        "colorbar": {
                          "outlinewidth": 0,
                          "ticks": ""
                        },
                        "colorscale": [
                          [
                            0,
                            "#0d0887"
                          ],
                          [
                            0.1111111111111111,
                            "#46039f"
                          ],
                          [
                            0.2222222222222222,
                            "#7201a8"
                          ],
                          [
                            0.3333333333333333,
                            "#9c179e"
                          ],
                          [
                            0.4444444444444444,
                            "#bd3786"
                          ],
                          [
                            0.5555555555555556,
                            "#d8576b"
                          ],
                          [
                            0.6666666666666666,
                            "#ed7953"
                          ],
                          [
                            0.7777777777777778,
                            "#fb9f3a"
                          ],
                          [
                            0.8888888888888888,
                            "#fdca26"
                          ],
                          [
                            1,
                            "#f0f921"
                          ]
                        ],
                        "type": "contour"
                      }
                    ],
                    "contourcarpet": [
                      {
                        "colorbar": {
                          "outlinewidth": 0,
                          "ticks": ""
                        },
                        "type": "contourcarpet"
                      }
                    ],
                    "heatmap": [
                      {
                        "colorbar": {
                          "outlinewidth": 0,
                          "ticks": ""
                        },
                        "colorscale": [
                          [
                            0,
                            "#0d0887"
                          ],
                          [
                            0.1111111111111111,
                            "#46039f"
                          ],
                          [
                            0.2222222222222222,
                            "#7201a8"
                          ],
                          [
                            0.3333333333333333,
                            "#9c179e"
                          ],
                          [
                            0.4444444444444444,
                            "#bd3786"
                          ],
                          [
                            0.5555555555555556,
                            "#d8576b"
                          ],
                          [
                            0.6666666666666666,
                            "#ed7953"
                          ],
                          [
                            0.7777777777777778,
                            "#fb9f3a"
                          ],
                          [
                            0.8888888888888888,
                            "#fdca26"
                          ],
                          [
                            1,
                            "#f0f921"
                          ]
                        ],
                        "type": "heatmap"
                      }
                    ],
                    "heatmapgl": [
                      {
                        "colorbar": {
                          "outlinewidth": 0,
                          "ticks": ""
                        },
                        "colorscale": [
                          [
                            0,
                            "#0d0887"
                          ],
                          [
                            0.1111111111111111,
                            "#46039f"
                          ],
                          [
                            0.2222222222222222,
                            "#7201a8"
                          ],
                          [
                            0.3333333333333333,
                            "#9c179e"
                          ],
                          [
                            0.4444444444444444,
                            "#bd3786"
                          ],
                          [
                            0.5555555555555556,
                            "#d8576b"
                          ],
                          [
                            0.6666666666666666,
                            "#ed7953"
                          ],
                          [
                            0.7777777777777778,
                            "#fb9f3a"
                          ],
                          [
                            0.8888888888888888,
                            "#fdca26"
                          ],
                          [
                            1,
                            "#f0f921"
                          ]
                        ],
                        "type": "heatmapgl"
                      }
                    ],
                    "histogram": [
                      {
                        "marker": {
                          "pattern": {
                            "fillmode": "overlay",
                            "size": 10,
                            "solidity": 0.2
                          }
                        },
                        "type": "histogram"
                      }
                    ],
                    "histogram2d": [
                      {
                        "colorbar": {
                          "outlinewidth": 0,
                          "ticks": ""
                        },
                        "colorscale": [
                          [
                            0,
                            "#0d0887"
                          ],
                          [
                            0.1111111111111111,
                            "#46039f"
                          ],
                          [
                            0.2222222222222222,
                            "#7201a8"
                          ],
                          [
                            0.3333333333333333,
                            "#9c179e"
                          ],
                          [
                            0.4444444444444444,
                            "#bd3786"
                          ],
                          [
                            0.5555555555555556,
                            "#d8576b"
                          ],
                          [
                            0.6666666666666666,
                            "#ed7953"
                          ],
                          [
                            0.7777777777777778,
                            "#fb9f3a"
                          ],
                          [
                            0.8888888888888888,
                            "#fdca26"
                          ],
                          [
                            1,
                            "#f0f921"
                          ]
                        ],
                        "type": "histogram2d"
                      }
                    ],
                    "histogram2dcontour": [
                      {
                        "colorbar": {
                          "outlinewidth": 0,
                          "ticks": ""
                        },
                        "colorscale": [
                          [
                            0,
                            "#0d0887"
                          ],
                          [
                            0.1111111111111111,
                            "#46039f"
                          ],
                          [
                            0.2222222222222222,
                            "#7201a8"
                          ],
                          [
                            0.3333333333333333,
                            "#9c179e"
                          ],
                          [
                            0.4444444444444444,
                            "#bd3786"
                          ],
                          [
                            0.5555555555555556,
                            "#d8576b"
                          ],
                          [
                            0.6666666666666666,
                            "#ed7953"
                          ],
                          [
                            0.7777777777777778,
                            "#fb9f3a"
                          ],
                          [
                            0.8888888888888888,
                            "#fdca26"
                          ],
                          [
                            1,
                            "#f0f921"
                          ]
                        ],
                        "type": "histogram2dcontour"
                      }
                    ],
                    "mesh3d": [
                      {
                        "colorbar": {
                          "outlinewidth": 0,
                          "ticks": ""
                        },
                        "type": "mesh3d"
                      }
                    ],
                    "parcoords": [
                      {
                        "line": {
                          "colorbar": {
                            "outlinewidth": 0,
                            "ticks": ""
                          }
                        },
                        "type": "parcoords"
                      }
                    ],
                    "pie": [
                      {
                        "automargin": true,
                        "type": "pie"
                      }
                    ],
                    "scatter": [
                      {
                        "fillpattern": {
                          "fillmode": "overlay",
                          "size": 10,
                          "solidity": 0.2
                        },
                        "type": "scatter"
                      }
                    ],
                    "scatter3d": [
                      {
                        "line": {
                          "colorbar": {
                            "outlinewidth": 0,
                            "ticks": ""
                          }
                        },
                        "marker": {
                          "colorbar": {
                            "outlinewidth": 0,
                            "ticks": ""
                          }
                        },
                        "type": "scatter3d"
                      }
                    ],
                    "scattercarpet": [
                      {
                        "marker": {
                          "colorbar": {
                            "outlinewidth": 0,
                            "ticks": ""
                          }
                        },
                        "type": "scattercarpet"
                      }
                    ],
                    "scattergeo": [
                      {
                        "marker": {
                          "colorbar": {
                            "outlinewidth": 0,
                            "ticks": ""
                          }
                        },
                        "type": "scattergeo"
                      }
                    ],
                    "scattergl": [
                      {
                        "marker": {
                          "colorbar": {
                            "outlinewidth": 0,
                            "ticks": ""
                          }
                        },
                        "type": "scattergl"
                      }
                    ],
                    "scattermapbox": [
                      {
                        "marker": {
                          "colorbar": {
                            "outlinewidth": 0,
                            "ticks": ""
                          }
                        },
                        "type": "scattermapbox"
                      }
                    ],
                    "scatterpolar": [
                      {
                        "marker": {
                          "colorbar": {
                            "outlinewidth": 0,
                            "ticks": ""
                          }
                        },
                        "type": "scatterpolar"
                      }
                    ],
                    "scatterpolargl": [
                      {
                        "marker": {
                          "colorbar": {
                            "outlinewidth": 0,
                            "ticks": ""
                          }
                        },
                        "type": "scatterpolargl"
                      }
                    ],
                    "scatterternary": [
                      {
                        "marker": {
                          "colorbar": {
                            "outlinewidth": 0,
                            "ticks": ""
                          }
                        },
                        "type": "scatterternary"
                      }
                    ],
                    "surface": [
                      {
                        "colorbar": {
                          "outlinewidth": 0,
                          "ticks": ""
                        },
                        "colorscale": [
                          [
                            0,
                            "#0d0887"
                          ],
                          [
                            0.1111111111111111,
                            "#46039f"
                          ],
                          [
                            0.2222222222222222,
                            "#7201a8"
                          ],
                          [
                            0.3333333333333333,
                            "#9c179e"
                          ],
                          [
                            0.4444444444444444,
                            "#bd3786"
                          ],
                          [
                            0.5555555555555556,
                            "#d8576b"
                          ],
                          [
                            0.6666666666666666,
                            "#ed7953"
                          ],
                          [
                            0.7777777777777778,
                            "#fb9f3a"
                          ],
                          [
                            0.8888888888888888,
                            "#fdca26"
                          ],
                          [
                            1,
                            "#f0f921"
                          ]
                        ],
                        "type": "surface"
                      }
                    ],
                    "table": [
                      {
                        "cells": {
                          "fill": {
                            "color": "#EBF0F8"
                          },
                          "line": {
                            "color": "white"
                          }
                        },
                        "header": {
                          "fill": {
                            "color": "#C8D4E3"
                          },
                          "line": {
                            "color": "white"
                          }
                        },
                        "type": "table"
                      }
                    ]
                  },
                  "layout": {
                    "annotationdefaults": {
                      "arrowcolor": "#2a3f5f",
                      "arrowhead": 0,
                      "arrowwidth": 1
                    },
                    "autotypenumbers": "strict",
                    "coloraxis": {
                      "colorbar": {
                        "outlinewidth": 0,
                        "ticks": ""
                      }
                    },
                    "colorscale": {
                      "diverging": [
                        [
                          0,
                          "#8e0152"
                        ],
                        [
                          0.1,
                          "#c51b7d"
                        ],
                        [
                          0.2,
                          "#de77ae"
                        ],
                        [
                          0.3,
                          "#f1b6da"
                        ],
                        [
                          0.4,
                          "#fde0ef"
                        ],
                        [
                          0.5,
                          "#f7f7f7"
                        ],
                        [
                          0.6,
                          "#e6f5d0"
                        ],
                        [
                          0.7,
                          "#b8e186"
                        ],
                        [
                          0.8,
                          "#7fbc41"
                        ],
                        [
                          0.9,
                          "#4d9221"
                        ],
                        [
                          1,
                          "#276419"
                        ]
                      ],
                      "sequential": [
                        [
                          0,
                          "#0d0887"
                        ],
                        [
                          0.1111111111111111,
                          "#46039f"
                        ],
                        [
                          0.2222222222222222,
                          "#7201a8"
                        ],
                        [
                          0.3333333333333333,
                          "#9c179e"
                        ],
                        [
                          0.4444444444444444,
                          "#bd3786"
                        ],
                        [
                          0.5555555555555556,
                          "#d8576b"
                        ],
                        [
                          0.6666666666666666,
                          "#ed7953"
                        ],
                        [
                          0.7777777777777778,
                          "#fb9f3a"
                        ],
                        [
                          0.8888888888888888,
                          "#fdca26"
                        ],
                        [
                          1,
                          "#f0f921"
                        ]
                      ],
                      "sequentialminus": [
                        [
                          0,
                          "#0d0887"
                        ],
                        [
                          0.1111111111111111,
                          "#46039f"
                        ],
                        [
                          0.2222222222222222,
                          "#7201a8"
                        ],
                        [
                          0.3333333333333333,
                          "#9c179e"
                        ],
                        [
                          0.4444444444444444,
                          "#bd3786"
                        ],
                        [
                          0.5555555555555556,
                          "#d8576b"
                        ],
                        [
                          0.6666666666666666,
                          "#ed7953"
                        ],
                        [
                          0.7777777777777778,
                          "#fb9f3a"
                        ],
                        [
                          0.8888888888888888,
                          "#fdca26"
                        ],
                        [
                          1,
                          "#f0f921"
                        ]
                      ]
                    },
                    "colorway": [
                      "#636efa",
                      "#EF553B",
                      "#00cc96",
                      "#ab63fa",
                      "#FFA15A",
                      "#19d3f3",
                      "#FF6692",
                      "#B6E880",
                      "#FF97FF",
                      "#FECB52"
                    ],
                    "font": {
                      "color": "#2a3f5f"
                    },
                    "geo": {
                      "bgcolor": "white",
                      "lakecolor": "white",
                      "landcolor": "#E5ECF6",
                      "showlakes": true,
                      "showland": true,
                      "subunitcolor": "white"
                    },
                    "hoverlabel": {
                      "align": "left"
                    },
                    "hovermode": "closest",
                    "mapbox": {
                      "style": "light"
                    },
                    "paper_bgcolor": "white",
                    "plot_bgcolor": "#E5ECF6",
                    "polar": {
                      "angularaxis": {
                        "gridcolor": "white",
                        "linecolor": "white",
                        "ticks": ""
                      },
                      "bgcolor": "#E5ECF6",
                      "radialaxis": {
                        "gridcolor": "white",
                        "linecolor": "white",
                        "ticks": ""
                      }
                    },
                    "scene": {
                      "xaxis": {
                        "backgroundcolor": "#E5ECF6",
                        "gridcolor": "white",
                        "gridwidth": 2,
                        "linecolor": "white",
                        "showbackground": true,
                        "ticks": "",
                        "zerolinecolor": "white"
                      },
                      "yaxis": {
                        "backgroundcolor": "#E5ECF6",
                        "gridcolor": "white",
                        "gridwidth": 2,
                        "linecolor": "white",
                        "showbackground": true,
                        "ticks": "",
                        "zerolinecolor": "white"
                      },
                      "zaxis": {
                        "backgroundcolor": "#E5ECF6",
                        "gridcolor": "white",
                        "gridwidth": 2,
                        "linecolor": "white",
                        "showbackground": true,
                        "ticks": "",
                        "zerolinecolor": "white"
                      }
                    },
                    "shapedefaults": {
                      "line": {
                        "color": "#2a3f5f"
                      }
                    },
                    "ternary": {
                      "aaxis": {
                        "gridcolor": "white",
                        "linecolor": "white",
                        "ticks": ""
                      },
                      "baxis": {
                        "gridcolor": "white",
                        "linecolor": "white",
                        "ticks": ""
                      },
                      "bgcolor": "#E5ECF6",
                      "caxis": {
                        "gridcolor": "white",
                        "linecolor": "white",
                        "ticks": ""
                      }
                    },
                    "title": {
                      "x": 0.05
                    },
                    "xaxis": {
                      "automargin": true,
                      "gridcolor": "white",
                      "linecolor": "white",
                      "ticks": "",
                      "title": {
                        "standoff": 15
                      },
                      "zerolinecolor": "white",
                      "zerolinewidth": 2
                    },
                    "yaxis": {
                      "automargin": true,
                      "gridcolor": "white",
                      "linecolor": "white",
                      "ticks": "",
                      "title": {
                        "standoff": 15
                      },
                      "zerolinecolor": "white",
                      "zerolinewidth": 2
                    }
                  }
                },
                "title": {
                  "text": "Scatter Plot of T_Sinus_dt vs RAIV"
                },
                "xaxis": {
                  "title": {
                    "text": "T_Sinus_dt"
                  }
                },
                "yaxis": {
                  "title": {
                    "text": "RAIV"
                  }
                }
              }
            }
          },
          "metadata": {},
          "output_type": "display_data"
        },
        {
          "data": {
            "application/vnd.plotly.v1+json": {
              "config": {
                "plotlyServerURL": "https://plot.ly"
              },
              "data": [
                {
                  "mode": "markers",
                  "name": "mer_cluster_0",
                  "type": "scatter",
                  "x": [
                    2,
                    2,
                    2,
                    1,
                    2,
                    1,
                    1,
                    2,
                    1,
                    1,
                    1,
                    1,
                    2,
                    1,
                    2,
                    1,
                    2,
                    1,
                    1,
                    1,
                    2,
                    1,
                    1,
                    1,
                    1,
                    1,
                    1,
                    1,
                    2,
                    2,
                    1,
                    1,
                    1,
                    2,
                    2,
                    1,
                    1,
                    1,
                    2,
                    1,
                    2,
                    1,
                    1,
                    2,
                    1,
                    1,
                    1,
                    1,
                    1,
                    1,
                    1,
                    1,
                    1,
                    1,
                    1,
                    2,
                    1,
                    1,
                    2,
                    1,
                    2,
                    1,
                    1,
                    2,
                    1,
                    2,
                    2,
                    2,
                    1,
                    2,
                    1,
                    1,
                    1,
                    1,
                    2,
                    2,
                    2,
                    2,
                    2,
                    1,
                    1,
                    2,
                    1,
                    2,
                    2,
                    2,
                    1,
                    1,
                    2,
                    2,
                    2,
                    1,
                    2,
                    1,
                    1,
                    2,
                    1,
                    1,
                    1,
                    1,
                    2,
                    1,
                    2,
                    2,
                    1,
                    1,
                    1,
                    1,
                    2,
                    1,
                    1,
                    2,
                    1,
                    2,
                    1,
                    2,
                    1,
                    2,
                    1,
                    1,
                    2,
                    1,
                    2,
                    1,
                    1,
                    2,
                    2,
                    1,
                    1,
                    1,
                    2,
                    1,
                    1,
                    1,
                    1,
                    2,
                    2,
                    1,
                    2,
                    2,
                    1,
                    1,
                    2,
                    2,
                    2,
                    2,
                    2,
                    1,
                    1,
                    1,
                    1,
                    2,
                    1,
                    1,
                    1,
                    1,
                    1,
                    1,
                    1,
                    2,
                    1,
                    1,
                    2,
                    2,
                    1,
                    2,
                    2,
                    1,
                    1,
                    2,
                    1,
                    1,
                    1,
                    1,
                    1,
                    1,
                    2,
                    1,
                    1,
                    2,
                    2,
                    1,
                    2,
                    2,
                    1,
                    2,
                    1,
                    1,
                    1,
                    2,
                    2,
                    2,
                    1,
                    2,
                    1,
                    2,
                    1,
                    2,
                    1,
                    1,
                    1,
                    1,
                    2,
                    2,
                    2,
                    2,
                    1,
                    1,
                    1,
                    2,
                    2,
                    1,
                    2,
                    2,
                    2,
                    1,
                    1,
                    1,
                    1,
                    1,
                    2,
                    2,
                    1,
                    1,
                    2,
                    2,
                    2,
                    2,
                    2,
                    1,
                    1,
                    2,
                    2,
                    2,
                    2,
                    2,
                    2,
                    2,
                    1,
                    1,
                    1,
                    2,
                    2,
                    1,
                    2,
                    1,
                    2,
                    2,
                    2,
                    1,
                    1,
                    1,
                    1,
                    1,
                    2,
                    2,
                    1,
                    2,
                    1,
                    2,
                    2,
                    1,
                    2,
                    2,
                    2,
                    1,
                    2,
                    2,
                    2,
                    1,
                    2,
                    1,
                    2,
                    1,
                    1,
                    1,
                    2,
                    2,
                    1,
                    1,
                    1,
                    1,
                    1,
                    1,
                    2,
                    2,
                    2,
                    2,
                    1,
                    2
                  ],
                  "y": [
                    14.8,
                    19.7,
                    14.8,
                    18.5,
                    31.4,
                    28.6,
                    27.7,
                    25.8,
                    6.9,
                    24.7,
                    13.1,
                    9,
                    30.3,
                    30.3,
                    23.7,
                    30.4,
                    20.2,
                    17.9,
                    18.1,
                    19.3,
                    27.6,
                    15.3,
                    11.8,
                    32.6,
                    19.2,
                    20.7,
                    31.8,
                    9.1,
                    26.5,
                    8.1,
                    7.3,
                    21.8,
                    27.3,
                    10.8,
                    8.6,
                    4.6,
                    18.9,
                    12.3,
                    10.6,
                    19,
                    18.6,
                    27.7,
                    8.8,
                    22.6,
                    11,
                    17.7,
                    19.4,
                    26.8,
                    16.6,
                    33.4,
                    11.9,
                    28.8,
                    13.6,
                    11.4,
                    27.9,
                    14.1,
                    19.6,
                    24.1,
                    10.8,
                    29.1,
                    32.8,
                    6.7,
                    19.8,
                    20.2,
                    27.8,
                    24.4,
                    27.6,
                    6.6,
                    21.5,
                    9.6,
                    5.3,
                    7.4,
                    8.8,
                    7.1,
                    5.9,
                    5.1,
                    14,
                    17.2,
                    5.3,
                    13.4,
                    15,
                    26.9,
                    5.1,
                    17.2,
                    13.1,
                    4.3,
                    7.7,
                    19.3,
                    33.2,
                    15.2,
                    6.1,
                    16.8,
                    4.1,
                    14.9,
                    14.2,
                    10.9,
                    6.5,
                    23,
                    6.6,
                    19.4,
                    23,
                    12.7,
                    13.1,
                    4.3,
                    7.1,
                    13.9,
                    18.1,
                    12.7,
                    8.1,
                    13.4,
                    21.8,
                    21.2,
                    5.9,
                    9.5,
                    22.6,
                    10.2,
                    16.5,
                    27.9,
                    22.7,
                    4.7,
                    11.7,
                    13.1,
                    21.3,
                    11.5,
                    13.5,
                    8.7,
                    14,
                    12.5,
                    32.7,
                    9.1,
                    9.2,
                    3.7,
                    12.7,
                    10.4,
                    11.5,
                    9,
                    22.4,
                    9.9,
                    9.3,
                    11.9,
                    18.4,
                    25.8,
                    10.1,
                    6.6,
                    9.1,
                    28,
                    8.1,
                    6.6,
                    10.6,
                    8.1,
                    10.4,
                    14.7,
                    5.1,
                    9.9,
                    17.7,
                    18.4,
                    10.1,
                    7.1,
                    11.1,
                    26.2,
                    19.9,
                    4.1,
                    13,
                    9.3,
                    16.2,
                    5.9,
                    7.1,
                    27.6,
                    11,
                    6.1,
                    16.8,
                    6.1,
                    10.4,
                    31.3,
                    21.9,
                    17.8,
                    3.5,
                    5.3,
                    14.7,
                    30.4,
                    3.6,
                    9.3,
                    9.2,
                    20.9,
                    24.8,
                    5.1,
                    19.4,
                    30.4,
                    26.9,
                    21.6,
                    6.1,
                    8.7,
                    22.2,
                    14.5,
                    10.4,
                    6.6,
                    15.3,
                    20.5,
                    22.6,
                    10.3,
                    4.6,
                    6.5,
                    21.8,
                    12,
                    19.1,
                    14.4,
                    13.2,
                    13.4,
                    26.7,
                    15.3,
                    14,
                    16.8,
                    3.6,
                    9.6,
                    24,
                    8.3,
                    14.3,
                    13.5,
                    9.5,
                    31.7,
                    15.7,
                    10.4,
                    5.2,
                    20.6,
                    6.5,
                    25.5,
                    11.2,
                    9.9,
                    15,
                    10.9,
                    12.1,
                    31.6,
                    14.3,
                    15,
                    27.9,
                    17.9,
                    13.3,
                    4.6,
                    6.5,
                    22.6,
                    7.1,
                    16.8,
                    8.4,
                    11.9,
                    10.7,
                    12.8,
                    32.8,
                    6.6,
                    14,
                    13.1,
                    5.3,
                    14.3,
                    32.2,
                    12,
                    16.1,
                    7.4,
                    14.7,
                    23.3,
                    5.7,
                    7.6,
                    20.6,
                    10.4,
                    7.1,
                    18.1,
                    10.9,
                    8.4,
                    22.4,
                    13,
                    9,
                    24.2,
                    17,
                    28.5,
                    29.1,
                    18.9,
                    22.4,
                    10.1,
                    24.7,
                    28.4,
                    14.7,
                    20.4,
                    24,
                    16.8,
                    10.6,
                    23.2,
                    17.7,
                    24.6,
                    21.3,
                    30.5,
                    12.6,
                    11.8
                  ]
                },
                {
                  "mode": "markers",
                  "name": "mer_cluster_1",
                  "type": "scatter",
                  "x": [
                    1,
                    2,
                    1,
                    1,
                    2,
                    1,
                    1,
                    1,
                    2,
                    1,
                    1,
                    1,
                    1,
                    1,
                    1,
                    1,
                    1,
                    2,
                    1,
                    2,
                    2,
                    1,
                    2,
                    2,
                    1,
                    1,
                    1,
                    1,
                    2,
                    1,
                    2,
                    1,
                    1,
                    1,
                    1,
                    1,
                    2,
                    1,
                    1,
                    1,
                    1,
                    2,
                    1,
                    1,
                    1,
                    1,
                    1,
                    1,
                    1,
                    1,
                    2,
                    1,
                    1,
                    1,
                    1,
                    1,
                    2,
                    2,
                    1,
                    2,
                    1,
                    2,
                    2,
                    2,
                    1,
                    1,
                    1,
                    2,
                    1,
                    1,
                    1,
                    1,
                    1,
                    1,
                    2,
                    2,
                    1,
                    1,
                    1,
                    1,
                    1
                  ],
                  "y": [
                    51.1,
                    46.1,
                    42.5,
                    56.3,
                    65.3,
                    51.1,
                    45,
                    55.8,
                    48.2,
                    58.6,
                    75.9,
                    45.6,
                    36.8,
                    57.8,
                    44.3,
                    43.6,
                    48.8,
                    46,
                    51.6,
                    45.6,
                    67.2,
                    66.5,
                    40.6,
                    74.6,
                    37.2,
                    66.5,
                    49.7,
                    46.2,
                    55.6,
                    46.7,
                    67.2,
                    76.9,
                    42.1,
                    43.9,
                    34.4,
                    35.7,
                    49.7,
                    52.6,
                    74.2,
                    36.5,
                    55.8,
                    56.3,
                    57.8,
                    35.1,
                    51.9,
                    36,
                    35.3,
                    54.4,
                    36.5,
                    43.1,
                    42.7,
                    36.5,
                    36.5,
                    37.8,
                    63.6,
                    36.5,
                    42.7,
                    37,
                    37.5,
                    63.6,
                    64.7,
                    49.5,
                    49.5,
                    42.1,
                    60.5,
                    37.9,
                    48.9,
                    67.8,
                    70.1,
                    50.6,
                    57.7,
                    60.5,
                    52.3,
                    55.6,
                    47.8,
                    74.6,
                    49.5,
                    65.6,
                    48.9,
                    55.6,
                    70.7
                  ]
                }
              ],
              "layout": {
                "template": {
                  "data": {
                    "bar": [
                      {
                        "error_x": {
                          "color": "#2a3f5f"
                        },
                        "error_y": {
                          "color": "#2a3f5f"
                        },
                        "marker": {
                          "line": {
                            "color": "#E5ECF6",
                            "width": 0.5
                          },
                          "pattern": {
                            "fillmode": "overlay",
                            "size": 10,
                            "solidity": 0.2
                          }
                        },
                        "type": "bar"
                      }
                    ],
                    "barpolar": [
                      {
                        "marker": {
                          "line": {
                            "color": "#E5ECF6",
                            "width": 0.5
                          },
                          "pattern": {
                            "fillmode": "overlay",
                            "size": 10,
                            "solidity": 0.2
                          }
                        },
                        "type": "barpolar"
                      }
                    ],
                    "carpet": [
                      {
                        "aaxis": {
                          "endlinecolor": "#2a3f5f",
                          "gridcolor": "white",
                          "linecolor": "white",
                          "minorgridcolor": "white",
                          "startlinecolor": "#2a3f5f"
                        },
                        "baxis": {
                          "endlinecolor": "#2a3f5f",
                          "gridcolor": "white",
                          "linecolor": "white",
                          "minorgridcolor": "white",
                          "startlinecolor": "#2a3f5f"
                        },
                        "type": "carpet"
                      }
                    ],
                    "choropleth": [
                      {
                        "colorbar": {
                          "outlinewidth": 0,
                          "ticks": ""
                        },
                        "type": "choropleth"
                      }
                    ],
                    "contour": [
                      {
                        "colorbar": {
                          "outlinewidth": 0,
                          "ticks": ""
                        },
                        "colorscale": [
                          [
                            0,
                            "#0d0887"
                          ],
                          [
                            0.1111111111111111,
                            "#46039f"
                          ],
                          [
                            0.2222222222222222,
                            "#7201a8"
                          ],
                          [
                            0.3333333333333333,
                            "#9c179e"
                          ],
                          [
                            0.4444444444444444,
                            "#bd3786"
                          ],
                          [
                            0.5555555555555556,
                            "#d8576b"
                          ],
                          [
                            0.6666666666666666,
                            "#ed7953"
                          ],
                          [
                            0.7777777777777778,
                            "#fb9f3a"
                          ],
                          [
                            0.8888888888888888,
                            "#fdca26"
                          ],
                          [
                            1,
                            "#f0f921"
                          ]
                        ],
                        "type": "contour"
                      }
                    ],
                    "contourcarpet": [
                      {
                        "colorbar": {
                          "outlinewidth": 0,
                          "ticks": ""
                        },
                        "type": "contourcarpet"
                      }
                    ],
                    "heatmap": [
                      {
                        "colorbar": {
                          "outlinewidth": 0,
                          "ticks": ""
                        },
                        "colorscale": [
                          [
                            0,
                            "#0d0887"
                          ],
                          [
                            0.1111111111111111,
                            "#46039f"
                          ],
                          [
                            0.2222222222222222,
                            "#7201a8"
                          ],
                          [
                            0.3333333333333333,
                            "#9c179e"
                          ],
                          [
                            0.4444444444444444,
                            "#bd3786"
                          ],
                          [
                            0.5555555555555556,
                            "#d8576b"
                          ],
                          [
                            0.6666666666666666,
                            "#ed7953"
                          ],
                          [
                            0.7777777777777778,
                            "#fb9f3a"
                          ],
                          [
                            0.8888888888888888,
                            "#fdca26"
                          ],
                          [
                            1,
                            "#f0f921"
                          ]
                        ],
                        "type": "heatmap"
                      }
                    ],
                    "heatmapgl": [
                      {
                        "colorbar": {
                          "outlinewidth": 0,
                          "ticks": ""
                        },
                        "colorscale": [
                          [
                            0,
                            "#0d0887"
                          ],
                          [
                            0.1111111111111111,
                            "#46039f"
                          ],
                          [
                            0.2222222222222222,
                            "#7201a8"
                          ],
                          [
                            0.3333333333333333,
                            "#9c179e"
                          ],
                          [
                            0.4444444444444444,
                            "#bd3786"
                          ],
                          [
                            0.5555555555555556,
                            "#d8576b"
                          ],
                          [
                            0.6666666666666666,
                            "#ed7953"
                          ],
                          [
                            0.7777777777777778,
                            "#fb9f3a"
                          ],
                          [
                            0.8888888888888888,
                            "#fdca26"
                          ],
                          [
                            1,
                            "#f0f921"
                          ]
                        ],
                        "type": "heatmapgl"
                      }
                    ],
                    "histogram": [
                      {
                        "marker": {
                          "pattern": {
                            "fillmode": "overlay",
                            "size": 10,
                            "solidity": 0.2
                          }
                        },
                        "type": "histogram"
                      }
                    ],
                    "histogram2d": [
                      {
                        "colorbar": {
                          "outlinewidth": 0,
                          "ticks": ""
                        },
                        "colorscale": [
                          [
                            0,
                            "#0d0887"
                          ],
                          [
                            0.1111111111111111,
                            "#46039f"
                          ],
                          [
                            0.2222222222222222,
                            "#7201a8"
                          ],
                          [
                            0.3333333333333333,
                            "#9c179e"
                          ],
                          [
                            0.4444444444444444,
                            "#bd3786"
                          ],
                          [
                            0.5555555555555556,
                            "#d8576b"
                          ],
                          [
                            0.6666666666666666,
                            "#ed7953"
                          ],
                          [
                            0.7777777777777778,
                            "#fb9f3a"
                          ],
                          [
                            0.8888888888888888,
                            "#fdca26"
                          ],
                          [
                            1,
                            "#f0f921"
                          ]
                        ],
                        "type": "histogram2d"
                      }
                    ],
                    "histogram2dcontour": [
                      {
                        "colorbar": {
                          "outlinewidth": 0,
                          "ticks": ""
                        },
                        "colorscale": [
                          [
                            0,
                            "#0d0887"
                          ],
                          [
                            0.1111111111111111,
                            "#46039f"
                          ],
                          [
                            0.2222222222222222,
                            "#7201a8"
                          ],
                          [
                            0.3333333333333333,
                            "#9c179e"
                          ],
                          [
                            0.4444444444444444,
                            "#bd3786"
                          ],
                          [
                            0.5555555555555556,
                            "#d8576b"
                          ],
                          [
                            0.6666666666666666,
                            "#ed7953"
                          ],
                          [
                            0.7777777777777778,
                            "#fb9f3a"
                          ],
                          [
                            0.8888888888888888,
                            "#fdca26"
                          ],
                          [
                            1,
                            "#f0f921"
                          ]
                        ],
                        "type": "histogram2dcontour"
                      }
                    ],
                    "mesh3d": [
                      {
                        "colorbar": {
                          "outlinewidth": 0,
                          "ticks": ""
                        },
                        "type": "mesh3d"
                      }
                    ],
                    "parcoords": [
                      {
                        "line": {
                          "colorbar": {
                            "outlinewidth": 0,
                            "ticks": ""
                          }
                        },
                        "type": "parcoords"
                      }
                    ],
                    "pie": [
                      {
                        "automargin": true,
                        "type": "pie"
                      }
                    ],
                    "scatter": [
                      {
                        "fillpattern": {
                          "fillmode": "overlay",
                          "size": 10,
                          "solidity": 0.2
                        },
                        "type": "scatter"
                      }
                    ],
                    "scatter3d": [
                      {
                        "line": {
                          "colorbar": {
                            "outlinewidth": 0,
                            "ticks": ""
                          }
                        },
                        "marker": {
                          "colorbar": {
                            "outlinewidth": 0,
                            "ticks": ""
                          }
                        },
                        "type": "scatter3d"
                      }
                    ],
                    "scattercarpet": [
                      {
                        "marker": {
                          "colorbar": {
                            "outlinewidth": 0,
                            "ticks": ""
                          }
                        },
                        "type": "scattercarpet"
                      }
                    ],
                    "scattergeo": [
                      {
                        "marker": {
                          "colorbar": {
                            "outlinewidth": 0,
                            "ticks": ""
                          }
                        },
                        "type": "scattergeo"
                      }
                    ],
                    "scattergl": [
                      {
                        "marker": {
                          "colorbar": {
                            "outlinewidth": 0,
                            "ticks": ""
                          }
                        },
                        "type": "scattergl"
                      }
                    ],
                    "scattermapbox": [
                      {
                        "marker": {
                          "colorbar": {
                            "outlinewidth": 0,
                            "ticks": ""
                          }
                        },
                        "type": "scattermapbox"
                      }
                    ],
                    "scatterpolar": [
                      {
                        "marker": {
                          "colorbar": {
                            "outlinewidth": 0,
                            "ticks": ""
                          }
                        },
                        "type": "scatterpolar"
                      }
                    ],
                    "scatterpolargl": [
                      {
                        "marker": {
                          "colorbar": {
                            "outlinewidth": 0,
                            "ticks": ""
                          }
                        },
                        "type": "scatterpolargl"
                      }
                    ],
                    "scatterternary": [
                      {
                        "marker": {
                          "colorbar": {
                            "outlinewidth": 0,
                            "ticks": ""
                          }
                        },
                        "type": "scatterternary"
                      }
                    ],
                    "surface": [
                      {
                        "colorbar": {
                          "outlinewidth": 0,
                          "ticks": ""
                        },
                        "colorscale": [
                          [
                            0,
                            "#0d0887"
                          ],
                          [
                            0.1111111111111111,
                            "#46039f"
                          ],
                          [
                            0.2222222222222222,
                            "#7201a8"
                          ],
                          [
                            0.3333333333333333,
                            "#9c179e"
                          ],
                          [
                            0.4444444444444444,
                            "#bd3786"
                          ],
                          [
                            0.5555555555555556,
                            "#d8576b"
                          ],
                          [
                            0.6666666666666666,
                            "#ed7953"
                          ],
                          [
                            0.7777777777777778,
                            "#fb9f3a"
                          ],
                          [
                            0.8888888888888888,
                            "#fdca26"
                          ],
                          [
                            1,
                            "#f0f921"
                          ]
                        ],
                        "type": "surface"
                      }
                    ],
                    "table": [
                      {
                        "cells": {
                          "fill": {
                            "color": "#EBF0F8"
                          },
                          "line": {
                            "color": "white"
                          }
                        },
                        "header": {
                          "fill": {
                            "color": "#C8D4E3"
                          },
                          "line": {
                            "color": "white"
                          }
                        },
                        "type": "table"
                      }
                    ]
                  },
                  "layout": {
                    "annotationdefaults": {
                      "arrowcolor": "#2a3f5f",
                      "arrowhead": 0,
                      "arrowwidth": 1
                    },
                    "autotypenumbers": "strict",
                    "coloraxis": {
                      "colorbar": {
                        "outlinewidth": 0,
                        "ticks": ""
                      }
                    },
                    "colorscale": {
                      "diverging": [
                        [
                          0,
                          "#8e0152"
                        ],
                        [
                          0.1,
                          "#c51b7d"
                        ],
                        [
                          0.2,
                          "#de77ae"
                        ],
                        [
                          0.3,
                          "#f1b6da"
                        ],
                        [
                          0.4,
                          "#fde0ef"
                        ],
                        [
                          0.5,
                          "#f7f7f7"
                        ],
                        [
                          0.6,
                          "#e6f5d0"
                        ],
                        [
                          0.7,
                          "#b8e186"
                        ],
                        [
                          0.8,
                          "#7fbc41"
                        ],
                        [
                          0.9,
                          "#4d9221"
                        ],
                        [
                          1,
                          "#276419"
                        ]
                      ],
                      "sequential": [
                        [
                          0,
                          "#0d0887"
                        ],
                        [
                          0.1111111111111111,
                          "#46039f"
                        ],
                        [
                          0.2222222222222222,
                          "#7201a8"
                        ],
                        [
                          0.3333333333333333,
                          "#9c179e"
                        ],
                        [
                          0.4444444444444444,
                          "#bd3786"
                        ],
                        [
                          0.5555555555555556,
                          "#d8576b"
                        ],
                        [
                          0.6666666666666666,
                          "#ed7953"
                        ],
                        [
                          0.7777777777777778,
                          "#fb9f3a"
                        ],
                        [
                          0.8888888888888888,
                          "#fdca26"
                        ],
                        [
                          1,
                          "#f0f921"
                        ]
                      ],
                      "sequentialminus": [
                        [
                          0,
                          "#0d0887"
                        ],
                        [
                          0.1111111111111111,
                          "#46039f"
                        ],
                        [
                          0.2222222222222222,
                          "#7201a8"
                        ],
                        [
                          0.3333333333333333,
                          "#9c179e"
                        ],
                        [
                          0.4444444444444444,
                          "#bd3786"
                        ],
                        [
                          0.5555555555555556,
                          "#d8576b"
                        ],
                        [
                          0.6666666666666666,
                          "#ed7953"
                        ],
                        [
                          0.7777777777777778,
                          "#fb9f3a"
                        ],
                        [
                          0.8888888888888888,
                          "#fdca26"
                        ],
                        [
                          1,
                          "#f0f921"
                        ]
                      ]
                    },
                    "colorway": [
                      "#636efa",
                      "#EF553B",
                      "#00cc96",
                      "#ab63fa",
                      "#FFA15A",
                      "#19d3f3",
                      "#FF6692",
                      "#B6E880",
                      "#FF97FF",
                      "#FECB52"
                    ],
                    "font": {
                      "color": "#2a3f5f"
                    },
                    "geo": {
                      "bgcolor": "white",
                      "lakecolor": "white",
                      "landcolor": "#E5ECF6",
                      "showlakes": true,
                      "showland": true,
                      "subunitcolor": "white"
                    },
                    "hoverlabel": {
                      "align": "left"
                    },
                    "hovermode": "closest",
                    "mapbox": {
                      "style": "light"
                    },
                    "paper_bgcolor": "white",
                    "plot_bgcolor": "#E5ECF6",
                    "polar": {
                      "angularaxis": {
                        "gridcolor": "white",
                        "linecolor": "white",
                        "ticks": ""
                      },
                      "bgcolor": "#E5ECF6",
                      "radialaxis": {
                        "gridcolor": "white",
                        "linecolor": "white",
                        "ticks": ""
                      }
                    },
                    "scene": {
                      "xaxis": {
                        "backgroundcolor": "#E5ECF6",
                        "gridcolor": "white",
                        "gridwidth": 2,
                        "linecolor": "white",
                        "showbackground": true,
                        "ticks": "",
                        "zerolinecolor": "white"
                      },
                      "yaxis": {
                        "backgroundcolor": "#E5ECF6",
                        "gridcolor": "white",
                        "gridwidth": 2,
                        "linecolor": "white",
                        "showbackground": true,
                        "ticks": "",
                        "zerolinecolor": "white"
                      },
                      "zaxis": {
                        "backgroundcolor": "#E5ECF6",
                        "gridcolor": "white",
                        "gridwidth": 2,
                        "linecolor": "white",
                        "showbackground": true,
                        "ticks": "",
                        "zerolinecolor": "white"
                      }
                    },
                    "shapedefaults": {
                      "line": {
                        "color": "#2a3f5f"
                      }
                    },
                    "ternary": {
                      "aaxis": {
                        "gridcolor": "white",
                        "linecolor": "white",
                        "ticks": ""
                      },
                      "baxis": {
                        "gridcolor": "white",
                        "linecolor": "white",
                        "ticks": ""
                      },
                      "bgcolor": "#E5ECF6",
                      "caxis": {
                        "gridcolor": "white",
                        "linecolor": "white",
                        "ticks": ""
                      }
                    },
                    "title": {
                      "x": 0.05
                    },
                    "xaxis": {
                      "automargin": true,
                      "gridcolor": "white",
                      "linecolor": "white",
                      "ticks": "",
                      "title": {
                        "standoff": 15
                      },
                      "zerolinecolor": "white",
                      "zerolinewidth": 2
                    },
                    "yaxis": {
                      "automargin": true,
                      "gridcolor": "white",
                      "linecolor": "white",
                      "ticks": "",
                      "title": {
                        "standoff": 15
                      },
                      "zerolinecolor": "white",
                      "zerolinewidth": 2
                    }
                  }
                },
                "title": {
                  "text": "Scatter Plot of T_height_loc vs RAIV"
                },
                "xaxis": {
                  "title": {
                    "text": "T_height_loc"
                  }
                },
                "yaxis": {
                  "title": {
                    "text": "RAIV"
                  }
                }
              }
            }
          },
          "metadata": {},
          "output_type": "display_data"
        },
        {
          "data": {
            "application/vnd.plotly.v1+json": {
              "config": {
                "plotlyServerURL": "https://plot.ly"
              },
              "data": [
                {
                  "mode": "markers",
                  "name": "mer_cluster_0",
                  "type": "scatter",
                  "x": [
                    1,
                    2,
                    1,
                    1,
                    1,
                    1,
                    1,
                    1,
                    1,
                    1,
                    1,
                    1,
                    1,
                    1,
                    1,
                    1,
                    1,
                    1,
                    1,
                    1,
                    1,
                    1,
                    1,
                    1,
                    1,
                    1,
                    1,
                    1,
                    1,
                    1,
                    1,
                    1,
                    1,
                    1,
                    1,
                    1,
                    1,
                    1,
                    1,
                    1,
                    1,
                    1,
                    1,
                    1,
                    1,
                    1,
                    1,
                    1,
                    1,
                    1,
                    1,
                    1,
                    1,
                    1,
                    1,
                    1,
                    1,
                    1,
                    1,
                    1,
                    1,
                    1,
                    1,
                    1,
                    1,
                    1,
                    1,
                    1,
                    2,
                    1,
                    1,
                    1,
                    1,
                    2,
                    1,
                    1,
                    1,
                    1,
                    1,
                    2,
                    1,
                    2,
                    1,
                    2,
                    2,
                    1,
                    2,
                    1,
                    2,
                    1,
                    1,
                    2,
                    1,
                    1,
                    1,
                    2,
                    1,
                    1,
                    1,
                    1,
                    1,
                    1,
                    2,
                    1,
                    1,
                    2,
                    2,
                    2,
                    1,
                    2,
                    1,
                    1,
                    1,
                    2,
                    1,
                    1,
                    2,
                    1,
                    2,
                    2,
                    2,
                    1,
                    1,
                    1,
                    2,
                    2,
                    2,
                    1,
                    2,
                    2,
                    1,
                    1,
                    1,
                    1,
                    2,
                    2,
                    1,
                    2,
                    1,
                    1,
                    1,
                    1,
                    2,
                    2,
                    2,
                    2,
                    1,
                    1,
                    1,
                    1,
                    1,
                    2,
                    1,
                    1,
                    1,
                    1,
                    2,
                    1,
                    1,
                    2,
                    2,
                    1,
                    2,
                    1,
                    1,
                    1,
                    1,
                    1,
                    1,
                    1,
                    2,
                    1,
                    1,
                    2,
                    2,
                    2,
                    2,
                    2,
                    2,
                    2,
                    1,
                    1,
                    1,
                    2,
                    1,
                    2,
                    2,
                    2,
                    1,
                    1,
                    1,
                    2,
                    1,
                    1,
                    1,
                    1,
                    2,
                    2,
                    1,
                    2,
                    1,
                    1,
                    2,
                    2,
                    2,
                    1,
                    2,
                    2,
                    2,
                    2,
                    1,
                    1,
                    1,
                    2,
                    2,
                    2,
                    2,
                    2,
                    1,
                    2,
                    2,
                    2,
                    1,
                    2,
                    1,
                    1,
                    2,
                    1,
                    2,
                    1,
                    1,
                    2,
                    2,
                    2,
                    2,
                    2,
                    2,
                    1,
                    2,
                    2,
                    2,
                    2,
                    2,
                    1,
                    2,
                    2,
                    2,
                    2,
                    2,
                    1,
                    1,
                    1,
                    2,
                    1,
                    2,
                    1,
                    1,
                    3,
                    1,
                    3,
                    3,
                    2,
                    2,
                    1,
                    3,
                    1,
                    2,
                    2,
                    2,
                    2,
                    1,
                    1,
                    1,
                    1,
                    1,
                    1,
                    1,
                    1,
                    1,
                    1,
                    1,
                    2,
                    1,
                    1,
                    1,
                    1,
                    1,
                    1,
                    2,
                    1
                  ],
                  "y": [
                    14.8,
                    19.7,
                    14.8,
                    18.5,
                    31.4,
                    28.6,
                    27.7,
                    25.8,
                    6.9,
                    24.7,
                    13.1,
                    9,
                    30.3,
                    30.3,
                    23.7,
                    30.4,
                    20.2,
                    17.9,
                    18.1,
                    19.3,
                    27.6,
                    15.3,
                    11.8,
                    32.6,
                    19.2,
                    20.7,
                    31.8,
                    9.1,
                    26.5,
                    8.1,
                    7.3,
                    21.8,
                    27.3,
                    10.8,
                    8.6,
                    4.6,
                    18.9,
                    12.3,
                    10.6,
                    19,
                    18.6,
                    27.7,
                    8.8,
                    22.6,
                    11,
                    17.7,
                    19.4,
                    26.8,
                    16.6,
                    33.4,
                    11.9,
                    28.8,
                    13.6,
                    11.4,
                    27.9,
                    14.1,
                    19.6,
                    24.1,
                    10.8,
                    29.1,
                    32.8,
                    6.7,
                    19.8,
                    20.2,
                    27.8,
                    24.4,
                    27.6,
                    6.6,
                    21.5,
                    9.6,
                    5.3,
                    7.4,
                    8.8,
                    7.1,
                    5.9,
                    5.1,
                    14,
                    17.2,
                    5.3,
                    13.4,
                    15,
                    26.9,
                    5.1,
                    17.2,
                    13.1,
                    4.3,
                    7.7,
                    19.3,
                    33.2,
                    15.2,
                    6.1,
                    16.8,
                    4.1,
                    14.9,
                    14.2,
                    10.9,
                    6.5,
                    23,
                    6.6,
                    19.4,
                    23,
                    12.7,
                    13.1,
                    4.3,
                    7.1,
                    13.9,
                    18.1,
                    12.7,
                    8.1,
                    13.4,
                    21.8,
                    21.2,
                    5.9,
                    9.5,
                    22.6,
                    10.2,
                    16.5,
                    27.9,
                    22.7,
                    4.7,
                    11.7,
                    13.1,
                    21.3,
                    11.5,
                    13.5,
                    8.7,
                    14,
                    12.5,
                    32.7,
                    9.1,
                    9.2,
                    3.7,
                    12.7,
                    10.4,
                    11.5,
                    9,
                    22.4,
                    9.9,
                    9.3,
                    11.9,
                    18.4,
                    25.8,
                    10.1,
                    6.6,
                    9.1,
                    28,
                    8.1,
                    6.6,
                    10.6,
                    8.1,
                    10.4,
                    14.7,
                    5.1,
                    9.9,
                    17.7,
                    18.4,
                    10.1,
                    7.1,
                    11.1,
                    26.2,
                    19.9,
                    4.1,
                    13,
                    9.3,
                    16.2,
                    5.9,
                    7.1,
                    27.6,
                    11,
                    6.1,
                    16.8,
                    6.1,
                    10.4,
                    31.3,
                    21.9,
                    17.8,
                    3.5,
                    5.3,
                    14.7,
                    30.4,
                    3.6,
                    9.3,
                    9.2,
                    20.9,
                    24.8,
                    5.1,
                    19.4,
                    30.4,
                    26.9,
                    21.6,
                    6.1,
                    8.7,
                    22.2,
                    14.5,
                    10.4,
                    6.6,
                    15.3,
                    20.5,
                    22.6,
                    10.3,
                    4.6,
                    6.5,
                    21.8,
                    12,
                    19.1,
                    14.4,
                    13.2,
                    13.4,
                    26.7,
                    15.3,
                    14,
                    16.8,
                    3.6,
                    9.6,
                    24,
                    8.3,
                    14.3,
                    13.5,
                    9.5,
                    31.7,
                    15.7,
                    10.4,
                    5.2,
                    20.6,
                    6.5,
                    25.5,
                    11.2,
                    9.9,
                    15,
                    10.9,
                    12.1,
                    31.6,
                    14.3,
                    15,
                    27.9,
                    17.9,
                    13.3,
                    4.6,
                    6.5,
                    22.6,
                    7.1,
                    16.8,
                    8.4,
                    11.9,
                    10.7,
                    12.8,
                    32.8,
                    6.6,
                    14,
                    13.1,
                    5.3,
                    14.3,
                    32.2,
                    12,
                    16.1,
                    7.4,
                    14.7,
                    23.3,
                    5.7,
                    7.6,
                    20.6,
                    10.4,
                    7.1,
                    18.1,
                    10.9,
                    8.4,
                    22.4,
                    13,
                    9,
                    24.2,
                    17,
                    28.5,
                    29.1,
                    18.9,
                    22.4,
                    10.1,
                    24.7,
                    28.4,
                    14.7,
                    20.4,
                    24,
                    16.8,
                    10.6,
                    23.2,
                    17.7,
                    24.6,
                    21.3,
                    30.5,
                    12.6,
                    11.8
                  ]
                },
                {
                  "mode": "markers",
                  "name": "mer_cluster_1",
                  "type": "scatter",
                  "x": [
                    1,
                    1,
                    1,
                    1,
                    1,
                    1,
                    1,
                    1,
                    1,
                    1,
                    1,
                    1,
                    1,
                    1,
                    1,
                    1,
                    1,
                    1,
                    1,
                    1,
                    1,
                    1,
                    1,
                    1,
                    1,
                    1,
                    1,
                    1,
                    1,
                    1,
                    1,
                    1,
                    1,
                    1,
                    1,
                    1,
                    1,
                    1,
                    1,
                    1,
                    1,
                    1,
                    1,
                    1,
                    1,
                    1,
                    1,
                    2,
                    2,
                    2,
                    2,
                    2,
                    1,
                    2,
                    2,
                    2,
                    2,
                    2,
                    1,
                    2,
                    2,
                    2,
                    2,
                    2,
                    1,
                    1,
                    1,
                    1,
                    1,
                    1,
                    1,
                    1,
                    1,
                    1,
                    1,
                    1,
                    1,
                    1,
                    1,
                    1,
                    1
                  ],
                  "y": [
                    51.1,
                    46.1,
                    42.5,
                    56.3,
                    65.3,
                    51.1,
                    45,
                    55.8,
                    48.2,
                    58.6,
                    75.9,
                    45.6,
                    36.8,
                    57.8,
                    44.3,
                    43.6,
                    48.8,
                    46,
                    51.6,
                    45.6,
                    67.2,
                    66.5,
                    40.6,
                    74.6,
                    37.2,
                    66.5,
                    49.7,
                    46.2,
                    55.6,
                    46.7,
                    67.2,
                    76.9,
                    42.1,
                    43.9,
                    34.4,
                    35.7,
                    49.7,
                    52.6,
                    74.2,
                    36.5,
                    55.8,
                    56.3,
                    57.8,
                    35.1,
                    51.9,
                    36,
                    35.3,
                    54.4,
                    36.5,
                    43.1,
                    42.7,
                    36.5,
                    36.5,
                    37.8,
                    63.6,
                    36.5,
                    42.7,
                    37,
                    37.5,
                    63.6,
                    64.7,
                    49.5,
                    49.5,
                    42.1,
                    60.5,
                    37.9,
                    48.9,
                    67.8,
                    70.1,
                    50.6,
                    57.7,
                    60.5,
                    52.3,
                    55.6,
                    47.8,
                    74.6,
                    49.5,
                    65.6,
                    48.9,
                    55.6,
                    70.7
                  ]
                }
              ],
              "layout": {
                "template": {
                  "data": {
                    "bar": [
                      {
                        "error_x": {
                          "color": "#2a3f5f"
                        },
                        "error_y": {
                          "color": "#2a3f5f"
                        },
                        "marker": {
                          "line": {
                            "color": "#E5ECF6",
                            "width": 0.5
                          },
                          "pattern": {
                            "fillmode": "overlay",
                            "size": 10,
                            "solidity": 0.2
                          }
                        },
                        "type": "bar"
                      }
                    ],
                    "barpolar": [
                      {
                        "marker": {
                          "line": {
                            "color": "#E5ECF6",
                            "width": 0.5
                          },
                          "pattern": {
                            "fillmode": "overlay",
                            "size": 10,
                            "solidity": 0.2
                          }
                        },
                        "type": "barpolar"
                      }
                    ],
                    "carpet": [
                      {
                        "aaxis": {
                          "endlinecolor": "#2a3f5f",
                          "gridcolor": "white",
                          "linecolor": "white",
                          "minorgridcolor": "white",
                          "startlinecolor": "#2a3f5f"
                        },
                        "baxis": {
                          "endlinecolor": "#2a3f5f",
                          "gridcolor": "white",
                          "linecolor": "white",
                          "minorgridcolor": "white",
                          "startlinecolor": "#2a3f5f"
                        },
                        "type": "carpet"
                      }
                    ],
                    "choropleth": [
                      {
                        "colorbar": {
                          "outlinewidth": 0,
                          "ticks": ""
                        },
                        "type": "choropleth"
                      }
                    ],
                    "contour": [
                      {
                        "colorbar": {
                          "outlinewidth": 0,
                          "ticks": ""
                        },
                        "colorscale": [
                          [
                            0,
                            "#0d0887"
                          ],
                          [
                            0.1111111111111111,
                            "#46039f"
                          ],
                          [
                            0.2222222222222222,
                            "#7201a8"
                          ],
                          [
                            0.3333333333333333,
                            "#9c179e"
                          ],
                          [
                            0.4444444444444444,
                            "#bd3786"
                          ],
                          [
                            0.5555555555555556,
                            "#d8576b"
                          ],
                          [
                            0.6666666666666666,
                            "#ed7953"
                          ],
                          [
                            0.7777777777777778,
                            "#fb9f3a"
                          ],
                          [
                            0.8888888888888888,
                            "#fdca26"
                          ],
                          [
                            1,
                            "#f0f921"
                          ]
                        ],
                        "type": "contour"
                      }
                    ],
                    "contourcarpet": [
                      {
                        "colorbar": {
                          "outlinewidth": 0,
                          "ticks": ""
                        },
                        "type": "contourcarpet"
                      }
                    ],
                    "heatmap": [
                      {
                        "colorbar": {
                          "outlinewidth": 0,
                          "ticks": ""
                        },
                        "colorscale": [
                          [
                            0,
                            "#0d0887"
                          ],
                          [
                            0.1111111111111111,
                            "#46039f"
                          ],
                          [
                            0.2222222222222222,
                            "#7201a8"
                          ],
                          [
                            0.3333333333333333,
                            "#9c179e"
                          ],
                          [
                            0.4444444444444444,
                            "#bd3786"
                          ],
                          [
                            0.5555555555555556,
                            "#d8576b"
                          ],
                          [
                            0.6666666666666666,
                            "#ed7953"
                          ],
                          [
                            0.7777777777777778,
                            "#fb9f3a"
                          ],
                          [
                            0.8888888888888888,
                            "#fdca26"
                          ],
                          [
                            1,
                            "#f0f921"
                          ]
                        ],
                        "type": "heatmap"
                      }
                    ],
                    "heatmapgl": [
                      {
                        "colorbar": {
                          "outlinewidth": 0,
                          "ticks": ""
                        },
                        "colorscale": [
                          [
                            0,
                            "#0d0887"
                          ],
                          [
                            0.1111111111111111,
                            "#46039f"
                          ],
                          [
                            0.2222222222222222,
                            "#7201a8"
                          ],
                          [
                            0.3333333333333333,
                            "#9c179e"
                          ],
                          [
                            0.4444444444444444,
                            "#bd3786"
                          ],
                          [
                            0.5555555555555556,
                            "#d8576b"
                          ],
                          [
                            0.6666666666666666,
                            "#ed7953"
                          ],
                          [
                            0.7777777777777778,
                            "#fb9f3a"
                          ],
                          [
                            0.8888888888888888,
                            "#fdca26"
                          ],
                          [
                            1,
                            "#f0f921"
                          ]
                        ],
                        "type": "heatmapgl"
                      }
                    ],
                    "histogram": [
                      {
                        "marker": {
                          "pattern": {
                            "fillmode": "overlay",
                            "size": 10,
                            "solidity": 0.2
                          }
                        },
                        "type": "histogram"
                      }
                    ],
                    "histogram2d": [
                      {
                        "colorbar": {
                          "outlinewidth": 0,
                          "ticks": ""
                        },
                        "colorscale": [
                          [
                            0,
                            "#0d0887"
                          ],
                          [
                            0.1111111111111111,
                            "#46039f"
                          ],
                          [
                            0.2222222222222222,
                            "#7201a8"
                          ],
                          [
                            0.3333333333333333,
                            "#9c179e"
                          ],
                          [
                            0.4444444444444444,
                            "#bd3786"
                          ],
                          [
                            0.5555555555555556,
                            "#d8576b"
                          ],
                          [
                            0.6666666666666666,
                            "#ed7953"
                          ],
                          [
                            0.7777777777777778,
                            "#fb9f3a"
                          ],
                          [
                            0.8888888888888888,
                            "#fdca26"
                          ],
                          [
                            1,
                            "#f0f921"
                          ]
                        ],
                        "type": "histogram2d"
                      }
                    ],
                    "histogram2dcontour": [
                      {
                        "colorbar": {
                          "outlinewidth": 0,
                          "ticks": ""
                        },
                        "colorscale": [
                          [
                            0,
                            "#0d0887"
                          ],
                          [
                            0.1111111111111111,
                            "#46039f"
                          ],
                          [
                            0.2222222222222222,
                            "#7201a8"
                          ],
                          [
                            0.3333333333333333,
                            "#9c179e"
                          ],
                          [
                            0.4444444444444444,
                            "#bd3786"
                          ],
                          [
                            0.5555555555555556,
                            "#d8576b"
                          ],
                          [
                            0.6666666666666666,
                            "#ed7953"
                          ],
                          [
                            0.7777777777777778,
                            "#fb9f3a"
                          ],
                          [
                            0.8888888888888888,
                            "#fdca26"
                          ],
                          [
                            1,
                            "#f0f921"
                          ]
                        ],
                        "type": "histogram2dcontour"
                      }
                    ],
                    "mesh3d": [
                      {
                        "colorbar": {
                          "outlinewidth": 0,
                          "ticks": ""
                        },
                        "type": "mesh3d"
                      }
                    ],
                    "parcoords": [
                      {
                        "line": {
                          "colorbar": {
                            "outlinewidth": 0,
                            "ticks": ""
                          }
                        },
                        "type": "parcoords"
                      }
                    ],
                    "pie": [
                      {
                        "automargin": true,
                        "type": "pie"
                      }
                    ],
                    "scatter": [
                      {
                        "fillpattern": {
                          "fillmode": "overlay",
                          "size": 10,
                          "solidity": 0.2
                        },
                        "type": "scatter"
                      }
                    ],
                    "scatter3d": [
                      {
                        "line": {
                          "colorbar": {
                            "outlinewidth": 0,
                            "ticks": ""
                          }
                        },
                        "marker": {
                          "colorbar": {
                            "outlinewidth": 0,
                            "ticks": ""
                          }
                        },
                        "type": "scatter3d"
                      }
                    ],
                    "scattercarpet": [
                      {
                        "marker": {
                          "colorbar": {
                            "outlinewidth": 0,
                            "ticks": ""
                          }
                        },
                        "type": "scattercarpet"
                      }
                    ],
                    "scattergeo": [
                      {
                        "marker": {
                          "colorbar": {
                            "outlinewidth": 0,
                            "ticks": ""
                          }
                        },
                        "type": "scattergeo"
                      }
                    ],
                    "scattergl": [
                      {
                        "marker": {
                          "colorbar": {
                            "outlinewidth": 0,
                            "ticks": ""
                          }
                        },
                        "type": "scattergl"
                      }
                    ],
                    "scattermapbox": [
                      {
                        "marker": {
                          "colorbar": {
                            "outlinewidth": 0,
                            "ticks": ""
                          }
                        },
                        "type": "scattermapbox"
                      }
                    ],
                    "scatterpolar": [
                      {
                        "marker": {
                          "colorbar": {
                            "outlinewidth": 0,
                            "ticks": ""
                          }
                        },
                        "type": "scatterpolar"
                      }
                    ],
                    "scatterpolargl": [
                      {
                        "marker": {
                          "colorbar": {
                            "outlinewidth": 0,
                            "ticks": ""
                          }
                        },
                        "type": "scatterpolargl"
                      }
                    ],
                    "scatterternary": [
                      {
                        "marker": {
                          "colorbar": {
                            "outlinewidth": 0,
                            "ticks": ""
                          }
                        },
                        "type": "scatterternary"
                      }
                    ],
                    "surface": [
                      {
                        "colorbar": {
                          "outlinewidth": 0,
                          "ticks": ""
                        },
                        "colorscale": [
                          [
                            0,
                            "#0d0887"
                          ],
                          [
                            0.1111111111111111,
                            "#46039f"
                          ],
                          [
                            0.2222222222222222,
                            "#7201a8"
                          ],
                          [
                            0.3333333333333333,
                            "#9c179e"
                          ],
                          [
                            0.4444444444444444,
                            "#bd3786"
                          ],
                          [
                            0.5555555555555556,
                            "#d8576b"
                          ],
                          [
                            0.6666666666666666,
                            "#ed7953"
                          ],
                          [
                            0.7777777777777778,
                            "#fb9f3a"
                          ],
                          [
                            0.8888888888888888,
                            "#fdca26"
                          ],
                          [
                            1,
                            "#f0f921"
                          ]
                        ],
                        "type": "surface"
                      }
                    ],
                    "table": [
                      {
                        "cells": {
                          "fill": {
                            "color": "#EBF0F8"
                          },
                          "line": {
                            "color": "white"
                          }
                        },
                        "header": {
                          "fill": {
                            "color": "#C8D4E3"
                          },
                          "line": {
                            "color": "white"
                          }
                        },
                        "type": "table"
                      }
                    ]
                  },
                  "layout": {
                    "annotationdefaults": {
                      "arrowcolor": "#2a3f5f",
                      "arrowhead": 0,
                      "arrowwidth": 1
                    },
                    "autotypenumbers": "strict",
                    "coloraxis": {
                      "colorbar": {
                        "outlinewidth": 0,
                        "ticks": ""
                      }
                    },
                    "colorscale": {
                      "diverging": [
                        [
                          0,
                          "#8e0152"
                        ],
                        [
                          0.1,
                          "#c51b7d"
                        ],
                        [
                          0.2,
                          "#de77ae"
                        ],
                        [
                          0.3,
                          "#f1b6da"
                        ],
                        [
                          0.4,
                          "#fde0ef"
                        ],
                        [
                          0.5,
                          "#f7f7f7"
                        ],
                        [
                          0.6,
                          "#e6f5d0"
                        ],
                        [
                          0.7,
                          "#b8e186"
                        ],
                        [
                          0.8,
                          "#7fbc41"
                        ],
                        [
                          0.9,
                          "#4d9221"
                        ],
                        [
                          1,
                          "#276419"
                        ]
                      ],
                      "sequential": [
                        [
                          0,
                          "#0d0887"
                        ],
                        [
                          0.1111111111111111,
                          "#46039f"
                        ],
                        [
                          0.2222222222222222,
                          "#7201a8"
                        ],
                        [
                          0.3333333333333333,
                          "#9c179e"
                        ],
                        [
                          0.4444444444444444,
                          "#bd3786"
                        ],
                        [
                          0.5555555555555556,
                          "#d8576b"
                        ],
                        [
                          0.6666666666666666,
                          "#ed7953"
                        ],
                        [
                          0.7777777777777778,
                          "#fb9f3a"
                        ],
                        [
                          0.8888888888888888,
                          "#fdca26"
                        ],
                        [
                          1,
                          "#f0f921"
                        ]
                      ],
                      "sequentialminus": [
                        [
                          0,
                          "#0d0887"
                        ],
                        [
                          0.1111111111111111,
                          "#46039f"
                        ],
                        [
                          0.2222222222222222,
                          "#7201a8"
                        ],
                        [
                          0.3333333333333333,
                          "#9c179e"
                        ],
                        [
                          0.4444444444444444,
                          "#bd3786"
                        ],
                        [
                          0.5555555555555556,
                          "#d8576b"
                        ],
                        [
                          0.6666666666666666,
                          "#ed7953"
                        ],
                        [
                          0.7777777777777778,
                          "#fb9f3a"
                        ],
                        [
                          0.8888888888888888,
                          "#fdca26"
                        ],
                        [
                          1,
                          "#f0f921"
                        ]
                      ]
                    },
                    "colorway": [
                      "#636efa",
                      "#EF553B",
                      "#00cc96",
                      "#ab63fa",
                      "#FFA15A",
                      "#19d3f3",
                      "#FF6692",
                      "#B6E880",
                      "#FF97FF",
                      "#FECB52"
                    ],
                    "font": {
                      "color": "#2a3f5f"
                    },
                    "geo": {
                      "bgcolor": "white",
                      "lakecolor": "white",
                      "landcolor": "#E5ECF6",
                      "showlakes": true,
                      "showland": true,
                      "subunitcolor": "white"
                    },
                    "hoverlabel": {
                      "align": "left"
                    },
                    "hovermode": "closest",
                    "mapbox": {
                      "style": "light"
                    },
                    "paper_bgcolor": "white",
                    "plot_bgcolor": "#E5ECF6",
                    "polar": {
                      "angularaxis": {
                        "gridcolor": "white",
                        "linecolor": "white",
                        "ticks": ""
                      },
                      "bgcolor": "#E5ECF6",
                      "radialaxis": {
                        "gridcolor": "white",
                        "linecolor": "white",
                        "ticks": ""
                      }
                    },
                    "scene": {
                      "xaxis": {
                        "backgroundcolor": "#E5ECF6",
                        "gridcolor": "white",
                        "gridwidth": 2,
                        "linecolor": "white",
                        "showbackground": true,
                        "ticks": "",
                        "zerolinecolor": "white"
                      },
                      "yaxis": {
                        "backgroundcolor": "#E5ECF6",
                        "gridcolor": "white",
                        "gridwidth": 2,
                        "linecolor": "white",
                        "showbackground": true,
                        "ticks": "",
                        "zerolinecolor": "white"
                      },
                      "zaxis": {
                        "backgroundcolor": "#E5ECF6",
                        "gridcolor": "white",
                        "gridwidth": 2,
                        "linecolor": "white",
                        "showbackground": true,
                        "ticks": "",
                        "zerolinecolor": "white"
                      }
                    },
                    "shapedefaults": {
                      "line": {
                        "color": "#2a3f5f"
                      }
                    },
                    "ternary": {
                      "aaxis": {
                        "gridcolor": "white",
                        "linecolor": "white",
                        "ticks": ""
                      },
                      "baxis": {
                        "gridcolor": "white",
                        "linecolor": "white",
                        "ticks": ""
                      },
                      "bgcolor": "#E5ECF6",
                      "caxis": {
                        "gridcolor": "white",
                        "linecolor": "white",
                        "ticks": ""
                      }
                    },
                    "title": {
                      "x": 0.05
                    },
                    "xaxis": {
                      "automargin": true,
                      "gridcolor": "white",
                      "linecolor": "white",
                      "ticks": "",
                      "title": {
                        "standoff": 15
                      },
                      "zerolinecolor": "white",
                      "zerolinewidth": 2
                    },
                    "yaxis": {
                      "automargin": true,
                      "gridcolor": "white",
                      "linecolor": "white",
                      "ticks": "",
                      "title": {
                        "standoff": 15
                      },
                      "zerolinecolor": "white",
                      "zerolinewidth": 2
                    }
                  }
                },
                "title": {
                  "text": "Scatter Plot of T_GM_over vs RAIV"
                },
                "xaxis": {
                  "title": {
                    "text": "T_GM_over"
                  }
                },
                "yaxis": {
                  "title": {
                    "text": "RAIV"
                  }
                }
              }
            }
          },
          "metadata": {},
          "output_type": "display_data"
        },
        {
          "data": {
            "application/vnd.plotly.v1+json": {
              "config": {
                "plotlyServerURL": "https://plot.ly"
              },
              "data": [
                {
                  "mode": "markers",
                  "name": "mer_cluster_0",
                  "type": "scatter",
                  "x": [
                    1,
                    1,
                    1,
                    1,
                    1,
                    1,
                    1,
                    1,
                    1,
                    1,
                    1,
                    1,
                    1,
                    1,
                    1,
                    1,
                    1,
                    1,
                    1,
                    1,
                    1,
                    1,
                    1,
                    1,
                    1,
                    1,
                    1,
                    1,
                    1,
                    1,
                    1,
                    1,
                    1,
                    1,
                    1,
                    1,
                    1,
                    1,
                    1,
                    1,
                    1,
                    1,
                    1,
                    1,
                    1,
                    1,
                    1,
                    1,
                    1,
                    1,
                    1,
                    1,
                    1,
                    1,
                    1,
                    1,
                    1,
                    1,
                    1,
                    1,
                    1,
                    1,
                    1,
                    1,
                    1,
                    1,
                    1,
                    1,
                    1,
                    1,
                    1,
                    1,
                    1,
                    1,
                    1,
                    1,
                    1,
                    1,
                    1,
                    1,
                    1,
                    1,
                    1,
                    1,
                    1,
                    1,
                    1,
                    1,
                    1,
                    1,
                    1,
                    2,
                    1,
                    1,
                    1,
                    1,
                    1,
                    1,
                    1,
                    2,
                    1,
                    1,
                    1,
                    1,
                    1,
                    2,
                    1,
                    1,
                    1,
                    1,
                    1,
                    1,
                    1,
                    1,
                    2,
                    1,
                    2,
                    1,
                    1,
                    1,
                    1,
                    2,
                    1,
                    1,
                    2,
                    1,
                    1,
                    1,
                    2,
                    1,
                    1,
                    1,
                    1,
                    1,
                    1,
                    1,
                    1,
                    1,
                    1,
                    1,
                    1,
                    1,
                    2,
                    1,
                    1,
                    2,
                    1,
                    1,
                    1,
                    1,
                    1,
                    1,
                    1,
                    1,
                    1,
                    1,
                    2,
                    1,
                    2,
                    2,
                    2,
                    1,
                    2,
                    1,
                    1,
                    1,
                    1,
                    1,
                    1,
                    1,
                    2,
                    1,
                    1,
                    3,
                    3,
                    2,
                    1,
                    1,
                    1,
                    1,
                    1,
                    1,
                    1,
                    2,
                    1,
                    1,
                    2,
                    1,
                    1,
                    1,
                    1,
                    1,
                    3,
                    1,
                    1,
                    1,
                    2,
                    1,
                    1,
                    2,
                    1,
                    1,
                    1,
                    2,
                    2,
                    1,
                    2,
                    1,
                    1,
                    2,
                    1,
                    1,
                    1,
                    1,
                    1,
                    1,
                    2,
                    2,
                    1,
                    3,
                    3,
                    1,
                    1,
                    3,
                    1,
                    1,
                    1,
                    1,
                    1,
                    1,
                    1,
                    2,
                    2,
                    2,
                    1,
                    1,
                    2,
                    1,
                    1,
                    2,
                    1,
                    2,
                    1,
                    1,
                    2,
                    1,
                    2,
                    1,
                    1,
                    1,
                    1,
                    1,
                    2,
                    2,
                    1,
                    1,
                    1,
                    1,
                    1,
                    1,
                    2,
                    1,
                    1,
                    1,
                    1,
                    1,
                    1,
                    2,
                    1,
                    1,
                    1,
                    1,
                    1,
                    1,
                    1,
                    1,
                    1,
                    1,
                    1,
                    1,
                    1,
                    1,
                    1,
                    1,
                    1,
                    1,
                    1,
                    1,
                    1,
                    1
                  ],
                  "y": [
                    14.8,
                    19.7,
                    14.8,
                    18.5,
                    31.4,
                    28.6,
                    27.7,
                    25.8,
                    6.9,
                    24.7,
                    13.1,
                    9,
                    30.3,
                    30.3,
                    23.7,
                    30.4,
                    20.2,
                    17.9,
                    18.1,
                    19.3,
                    27.6,
                    15.3,
                    11.8,
                    32.6,
                    19.2,
                    20.7,
                    31.8,
                    9.1,
                    26.5,
                    8.1,
                    7.3,
                    21.8,
                    27.3,
                    10.8,
                    8.6,
                    4.6,
                    18.9,
                    12.3,
                    10.6,
                    19,
                    18.6,
                    27.7,
                    8.8,
                    22.6,
                    11,
                    17.7,
                    19.4,
                    26.8,
                    16.6,
                    33.4,
                    11.9,
                    28.8,
                    13.6,
                    11.4,
                    27.9,
                    14.1,
                    19.6,
                    24.1,
                    10.8,
                    29.1,
                    32.8,
                    6.7,
                    19.8,
                    20.2,
                    27.8,
                    24.4,
                    27.6,
                    6.6,
                    21.5,
                    9.6,
                    5.3,
                    7.4,
                    8.8,
                    7.1,
                    5.9,
                    5.1,
                    14,
                    17.2,
                    5.3,
                    13.4,
                    15,
                    26.9,
                    5.1,
                    17.2,
                    13.1,
                    4.3,
                    7.7,
                    19.3,
                    33.2,
                    15.2,
                    6.1,
                    16.8,
                    4.1,
                    14.9,
                    14.2,
                    10.9,
                    6.5,
                    23,
                    6.6,
                    19.4,
                    23,
                    12.7,
                    13.1,
                    4.3,
                    7.1,
                    13.9,
                    18.1,
                    12.7,
                    8.1,
                    13.4,
                    21.8,
                    21.2,
                    5.9,
                    9.5,
                    22.6,
                    10.2,
                    16.5,
                    27.9,
                    22.7,
                    4.7,
                    11.7,
                    13.1,
                    21.3,
                    11.5,
                    13.5,
                    8.7,
                    14,
                    12.5,
                    32.7,
                    9.1,
                    9.2,
                    3.7,
                    12.7,
                    10.4,
                    11.5,
                    9,
                    22.4,
                    9.9,
                    9.3,
                    11.9,
                    18.4,
                    25.8,
                    10.1,
                    6.6,
                    9.1,
                    28,
                    8.1,
                    6.6,
                    10.6,
                    8.1,
                    10.4,
                    14.7,
                    5.1,
                    9.9,
                    17.7,
                    18.4,
                    10.1,
                    7.1,
                    11.1,
                    26.2,
                    19.9,
                    4.1,
                    13,
                    9.3,
                    16.2,
                    5.9,
                    7.1,
                    27.6,
                    11,
                    6.1,
                    16.8,
                    6.1,
                    10.4,
                    31.3,
                    21.9,
                    17.8,
                    3.5,
                    5.3,
                    14.7,
                    30.4,
                    3.6,
                    9.3,
                    9.2,
                    20.9,
                    24.8,
                    5.1,
                    19.4,
                    30.4,
                    26.9,
                    21.6,
                    6.1,
                    8.7,
                    22.2,
                    14.5,
                    10.4,
                    6.6,
                    15.3,
                    20.5,
                    22.6,
                    10.3,
                    4.6,
                    6.5,
                    21.8,
                    12,
                    19.1,
                    14.4,
                    13.2,
                    13.4,
                    26.7,
                    15.3,
                    14,
                    16.8,
                    3.6,
                    9.6,
                    24,
                    8.3,
                    14.3,
                    13.5,
                    9.5,
                    31.7,
                    15.7,
                    10.4,
                    5.2,
                    20.6,
                    6.5,
                    25.5,
                    11.2,
                    9.9,
                    15,
                    10.9,
                    12.1,
                    31.6,
                    14.3,
                    15,
                    27.9,
                    17.9,
                    13.3,
                    4.6,
                    6.5,
                    22.6,
                    7.1,
                    16.8,
                    8.4,
                    11.9,
                    10.7,
                    12.8,
                    32.8,
                    6.6,
                    14,
                    13.1,
                    5.3,
                    14.3,
                    32.2,
                    12,
                    16.1,
                    7.4,
                    14.7,
                    23.3,
                    5.7,
                    7.6,
                    20.6,
                    10.4,
                    7.1,
                    18.1,
                    10.9,
                    8.4,
                    22.4,
                    13,
                    9,
                    24.2,
                    17,
                    28.5,
                    29.1,
                    18.9,
                    22.4,
                    10.1,
                    24.7,
                    28.4,
                    14.7,
                    20.4,
                    24,
                    16.8,
                    10.6,
                    23.2,
                    17.7,
                    24.6,
                    21.3,
                    30.5,
                    12.6,
                    11.8
                  ]
                },
                {
                  "mode": "markers",
                  "name": "mer_cluster_1",
                  "type": "scatter",
                  "x": [
                    2,
                    1,
                    1,
                    1,
                    1,
                    1,
                    1,
                    1,
                    1,
                    1,
                    1,
                    1,
                    1,
                    1,
                    1,
                    1,
                    2,
                    1,
                    1,
                    1,
                    1,
                    1,
                    1,
                    1,
                    1,
                    1,
                    1,
                    1,
                    2,
                    1,
                    1,
                    1,
                    1,
                    1,
                    1,
                    1,
                    1,
                    1,
                    1,
                    1,
                    1,
                    1,
                    1,
                    1,
                    3,
                    2,
                    1,
                    2,
                    2,
                    2,
                    2,
                    2,
                    2,
                    2,
                    3,
                    2,
                    2,
                    2,
                    2,
                    3,
                    3,
                    2,
                    3,
                    2,
                    1,
                    1,
                    1,
                    1,
                    1,
                    1,
                    1,
                    1,
                    1,
                    1,
                    1,
                    2,
                    1,
                    1,
                    1,
                    1,
                    1
                  ],
                  "y": [
                    51.1,
                    46.1,
                    42.5,
                    56.3,
                    65.3,
                    51.1,
                    45,
                    55.8,
                    48.2,
                    58.6,
                    75.9,
                    45.6,
                    36.8,
                    57.8,
                    44.3,
                    43.6,
                    48.8,
                    46,
                    51.6,
                    45.6,
                    67.2,
                    66.5,
                    40.6,
                    74.6,
                    37.2,
                    66.5,
                    49.7,
                    46.2,
                    55.6,
                    46.7,
                    67.2,
                    76.9,
                    42.1,
                    43.9,
                    34.4,
                    35.7,
                    49.7,
                    52.6,
                    74.2,
                    36.5,
                    55.8,
                    56.3,
                    57.8,
                    35.1,
                    51.9,
                    36,
                    35.3,
                    54.4,
                    36.5,
                    43.1,
                    42.7,
                    36.5,
                    36.5,
                    37.8,
                    63.6,
                    36.5,
                    42.7,
                    37,
                    37.5,
                    63.6,
                    64.7,
                    49.5,
                    49.5,
                    42.1,
                    60.5,
                    37.9,
                    48.9,
                    67.8,
                    70.1,
                    50.6,
                    57.7,
                    60.5,
                    52.3,
                    55.6,
                    47.8,
                    74.6,
                    49.5,
                    65.6,
                    48.9,
                    55.6,
                    70.7
                  ]
                }
              ],
              "layout": {
                "template": {
                  "data": {
                    "bar": [
                      {
                        "error_x": {
                          "color": "#2a3f5f"
                        },
                        "error_y": {
                          "color": "#2a3f5f"
                        },
                        "marker": {
                          "line": {
                            "color": "#E5ECF6",
                            "width": 0.5
                          },
                          "pattern": {
                            "fillmode": "overlay",
                            "size": 10,
                            "solidity": 0.2
                          }
                        },
                        "type": "bar"
                      }
                    ],
                    "barpolar": [
                      {
                        "marker": {
                          "line": {
                            "color": "#E5ECF6",
                            "width": 0.5
                          },
                          "pattern": {
                            "fillmode": "overlay",
                            "size": 10,
                            "solidity": 0.2
                          }
                        },
                        "type": "barpolar"
                      }
                    ],
                    "carpet": [
                      {
                        "aaxis": {
                          "endlinecolor": "#2a3f5f",
                          "gridcolor": "white",
                          "linecolor": "white",
                          "minorgridcolor": "white",
                          "startlinecolor": "#2a3f5f"
                        },
                        "baxis": {
                          "endlinecolor": "#2a3f5f",
                          "gridcolor": "white",
                          "linecolor": "white",
                          "minorgridcolor": "white",
                          "startlinecolor": "#2a3f5f"
                        },
                        "type": "carpet"
                      }
                    ],
                    "choropleth": [
                      {
                        "colorbar": {
                          "outlinewidth": 0,
                          "ticks": ""
                        },
                        "type": "choropleth"
                      }
                    ],
                    "contour": [
                      {
                        "colorbar": {
                          "outlinewidth": 0,
                          "ticks": ""
                        },
                        "colorscale": [
                          [
                            0,
                            "#0d0887"
                          ],
                          [
                            0.1111111111111111,
                            "#46039f"
                          ],
                          [
                            0.2222222222222222,
                            "#7201a8"
                          ],
                          [
                            0.3333333333333333,
                            "#9c179e"
                          ],
                          [
                            0.4444444444444444,
                            "#bd3786"
                          ],
                          [
                            0.5555555555555556,
                            "#d8576b"
                          ],
                          [
                            0.6666666666666666,
                            "#ed7953"
                          ],
                          [
                            0.7777777777777778,
                            "#fb9f3a"
                          ],
                          [
                            0.8888888888888888,
                            "#fdca26"
                          ],
                          [
                            1,
                            "#f0f921"
                          ]
                        ],
                        "type": "contour"
                      }
                    ],
                    "contourcarpet": [
                      {
                        "colorbar": {
                          "outlinewidth": 0,
                          "ticks": ""
                        },
                        "type": "contourcarpet"
                      }
                    ],
                    "heatmap": [
                      {
                        "colorbar": {
                          "outlinewidth": 0,
                          "ticks": ""
                        },
                        "colorscale": [
                          [
                            0,
                            "#0d0887"
                          ],
                          [
                            0.1111111111111111,
                            "#46039f"
                          ],
                          [
                            0.2222222222222222,
                            "#7201a8"
                          ],
                          [
                            0.3333333333333333,
                            "#9c179e"
                          ],
                          [
                            0.4444444444444444,
                            "#bd3786"
                          ],
                          [
                            0.5555555555555556,
                            "#d8576b"
                          ],
                          [
                            0.6666666666666666,
                            "#ed7953"
                          ],
                          [
                            0.7777777777777778,
                            "#fb9f3a"
                          ],
                          [
                            0.8888888888888888,
                            "#fdca26"
                          ],
                          [
                            1,
                            "#f0f921"
                          ]
                        ],
                        "type": "heatmap"
                      }
                    ],
                    "heatmapgl": [
                      {
                        "colorbar": {
                          "outlinewidth": 0,
                          "ticks": ""
                        },
                        "colorscale": [
                          [
                            0,
                            "#0d0887"
                          ],
                          [
                            0.1111111111111111,
                            "#46039f"
                          ],
                          [
                            0.2222222222222222,
                            "#7201a8"
                          ],
                          [
                            0.3333333333333333,
                            "#9c179e"
                          ],
                          [
                            0.4444444444444444,
                            "#bd3786"
                          ],
                          [
                            0.5555555555555556,
                            "#d8576b"
                          ],
                          [
                            0.6666666666666666,
                            "#ed7953"
                          ],
                          [
                            0.7777777777777778,
                            "#fb9f3a"
                          ],
                          [
                            0.8888888888888888,
                            "#fdca26"
                          ],
                          [
                            1,
                            "#f0f921"
                          ]
                        ],
                        "type": "heatmapgl"
                      }
                    ],
                    "histogram": [
                      {
                        "marker": {
                          "pattern": {
                            "fillmode": "overlay",
                            "size": 10,
                            "solidity": 0.2
                          }
                        },
                        "type": "histogram"
                      }
                    ],
                    "histogram2d": [
                      {
                        "colorbar": {
                          "outlinewidth": 0,
                          "ticks": ""
                        },
                        "colorscale": [
                          [
                            0,
                            "#0d0887"
                          ],
                          [
                            0.1111111111111111,
                            "#46039f"
                          ],
                          [
                            0.2222222222222222,
                            "#7201a8"
                          ],
                          [
                            0.3333333333333333,
                            "#9c179e"
                          ],
                          [
                            0.4444444444444444,
                            "#bd3786"
                          ],
                          [
                            0.5555555555555556,
                            "#d8576b"
                          ],
                          [
                            0.6666666666666666,
                            "#ed7953"
                          ],
                          [
                            0.7777777777777778,
                            "#fb9f3a"
                          ],
                          [
                            0.8888888888888888,
                            "#fdca26"
                          ],
                          [
                            1,
                            "#f0f921"
                          ]
                        ],
                        "type": "histogram2d"
                      }
                    ],
                    "histogram2dcontour": [
                      {
                        "colorbar": {
                          "outlinewidth": 0,
                          "ticks": ""
                        },
                        "colorscale": [
                          [
                            0,
                            "#0d0887"
                          ],
                          [
                            0.1111111111111111,
                            "#46039f"
                          ],
                          [
                            0.2222222222222222,
                            "#7201a8"
                          ],
                          [
                            0.3333333333333333,
                            "#9c179e"
                          ],
                          [
                            0.4444444444444444,
                            "#bd3786"
                          ],
                          [
                            0.5555555555555556,
                            "#d8576b"
                          ],
                          [
                            0.6666666666666666,
                            "#ed7953"
                          ],
                          [
                            0.7777777777777778,
                            "#fb9f3a"
                          ],
                          [
                            0.8888888888888888,
                            "#fdca26"
                          ],
                          [
                            1,
                            "#f0f921"
                          ]
                        ],
                        "type": "histogram2dcontour"
                      }
                    ],
                    "mesh3d": [
                      {
                        "colorbar": {
                          "outlinewidth": 0,
                          "ticks": ""
                        },
                        "type": "mesh3d"
                      }
                    ],
                    "parcoords": [
                      {
                        "line": {
                          "colorbar": {
                            "outlinewidth": 0,
                            "ticks": ""
                          }
                        },
                        "type": "parcoords"
                      }
                    ],
                    "pie": [
                      {
                        "automargin": true,
                        "type": "pie"
                      }
                    ],
                    "scatter": [
                      {
                        "fillpattern": {
                          "fillmode": "overlay",
                          "size": 10,
                          "solidity": 0.2
                        },
                        "type": "scatter"
                      }
                    ],
                    "scatter3d": [
                      {
                        "line": {
                          "colorbar": {
                            "outlinewidth": 0,
                            "ticks": ""
                          }
                        },
                        "marker": {
                          "colorbar": {
                            "outlinewidth": 0,
                            "ticks": ""
                          }
                        },
                        "type": "scatter3d"
                      }
                    ],
                    "scattercarpet": [
                      {
                        "marker": {
                          "colorbar": {
                            "outlinewidth": 0,
                            "ticks": ""
                          }
                        },
                        "type": "scattercarpet"
                      }
                    ],
                    "scattergeo": [
                      {
                        "marker": {
                          "colorbar": {
                            "outlinewidth": 0,
                            "ticks": ""
                          }
                        },
                        "type": "scattergeo"
                      }
                    ],
                    "scattergl": [
                      {
                        "marker": {
                          "colorbar": {
                            "outlinewidth": 0,
                            "ticks": ""
                          }
                        },
                        "type": "scattergl"
                      }
                    ],
                    "scattermapbox": [
                      {
                        "marker": {
                          "colorbar": {
                            "outlinewidth": 0,
                            "ticks": ""
                          }
                        },
                        "type": "scattermapbox"
                      }
                    ],
                    "scatterpolar": [
                      {
                        "marker": {
                          "colorbar": {
                            "outlinewidth": 0,
                            "ticks": ""
                          }
                        },
                        "type": "scatterpolar"
                      }
                    ],
                    "scatterpolargl": [
                      {
                        "marker": {
                          "colorbar": {
                            "outlinewidth": 0,
                            "ticks": ""
                          }
                        },
                        "type": "scatterpolargl"
                      }
                    ],
                    "scatterternary": [
                      {
                        "marker": {
                          "colorbar": {
                            "outlinewidth": 0,
                            "ticks": ""
                          }
                        },
                        "type": "scatterternary"
                      }
                    ],
                    "surface": [
                      {
                        "colorbar": {
                          "outlinewidth": 0,
                          "ticks": ""
                        },
                        "colorscale": [
                          [
                            0,
                            "#0d0887"
                          ],
                          [
                            0.1111111111111111,
                            "#46039f"
                          ],
                          [
                            0.2222222222222222,
                            "#7201a8"
                          ],
                          [
                            0.3333333333333333,
                            "#9c179e"
                          ],
                          [
                            0.4444444444444444,
                            "#bd3786"
                          ],
                          [
                            0.5555555555555556,
                            "#d8576b"
                          ],
                          [
                            0.6666666666666666,
                            "#ed7953"
                          ],
                          [
                            0.7777777777777778,
                            "#fb9f3a"
                          ],
                          [
                            0.8888888888888888,
                            "#fdca26"
                          ],
                          [
                            1,
                            "#f0f921"
                          ]
                        ],
                        "type": "surface"
                      }
                    ],
                    "table": [
                      {
                        "cells": {
                          "fill": {
                            "color": "#EBF0F8"
                          },
                          "line": {
                            "color": "white"
                          }
                        },
                        "header": {
                          "fill": {
                            "color": "#C8D4E3"
                          },
                          "line": {
                            "color": "white"
                          }
                        },
                        "type": "table"
                      }
                    ]
                  },
                  "layout": {
                    "annotationdefaults": {
                      "arrowcolor": "#2a3f5f",
                      "arrowhead": 0,
                      "arrowwidth": 1
                    },
                    "autotypenumbers": "strict",
                    "coloraxis": {
                      "colorbar": {
                        "outlinewidth": 0,
                        "ticks": ""
                      }
                    },
                    "colorscale": {
                      "diverging": [
                        [
                          0,
                          "#8e0152"
                        ],
                        [
                          0.1,
                          "#c51b7d"
                        ],
                        [
                          0.2,
                          "#de77ae"
                        ],
                        [
                          0.3,
                          "#f1b6da"
                        ],
                        [
                          0.4,
                          "#fde0ef"
                        ],
                        [
                          0.5,
                          "#f7f7f7"
                        ],
                        [
                          0.6,
                          "#e6f5d0"
                        ],
                        [
                          0.7,
                          "#b8e186"
                        ],
                        [
                          0.8,
                          "#7fbc41"
                        ],
                        [
                          0.9,
                          "#4d9221"
                        ],
                        [
                          1,
                          "#276419"
                        ]
                      ],
                      "sequential": [
                        [
                          0,
                          "#0d0887"
                        ],
                        [
                          0.1111111111111111,
                          "#46039f"
                        ],
                        [
                          0.2222222222222222,
                          "#7201a8"
                        ],
                        [
                          0.3333333333333333,
                          "#9c179e"
                        ],
                        [
                          0.4444444444444444,
                          "#bd3786"
                        ],
                        [
                          0.5555555555555556,
                          "#d8576b"
                        ],
                        [
                          0.6666666666666666,
                          "#ed7953"
                        ],
                        [
                          0.7777777777777778,
                          "#fb9f3a"
                        ],
                        [
                          0.8888888888888888,
                          "#fdca26"
                        ],
                        [
                          1,
                          "#f0f921"
                        ]
                      ],
                      "sequentialminus": [
                        [
                          0,
                          "#0d0887"
                        ],
                        [
                          0.1111111111111111,
                          "#46039f"
                        ],
                        [
                          0.2222222222222222,
                          "#7201a8"
                        ],
                        [
                          0.3333333333333333,
                          "#9c179e"
                        ],
                        [
                          0.4444444444444444,
                          "#bd3786"
                        ],
                        [
                          0.5555555555555556,
                          "#d8576b"
                        ],
                        [
                          0.6666666666666666,
                          "#ed7953"
                        ],
                        [
                          0.7777777777777778,
                          "#fb9f3a"
                        ],
                        [
                          0.8888888888888888,
                          "#fdca26"
                        ],
                        [
                          1,
                          "#f0f921"
                        ]
                      ]
                    },
                    "colorway": [
                      "#636efa",
                      "#EF553B",
                      "#00cc96",
                      "#ab63fa",
                      "#FFA15A",
                      "#19d3f3",
                      "#FF6692",
                      "#B6E880",
                      "#FF97FF",
                      "#FECB52"
                    ],
                    "font": {
                      "color": "#2a3f5f"
                    },
                    "geo": {
                      "bgcolor": "white",
                      "lakecolor": "white",
                      "landcolor": "#E5ECF6",
                      "showlakes": true,
                      "showland": true,
                      "subunitcolor": "white"
                    },
                    "hoverlabel": {
                      "align": "left"
                    },
                    "hovermode": "closest",
                    "mapbox": {
                      "style": "light"
                    },
                    "paper_bgcolor": "white",
                    "plot_bgcolor": "#E5ECF6",
                    "polar": {
                      "angularaxis": {
                        "gridcolor": "white",
                        "linecolor": "white",
                        "ticks": ""
                      },
                      "bgcolor": "#E5ECF6",
                      "radialaxis": {
                        "gridcolor": "white",
                        "linecolor": "white",
                        "ticks": ""
                      }
                    },
                    "scene": {
                      "xaxis": {
                        "backgroundcolor": "#E5ECF6",
                        "gridcolor": "white",
                        "gridwidth": 2,
                        "linecolor": "white",
                        "showbackground": true,
                        "ticks": "",
                        "zerolinecolor": "white"
                      },
                      "yaxis": {
                        "backgroundcolor": "#E5ECF6",
                        "gridcolor": "white",
                        "gridwidth": 2,
                        "linecolor": "white",
                        "showbackground": true,
                        "ticks": "",
                        "zerolinecolor": "white"
                      },
                      "zaxis": {
                        "backgroundcolor": "#E5ECF6",
                        "gridcolor": "white",
                        "gridwidth": 2,
                        "linecolor": "white",
                        "showbackground": true,
                        "ticks": "",
                        "zerolinecolor": "white"
                      }
                    },
                    "shapedefaults": {
                      "line": {
                        "color": "#2a3f5f"
                      }
                    },
                    "ternary": {
                      "aaxis": {
                        "gridcolor": "white",
                        "linecolor": "white",
                        "ticks": ""
                      },
                      "baxis": {
                        "gridcolor": "white",
                        "linecolor": "white",
                        "ticks": ""
                      },
                      "bgcolor": "#E5ECF6",
                      "caxis": {
                        "gridcolor": "white",
                        "linecolor": "white",
                        "ticks": ""
                      }
                    },
                    "title": {
                      "x": 0.05
                    },
                    "xaxis": {
                      "automargin": true,
                      "gridcolor": "white",
                      "linecolor": "white",
                      "ticks": "",
                      "title": {
                        "standoff": 15
                      },
                      "zerolinecolor": "white",
                      "zerolinewidth": 2
                    },
                    "yaxis": {
                      "automargin": true,
                      "gridcolor": "white",
                      "linecolor": "white",
                      "ticks": "",
                      "title": {
                        "standoff": 15
                      },
                      "zerolinecolor": "white",
                      "zerolinewidth": 2
                    }
                  }
                },
                "title": {
                  "text": "Scatter Plot of T_size vs RAIV"
                },
                "xaxis": {
                  "title": {
                    "text": "T_size"
                  }
                },
                "yaxis": {
                  "title": {
                    "text": "RAIV"
                  }
                }
              }
            }
          },
          "metadata": {},
          "output_type": "display_data"
        },
        {
          "data": {
            "application/vnd.plotly.v1+json": {
              "config": {
                "plotlyServerURL": "https://plot.ly"
              },
              "data": [
                {
                  "mode": "markers",
                  "name": "mer_cluster_0",
                  "type": "scatter",
                  "x": [
                    1,
                    1,
                    2,
                    1,
                    1,
                    2,
                    2,
                    2,
                    1,
                    2,
                    1,
                    1,
                    3,
                    2,
                    3,
                    3,
                    3,
                    2,
                    1,
                    2,
                    2,
                    3,
                    1,
                    1,
                    1,
                    3,
                    1,
                    1,
                    2,
                    3,
                    3,
                    1,
                    1,
                    3,
                    1,
                    3,
                    3,
                    1,
                    3,
                    1,
                    2,
                    1,
                    1,
                    1,
                    1,
                    2,
                    2,
                    2,
                    1,
                    1,
                    1,
                    1,
                    2,
                    2,
                    2,
                    1,
                    1,
                    1,
                    1,
                    2,
                    2,
                    2,
                    3,
                    1,
                    1,
                    1,
                    1,
                    1,
                    1,
                    1,
                    1,
                    1,
                    2,
                    2,
                    3,
                    1,
                    1,
                    2,
                    1,
                    2,
                    1,
                    2,
                    2,
                    3,
                    3,
                    3,
                    2,
                    1,
                    2,
                    1,
                    1,
                    3,
                    1,
                    1,
                    3,
                    3,
                    3,
                    2,
                    1,
                    1,
                    2,
                    1,
                    3,
                    2,
                    2,
                    1,
                    2,
                    2,
                    1,
                    2,
                    2,
                    2,
                    3,
                    3,
                    1,
                    2,
                    3,
                    2,
                    3,
                    2,
                    2,
                    1,
                    2,
                    3,
                    2,
                    2,
                    2,
                    2,
                    2,
                    3,
                    2,
                    2,
                    2,
                    2,
                    2,
                    3,
                    2,
                    2,
                    2,
                    3,
                    1,
                    2,
                    2,
                    3,
                    2,
                    2,
                    1,
                    2,
                    2,
                    2,
                    2,
                    2,
                    2,
                    1,
                    2,
                    3,
                    2,
                    2,
                    2,
                    2,
                    2,
                    3,
                    2,
                    1,
                    2,
                    3,
                    2,
                    3,
                    2,
                    1,
                    1,
                    1,
                    2,
                    1,
                    1,
                    3,
                    3,
                    3,
                    3,
                    2,
                    3,
                    1,
                    2,
                    1,
                    2,
                    3,
                    2,
                    2,
                    2,
                    2,
                    1,
                    3,
                    1,
                    2,
                    1,
                    1,
                    2,
                    3,
                    1,
                    2,
                    1,
                    1,
                    2,
                    2,
                    2,
                    2,
                    2,
                    2,
                    2,
                    2,
                    2,
                    3,
                    1,
                    3,
                    1,
                    1,
                    1,
                    2,
                    1,
                    2,
                    1,
                    3,
                    2,
                    1,
                    2,
                    1,
                    3,
                    2,
                    1,
                    1,
                    1,
                    2,
                    3,
                    2,
                    3,
                    2,
                    1,
                    1,
                    3,
                    2,
                    1,
                    2,
                    3,
                    2,
                    2,
                    2,
                    2,
                    2,
                    2,
                    2,
                    2,
                    1,
                    1,
                    1,
                    2,
                    2,
                    2,
                    2,
                    1,
                    2,
                    2,
                    3,
                    3,
                    1,
                    2,
                    2,
                    2,
                    3,
                    3,
                    2,
                    2,
                    2,
                    1,
                    2,
                    2,
                    3,
                    1,
                    2,
                    2,
                    3,
                    1,
                    3,
                    2,
                    1,
                    1,
                    1,
                    2,
                    2,
                    2,
                    1
                  ],
                  "y": [
                    14.8,
                    19.7,
                    14.8,
                    18.5,
                    31.4,
                    28.6,
                    27.7,
                    25.8,
                    6.9,
                    24.7,
                    13.1,
                    9,
                    30.3,
                    30.3,
                    23.7,
                    30.4,
                    20.2,
                    17.9,
                    18.1,
                    19.3,
                    27.6,
                    15.3,
                    11.8,
                    32.6,
                    19.2,
                    20.7,
                    31.8,
                    9.1,
                    26.5,
                    8.1,
                    7.3,
                    21.8,
                    27.3,
                    10.8,
                    8.6,
                    4.6,
                    18.9,
                    12.3,
                    10.6,
                    19,
                    18.6,
                    27.7,
                    8.8,
                    22.6,
                    11,
                    17.7,
                    19.4,
                    26.8,
                    16.6,
                    33.4,
                    11.9,
                    28.8,
                    13.6,
                    11.4,
                    27.9,
                    14.1,
                    19.6,
                    24.1,
                    10.8,
                    29.1,
                    32.8,
                    6.7,
                    19.8,
                    20.2,
                    27.8,
                    24.4,
                    27.6,
                    6.6,
                    21.5,
                    9.6,
                    5.3,
                    7.4,
                    8.8,
                    7.1,
                    5.9,
                    5.1,
                    14,
                    17.2,
                    5.3,
                    13.4,
                    15,
                    26.9,
                    5.1,
                    17.2,
                    13.1,
                    4.3,
                    7.7,
                    19.3,
                    33.2,
                    15.2,
                    6.1,
                    16.8,
                    4.1,
                    14.9,
                    14.2,
                    10.9,
                    6.5,
                    23,
                    6.6,
                    19.4,
                    23,
                    12.7,
                    13.1,
                    4.3,
                    7.1,
                    13.9,
                    18.1,
                    12.7,
                    8.1,
                    13.4,
                    21.8,
                    21.2,
                    5.9,
                    9.5,
                    22.6,
                    10.2,
                    16.5,
                    27.9,
                    22.7,
                    4.7,
                    11.7,
                    13.1,
                    21.3,
                    11.5,
                    13.5,
                    8.7,
                    14,
                    12.5,
                    32.7,
                    9.1,
                    9.2,
                    3.7,
                    12.7,
                    10.4,
                    11.5,
                    9,
                    22.4,
                    9.9,
                    9.3,
                    11.9,
                    18.4,
                    25.8,
                    10.1,
                    6.6,
                    9.1,
                    28,
                    8.1,
                    6.6,
                    10.6,
                    8.1,
                    10.4,
                    14.7,
                    5.1,
                    9.9,
                    17.7,
                    18.4,
                    10.1,
                    7.1,
                    11.1,
                    26.2,
                    19.9,
                    4.1,
                    13,
                    9.3,
                    16.2,
                    5.9,
                    7.1,
                    27.6,
                    11,
                    6.1,
                    16.8,
                    6.1,
                    10.4,
                    31.3,
                    21.9,
                    17.8,
                    3.5,
                    5.3,
                    14.7,
                    30.4,
                    3.6,
                    9.3,
                    9.2,
                    20.9,
                    24.8,
                    5.1,
                    19.4,
                    30.4,
                    26.9,
                    21.6,
                    6.1,
                    8.7,
                    22.2,
                    14.5,
                    10.4,
                    6.6,
                    15.3,
                    20.5,
                    22.6,
                    10.3,
                    4.6,
                    6.5,
                    21.8,
                    12,
                    19.1,
                    14.4,
                    13.2,
                    13.4,
                    26.7,
                    15.3,
                    14,
                    16.8,
                    3.6,
                    9.6,
                    24,
                    8.3,
                    14.3,
                    13.5,
                    9.5,
                    31.7,
                    15.7,
                    10.4,
                    5.2,
                    20.6,
                    6.5,
                    25.5,
                    11.2,
                    9.9,
                    15,
                    10.9,
                    12.1,
                    31.6,
                    14.3,
                    15,
                    27.9,
                    17.9,
                    13.3,
                    4.6,
                    6.5,
                    22.6,
                    7.1,
                    16.8,
                    8.4,
                    11.9,
                    10.7,
                    12.8,
                    32.8,
                    6.6,
                    14,
                    13.1,
                    5.3,
                    14.3,
                    32.2,
                    12,
                    16.1,
                    7.4,
                    14.7,
                    23.3,
                    5.7,
                    7.6,
                    20.6,
                    10.4,
                    7.1,
                    18.1,
                    10.9,
                    8.4,
                    22.4,
                    13,
                    9,
                    24.2,
                    17,
                    28.5,
                    29.1,
                    18.9,
                    22.4,
                    10.1,
                    24.7,
                    28.4,
                    14.7,
                    20.4,
                    24,
                    16.8,
                    10.6,
                    23.2,
                    17.7,
                    24.6,
                    21.3,
                    30.5,
                    12.6,
                    11.8
                  ]
                },
                {
                  "mode": "markers",
                  "name": "mer_cluster_1",
                  "type": "scatter",
                  "x": [
                    1,
                    2,
                    1,
                    3,
                    2,
                    1,
                    2,
                    2,
                    3,
                    3,
                    1,
                    3,
                    3,
                    2,
                    2,
                    2,
                    2,
                    2,
                    2,
                    3,
                    2,
                    2,
                    2,
                    2,
                    3,
                    2,
                    2,
                    3,
                    2,
                    2,
                    2,
                    2,
                    1,
                    3,
                    2,
                    1,
                    1,
                    1,
                    2,
                    1,
                    1,
                    1,
                    3,
                    1,
                    1,
                    2,
                    3,
                    2,
                    3,
                    2,
                    3,
                    2,
                    2,
                    2,
                    1,
                    2,
                    1,
                    1,
                    1,
                    2,
                    1,
                    2,
                    2,
                    1,
                    2,
                    2,
                    2,
                    2,
                    1,
                    2,
                    2,
                    2,
                    2,
                    1,
                    2,
                    1,
                    3,
                    3,
                    1,
                    1,
                    2
                  ],
                  "y": [
                    51.1,
                    46.1,
                    42.5,
                    56.3,
                    65.3,
                    51.1,
                    45,
                    55.8,
                    48.2,
                    58.6,
                    75.9,
                    45.6,
                    36.8,
                    57.8,
                    44.3,
                    43.6,
                    48.8,
                    46,
                    51.6,
                    45.6,
                    67.2,
                    66.5,
                    40.6,
                    74.6,
                    37.2,
                    66.5,
                    49.7,
                    46.2,
                    55.6,
                    46.7,
                    67.2,
                    76.9,
                    42.1,
                    43.9,
                    34.4,
                    35.7,
                    49.7,
                    52.6,
                    74.2,
                    36.5,
                    55.8,
                    56.3,
                    57.8,
                    35.1,
                    51.9,
                    36,
                    35.3,
                    54.4,
                    36.5,
                    43.1,
                    42.7,
                    36.5,
                    36.5,
                    37.8,
                    63.6,
                    36.5,
                    42.7,
                    37,
                    37.5,
                    63.6,
                    64.7,
                    49.5,
                    49.5,
                    42.1,
                    60.5,
                    37.9,
                    48.9,
                    67.8,
                    70.1,
                    50.6,
                    57.7,
                    60.5,
                    52.3,
                    55.6,
                    47.8,
                    74.6,
                    49.5,
                    65.6,
                    48.9,
                    55.6,
                    70.7
                  ]
                }
              ],
              "layout": {
                "template": {
                  "data": {
                    "bar": [
                      {
                        "error_x": {
                          "color": "#2a3f5f"
                        },
                        "error_y": {
                          "color": "#2a3f5f"
                        },
                        "marker": {
                          "line": {
                            "color": "#E5ECF6",
                            "width": 0.5
                          },
                          "pattern": {
                            "fillmode": "overlay",
                            "size": 10,
                            "solidity": 0.2
                          }
                        },
                        "type": "bar"
                      }
                    ],
                    "barpolar": [
                      {
                        "marker": {
                          "line": {
                            "color": "#E5ECF6",
                            "width": 0.5
                          },
                          "pattern": {
                            "fillmode": "overlay",
                            "size": 10,
                            "solidity": 0.2
                          }
                        },
                        "type": "barpolar"
                      }
                    ],
                    "carpet": [
                      {
                        "aaxis": {
                          "endlinecolor": "#2a3f5f",
                          "gridcolor": "white",
                          "linecolor": "white",
                          "minorgridcolor": "white",
                          "startlinecolor": "#2a3f5f"
                        },
                        "baxis": {
                          "endlinecolor": "#2a3f5f",
                          "gridcolor": "white",
                          "linecolor": "white",
                          "minorgridcolor": "white",
                          "startlinecolor": "#2a3f5f"
                        },
                        "type": "carpet"
                      }
                    ],
                    "choropleth": [
                      {
                        "colorbar": {
                          "outlinewidth": 0,
                          "ticks": ""
                        },
                        "type": "choropleth"
                      }
                    ],
                    "contour": [
                      {
                        "colorbar": {
                          "outlinewidth": 0,
                          "ticks": ""
                        },
                        "colorscale": [
                          [
                            0,
                            "#0d0887"
                          ],
                          [
                            0.1111111111111111,
                            "#46039f"
                          ],
                          [
                            0.2222222222222222,
                            "#7201a8"
                          ],
                          [
                            0.3333333333333333,
                            "#9c179e"
                          ],
                          [
                            0.4444444444444444,
                            "#bd3786"
                          ],
                          [
                            0.5555555555555556,
                            "#d8576b"
                          ],
                          [
                            0.6666666666666666,
                            "#ed7953"
                          ],
                          [
                            0.7777777777777778,
                            "#fb9f3a"
                          ],
                          [
                            0.8888888888888888,
                            "#fdca26"
                          ],
                          [
                            1,
                            "#f0f921"
                          ]
                        ],
                        "type": "contour"
                      }
                    ],
                    "contourcarpet": [
                      {
                        "colorbar": {
                          "outlinewidth": 0,
                          "ticks": ""
                        },
                        "type": "contourcarpet"
                      }
                    ],
                    "heatmap": [
                      {
                        "colorbar": {
                          "outlinewidth": 0,
                          "ticks": ""
                        },
                        "colorscale": [
                          [
                            0,
                            "#0d0887"
                          ],
                          [
                            0.1111111111111111,
                            "#46039f"
                          ],
                          [
                            0.2222222222222222,
                            "#7201a8"
                          ],
                          [
                            0.3333333333333333,
                            "#9c179e"
                          ],
                          [
                            0.4444444444444444,
                            "#bd3786"
                          ],
                          [
                            0.5555555555555556,
                            "#d8576b"
                          ],
                          [
                            0.6666666666666666,
                            "#ed7953"
                          ],
                          [
                            0.7777777777777778,
                            "#fb9f3a"
                          ],
                          [
                            0.8888888888888888,
                            "#fdca26"
                          ],
                          [
                            1,
                            "#f0f921"
                          ]
                        ],
                        "type": "heatmap"
                      }
                    ],
                    "heatmapgl": [
                      {
                        "colorbar": {
                          "outlinewidth": 0,
                          "ticks": ""
                        },
                        "colorscale": [
                          [
                            0,
                            "#0d0887"
                          ],
                          [
                            0.1111111111111111,
                            "#46039f"
                          ],
                          [
                            0.2222222222222222,
                            "#7201a8"
                          ],
                          [
                            0.3333333333333333,
                            "#9c179e"
                          ],
                          [
                            0.4444444444444444,
                            "#bd3786"
                          ],
                          [
                            0.5555555555555556,
                            "#d8576b"
                          ],
                          [
                            0.6666666666666666,
                            "#ed7953"
                          ],
                          [
                            0.7777777777777778,
                            "#fb9f3a"
                          ],
                          [
                            0.8888888888888888,
                            "#fdca26"
                          ],
                          [
                            1,
                            "#f0f921"
                          ]
                        ],
                        "type": "heatmapgl"
                      }
                    ],
                    "histogram": [
                      {
                        "marker": {
                          "pattern": {
                            "fillmode": "overlay",
                            "size": 10,
                            "solidity": 0.2
                          }
                        },
                        "type": "histogram"
                      }
                    ],
                    "histogram2d": [
                      {
                        "colorbar": {
                          "outlinewidth": 0,
                          "ticks": ""
                        },
                        "colorscale": [
                          [
                            0,
                            "#0d0887"
                          ],
                          [
                            0.1111111111111111,
                            "#46039f"
                          ],
                          [
                            0.2222222222222222,
                            "#7201a8"
                          ],
                          [
                            0.3333333333333333,
                            "#9c179e"
                          ],
                          [
                            0.4444444444444444,
                            "#bd3786"
                          ],
                          [
                            0.5555555555555556,
                            "#d8576b"
                          ],
                          [
                            0.6666666666666666,
                            "#ed7953"
                          ],
                          [
                            0.7777777777777778,
                            "#fb9f3a"
                          ],
                          [
                            0.8888888888888888,
                            "#fdca26"
                          ],
                          [
                            1,
                            "#f0f921"
                          ]
                        ],
                        "type": "histogram2d"
                      }
                    ],
                    "histogram2dcontour": [
                      {
                        "colorbar": {
                          "outlinewidth": 0,
                          "ticks": ""
                        },
                        "colorscale": [
                          [
                            0,
                            "#0d0887"
                          ],
                          [
                            0.1111111111111111,
                            "#46039f"
                          ],
                          [
                            0.2222222222222222,
                            "#7201a8"
                          ],
                          [
                            0.3333333333333333,
                            "#9c179e"
                          ],
                          [
                            0.4444444444444444,
                            "#bd3786"
                          ],
                          [
                            0.5555555555555556,
                            "#d8576b"
                          ],
                          [
                            0.6666666666666666,
                            "#ed7953"
                          ],
                          [
                            0.7777777777777778,
                            "#fb9f3a"
                          ],
                          [
                            0.8888888888888888,
                            "#fdca26"
                          ],
                          [
                            1,
                            "#f0f921"
                          ]
                        ],
                        "type": "histogram2dcontour"
                      }
                    ],
                    "mesh3d": [
                      {
                        "colorbar": {
                          "outlinewidth": 0,
                          "ticks": ""
                        },
                        "type": "mesh3d"
                      }
                    ],
                    "parcoords": [
                      {
                        "line": {
                          "colorbar": {
                            "outlinewidth": 0,
                            "ticks": ""
                          }
                        },
                        "type": "parcoords"
                      }
                    ],
                    "pie": [
                      {
                        "automargin": true,
                        "type": "pie"
                      }
                    ],
                    "scatter": [
                      {
                        "fillpattern": {
                          "fillmode": "overlay",
                          "size": 10,
                          "solidity": 0.2
                        },
                        "type": "scatter"
                      }
                    ],
                    "scatter3d": [
                      {
                        "line": {
                          "colorbar": {
                            "outlinewidth": 0,
                            "ticks": ""
                          }
                        },
                        "marker": {
                          "colorbar": {
                            "outlinewidth": 0,
                            "ticks": ""
                          }
                        },
                        "type": "scatter3d"
                      }
                    ],
                    "scattercarpet": [
                      {
                        "marker": {
                          "colorbar": {
                            "outlinewidth": 0,
                            "ticks": ""
                          }
                        },
                        "type": "scattercarpet"
                      }
                    ],
                    "scattergeo": [
                      {
                        "marker": {
                          "colorbar": {
                            "outlinewidth": 0,
                            "ticks": ""
                          }
                        },
                        "type": "scattergeo"
                      }
                    ],
                    "scattergl": [
                      {
                        "marker": {
                          "colorbar": {
                            "outlinewidth": 0,
                            "ticks": ""
                          }
                        },
                        "type": "scattergl"
                      }
                    ],
                    "scattermapbox": [
                      {
                        "marker": {
                          "colorbar": {
                            "outlinewidth": 0,
                            "ticks": ""
                          }
                        },
                        "type": "scattermapbox"
                      }
                    ],
                    "scatterpolar": [
                      {
                        "marker": {
                          "colorbar": {
                            "outlinewidth": 0,
                            "ticks": ""
                          }
                        },
                        "type": "scatterpolar"
                      }
                    ],
                    "scatterpolargl": [
                      {
                        "marker": {
                          "colorbar": {
                            "outlinewidth": 0,
                            "ticks": ""
                          }
                        },
                        "type": "scatterpolargl"
                      }
                    ],
                    "scatterternary": [
                      {
                        "marker": {
                          "colorbar": {
                            "outlinewidth": 0,
                            "ticks": ""
                          }
                        },
                        "type": "scatterternary"
                      }
                    ],
                    "surface": [
                      {
                        "colorbar": {
                          "outlinewidth": 0,
                          "ticks": ""
                        },
                        "colorscale": [
                          [
                            0,
                            "#0d0887"
                          ],
                          [
                            0.1111111111111111,
                            "#46039f"
                          ],
                          [
                            0.2222222222222222,
                            "#7201a8"
                          ],
                          [
                            0.3333333333333333,
                            "#9c179e"
                          ],
                          [
                            0.4444444444444444,
                            "#bd3786"
                          ],
                          [
                            0.5555555555555556,
                            "#d8576b"
                          ],
                          [
                            0.6666666666666666,
                            "#ed7953"
                          ],
                          [
                            0.7777777777777778,
                            "#fb9f3a"
                          ],
                          [
                            0.8888888888888888,
                            "#fdca26"
                          ],
                          [
                            1,
                            "#f0f921"
                          ]
                        ],
                        "type": "surface"
                      }
                    ],
                    "table": [
                      {
                        "cells": {
                          "fill": {
                            "color": "#EBF0F8"
                          },
                          "line": {
                            "color": "white"
                          }
                        },
                        "header": {
                          "fill": {
                            "color": "#C8D4E3"
                          },
                          "line": {
                            "color": "white"
                          }
                        },
                        "type": "table"
                      }
                    ]
                  },
                  "layout": {
                    "annotationdefaults": {
                      "arrowcolor": "#2a3f5f",
                      "arrowhead": 0,
                      "arrowwidth": 1
                    },
                    "autotypenumbers": "strict",
                    "coloraxis": {
                      "colorbar": {
                        "outlinewidth": 0,
                        "ticks": ""
                      }
                    },
                    "colorscale": {
                      "diverging": [
                        [
                          0,
                          "#8e0152"
                        ],
                        [
                          0.1,
                          "#c51b7d"
                        ],
                        [
                          0.2,
                          "#de77ae"
                        ],
                        [
                          0.3,
                          "#f1b6da"
                        ],
                        [
                          0.4,
                          "#fde0ef"
                        ],
                        [
                          0.5,
                          "#f7f7f7"
                        ],
                        [
                          0.6,
                          "#e6f5d0"
                        ],
                        [
                          0.7,
                          "#b8e186"
                        ],
                        [
                          0.8,
                          "#7fbc41"
                        ],
                        [
                          0.9,
                          "#4d9221"
                        ],
                        [
                          1,
                          "#276419"
                        ]
                      ],
                      "sequential": [
                        [
                          0,
                          "#0d0887"
                        ],
                        [
                          0.1111111111111111,
                          "#46039f"
                        ],
                        [
                          0.2222222222222222,
                          "#7201a8"
                        ],
                        [
                          0.3333333333333333,
                          "#9c179e"
                        ],
                        [
                          0.4444444444444444,
                          "#bd3786"
                        ],
                        [
                          0.5555555555555556,
                          "#d8576b"
                        ],
                        [
                          0.6666666666666666,
                          "#ed7953"
                        ],
                        [
                          0.7777777777777778,
                          "#fb9f3a"
                        ],
                        [
                          0.8888888888888888,
                          "#fdca26"
                        ],
                        [
                          1,
                          "#f0f921"
                        ]
                      ],
                      "sequentialminus": [
                        [
                          0,
                          "#0d0887"
                        ],
                        [
                          0.1111111111111111,
                          "#46039f"
                        ],
                        [
                          0.2222222222222222,
                          "#7201a8"
                        ],
                        [
                          0.3333333333333333,
                          "#9c179e"
                        ],
                        [
                          0.4444444444444444,
                          "#bd3786"
                        ],
                        [
                          0.5555555555555556,
                          "#d8576b"
                        ],
                        [
                          0.6666666666666666,
                          "#ed7953"
                        ],
                        [
                          0.7777777777777778,
                          "#fb9f3a"
                        ],
                        [
                          0.8888888888888888,
                          "#fdca26"
                        ],
                        [
                          1,
                          "#f0f921"
                        ]
                      ]
                    },
                    "colorway": [
                      "#636efa",
                      "#EF553B",
                      "#00cc96",
                      "#ab63fa",
                      "#FFA15A",
                      "#19d3f3",
                      "#FF6692",
                      "#B6E880",
                      "#FF97FF",
                      "#FECB52"
                    ],
                    "font": {
                      "color": "#2a3f5f"
                    },
                    "geo": {
                      "bgcolor": "white",
                      "lakecolor": "white",
                      "landcolor": "#E5ECF6",
                      "showlakes": true,
                      "showland": true,
                      "subunitcolor": "white"
                    },
                    "hoverlabel": {
                      "align": "left"
                    },
                    "hovermode": "closest",
                    "mapbox": {
                      "style": "light"
                    },
                    "paper_bgcolor": "white",
                    "plot_bgcolor": "#E5ECF6",
                    "polar": {
                      "angularaxis": {
                        "gridcolor": "white",
                        "linecolor": "white",
                        "ticks": ""
                      },
                      "bgcolor": "#E5ECF6",
                      "radialaxis": {
                        "gridcolor": "white",
                        "linecolor": "white",
                        "ticks": ""
                      }
                    },
                    "scene": {
                      "xaxis": {
                        "backgroundcolor": "#E5ECF6",
                        "gridcolor": "white",
                        "gridwidth": 2,
                        "linecolor": "white",
                        "showbackground": true,
                        "ticks": "",
                        "zerolinecolor": "white"
                      },
                      "yaxis": {
                        "backgroundcolor": "#E5ECF6",
                        "gridcolor": "white",
                        "gridwidth": 2,
                        "linecolor": "white",
                        "showbackground": true,
                        "ticks": "",
                        "zerolinecolor": "white"
                      },
                      "zaxis": {
                        "backgroundcolor": "#E5ECF6",
                        "gridcolor": "white",
                        "gridwidth": 2,
                        "linecolor": "white",
                        "showbackground": true,
                        "ticks": "",
                        "zerolinecolor": "white"
                      }
                    },
                    "shapedefaults": {
                      "line": {
                        "color": "#2a3f5f"
                      }
                    },
                    "ternary": {
                      "aaxis": {
                        "gridcolor": "white",
                        "linecolor": "white",
                        "ticks": ""
                      },
                      "baxis": {
                        "gridcolor": "white",
                        "linecolor": "white",
                        "ticks": ""
                      },
                      "bgcolor": "#E5ECF6",
                      "caxis": {
                        "gridcolor": "white",
                        "linecolor": "white",
                        "ticks": ""
                      }
                    },
                    "title": {
                      "x": 0.05
                    },
                    "xaxis": {
                      "automargin": true,
                      "gridcolor": "white",
                      "linecolor": "white",
                      "ticks": "",
                      "title": {
                        "standoff": 15
                      },
                      "zerolinecolor": "white",
                      "zerolinewidth": 2
                    },
                    "yaxis": {
                      "automargin": true,
                      "gridcolor": "white",
                      "linecolor": "white",
                      "ticks": "",
                      "title": {
                        "standoff": 15
                      },
                      "zerolinecolor": "white",
                      "zerolinewidth": 2
                    }
                  }
                },
                "title": {
                  "text": "Scatter Plot of T_exophytic vs RAIV"
                },
                "xaxis": {
                  "title": {
                    "text": "T_exophytic"
                  }
                },
                "yaxis": {
                  "title": {
                    "text": "RAIV"
                  }
                }
              }
            }
          },
          "metadata": {},
          "output_type": "display_data"
        },
        {
          "data": {
            "application/vnd.plotly.v1+json": {
              "config": {
                "plotlyServerURL": "https://plot.ly"
              },
              "data": [
                {
                  "mode": "markers",
                  "name": "mer_cluster_0",
                  "type": "scatter",
                  "x": [
                    1,
                    3,
                    1,
                    1,
                    3,
                    1,
                    1,
                    1,
                    1,
                    1,
                    1,
                    1,
                    1,
                    1,
                    1,
                    1,
                    1,
                    1,
                    1,
                    1,
                    1,
                    1,
                    1,
                    3,
                    1,
                    1,
                    1,
                    1,
                    1,
                    1,
                    1,
                    1,
                    3,
                    2,
                    2,
                    2,
                    3,
                    1,
                    3,
                    2,
                    3,
                    2,
                    3,
                    2,
                    1,
                    2,
                    2,
                    2,
                    2,
                    1,
                    1,
                    3,
                    2,
                    2,
                    3,
                    2,
                    2,
                    1,
                    1,
                    1,
                    3,
                    2,
                    3,
                    1,
                    1,
                    1,
                    1,
                    1,
                    1,
                    1,
                    1,
                    1,
                    1,
                    2,
                    3,
                    1,
                    2,
                    3,
                    1,
                    3,
                    1,
                    3,
                    1,
                    3,
                    3,
                    1,
                    3,
                    1,
                    3,
                    1,
                    1,
                    3,
                    1,
                    1,
                    3,
                    3,
                    1,
                    1,
                    1,
                    2,
                    2,
                    1,
                    3,
                    1,
                    1,
                    3,
                    3,
                    3,
                    1,
                    3,
                    2,
                    1,
                    3,
                    1,
                    1,
                    3,
                    3,
                    2,
                    3,
                    2,
                    3,
                    1,
                    1,
                    3,
                    3,
                    3,
                    3,
                    1,
                    3,
                    3,
                    2,
                    1,
                    1,
                    1,
                    3,
                    3,
                    2,
                    3,
                    1,
                    1,
                    2,
                    2,
                    3,
                    3,
                    3,
                    3,
                    1,
                    1,
                    2,
                    2,
                    2,
                    3,
                    1,
                    1,
                    1,
                    2,
                    3,
                    1,
                    1,
                    3,
                    3,
                    2,
                    3,
                    2,
                    1,
                    1,
                    1,
                    1,
                    1,
                    2,
                    3,
                    2,
                    1,
                    3,
                    3,
                    3,
                    3,
                    3,
                    3,
                    1,
                    1,
                    1,
                    2,
                    3,
                    1,
                    3,
                    3,
                    1,
                    1,
                    1,
                    1,
                    3,
                    3,
                    1,
                    1,
                    1,
                    3,
                    3,
                    1,
                    2,
                    1,
                    1,
                    2,
                    3,
                    3,
                    1,
                    2,
                    3,
                    3,
                    3,
                    2,
                    1,
                    1,
                    3,
                    3,
                    1,
                    3,
                    2,
                    2,
                    3,
                    3,
                    3,
                    1,
                    3,
                    1,
                    1,
                    3,
                    3,
                    2,
                    1,
                    2,
                    3,
                    3,
                    3,
                    2,
                    2,
                    3,
                    1,
                    3,
                    3,
                    3,
                    3,
                    3,
                    1,
                    3,
                    3,
                    3,
                    3,
                    3,
                    3,
                    2,
                    1,
                    3,
                    1,
                    3,
                    3,
                    1,
                    3,
                    1,
                    3,
                    3,
                    3,
                    3,
                    1,
                    3,
                    1,
                    3,
                    3,
                    3,
                    3,
                    2,
                    1,
                    1,
                    1,
                    1,
                    1,
                    1,
                    2,
                    1,
                    3,
                    1,
                    3,
                    1,
                    1,
                    1,
                    1,
                    1,
                    1,
                    2,
                    1
                  ],
                  "y": [
                    14.8,
                    19.7,
                    14.8,
                    18.5,
                    31.4,
                    28.6,
                    27.7,
                    25.8,
                    6.9,
                    24.7,
                    13.1,
                    9,
                    30.3,
                    30.3,
                    23.7,
                    30.4,
                    20.2,
                    17.9,
                    18.1,
                    19.3,
                    27.6,
                    15.3,
                    11.8,
                    32.6,
                    19.2,
                    20.7,
                    31.8,
                    9.1,
                    26.5,
                    8.1,
                    7.3,
                    21.8,
                    27.3,
                    10.8,
                    8.6,
                    4.6,
                    18.9,
                    12.3,
                    10.6,
                    19,
                    18.6,
                    27.7,
                    8.8,
                    22.6,
                    11,
                    17.7,
                    19.4,
                    26.8,
                    16.6,
                    33.4,
                    11.9,
                    28.8,
                    13.6,
                    11.4,
                    27.9,
                    14.1,
                    19.6,
                    24.1,
                    10.8,
                    29.1,
                    32.8,
                    6.7,
                    19.8,
                    20.2,
                    27.8,
                    24.4,
                    27.6,
                    6.6,
                    21.5,
                    9.6,
                    5.3,
                    7.4,
                    8.8,
                    7.1,
                    5.9,
                    5.1,
                    14,
                    17.2,
                    5.3,
                    13.4,
                    15,
                    26.9,
                    5.1,
                    17.2,
                    13.1,
                    4.3,
                    7.7,
                    19.3,
                    33.2,
                    15.2,
                    6.1,
                    16.8,
                    4.1,
                    14.9,
                    14.2,
                    10.9,
                    6.5,
                    23,
                    6.6,
                    19.4,
                    23,
                    12.7,
                    13.1,
                    4.3,
                    7.1,
                    13.9,
                    18.1,
                    12.7,
                    8.1,
                    13.4,
                    21.8,
                    21.2,
                    5.9,
                    9.5,
                    22.6,
                    10.2,
                    16.5,
                    27.9,
                    22.7,
                    4.7,
                    11.7,
                    13.1,
                    21.3,
                    11.5,
                    13.5,
                    8.7,
                    14,
                    12.5,
                    32.7,
                    9.1,
                    9.2,
                    3.7,
                    12.7,
                    10.4,
                    11.5,
                    9,
                    22.4,
                    9.9,
                    9.3,
                    11.9,
                    18.4,
                    25.8,
                    10.1,
                    6.6,
                    9.1,
                    28,
                    8.1,
                    6.6,
                    10.6,
                    8.1,
                    10.4,
                    14.7,
                    5.1,
                    9.9,
                    17.7,
                    18.4,
                    10.1,
                    7.1,
                    11.1,
                    26.2,
                    19.9,
                    4.1,
                    13,
                    9.3,
                    16.2,
                    5.9,
                    7.1,
                    27.6,
                    11,
                    6.1,
                    16.8,
                    6.1,
                    10.4,
                    31.3,
                    21.9,
                    17.8,
                    3.5,
                    5.3,
                    14.7,
                    30.4,
                    3.6,
                    9.3,
                    9.2,
                    20.9,
                    24.8,
                    5.1,
                    19.4,
                    30.4,
                    26.9,
                    21.6,
                    6.1,
                    8.7,
                    22.2,
                    14.5,
                    10.4,
                    6.6,
                    15.3,
                    20.5,
                    22.6,
                    10.3,
                    4.6,
                    6.5,
                    21.8,
                    12,
                    19.1,
                    14.4,
                    13.2,
                    13.4,
                    26.7,
                    15.3,
                    14,
                    16.8,
                    3.6,
                    9.6,
                    24,
                    8.3,
                    14.3,
                    13.5,
                    9.5,
                    31.7,
                    15.7,
                    10.4,
                    5.2,
                    20.6,
                    6.5,
                    25.5,
                    11.2,
                    9.9,
                    15,
                    10.9,
                    12.1,
                    31.6,
                    14.3,
                    15,
                    27.9,
                    17.9,
                    13.3,
                    4.6,
                    6.5,
                    22.6,
                    7.1,
                    16.8,
                    8.4,
                    11.9,
                    10.7,
                    12.8,
                    32.8,
                    6.6,
                    14,
                    13.1,
                    5.3,
                    14.3,
                    32.2,
                    12,
                    16.1,
                    7.4,
                    14.7,
                    23.3,
                    5.7,
                    7.6,
                    20.6,
                    10.4,
                    7.1,
                    18.1,
                    10.9,
                    8.4,
                    22.4,
                    13,
                    9,
                    24.2,
                    17,
                    28.5,
                    29.1,
                    18.9,
                    22.4,
                    10.1,
                    24.7,
                    28.4,
                    14.7,
                    20.4,
                    24,
                    16.8,
                    10.6,
                    23.2,
                    17.7,
                    24.6,
                    21.3,
                    30.5,
                    12.6,
                    11.8
                  ]
                },
                {
                  "mode": "markers",
                  "name": "mer_cluster_1",
                  "type": "scatter",
                  "x": [
                    1,
                    2,
                    2,
                    1,
                    3,
                    1,
                    1,
                    1,
                    1,
                    1,
                    1,
                    1,
                    1,
                    3,
                    3,
                    1,
                    1,
                    1,
                    1,
                    1,
                    1,
                    1,
                    1,
                    1,
                    1,
                    1,
                    1,
                    1,
                    1,
                    1,
                    1,
                    1,
                    1,
                    2,
                    3,
                    2,
                    2,
                    3,
                    3,
                    3,
                    2,
                    3,
                    3,
                    1,
                    1,
                    2,
                    3,
                    2,
                    3,
                    3,
                    3,
                    3,
                    2,
                    3,
                    3,
                    3,
                    3,
                    1,
                    1,
                    3,
                    3,
                    3,
                    3,
                    3,
                    2,
                    2,
                    2,
                    2,
                    3,
                    3,
                    1,
                    2,
                    1,
                    2,
                    3,
                    2,
                    2,
                    2,
                    1,
                    3,
                    1
                  ],
                  "y": [
                    51.1,
                    46.1,
                    42.5,
                    56.3,
                    65.3,
                    51.1,
                    45,
                    55.8,
                    48.2,
                    58.6,
                    75.9,
                    45.6,
                    36.8,
                    57.8,
                    44.3,
                    43.6,
                    48.8,
                    46,
                    51.6,
                    45.6,
                    67.2,
                    66.5,
                    40.6,
                    74.6,
                    37.2,
                    66.5,
                    49.7,
                    46.2,
                    55.6,
                    46.7,
                    67.2,
                    76.9,
                    42.1,
                    43.9,
                    34.4,
                    35.7,
                    49.7,
                    52.6,
                    74.2,
                    36.5,
                    55.8,
                    56.3,
                    57.8,
                    35.1,
                    51.9,
                    36,
                    35.3,
                    54.4,
                    36.5,
                    43.1,
                    42.7,
                    36.5,
                    36.5,
                    37.8,
                    63.6,
                    36.5,
                    42.7,
                    37,
                    37.5,
                    63.6,
                    64.7,
                    49.5,
                    49.5,
                    42.1,
                    60.5,
                    37.9,
                    48.9,
                    67.8,
                    70.1,
                    50.6,
                    57.7,
                    60.5,
                    52.3,
                    55.6,
                    47.8,
                    74.6,
                    49.5,
                    65.6,
                    48.9,
                    55.6,
                    70.7
                  ]
                }
              ],
              "layout": {
                "template": {
                  "data": {
                    "bar": [
                      {
                        "error_x": {
                          "color": "#2a3f5f"
                        },
                        "error_y": {
                          "color": "#2a3f5f"
                        },
                        "marker": {
                          "line": {
                            "color": "#E5ECF6",
                            "width": 0.5
                          },
                          "pattern": {
                            "fillmode": "overlay",
                            "size": 10,
                            "solidity": 0.2
                          }
                        },
                        "type": "bar"
                      }
                    ],
                    "barpolar": [
                      {
                        "marker": {
                          "line": {
                            "color": "#E5ECF6",
                            "width": 0.5
                          },
                          "pattern": {
                            "fillmode": "overlay",
                            "size": 10,
                            "solidity": 0.2
                          }
                        },
                        "type": "barpolar"
                      }
                    ],
                    "carpet": [
                      {
                        "aaxis": {
                          "endlinecolor": "#2a3f5f",
                          "gridcolor": "white",
                          "linecolor": "white",
                          "minorgridcolor": "white",
                          "startlinecolor": "#2a3f5f"
                        },
                        "baxis": {
                          "endlinecolor": "#2a3f5f",
                          "gridcolor": "white",
                          "linecolor": "white",
                          "minorgridcolor": "white",
                          "startlinecolor": "#2a3f5f"
                        },
                        "type": "carpet"
                      }
                    ],
                    "choropleth": [
                      {
                        "colorbar": {
                          "outlinewidth": 0,
                          "ticks": ""
                        },
                        "type": "choropleth"
                      }
                    ],
                    "contour": [
                      {
                        "colorbar": {
                          "outlinewidth": 0,
                          "ticks": ""
                        },
                        "colorscale": [
                          [
                            0,
                            "#0d0887"
                          ],
                          [
                            0.1111111111111111,
                            "#46039f"
                          ],
                          [
                            0.2222222222222222,
                            "#7201a8"
                          ],
                          [
                            0.3333333333333333,
                            "#9c179e"
                          ],
                          [
                            0.4444444444444444,
                            "#bd3786"
                          ],
                          [
                            0.5555555555555556,
                            "#d8576b"
                          ],
                          [
                            0.6666666666666666,
                            "#ed7953"
                          ],
                          [
                            0.7777777777777778,
                            "#fb9f3a"
                          ],
                          [
                            0.8888888888888888,
                            "#fdca26"
                          ],
                          [
                            1,
                            "#f0f921"
                          ]
                        ],
                        "type": "contour"
                      }
                    ],
                    "contourcarpet": [
                      {
                        "colorbar": {
                          "outlinewidth": 0,
                          "ticks": ""
                        },
                        "type": "contourcarpet"
                      }
                    ],
                    "heatmap": [
                      {
                        "colorbar": {
                          "outlinewidth": 0,
                          "ticks": ""
                        },
                        "colorscale": [
                          [
                            0,
                            "#0d0887"
                          ],
                          [
                            0.1111111111111111,
                            "#46039f"
                          ],
                          [
                            0.2222222222222222,
                            "#7201a8"
                          ],
                          [
                            0.3333333333333333,
                            "#9c179e"
                          ],
                          [
                            0.4444444444444444,
                            "#bd3786"
                          ],
                          [
                            0.5555555555555556,
                            "#d8576b"
                          ],
                          [
                            0.6666666666666666,
                            "#ed7953"
                          ],
                          [
                            0.7777777777777778,
                            "#fb9f3a"
                          ],
                          [
                            0.8888888888888888,
                            "#fdca26"
                          ],
                          [
                            1,
                            "#f0f921"
                          ]
                        ],
                        "type": "heatmap"
                      }
                    ],
                    "heatmapgl": [
                      {
                        "colorbar": {
                          "outlinewidth": 0,
                          "ticks": ""
                        },
                        "colorscale": [
                          [
                            0,
                            "#0d0887"
                          ],
                          [
                            0.1111111111111111,
                            "#46039f"
                          ],
                          [
                            0.2222222222222222,
                            "#7201a8"
                          ],
                          [
                            0.3333333333333333,
                            "#9c179e"
                          ],
                          [
                            0.4444444444444444,
                            "#bd3786"
                          ],
                          [
                            0.5555555555555556,
                            "#d8576b"
                          ],
                          [
                            0.6666666666666666,
                            "#ed7953"
                          ],
                          [
                            0.7777777777777778,
                            "#fb9f3a"
                          ],
                          [
                            0.8888888888888888,
                            "#fdca26"
                          ],
                          [
                            1,
                            "#f0f921"
                          ]
                        ],
                        "type": "heatmapgl"
                      }
                    ],
                    "histogram": [
                      {
                        "marker": {
                          "pattern": {
                            "fillmode": "overlay",
                            "size": 10,
                            "solidity": 0.2
                          }
                        },
                        "type": "histogram"
                      }
                    ],
                    "histogram2d": [
                      {
                        "colorbar": {
                          "outlinewidth": 0,
                          "ticks": ""
                        },
                        "colorscale": [
                          [
                            0,
                            "#0d0887"
                          ],
                          [
                            0.1111111111111111,
                            "#46039f"
                          ],
                          [
                            0.2222222222222222,
                            "#7201a8"
                          ],
                          [
                            0.3333333333333333,
                            "#9c179e"
                          ],
                          [
                            0.4444444444444444,
                            "#bd3786"
                          ],
                          [
                            0.5555555555555556,
                            "#d8576b"
                          ],
                          [
                            0.6666666666666666,
                            "#ed7953"
                          ],
                          [
                            0.7777777777777778,
                            "#fb9f3a"
                          ],
                          [
                            0.8888888888888888,
                            "#fdca26"
                          ],
                          [
                            1,
                            "#f0f921"
                          ]
                        ],
                        "type": "histogram2d"
                      }
                    ],
                    "histogram2dcontour": [
                      {
                        "colorbar": {
                          "outlinewidth": 0,
                          "ticks": ""
                        },
                        "colorscale": [
                          [
                            0,
                            "#0d0887"
                          ],
                          [
                            0.1111111111111111,
                            "#46039f"
                          ],
                          [
                            0.2222222222222222,
                            "#7201a8"
                          ],
                          [
                            0.3333333333333333,
                            "#9c179e"
                          ],
                          [
                            0.4444444444444444,
                            "#bd3786"
                          ],
                          [
                            0.5555555555555556,
                            "#d8576b"
                          ],
                          [
                            0.6666666666666666,
                            "#ed7953"
                          ],
                          [
                            0.7777777777777778,
                            "#fb9f3a"
                          ],
                          [
                            0.8888888888888888,
                            "#fdca26"
                          ],
                          [
                            1,
                            "#f0f921"
                          ]
                        ],
                        "type": "histogram2dcontour"
                      }
                    ],
                    "mesh3d": [
                      {
                        "colorbar": {
                          "outlinewidth": 0,
                          "ticks": ""
                        },
                        "type": "mesh3d"
                      }
                    ],
                    "parcoords": [
                      {
                        "line": {
                          "colorbar": {
                            "outlinewidth": 0,
                            "ticks": ""
                          }
                        },
                        "type": "parcoords"
                      }
                    ],
                    "pie": [
                      {
                        "automargin": true,
                        "type": "pie"
                      }
                    ],
                    "scatter": [
                      {
                        "fillpattern": {
                          "fillmode": "overlay",
                          "size": 10,
                          "solidity": 0.2
                        },
                        "type": "scatter"
                      }
                    ],
                    "scatter3d": [
                      {
                        "line": {
                          "colorbar": {
                            "outlinewidth": 0,
                            "ticks": ""
                          }
                        },
                        "marker": {
                          "colorbar": {
                            "outlinewidth": 0,
                            "ticks": ""
                          }
                        },
                        "type": "scatter3d"
                      }
                    ],
                    "scattercarpet": [
                      {
                        "marker": {
                          "colorbar": {
                            "outlinewidth": 0,
                            "ticks": ""
                          }
                        },
                        "type": "scattercarpet"
                      }
                    ],
                    "scattergeo": [
                      {
                        "marker": {
                          "colorbar": {
                            "outlinewidth": 0,
                            "ticks": ""
                          }
                        },
                        "type": "scattergeo"
                      }
                    ],
                    "scattergl": [
                      {
                        "marker": {
                          "colorbar": {
                            "outlinewidth": 0,
                            "ticks": ""
                          }
                        },
                        "type": "scattergl"
                      }
                    ],
                    "scattermapbox": [
                      {
                        "marker": {
                          "colorbar": {
                            "outlinewidth": 0,
                            "ticks": ""
                          }
                        },
                        "type": "scattermapbox"
                      }
                    ],
                    "scatterpolar": [
                      {
                        "marker": {
                          "colorbar": {
                            "outlinewidth": 0,
                            "ticks": ""
                          }
                        },
                        "type": "scatterpolar"
                      }
                    ],
                    "scatterpolargl": [
                      {
                        "marker": {
                          "colorbar": {
                            "outlinewidth": 0,
                            "ticks": ""
                          }
                        },
                        "type": "scatterpolargl"
                      }
                    ],
                    "scatterternary": [
                      {
                        "marker": {
                          "colorbar": {
                            "outlinewidth": 0,
                            "ticks": ""
                          }
                        },
                        "type": "scatterternary"
                      }
                    ],
                    "surface": [
                      {
                        "colorbar": {
                          "outlinewidth": 0,
                          "ticks": ""
                        },
                        "colorscale": [
                          [
                            0,
                            "#0d0887"
                          ],
                          [
                            0.1111111111111111,
                            "#46039f"
                          ],
                          [
                            0.2222222222222222,
                            "#7201a8"
                          ],
                          [
                            0.3333333333333333,
                            "#9c179e"
                          ],
                          [
                            0.4444444444444444,
                            "#bd3786"
                          ],
                          [
                            0.5555555555555556,
                            "#d8576b"
                          ],
                          [
                            0.6666666666666666,
                            "#ed7953"
                          ],
                          [
                            0.7777777777777778,
                            "#fb9f3a"
                          ],
                          [
                            0.8888888888888888,
                            "#fdca26"
                          ],
                          [
                            1,
                            "#f0f921"
                          ]
                        ],
                        "type": "surface"
                      }
                    ],
                    "table": [
                      {
                        "cells": {
                          "fill": {
                            "color": "#EBF0F8"
                          },
                          "line": {
                            "color": "white"
                          }
                        },
                        "header": {
                          "fill": {
                            "color": "#C8D4E3"
                          },
                          "line": {
                            "color": "white"
                          }
                        },
                        "type": "table"
                      }
                    ]
                  },
                  "layout": {
                    "annotationdefaults": {
                      "arrowcolor": "#2a3f5f",
                      "arrowhead": 0,
                      "arrowwidth": 1
                    },
                    "autotypenumbers": "strict",
                    "coloraxis": {
                      "colorbar": {
                        "outlinewidth": 0,
                        "ticks": ""
                      }
                    },
                    "colorscale": {
                      "diverging": [
                        [
                          0,
                          "#8e0152"
                        ],
                        [
                          0.1,
                          "#c51b7d"
                        ],
                        [
                          0.2,
                          "#de77ae"
                        ],
                        [
                          0.3,
                          "#f1b6da"
                        ],
                        [
                          0.4,
                          "#fde0ef"
                        ],
                        [
                          0.5,
                          "#f7f7f7"
                        ],
                        [
                          0.6,
                          "#e6f5d0"
                        ],
                        [
                          0.7,
                          "#b8e186"
                        ],
                        [
                          0.8,
                          "#7fbc41"
                        ],
                        [
                          0.9,
                          "#4d9221"
                        ],
                        [
                          1,
                          "#276419"
                        ]
                      ],
                      "sequential": [
                        [
                          0,
                          "#0d0887"
                        ],
                        [
                          0.1111111111111111,
                          "#46039f"
                        ],
                        [
                          0.2222222222222222,
                          "#7201a8"
                        ],
                        [
                          0.3333333333333333,
                          "#9c179e"
                        ],
                        [
                          0.4444444444444444,
                          "#bd3786"
                        ],
                        [
                          0.5555555555555556,
                          "#d8576b"
                        ],
                        [
                          0.6666666666666666,
                          "#ed7953"
                        ],
                        [
                          0.7777777777777778,
                          "#fb9f3a"
                        ],
                        [
                          0.8888888888888888,
                          "#fdca26"
                        ],
                        [
                          1,
                          "#f0f921"
                        ]
                      ],
                      "sequentialminus": [
                        [
                          0,
                          "#0d0887"
                        ],
                        [
                          0.1111111111111111,
                          "#46039f"
                        ],
                        [
                          0.2222222222222222,
                          "#7201a8"
                        ],
                        [
                          0.3333333333333333,
                          "#9c179e"
                        ],
                        [
                          0.4444444444444444,
                          "#bd3786"
                        ],
                        [
                          0.5555555555555556,
                          "#d8576b"
                        ],
                        [
                          0.6666666666666666,
                          "#ed7953"
                        ],
                        [
                          0.7777777777777778,
                          "#fb9f3a"
                        ],
                        [
                          0.8888888888888888,
                          "#fdca26"
                        ],
                        [
                          1,
                          "#f0f921"
                        ]
                      ]
                    },
                    "colorway": [
                      "#636efa",
                      "#EF553B",
                      "#00cc96",
                      "#ab63fa",
                      "#FFA15A",
                      "#19d3f3",
                      "#FF6692",
                      "#B6E880",
                      "#FF97FF",
                      "#FECB52"
                    ],
                    "font": {
                      "color": "#2a3f5f"
                    },
                    "geo": {
                      "bgcolor": "white",
                      "lakecolor": "white",
                      "landcolor": "#E5ECF6",
                      "showlakes": true,
                      "showland": true,
                      "subunitcolor": "white"
                    },
                    "hoverlabel": {
                      "align": "left"
                    },
                    "hovermode": "closest",
                    "mapbox": {
                      "style": "light"
                    },
                    "paper_bgcolor": "white",
                    "plot_bgcolor": "#E5ECF6",
                    "polar": {
                      "angularaxis": {
                        "gridcolor": "white",
                        "linecolor": "white",
                        "ticks": ""
                      },
                      "bgcolor": "#E5ECF6",
                      "radialaxis": {
                        "gridcolor": "white",
                        "linecolor": "white",
                        "ticks": ""
                      }
                    },
                    "scene": {
                      "xaxis": {
                        "backgroundcolor": "#E5ECF6",
                        "gridcolor": "white",
                        "gridwidth": 2,
                        "linecolor": "white",
                        "showbackground": true,
                        "ticks": "",
                        "zerolinecolor": "white"
                      },
                      "yaxis": {
                        "backgroundcolor": "#E5ECF6",
                        "gridcolor": "white",
                        "gridwidth": 2,
                        "linecolor": "white",
                        "showbackground": true,
                        "ticks": "",
                        "zerolinecolor": "white"
                      },
                      "zaxis": {
                        "backgroundcolor": "#E5ECF6",
                        "gridcolor": "white",
                        "gridwidth": 2,
                        "linecolor": "white",
                        "showbackground": true,
                        "ticks": "",
                        "zerolinecolor": "white"
                      }
                    },
                    "shapedefaults": {
                      "line": {
                        "color": "#2a3f5f"
                      }
                    },
                    "ternary": {
                      "aaxis": {
                        "gridcolor": "white",
                        "linecolor": "white",
                        "ticks": ""
                      },
                      "baxis": {
                        "gridcolor": "white",
                        "linecolor": "white",
                        "ticks": ""
                      },
                      "bgcolor": "#E5ECF6",
                      "caxis": {
                        "gridcolor": "white",
                        "linecolor": "white",
                        "ticks": ""
                      }
                    },
                    "title": {
                      "x": 0.05
                    },
                    "xaxis": {
                      "automargin": true,
                      "gridcolor": "white",
                      "linecolor": "white",
                      "ticks": "",
                      "title": {
                        "standoff": 15
                      },
                      "zerolinecolor": "white",
                      "zerolinewidth": 2
                    },
                    "yaxis": {
                      "automargin": true,
                      "gridcolor": "white",
                      "linecolor": "white",
                      "ticks": "",
                      "title": {
                        "standoff": 15
                      },
                      "zerolinecolor": "white",
                      "zerolinewidth": 2
                    }
                  }
                },
                "title": {
                  "text": "Scatter Plot of T_near_Ureter vs RAIV"
                },
                "xaxis": {
                  "title": {
                    "text": "T_near_Ureter"
                  }
                },
                "yaxis": {
                  "title": {
                    "text": "RAIV"
                  }
                }
              }
            }
          },
          "metadata": {},
          "output_type": "display_data"
        },
        {
          "data": {
            "application/vnd.plotly.v1+json": {
              "config": {
                "plotlyServerURL": "https://plot.ly"
              },
              "data": [
                {
                  "mode": "markers",
                  "name": "mer_cluster_0",
                  "type": "scatter",
                  "x": [
                    1,
                    3,
                    3,
                    1,
                    2,
                    2,
                    1,
                    2,
                    1,
                    1,
                    1,
                    1,
                    3,
                    2,
                    3,
                    2,
                    2,
                    1,
                    1,
                    1,
                    3,
                    1,
                    1,
                    1,
                    1,
                    2,
                    2,
                    1,
                    1,
                    1,
                    1,
                    1,
                    1,
                    1,
                    1,
                    1,
                    1,
                    1,
                    1,
                    1,
                    1,
                    2,
                    1,
                    1,
                    1,
                    1,
                    1,
                    1,
                    1,
                    2,
                    1,
                    1,
                    1,
                    1,
                    1,
                    1,
                    1,
                    1,
                    1,
                    1,
                    1,
                    1,
                    1,
                    1,
                    1,
                    1,
                    1,
                    1,
                    1,
                    3,
                    1,
                    1,
                    1,
                    2,
                    2,
                    2,
                    2,
                    2,
                    2,
                    2,
                    1,
                    3,
                    1,
                    2,
                    2,
                    3,
                    1,
                    1,
                    2,
                    2,
                    3,
                    3,
                    3,
                    1,
                    1,
                    3,
                    1,
                    1,
                    2,
                    1,
                    3,
                    1,
                    3,
                    3,
                    1,
                    2,
                    2,
                    1,
                    2,
                    3,
                    1,
                    3,
                    3,
                    2,
                    1,
                    3,
                    3,
                    2,
                    2,
                    1,
                    2,
                    1,
                    2,
                    1,
                    2,
                    2,
                    2,
                    1,
                    2,
                    2,
                    3,
                    1,
                    2,
                    2,
                    2,
                    3,
                    3,
                    3,
                    2,
                    2,
                    1,
                    2,
                    3,
                    2,
                    3,
                    2,
                    2,
                    2,
                    1,
                    2,
                    2,
                    3,
                    2,
                    2,
                    1,
                    1,
                    3,
                    1,
                    1,
                    3,
                    3,
                    1,
                    3,
                    2,
                    1,
                    2,
                    2,
                    1,
                    1,
                    2,
                    2,
                    1,
                    1,
                    3,
                    2,
                    3,
                    2,
                    2,
                    2,
                    2,
                    2,
                    1,
                    2,
                    3,
                    2,
                    2,
                    3,
                    2,
                    2,
                    2,
                    2,
                    3,
                    2,
                    2,
                    1,
                    2,
                    2,
                    2,
                    1,
                    2,
                    1,
                    1,
                    2,
                    3,
                    3,
                    3,
                    1,
                    2,
                    1,
                    2,
                    2,
                    1,
                    3,
                    2,
                    3,
                    1,
                    2,
                    2,
                    1,
                    3,
                    3,
                    3,
                    1,
                    1,
                    3,
                    1,
                    3,
                    3,
                    3,
                    1,
                    2,
                    3,
                    3,
                    3,
                    3,
                    3,
                    3,
                    3,
                    1,
                    2,
                    1,
                    3,
                    2,
                    1,
                    3,
                    2,
                    3,
                    3,
                    2,
                    1,
                    1,
                    1,
                    1,
                    1,
                    3,
                    3,
                    1,
                    2,
                    1,
                    2,
                    2,
                    1,
                    3,
                    3,
                    3,
                    1,
                    2,
                    2,
                    2,
                    1,
                    2,
                    1,
                    3,
                    1,
                    1,
                    1,
                    3,
                    3,
                    1,
                    1,
                    1,
                    2,
                    1,
                    1,
                    3,
                    3,
                    3,
                    3,
                    1,
                    3
                  ],
                  "y": [
                    14.8,
                    19.7,
                    14.8,
                    18.5,
                    31.4,
                    28.6,
                    27.7,
                    25.8,
                    6.9,
                    24.7,
                    13.1,
                    9,
                    30.3,
                    30.3,
                    23.7,
                    30.4,
                    20.2,
                    17.9,
                    18.1,
                    19.3,
                    27.6,
                    15.3,
                    11.8,
                    32.6,
                    19.2,
                    20.7,
                    31.8,
                    9.1,
                    26.5,
                    8.1,
                    7.3,
                    21.8,
                    27.3,
                    10.8,
                    8.6,
                    4.6,
                    18.9,
                    12.3,
                    10.6,
                    19,
                    18.6,
                    27.7,
                    8.8,
                    22.6,
                    11,
                    17.7,
                    19.4,
                    26.8,
                    16.6,
                    33.4,
                    11.9,
                    28.8,
                    13.6,
                    11.4,
                    27.9,
                    14.1,
                    19.6,
                    24.1,
                    10.8,
                    29.1,
                    32.8,
                    6.7,
                    19.8,
                    20.2,
                    27.8,
                    24.4,
                    27.6,
                    6.6,
                    21.5,
                    9.6,
                    5.3,
                    7.4,
                    8.8,
                    7.1,
                    5.9,
                    5.1,
                    14,
                    17.2,
                    5.3,
                    13.4,
                    15,
                    26.9,
                    5.1,
                    17.2,
                    13.1,
                    4.3,
                    7.7,
                    19.3,
                    33.2,
                    15.2,
                    6.1,
                    16.8,
                    4.1,
                    14.9,
                    14.2,
                    10.9,
                    6.5,
                    23,
                    6.6,
                    19.4,
                    23,
                    12.7,
                    13.1,
                    4.3,
                    7.1,
                    13.9,
                    18.1,
                    12.7,
                    8.1,
                    13.4,
                    21.8,
                    21.2,
                    5.9,
                    9.5,
                    22.6,
                    10.2,
                    16.5,
                    27.9,
                    22.7,
                    4.7,
                    11.7,
                    13.1,
                    21.3,
                    11.5,
                    13.5,
                    8.7,
                    14,
                    12.5,
                    32.7,
                    9.1,
                    9.2,
                    3.7,
                    12.7,
                    10.4,
                    11.5,
                    9,
                    22.4,
                    9.9,
                    9.3,
                    11.9,
                    18.4,
                    25.8,
                    10.1,
                    6.6,
                    9.1,
                    28,
                    8.1,
                    6.6,
                    10.6,
                    8.1,
                    10.4,
                    14.7,
                    5.1,
                    9.9,
                    17.7,
                    18.4,
                    10.1,
                    7.1,
                    11.1,
                    26.2,
                    19.9,
                    4.1,
                    13,
                    9.3,
                    16.2,
                    5.9,
                    7.1,
                    27.6,
                    11,
                    6.1,
                    16.8,
                    6.1,
                    10.4,
                    31.3,
                    21.9,
                    17.8,
                    3.5,
                    5.3,
                    14.7,
                    30.4,
                    3.6,
                    9.3,
                    9.2,
                    20.9,
                    24.8,
                    5.1,
                    19.4,
                    30.4,
                    26.9,
                    21.6,
                    6.1,
                    8.7,
                    22.2,
                    14.5,
                    10.4,
                    6.6,
                    15.3,
                    20.5,
                    22.6,
                    10.3,
                    4.6,
                    6.5,
                    21.8,
                    12,
                    19.1,
                    14.4,
                    13.2,
                    13.4,
                    26.7,
                    15.3,
                    14,
                    16.8,
                    3.6,
                    9.6,
                    24,
                    8.3,
                    14.3,
                    13.5,
                    9.5,
                    31.7,
                    15.7,
                    10.4,
                    5.2,
                    20.6,
                    6.5,
                    25.5,
                    11.2,
                    9.9,
                    15,
                    10.9,
                    12.1,
                    31.6,
                    14.3,
                    15,
                    27.9,
                    17.9,
                    13.3,
                    4.6,
                    6.5,
                    22.6,
                    7.1,
                    16.8,
                    8.4,
                    11.9,
                    10.7,
                    12.8,
                    32.8,
                    6.6,
                    14,
                    13.1,
                    5.3,
                    14.3,
                    32.2,
                    12,
                    16.1,
                    7.4,
                    14.7,
                    23.3,
                    5.7,
                    7.6,
                    20.6,
                    10.4,
                    7.1,
                    18.1,
                    10.9,
                    8.4,
                    22.4,
                    13,
                    9,
                    24.2,
                    17,
                    28.5,
                    29.1,
                    18.9,
                    22.4,
                    10.1,
                    24.7,
                    28.4,
                    14.7,
                    20.4,
                    24,
                    16.8,
                    10.6,
                    23.2,
                    17.7,
                    24.6,
                    21.3,
                    30.5,
                    12.6,
                    11.8
                  ]
                },
                {
                  "mode": "markers",
                  "name": "mer_cluster_1",
                  "type": "scatter",
                  "x": [
                    1,
                    2,
                    1,
                    2,
                    3,
                    2,
                    1,
                    3,
                    2,
                    1,
                    2,
                    1,
                    1,
                    2,
                    1,
                    1,
                    2,
                    1,
                    1,
                    2,
                    2,
                    3,
                    3,
                    3,
                    1,
                    2,
                    1,
                    2,
                    3,
                    1,
                    2,
                    2,
                    1,
                    1,
                    1,
                    1,
                    1,
                    1,
                    1,
                    1,
                    1,
                    1,
                    1,
                    1,
                    1,
                    2,
                    1,
                    2,
                    3,
                    3,
                    3,
                    3,
                    2,
                    3,
                    3,
                    3,
                    3,
                    3,
                    1,
                    3,
                    3,
                    3,
                    3,
                    2,
                    2,
                    1,
                    1,
                    2,
                    1,
                    1,
                    1,
                    1,
                    1,
                    1,
                    2,
                    3,
                    1,
                    2,
                    1,
                    1,
                    1
                  ],
                  "y": [
                    51.1,
                    46.1,
                    42.5,
                    56.3,
                    65.3,
                    51.1,
                    45,
                    55.8,
                    48.2,
                    58.6,
                    75.9,
                    45.6,
                    36.8,
                    57.8,
                    44.3,
                    43.6,
                    48.8,
                    46,
                    51.6,
                    45.6,
                    67.2,
                    66.5,
                    40.6,
                    74.6,
                    37.2,
                    66.5,
                    49.7,
                    46.2,
                    55.6,
                    46.7,
                    67.2,
                    76.9,
                    42.1,
                    43.9,
                    34.4,
                    35.7,
                    49.7,
                    52.6,
                    74.2,
                    36.5,
                    55.8,
                    56.3,
                    57.8,
                    35.1,
                    51.9,
                    36,
                    35.3,
                    54.4,
                    36.5,
                    43.1,
                    42.7,
                    36.5,
                    36.5,
                    37.8,
                    63.6,
                    36.5,
                    42.7,
                    37,
                    37.5,
                    63.6,
                    64.7,
                    49.5,
                    49.5,
                    42.1,
                    60.5,
                    37.9,
                    48.9,
                    67.8,
                    70.1,
                    50.6,
                    57.7,
                    60.5,
                    52.3,
                    55.6,
                    47.8,
                    74.6,
                    49.5,
                    65.6,
                    48.9,
                    55.6,
                    70.7
                  ]
                }
              ],
              "layout": {
                "template": {
                  "data": {
                    "bar": [
                      {
                        "error_x": {
                          "color": "#2a3f5f"
                        },
                        "error_y": {
                          "color": "#2a3f5f"
                        },
                        "marker": {
                          "line": {
                            "color": "#E5ECF6",
                            "width": 0.5
                          },
                          "pattern": {
                            "fillmode": "overlay",
                            "size": 10,
                            "solidity": 0.2
                          }
                        },
                        "type": "bar"
                      }
                    ],
                    "barpolar": [
                      {
                        "marker": {
                          "line": {
                            "color": "#E5ECF6",
                            "width": 0.5
                          },
                          "pattern": {
                            "fillmode": "overlay",
                            "size": 10,
                            "solidity": 0.2
                          }
                        },
                        "type": "barpolar"
                      }
                    ],
                    "carpet": [
                      {
                        "aaxis": {
                          "endlinecolor": "#2a3f5f",
                          "gridcolor": "white",
                          "linecolor": "white",
                          "minorgridcolor": "white",
                          "startlinecolor": "#2a3f5f"
                        },
                        "baxis": {
                          "endlinecolor": "#2a3f5f",
                          "gridcolor": "white",
                          "linecolor": "white",
                          "minorgridcolor": "white",
                          "startlinecolor": "#2a3f5f"
                        },
                        "type": "carpet"
                      }
                    ],
                    "choropleth": [
                      {
                        "colorbar": {
                          "outlinewidth": 0,
                          "ticks": ""
                        },
                        "type": "choropleth"
                      }
                    ],
                    "contour": [
                      {
                        "colorbar": {
                          "outlinewidth": 0,
                          "ticks": ""
                        },
                        "colorscale": [
                          [
                            0,
                            "#0d0887"
                          ],
                          [
                            0.1111111111111111,
                            "#46039f"
                          ],
                          [
                            0.2222222222222222,
                            "#7201a8"
                          ],
                          [
                            0.3333333333333333,
                            "#9c179e"
                          ],
                          [
                            0.4444444444444444,
                            "#bd3786"
                          ],
                          [
                            0.5555555555555556,
                            "#d8576b"
                          ],
                          [
                            0.6666666666666666,
                            "#ed7953"
                          ],
                          [
                            0.7777777777777778,
                            "#fb9f3a"
                          ],
                          [
                            0.8888888888888888,
                            "#fdca26"
                          ],
                          [
                            1,
                            "#f0f921"
                          ]
                        ],
                        "type": "contour"
                      }
                    ],
                    "contourcarpet": [
                      {
                        "colorbar": {
                          "outlinewidth": 0,
                          "ticks": ""
                        },
                        "type": "contourcarpet"
                      }
                    ],
                    "heatmap": [
                      {
                        "colorbar": {
                          "outlinewidth": 0,
                          "ticks": ""
                        },
                        "colorscale": [
                          [
                            0,
                            "#0d0887"
                          ],
                          [
                            0.1111111111111111,
                            "#46039f"
                          ],
                          [
                            0.2222222222222222,
                            "#7201a8"
                          ],
                          [
                            0.3333333333333333,
                            "#9c179e"
                          ],
                          [
                            0.4444444444444444,
                            "#bd3786"
                          ],
                          [
                            0.5555555555555556,
                            "#d8576b"
                          ],
                          [
                            0.6666666666666666,
                            "#ed7953"
                          ],
                          [
                            0.7777777777777778,
                            "#fb9f3a"
                          ],
                          [
                            0.8888888888888888,
                            "#fdca26"
                          ],
                          [
                            1,
                            "#f0f921"
                          ]
                        ],
                        "type": "heatmap"
                      }
                    ],
                    "heatmapgl": [
                      {
                        "colorbar": {
                          "outlinewidth": 0,
                          "ticks": ""
                        },
                        "colorscale": [
                          [
                            0,
                            "#0d0887"
                          ],
                          [
                            0.1111111111111111,
                            "#46039f"
                          ],
                          [
                            0.2222222222222222,
                            "#7201a8"
                          ],
                          [
                            0.3333333333333333,
                            "#9c179e"
                          ],
                          [
                            0.4444444444444444,
                            "#bd3786"
                          ],
                          [
                            0.5555555555555556,
                            "#d8576b"
                          ],
                          [
                            0.6666666666666666,
                            "#ed7953"
                          ],
                          [
                            0.7777777777777778,
                            "#fb9f3a"
                          ],
                          [
                            0.8888888888888888,
                            "#fdca26"
                          ],
                          [
                            1,
                            "#f0f921"
                          ]
                        ],
                        "type": "heatmapgl"
                      }
                    ],
                    "histogram": [
                      {
                        "marker": {
                          "pattern": {
                            "fillmode": "overlay",
                            "size": 10,
                            "solidity": 0.2
                          }
                        },
                        "type": "histogram"
                      }
                    ],
                    "histogram2d": [
                      {
                        "colorbar": {
                          "outlinewidth": 0,
                          "ticks": ""
                        },
                        "colorscale": [
                          [
                            0,
                            "#0d0887"
                          ],
                          [
                            0.1111111111111111,
                            "#46039f"
                          ],
                          [
                            0.2222222222222222,
                            "#7201a8"
                          ],
                          [
                            0.3333333333333333,
                            "#9c179e"
                          ],
                          [
                            0.4444444444444444,
                            "#bd3786"
                          ],
                          [
                            0.5555555555555556,
                            "#d8576b"
                          ],
                          [
                            0.6666666666666666,
                            "#ed7953"
                          ],
                          [
                            0.7777777777777778,
                            "#fb9f3a"
                          ],
                          [
                            0.8888888888888888,
                            "#fdca26"
                          ],
                          [
                            1,
                            "#f0f921"
                          ]
                        ],
                        "type": "histogram2d"
                      }
                    ],
                    "histogram2dcontour": [
                      {
                        "colorbar": {
                          "outlinewidth": 0,
                          "ticks": ""
                        },
                        "colorscale": [
                          [
                            0,
                            "#0d0887"
                          ],
                          [
                            0.1111111111111111,
                            "#46039f"
                          ],
                          [
                            0.2222222222222222,
                            "#7201a8"
                          ],
                          [
                            0.3333333333333333,
                            "#9c179e"
                          ],
                          [
                            0.4444444444444444,
                            "#bd3786"
                          ],
                          [
                            0.5555555555555556,
                            "#d8576b"
                          ],
                          [
                            0.6666666666666666,
                            "#ed7953"
                          ],
                          [
                            0.7777777777777778,
                            "#fb9f3a"
                          ],
                          [
                            0.8888888888888888,
                            "#fdca26"
                          ],
                          [
                            1,
                            "#f0f921"
                          ]
                        ],
                        "type": "histogram2dcontour"
                      }
                    ],
                    "mesh3d": [
                      {
                        "colorbar": {
                          "outlinewidth": 0,
                          "ticks": ""
                        },
                        "type": "mesh3d"
                      }
                    ],
                    "parcoords": [
                      {
                        "line": {
                          "colorbar": {
                            "outlinewidth": 0,
                            "ticks": ""
                          }
                        },
                        "type": "parcoords"
                      }
                    ],
                    "pie": [
                      {
                        "automargin": true,
                        "type": "pie"
                      }
                    ],
                    "scatter": [
                      {
                        "fillpattern": {
                          "fillmode": "overlay",
                          "size": 10,
                          "solidity": 0.2
                        },
                        "type": "scatter"
                      }
                    ],
                    "scatter3d": [
                      {
                        "line": {
                          "colorbar": {
                            "outlinewidth": 0,
                            "ticks": ""
                          }
                        },
                        "marker": {
                          "colorbar": {
                            "outlinewidth": 0,
                            "ticks": ""
                          }
                        },
                        "type": "scatter3d"
                      }
                    ],
                    "scattercarpet": [
                      {
                        "marker": {
                          "colorbar": {
                            "outlinewidth": 0,
                            "ticks": ""
                          }
                        },
                        "type": "scattercarpet"
                      }
                    ],
                    "scattergeo": [
                      {
                        "marker": {
                          "colorbar": {
                            "outlinewidth": 0,
                            "ticks": ""
                          }
                        },
                        "type": "scattergeo"
                      }
                    ],
                    "scattergl": [
                      {
                        "marker": {
                          "colorbar": {
                            "outlinewidth": 0,
                            "ticks": ""
                          }
                        },
                        "type": "scattergl"
                      }
                    ],
                    "scattermapbox": [
                      {
                        "marker": {
                          "colorbar": {
                            "outlinewidth": 0,
                            "ticks": ""
                          }
                        },
                        "type": "scattermapbox"
                      }
                    ],
                    "scatterpolar": [
                      {
                        "marker": {
                          "colorbar": {
                            "outlinewidth": 0,
                            "ticks": ""
                          }
                        },
                        "type": "scatterpolar"
                      }
                    ],
                    "scatterpolargl": [
                      {
                        "marker": {
                          "colorbar": {
                            "outlinewidth": 0,
                            "ticks": ""
                          }
                        },
                        "type": "scatterpolargl"
                      }
                    ],
                    "scatterternary": [
                      {
                        "marker": {
                          "colorbar": {
                            "outlinewidth": 0,
                            "ticks": ""
                          }
                        },
                        "type": "scatterternary"
                      }
                    ],
                    "surface": [
                      {
                        "colorbar": {
                          "outlinewidth": 0,
                          "ticks": ""
                        },
                        "colorscale": [
                          [
                            0,
                            "#0d0887"
                          ],
                          [
                            0.1111111111111111,
                            "#46039f"
                          ],
                          [
                            0.2222222222222222,
                            "#7201a8"
                          ],
                          [
                            0.3333333333333333,
                            "#9c179e"
                          ],
                          [
                            0.4444444444444444,
                            "#bd3786"
                          ],
                          [
                            0.5555555555555556,
                            "#d8576b"
                          ],
                          [
                            0.6666666666666666,
                            "#ed7953"
                          ],
                          [
                            0.7777777777777778,
                            "#fb9f3a"
                          ],
                          [
                            0.8888888888888888,
                            "#fdca26"
                          ],
                          [
                            1,
                            "#f0f921"
                          ]
                        ],
                        "type": "surface"
                      }
                    ],
                    "table": [
                      {
                        "cells": {
                          "fill": {
                            "color": "#EBF0F8"
                          },
                          "line": {
                            "color": "white"
                          }
                        },
                        "header": {
                          "fill": {
                            "color": "#C8D4E3"
                          },
                          "line": {
                            "color": "white"
                          }
                        },
                        "type": "table"
                      }
                    ]
                  },
                  "layout": {
                    "annotationdefaults": {
                      "arrowcolor": "#2a3f5f",
                      "arrowhead": 0,
                      "arrowwidth": 1
                    },
                    "autotypenumbers": "strict",
                    "coloraxis": {
                      "colorbar": {
                        "outlinewidth": 0,
                        "ticks": ""
                      }
                    },
                    "colorscale": {
                      "diverging": [
                        [
                          0,
                          "#8e0152"
                        ],
                        [
                          0.1,
                          "#c51b7d"
                        ],
                        [
                          0.2,
                          "#de77ae"
                        ],
                        [
                          0.3,
                          "#f1b6da"
                        ],
                        [
                          0.4,
                          "#fde0ef"
                        ],
                        [
                          0.5,
                          "#f7f7f7"
                        ],
                        [
                          0.6,
                          "#e6f5d0"
                        ],
                        [
                          0.7,
                          "#b8e186"
                        ],
                        [
                          0.8,
                          "#7fbc41"
                        ],
                        [
                          0.9,
                          "#4d9221"
                        ],
                        [
                          1,
                          "#276419"
                        ]
                      ],
                      "sequential": [
                        [
                          0,
                          "#0d0887"
                        ],
                        [
                          0.1111111111111111,
                          "#46039f"
                        ],
                        [
                          0.2222222222222222,
                          "#7201a8"
                        ],
                        [
                          0.3333333333333333,
                          "#9c179e"
                        ],
                        [
                          0.4444444444444444,
                          "#bd3786"
                        ],
                        [
                          0.5555555555555556,
                          "#d8576b"
                        ],
                        [
                          0.6666666666666666,
                          "#ed7953"
                        ],
                        [
                          0.7777777777777778,
                          "#fb9f3a"
                        ],
                        [
                          0.8888888888888888,
                          "#fdca26"
                        ],
                        [
                          1,
                          "#f0f921"
                        ]
                      ],
                      "sequentialminus": [
                        [
                          0,
                          "#0d0887"
                        ],
                        [
                          0.1111111111111111,
                          "#46039f"
                        ],
                        [
                          0.2222222222222222,
                          "#7201a8"
                        ],
                        [
                          0.3333333333333333,
                          "#9c179e"
                        ],
                        [
                          0.4444444444444444,
                          "#bd3786"
                        ],
                        [
                          0.5555555555555556,
                          "#d8576b"
                        ],
                        [
                          0.6666666666666666,
                          "#ed7953"
                        ],
                        [
                          0.7777777777777778,
                          "#fb9f3a"
                        ],
                        [
                          0.8888888888888888,
                          "#fdca26"
                        ],
                        [
                          1,
                          "#f0f921"
                        ]
                      ]
                    },
                    "colorway": [
                      "#636efa",
                      "#EF553B",
                      "#00cc96",
                      "#ab63fa",
                      "#FFA15A",
                      "#19d3f3",
                      "#FF6692",
                      "#B6E880",
                      "#FF97FF",
                      "#FECB52"
                    ],
                    "font": {
                      "color": "#2a3f5f"
                    },
                    "geo": {
                      "bgcolor": "white",
                      "lakecolor": "white",
                      "landcolor": "#E5ECF6",
                      "showlakes": true,
                      "showland": true,
                      "subunitcolor": "white"
                    },
                    "hoverlabel": {
                      "align": "left"
                    },
                    "hovermode": "closest",
                    "mapbox": {
                      "style": "light"
                    },
                    "paper_bgcolor": "white",
                    "plot_bgcolor": "#E5ECF6",
                    "polar": {
                      "angularaxis": {
                        "gridcolor": "white",
                        "linecolor": "white",
                        "ticks": ""
                      },
                      "bgcolor": "#E5ECF6",
                      "radialaxis": {
                        "gridcolor": "white",
                        "linecolor": "white",
                        "ticks": ""
                      }
                    },
                    "scene": {
                      "xaxis": {
                        "backgroundcolor": "#E5ECF6",
                        "gridcolor": "white",
                        "gridwidth": 2,
                        "linecolor": "white",
                        "showbackground": true,
                        "ticks": "",
                        "zerolinecolor": "white"
                      },
                      "yaxis": {
                        "backgroundcolor": "#E5ECF6",
                        "gridcolor": "white",
                        "gridwidth": 2,
                        "linecolor": "white",
                        "showbackground": true,
                        "ticks": "",
                        "zerolinecolor": "white"
                      },
                      "zaxis": {
                        "backgroundcolor": "#E5ECF6",
                        "gridcolor": "white",
                        "gridwidth": 2,
                        "linecolor": "white",
                        "showbackground": true,
                        "ticks": "",
                        "zerolinecolor": "white"
                      }
                    },
                    "shapedefaults": {
                      "line": {
                        "color": "#2a3f5f"
                      }
                    },
                    "ternary": {
                      "aaxis": {
                        "gridcolor": "white",
                        "linecolor": "white",
                        "ticks": ""
                      },
                      "baxis": {
                        "gridcolor": "white",
                        "linecolor": "white",
                        "ticks": ""
                      },
                      "bgcolor": "#E5ECF6",
                      "caxis": {
                        "gridcolor": "white",
                        "linecolor": "white",
                        "ticks": ""
                      }
                    },
                    "title": {
                      "x": 0.05
                    },
                    "xaxis": {
                      "automargin": true,
                      "gridcolor": "white",
                      "linecolor": "white",
                      "ticks": "",
                      "title": {
                        "standoff": 15
                      },
                      "zerolinecolor": "white",
                      "zerolinewidth": 2
                    },
                    "yaxis": {
                      "automargin": true,
                      "gridcolor": "white",
                      "linecolor": "white",
                      "ticks": "",
                      "title": {
                        "standoff": 15
                      },
                      "zerolinecolor": "white",
                      "zerolinewidth": 2
                    }
                  }
                },
                "title": {
                  "text": "Scatter Plot of T_rel_Ureter vs RAIV"
                },
                "xaxis": {
                  "title": {
                    "text": "T_rel_Ureter"
                  }
                },
                "yaxis": {
                  "title": {
                    "text": "RAIV"
                  }
                }
              }
            }
          },
          "metadata": {},
          "output_type": "display_data"
        },
        {
          "data": {
            "application/vnd.plotly.v1+json": {
              "config": {
                "plotlyServerURL": "https://plot.ly"
              },
              "data": [
                {
                  "mode": "markers",
                  "name": "mer_cluster_0",
                  "type": "scatter",
                  "x": [
                    1,
                    2,
                    1,
                    1,
                    2,
                    1,
                    2,
                    2,
                    2,
                    2,
                    1,
                    2,
                    1,
                    2,
                    1,
                    1,
                    2,
                    2,
                    2,
                    2,
                    1,
                    2,
                    2,
                    1,
                    1,
                    2,
                    2,
                    2,
                    2,
                    1,
                    2,
                    2,
                    1,
                    2,
                    2,
                    2,
                    2,
                    2,
                    1,
                    2,
                    1,
                    2,
                    2,
                    2,
                    1,
                    2,
                    1,
                    2,
                    2,
                    2,
                    2,
                    1,
                    2,
                    1,
                    2,
                    1,
                    2,
                    1,
                    2,
                    2,
                    1,
                    2,
                    2,
                    2,
                    1,
                    1,
                    2,
                    2,
                    1,
                    2,
                    2,
                    2,
                    2,
                    1,
                    2,
                    2,
                    2,
                    2,
                    2,
                    2,
                    2,
                    1,
                    2,
                    1,
                    2,
                    2,
                    2,
                    1,
                    2,
                    1,
                    1,
                    2,
                    1,
                    2,
                    1,
                    2,
                    1,
                    2,
                    1,
                    1,
                    1,
                    2,
                    2,
                    1,
                    1,
                    1,
                    1,
                    1,
                    2,
                    1,
                    1,
                    1,
                    2,
                    1,
                    1,
                    1,
                    2,
                    1,
                    1,
                    2,
                    2,
                    2,
                    1,
                    1,
                    1,
                    2,
                    1,
                    1,
                    1,
                    1,
                    1,
                    1,
                    2,
                    2,
                    2,
                    2,
                    1,
                    2,
                    2,
                    1,
                    1,
                    1,
                    2,
                    2,
                    1,
                    1,
                    2,
                    2,
                    1,
                    2,
                    2,
                    2,
                    2,
                    2,
                    2,
                    2,
                    2,
                    1,
                    2,
                    1,
                    1,
                    1,
                    1,
                    1,
                    1,
                    1,
                    1,
                    2,
                    2,
                    2,
                    1,
                    2,
                    2,
                    1,
                    2,
                    1,
                    1,
                    1,
                    2,
                    1,
                    2,
                    2,
                    2,
                    2,
                    2,
                    1,
                    2,
                    2,
                    2,
                    1,
                    2,
                    2,
                    2,
                    1,
                    2,
                    1,
                    1,
                    1,
                    1,
                    1,
                    1,
                    2,
                    2,
                    1,
                    2,
                    1,
                    1,
                    1,
                    1,
                    1,
                    2,
                    2,
                    2,
                    1,
                    1,
                    2,
                    2,
                    2,
                    1,
                    1,
                    1,
                    1,
                    2,
                    1,
                    1,
                    2,
                    2,
                    1,
                    2,
                    2,
                    2,
                    2,
                    2,
                    2,
                    2,
                    1,
                    1,
                    1,
                    2,
                    2,
                    2,
                    2,
                    1,
                    2,
                    1,
                    2,
                    2,
                    1,
                    2,
                    1,
                    2,
                    2,
                    1,
                    2,
                    2,
                    2,
                    2,
                    1,
                    2,
                    2,
                    1,
                    2,
                    1,
                    2,
                    2,
                    2,
                    2,
                    2,
                    1,
                    2,
                    1,
                    2,
                    2,
                    1,
                    2,
                    1,
                    1,
                    2,
                    2,
                    1,
                    2,
                    1,
                    1,
                    1,
                    1,
                    2,
                    1,
                    1,
                    2,
                    1
                  ],
                  "y": [
                    14.8,
                    19.7,
                    14.8,
                    18.5,
                    31.4,
                    28.6,
                    27.7,
                    25.8,
                    6.9,
                    24.7,
                    13.1,
                    9,
                    30.3,
                    30.3,
                    23.7,
                    30.4,
                    20.2,
                    17.9,
                    18.1,
                    19.3,
                    27.6,
                    15.3,
                    11.8,
                    32.6,
                    19.2,
                    20.7,
                    31.8,
                    9.1,
                    26.5,
                    8.1,
                    7.3,
                    21.8,
                    27.3,
                    10.8,
                    8.6,
                    4.6,
                    18.9,
                    12.3,
                    10.6,
                    19,
                    18.6,
                    27.7,
                    8.8,
                    22.6,
                    11,
                    17.7,
                    19.4,
                    26.8,
                    16.6,
                    33.4,
                    11.9,
                    28.8,
                    13.6,
                    11.4,
                    27.9,
                    14.1,
                    19.6,
                    24.1,
                    10.8,
                    29.1,
                    32.8,
                    6.7,
                    19.8,
                    20.2,
                    27.8,
                    24.4,
                    27.6,
                    6.6,
                    21.5,
                    9.6,
                    5.3,
                    7.4,
                    8.8,
                    7.1,
                    5.9,
                    5.1,
                    14,
                    17.2,
                    5.3,
                    13.4,
                    15,
                    26.9,
                    5.1,
                    17.2,
                    13.1,
                    4.3,
                    7.7,
                    19.3,
                    33.2,
                    15.2,
                    6.1,
                    16.8,
                    4.1,
                    14.9,
                    14.2,
                    10.9,
                    6.5,
                    23,
                    6.6,
                    19.4,
                    23,
                    12.7,
                    13.1,
                    4.3,
                    7.1,
                    13.9,
                    18.1,
                    12.7,
                    8.1,
                    13.4,
                    21.8,
                    21.2,
                    5.9,
                    9.5,
                    22.6,
                    10.2,
                    16.5,
                    27.9,
                    22.7,
                    4.7,
                    11.7,
                    13.1,
                    21.3,
                    11.5,
                    13.5,
                    8.7,
                    14,
                    12.5,
                    32.7,
                    9.1,
                    9.2,
                    3.7,
                    12.7,
                    10.4,
                    11.5,
                    9,
                    22.4,
                    9.9,
                    9.3,
                    11.9,
                    18.4,
                    25.8,
                    10.1,
                    6.6,
                    9.1,
                    28,
                    8.1,
                    6.6,
                    10.6,
                    8.1,
                    10.4,
                    14.7,
                    5.1,
                    9.9,
                    17.7,
                    18.4,
                    10.1,
                    7.1,
                    11.1,
                    26.2,
                    19.9,
                    4.1,
                    13,
                    9.3,
                    16.2,
                    5.9,
                    7.1,
                    27.6,
                    11,
                    6.1,
                    16.8,
                    6.1,
                    10.4,
                    31.3,
                    21.9,
                    17.8,
                    3.5,
                    5.3,
                    14.7,
                    30.4,
                    3.6,
                    9.3,
                    9.2,
                    20.9,
                    24.8,
                    5.1,
                    19.4,
                    30.4,
                    26.9,
                    21.6,
                    6.1,
                    8.7,
                    22.2,
                    14.5,
                    10.4,
                    6.6,
                    15.3,
                    20.5,
                    22.6,
                    10.3,
                    4.6,
                    6.5,
                    21.8,
                    12,
                    19.1,
                    14.4,
                    13.2,
                    13.4,
                    26.7,
                    15.3,
                    14,
                    16.8,
                    3.6,
                    9.6,
                    24,
                    8.3,
                    14.3,
                    13.5,
                    9.5,
                    31.7,
                    15.7,
                    10.4,
                    5.2,
                    20.6,
                    6.5,
                    25.5,
                    11.2,
                    9.9,
                    15,
                    10.9,
                    12.1,
                    31.6,
                    14.3,
                    15,
                    27.9,
                    17.9,
                    13.3,
                    4.6,
                    6.5,
                    22.6,
                    7.1,
                    16.8,
                    8.4,
                    11.9,
                    10.7,
                    12.8,
                    32.8,
                    6.6,
                    14,
                    13.1,
                    5.3,
                    14.3,
                    32.2,
                    12,
                    16.1,
                    7.4,
                    14.7,
                    23.3,
                    5.7,
                    7.6,
                    20.6,
                    10.4,
                    7.1,
                    18.1,
                    10.9,
                    8.4,
                    22.4,
                    13,
                    9,
                    24.2,
                    17,
                    28.5,
                    29.1,
                    18.9,
                    22.4,
                    10.1,
                    24.7,
                    28.4,
                    14.7,
                    20.4,
                    24,
                    16.8,
                    10.6,
                    23.2,
                    17.7,
                    24.6,
                    21.3,
                    30.5,
                    12.6,
                    11.8
                  ]
                },
                {
                  "mode": "markers",
                  "name": "mer_cluster_1",
                  "type": "scatter",
                  "x": [
                    2,
                    2,
                    2,
                    2,
                    2,
                    2,
                    1,
                    2,
                    1,
                    2,
                    2,
                    2,
                    1,
                    1,
                    2,
                    2,
                    2,
                    2,
                    2,
                    2,
                    1,
                    2,
                    2,
                    2,
                    2,
                    1,
                    2,
                    2,
                    2,
                    1,
                    1,
                    2,
                    2,
                    1,
                    2,
                    2,
                    1,
                    1,
                    2,
                    1,
                    1,
                    2,
                    1,
                    1,
                    1,
                    2,
                    2,
                    1,
                    2,
                    1,
                    2,
                    1,
                    1,
                    1,
                    2,
                    2,
                    1,
                    1,
                    1,
                    1,
                    1,
                    2,
                    2,
                    1,
                    2,
                    2,
                    1,
                    2,
                    1,
                    1,
                    2,
                    1,
                    1,
                    2,
                    1,
                    2,
                    2,
                    1,
                    2,
                    1,
                    1
                  ],
                  "y": [
                    51.1,
                    46.1,
                    42.5,
                    56.3,
                    65.3,
                    51.1,
                    45,
                    55.8,
                    48.2,
                    58.6,
                    75.9,
                    45.6,
                    36.8,
                    57.8,
                    44.3,
                    43.6,
                    48.8,
                    46,
                    51.6,
                    45.6,
                    67.2,
                    66.5,
                    40.6,
                    74.6,
                    37.2,
                    66.5,
                    49.7,
                    46.2,
                    55.6,
                    46.7,
                    67.2,
                    76.9,
                    42.1,
                    43.9,
                    34.4,
                    35.7,
                    49.7,
                    52.6,
                    74.2,
                    36.5,
                    55.8,
                    56.3,
                    57.8,
                    35.1,
                    51.9,
                    36,
                    35.3,
                    54.4,
                    36.5,
                    43.1,
                    42.7,
                    36.5,
                    36.5,
                    37.8,
                    63.6,
                    36.5,
                    42.7,
                    37,
                    37.5,
                    63.6,
                    64.7,
                    49.5,
                    49.5,
                    42.1,
                    60.5,
                    37.9,
                    48.9,
                    67.8,
                    70.1,
                    50.6,
                    57.7,
                    60.5,
                    52.3,
                    55.6,
                    47.8,
                    74.6,
                    49.5,
                    65.6,
                    48.9,
                    55.6,
                    70.7
                  ]
                }
              ],
              "layout": {
                "template": {
                  "data": {
                    "bar": [
                      {
                        "error_x": {
                          "color": "#2a3f5f"
                        },
                        "error_y": {
                          "color": "#2a3f5f"
                        },
                        "marker": {
                          "line": {
                            "color": "#E5ECF6",
                            "width": 0.5
                          },
                          "pattern": {
                            "fillmode": "overlay",
                            "size": 10,
                            "solidity": 0.2
                          }
                        },
                        "type": "bar"
                      }
                    ],
                    "barpolar": [
                      {
                        "marker": {
                          "line": {
                            "color": "#E5ECF6",
                            "width": 0.5
                          },
                          "pattern": {
                            "fillmode": "overlay",
                            "size": 10,
                            "solidity": 0.2
                          }
                        },
                        "type": "barpolar"
                      }
                    ],
                    "carpet": [
                      {
                        "aaxis": {
                          "endlinecolor": "#2a3f5f",
                          "gridcolor": "white",
                          "linecolor": "white",
                          "minorgridcolor": "white",
                          "startlinecolor": "#2a3f5f"
                        },
                        "baxis": {
                          "endlinecolor": "#2a3f5f",
                          "gridcolor": "white",
                          "linecolor": "white",
                          "minorgridcolor": "white",
                          "startlinecolor": "#2a3f5f"
                        },
                        "type": "carpet"
                      }
                    ],
                    "choropleth": [
                      {
                        "colorbar": {
                          "outlinewidth": 0,
                          "ticks": ""
                        },
                        "type": "choropleth"
                      }
                    ],
                    "contour": [
                      {
                        "colorbar": {
                          "outlinewidth": 0,
                          "ticks": ""
                        },
                        "colorscale": [
                          [
                            0,
                            "#0d0887"
                          ],
                          [
                            0.1111111111111111,
                            "#46039f"
                          ],
                          [
                            0.2222222222222222,
                            "#7201a8"
                          ],
                          [
                            0.3333333333333333,
                            "#9c179e"
                          ],
                          [
                            0.4444444444444444,
                            "#bd3786"
                          ],
                          [
                            0.5555555555555556,
                            "#d8576b"
                          ],
                          [
                            0.6666666666666666,
                            "#ed7953"
                          ],
                          [
                            0.7777777777777778,
                            "#fb9f3a"
                          ],
                          [
                            0.8888888888888888,
                            "#fdca26"
                          ],
                          [
                            1,
                            "#f0f921"
                          ]
                        ],
                        "type": "contour"
                      }
                    ],
                    "contourcarpet": [
                      {
                        "colorbar": {
                          "outlinewidth": 0,
                          "ticks": ""
                        },
                        "type": "contourcarpet"
                      }
                    ],
                    "heatmap": [
                      {
                        "colorbar": {
                          "outlinewidth": 0,
                          "ticks": ""
                        },
                        "colorscale": [
                          [
                            0,
                            "#0d0887"
                          ],
                          [
                            0.1111111111111111,
                            "#46039f"
                          ],
                          [
                            0.2222222222222222,
                            "#7201a8"
                          ],
                          [
                            0.3333333333333333,
                            "#9c179e"
                          ],
                          [
                            0.4444444444444444,
                            "#bd3786"
                          ],
                          [
                            0.5555555555555556,
                            "#d8576b"
                          ],
                          [
                            0.6666666666666666,
                            "#ed7953"
                          ],
                          [
                            0.7777777777777778,
                            "#fb9f3a"
                          ],
                          [
                            0.8888888888888888,
                            "#fdca26"
                          ],
                          [
                            1,
                            "#f0f921"
                          ]
                        ],
                        "type": "heatmap"
                      }
                    ],
                    "heatmapgl": [
                      {
                        "colorbar": {
                          "outlinewidth": 0,
                          "ticks": ""
                        },
                        "colorscale": [
                          [
                            0,
                            "#0d0887"
                          ],
                          [
                            0.1111111111111111,
                            "#46039f"
                          ],
                          [
                            0.2222222222222222,
                            "#7201a8"
                          ],
                          [
                            0.3333333333333333,
                            "#9c179e"
                          ],
                          [
                            0.4444444444444444,
                            "#bd3786"
                          ],
                          [
                            0.5555555555555556,
                            "#d8576b"
                          ],
                          [
                            0.6666666666666666,
                            "#ed7953"
                          ],
                          [
                            0.7777777777777778,
                            "#fb9f3a"
                          ],
                          [
                            0.8888888888888888,
                            "#fdca26"
                          ],
                          [
                            1,
                            "#f0f921"
                          ]
                        ],
                        "type": "heatmapgl"
                      }
                    ],
                    "histogram": [
                      {
                        "marker": {
                          "pattern": {
                            "fillmode": "overlay",
                            "size": 10,
                            "solidity": 0.2
                          }
                        },
                        "type": "histogram"
                      }
                    ],
                    "histogram2d": [
                      {
                        "colorbar": {
                          "outlinewidth": 0,
                          "ticks": ""
                        },
                        "colorscale": [
                          [
                            0,
                            "#0d0887"
                          ],
                          [
                            0.1111111111111111,
                            "#46039f"
                          ],
                          [
                            0.2222222222222222,
                            "#7201a8"
                          ],
                          [
                            0.3333333333333333,
                            "#9c179e"
                          ],
                          [
                            0.4444444444444444,
                            "#bd3786"
                          ],
                          [
                            0.5555555555555556,
                            "#d8576b"
                          ],
                          [
                            0.6666666666666666,
                            "#ed7953"
                          ],
                          [
                            0.7777777777777778,
                            "#fb9f3a"
                          ],
                          [
                            0.8888888888888888,
                            "#fdca26"
                          ],
                          [
                            1,
                            "#f0f921"
                          ]
                        ],
                        "type": "histogram2d"
                      }
                    ],
                    "histogram2dcontour": [
                      {
                        "colorbar": {
                          "outlinewidth": 0,
                          "ticks": ""
                        },
                        "colorscale": [
                          [
                            0,
                            "#0d0887"
                          ],
                          [
                            0.1111111111111111,
                            "#46039f"
                          ],
                          [
                            0.2222222222222222,
                            "#7201a8"
                          ],
                          [
                            0.3333333333333333,
                            "#9c179e"
                          ],
                          [
                            0.4444444444444444,
                            "#bd3786"
                          ],
                          [
                            0.5555555555555556,
                            "#d8576b"
                          ],
                          [
                            0.6666666666666666,
                            "#ed7953"
                          ],
                          [
                            0.7777777777777778,
                            "#fb9f3a"
                          ],
                          [
                            0.8888888888888888,
                            "#fdca26"
                          ],
                          [
                            1,
                            "#f0f921"
                          ]
                        ],
                        "type": "histogram2dcontour"
                      }
                    ],
                    "mesh3d": [
                      {
                        "colorbar": {
                          "outlinewidth": 0,
                          "ticks": ""
                        },
                        "type": "mesh3d"
                      }
                    ],
                    "parcoords": [
                      {
                        "line": {
                          "colorbar": {
                            "outlinewidth": 0,
                            "ticks": ""
                          }
                        },
                        "type": "parcoords"
                      }
                    ],
                    "pie": [
                      {
                        "automargin": true,
                        "type": "pie"
                      }
                    ],
                    "scatter": [
                      {
                        "fillpattern": {
                          "fillmode": "overlay",
                          "size": 10,
                          "solidity": 0.2
                        },
                        "type": "scatter"
                      }
                    ],
                    "scatter3d": [
                      {
                        "line": {
                          "colorbar": {
                            "outlinewidth": 0,
                            "ticks": ""
                          }
                        },
                        "marker": {
                          "colorbar": {
                            "outlinewidth": 0,
                            "ticks": ""
                          }
                        },
                        "type": "scatter3d"
                      }
                    ],
                    "scattercarpet": [
                      {
                        "marker": {
                          "colorbar": {
                            "outlinewidth": 0,
                            "ticks": ""
                          }
                        },
                        "type": "scattercarpet"
                      }
                    ],
                    "scattergeo": [
                      {
                        "marker": {
                          "colorbar": {
                            "outlinewidth": 0,
                            "ticks": ""
                          }
                        },
                        "type": "scattergeo"
                      }
                    ],
                    "scattergl": [
                      {
                        "marker": {
                          "colorbar": {
                            "outlinewidth": 0,
                            "ticks": ""
                          }
                        },
                        "type": "scattergl"
                      }
                    ],
                    "scattermapbox": [
                      {
                        "marker": {
                          "colorbar": {
                            "outlinewidth": 0,
                            "ticks": ""
                          }
                        },
                        "type": "scattermapbox"
                      }
                    ],
                    "scatterpolar": [
                      {
                        "marker": {
                          "colorbar": {
                            "outlinewidth": 0,
                            "ticks": ""
                          }
                        },
                        "type": "scatterpolar"
                      }
                    ],
                    "scatterpolargl": [
                      {
                        "marker": {
                          "colorbar": {
                            "outlinewidth": 0,
                            "ticks": ""
                          }
                        },
                        "type": "scatterpolargl"
                      }
                    ],
                    "scatterternary": [
                      {
                        "marker": {
                          "colorbar": {
                            "outlinewidth": 0,
                            "ticks": ""
                          }
                        },
                        "type": "scatterternary"
                      }
                    ],
                    "surface": [
                      {
                        "colorbar": {
                          "outlinewidth": 0,
                          "ticks": ""
                        },
                        "colorscale": [
                          [
                            0,
                            "#0d0887"
                          ],
                          [
                            0.1111111111111111,
                            "#46039f"
                          ],
                          [
                            0.2222222222222222,
                            "#7201a8"
                          ],
                          [
                            0.3333333333333333,
                            "#9c179e"
                          ],
                          [
                            0.4444444444444444,
                            "#bd3786"
                          ],
                          [
                            0.5555555555555556,
                            "#d8576b"
                          ],
                          [
                            0.6666666666666666,
                            "#ed7953"
                          ],
                          [
                            0.7777777777777778,
                            "#fb9f3a"
                          ],
                          [
                            0.8888888888888888,
                            "#fdca26"
                          ],
                          [
                            1,
                            "#f0f921"
                          ]
                        ],
                        "type": "surface"
                      }
                    ],
                    "table": [
                      {
                        "cells": {
                          "fill": {
                            "color": "#EBF0F8"
                          },
                          "line": {
                            "color": "white"
                          }
                        },
                        "header": {
                          "fill": {
                            "color": "#C8D4E3"
                          },
                          "line": {
                            "color": "white"
                          }
                        },
                        "type": "table"
                      }
                    ]
                  },
                  "layout": {
                    "annotationdefaults": {
                      "arrowcolor": "#2a3f5f",
                      "arrowhead": 0,
                      "arrowwidth": 1
                    },
                    "autotypenumbers": "strict",
                    "coloraxis": {
                      "colorbar": {
                        "outlinewidth": 0,
                        "ticks": ""
                      }
                    },
                    "colorscale": {
                      "diverging": [
                        [
                          0,
                          "#8e0152"
                        ],
                        [
                          0.1,
                          "#c51b7d"
                        ],
                        [
                          0.2,
                          "#de77ae"
                        ],
                        [
                          0.3,
                          "#f1b6da"
                        ],
                        [
                          0.4,
                          "#fde0ef"
                        ],
                        [
                          0.5,
                          "#f7f7f7"
                        ],
                        [
                          0.6,
                          "#e6f5d0"
                        ],
                        [
                          0.7,
                          "#b8e186"
                        ],
                        [
                          0.8,
                          "#7fbc41"
                        ],
                        [
                          0.9,
                          "#4d9221"
                        ],
                        [
                          1,
                          "#276419"
                        ]
                      ],
                      "sequential": [
                        [
                          0,
                          "#0d0887"
                        ],
                        [
                          0.1111111111111111,
                          "#46039f"
                        ],
                        [
                          0.2222222222222222,
                          "#7201a8"
                        ],
                        [
                          0.3333333333333333,
                          "#9c179e"
                        ],
                        [
                          0.4444444444444444,
                          "#bd3786"
                        ],
                        [
                          0.5555555555555556,
                          "#d8576b"
                        ],
                        [
                          0.6666666666666666,
                          "#ed7953"
                        ],
                        [
                          0.7777777777777778,
                          "#fb9f3a"
                        ],
                        [
                          0.8888888888888888,
                          "#fdca26"
                        ],
                        [
                          1,
                          "#f0f921"
                        ]
                      ],
                      "sequentialminus": [
                        [
                          0,
                          "#0d0887"
                        ],
                        [
                          0.1111111111111111,
                          "#46039f"
                        ],
                        [
                          0.2222222222222222,
                          "#7201a8"
                        ],
                        [
                          0.3333333333333333,
                          "#9c179e"
                        ],
                        [
                          0.4444444444444444,
                          "#bd3786"
                        ],
                        [
                          0.5555555555555556,
                          "#d8576b"
                        ],
                        [
                          0.6666666666666666,
                          "#ed7953"
                        ],
                        [
                          0.7777777777777778,
                          "#fb9f3a"
                        ],
                        [
                          0.8888888888888888,
                          "#fdca26"
                        ],
                        [
                          1,
                          "#f0f921"
                        ]
                      ]
                    },
                    "colorway": [
                      "#636efa",
                      "#EF553B",
                      "#00cc96",
                      "#ab63fa",
                      "#FFA15A",
                      "#19d3f3",
                      "#FF6692",
                      "#B6E880",
                      "#FF97FF",
                      "#FECB52"
                    ],
                    "font": {
                      "color": "#2a3f5f"
                    },
                    "geo": {
                      "bgcolor": "white",
                      "lakecolor": "white",
                      "landcolor": "#E5ECF6",
                      "showlakes": true,
                      "showland": true,
                      "subunitcolor": "white"
                    },
                    "hoverlabel": {
                      "align": "left"
                    },
                    "hovermode": "closest",
                    "mapbox": {
                      "style": "light"
                    },
                    "paper_bgcolor": "white",
                    "plot_bgcolor": "#E5ECF6",
                    "polar": {
                      "angularaxis": {
                        "gridcolor": "white",
                        "linecolor": "white",
                        "ticks": ""
                      },
                      "bgcolor": "#E5ECF6",
                      "radialaxis": {
                        "gridcolor": "white",
                        "linecolor": "white",
                        "ticks": ""
                      }
                    },
                    "scene": {
                      "xaxis": {
                        "backgroundcolor": "#E5ECF6",
                        "gridcolor": "white",
                        "gridwidth": 2,
                        "linecolor": "white",
                        "showbackground": true,
                        "ticks": "",
                        "zerolinecolor": "white"
                      },
                      "yaxis": {
                        "backgroundcolor": "#E5ECF6",
                        "gridcolor": "white",
                        "gridwidth": 2,
                        "linecolor": "white",
                        "showbackground": true,
                        "ticks": "",
                        "zerolinecolor": "white"
                      },
                      "zaxis": {
                        "backgroundcolor": "#E5ECF6",
                        "gridcolor": "white",
                        "gridwidth": 2,
                        "linecolor": "white",
                        "showbackground": true,
                        "ticks": "",
                        "zerolinecolor": "white"
                      }
                    },
                    "shapedefaults": {
                      "line": {
                        "color": "#2a3f5f"
                      }
                    },
                    "ternary": {
                      "aaxis": {
                        "gridcolor": "white",
                        "linecolor": "white",
                        "ticks": ""
                      },
                      "baxis": {
                        "gridcolor": "white",
                        "linecolor": "white",
                        "ticks": ""
                      },
                      "bgcolor": "#E5ECF6",
                      "caxis": {
                        "gridcolor": "white",
                        "linecolor": "white",
                        "ticks": ""
                      }
                    },
                    "title": {
                      "x": 0.05
                    },
                    "xaxis": {
                      "automargin": true,
                      "gridcolor": "white",
                      "linecolor": "white",
                      "ticks": "",
                      "title": {
                        "standoff": 15
                      },
                      "zerolinecolor": "white",
                      "zerolinewidth": 2
                    },
                    "yaxis": {
                      "automargin": true,
                      "gridcolor": "white",
                      "linecolor": "white",
                      "ticks": "",
                      "title": {
                        "standoff": 15
                      },
                      "zerolinecolor": "white",
                      "zerolinewidth": 2
                    }
                  }
                },
                "title": {
                  "text": "Scatter Plot of T_APX vs RAIV"
                },
                "xaxis": {
                  "title": {
                    "text": "T_APX"
                  }
                },
                "yaxis": {
                  "title": {
                    "text": "RAIV"
                  }
                }
              }
            }
          },
          "metadata": {},
          "output_type": "display_data"
        },
        {
          "data": {
            "application/vnd.plotly.v1+json": {
              "config": {
                "plotlyServerURL": "https://plot.ly"
              },
              "data": [
                {
                  "mode": "markers",
                  "name": "mer_cluster_0",
                  "type": "scatter",
                  "x": [
                    10,
                    13,
                    12,
                    9,
                    13,
                    11,
                    12,
                    12,
                    10,
                    11,
                    9,
                    9,
                    14,
                    12,
                    15,
                    14,
                    14,
                    11,
                    9,
                    11,
                    13,
                    13,
                    9,
                    12,
                    9,
                    14,
                    9,
                    9,
                    12,
                    16,
                    14,
                    10,
                    11,
                    16,
                    11,
                    15,
                    16,
                    10,
                    16,
                    10,
                    14,
                    12,
                    13,
                    12,
                    10,
                    13,
                    13,
                    12,
                    11,
                    9,
                    10,
                    11,
                    12,
                    14,
                    15,
                    11,
                    11,
                    10,
                    10,
                    12,
                    14,
                    13,
                    16,
                    10,
                    10,
                    10,
                    10,
                    11,
                    11,
                    10,
                    9,
                    9,
                    11,
                    14,
                    17,
                    10,
                    12,
                    15,
                    10,
                    15,
                    9,
                    16,
                    12,
                    15,
                    19,
                    14,
                    15,
                    9,
                    16,
                    10,
                    10,
                    20,
                    10,
                    9,
                    16,
                    19,
                    13,
                    12,
                    9,
                    13,
                    14,
                    9,
                    19,
                    12,
                    11,
                    15,
                    16,
                    15,
                    10,
                    16,
                    13,
                    12,
                    17,
                    16,
                    11,
                    15,
                    19,
                    14,
                    17,
                    14,
                    15,
                    12,
                    12,
                    15,
                    17,
                    17,
                    17,
                    12,
                    17,
                    17,
                    14,
                    11,
                    11,
                    12,
                    15,
                    19,
                    13,
                    14,
                    12,
                    14,
                    11,
                    12,
                    18,
                    18,
                    17,
                    18,
                    10,
                    11,
                    12,
                    12,
                    14,
                    17,
                    11,
                    9,
                    11,
                    15,
                    17,
                    12,
                    14,
                    19,
                    17,
                    14,
                    18,
                    11,
                    11,
                    14,
                    12,
                    13,
                    11,
                    11,
                    15,
                    10,
                    11,
                    17,
                    16,
                    19,
                    18,
                    17,
                    18,
                    14,
                    14,
                    9,
                    13,
                    16,
                    11,
                    18,
                    17,
                    12,
                    11,
                    12,
                    10,
                    19,
                    15,
                    12,
                    10,
                    10,
                    17,
                    19,
                    9,
                    16,
                    9,
                    10,
                    16,
                    19,
                    18,
                    12,
                    17,
                    15,
                    15,
                    18,
                    14,
                    14,
                    11,
                    19,
                    15,
                    10,
                    14,
                    16,
                    10,
                    20,
                    18,
                    19,
                    12,
                    16,
                    12,
                    10,
                    19,
                    16,
                    12,
                    9,
                    10,
                    19,
                    21,
                    19,
                    17,
                    14,
                    15,
                    10,
                    16,
                    16,
                    12,
                    19,
                    17,
                    11,
                    17,
                    14,
                    18,
                    15,
                    16,
                    14,
                    12,
                    9,
                    14,
                    11,
                    17,
                    15,
                    12,
                    17,
                    9,
                    17,
                    19,
                    17,
                    18,
                    10,
                    18,
                    11,
                    16,
                    20,
                    19,
                    14,
                    14,
                    12,
                    10,
                    12,
                    11,
                    13,
                    10,
                    13,
                    12,
                    15,
                    9,
                    17,
                    12,
                    10,
                    10,
                    10,
                    12,
                    12,
                    15,
                    10
                  ],
                  "y": [
                    14.8,
                    19.7,
                    14.8,
                    18.5,
                    31.4,
                    28.6,
                    27.7,
                    25.8,
                    6.9,
                    24.7,
                    13.1,
                    9,
                    30.3,
                    30.3,
                    23.7,
                    30.4,
                    20.2,
                    17.9,
                    18.1,
                    19.3,
                    27.6,
                    15.3,
                    11.8,
                    32.6,
                    19.2,
                    20.7,
                    31.8,
                    9.1,
                    26.5,
                    8.1,
                    7.3,
                    21.8,
                    27.3,
                    10.8,
                    8.6,
                    4.6,
                    18.9,
                    12.3,
                    10.6,
                    19,
                    18.6,
                    27.7,
                    8.8,
                    22.6,
                    11,
                    17.7,
                    19.4,
                    26.8,
                    16.6,
                    33.4,
                    11.9,
                    28.8,
                    13.6,
                    11.4,
                    27.9,
                    14.1,
                    19.6,
                    24.1,
                    10.8,
                    29.1,
                    32.8,
                    6.7,
                    19.8,
                    20.2,
                    27.8,
                    24.4,
                    27.6,
                    6.6,
                    21.5,
                    9.6,
                    5.3,
                    7.4,
                    8.8,
                    7.1,
                    5.9,
                    5.1,
                    14,
                    17.2,
                    5.3,
                    13.4,
                    15,
                    26.9,
                    5.1,
                    17.2,
                    13.1,
                    4.3,
                    7.7,
                    19.3,
                    33.2,
                    15.2,
                    6.1,
                    16.8,
                    4.1,
                    14.9,
                    14.2,
                    10.9,
                    6.5,
                    23,
                    6.6,
                    19.4,
                    23,
                    12.7,
                    13.1,
                    4.3,
                    7.1,
                    13.9,
                    18.1,
                    12.7,
                    8.1,
                    13.4,
                    21.8,
                    21.2,
                    5.9,
                    9.5,
                    22.6,
                    10.2,
                    16.5,
                    27.9,
                    22.7,
                    4.7,
                    11.7,
                    13.1,
                    21.3,
                    11.5,
                    13.5,
                    8.7,
                    14,
                    12.5,
                    32.7,
                    9.1,
                    9.2,
                    3.7,
                    12.7,
                    10.4,
                    11.5,
                    9,
                    22.4,
                    9.9,
                    9.3,
                    11.9,
                    18.4,
                    25.8,
                    10.1,
                    6.6,
                    9.1,
                    28,
                    8.1,
                    6.6,
                    10.6,
                    8.1,
                    10.4,
                    14.7,
                    5.1,
                    9.9,
                    17.7,
                    18.4,
                    10.1,
                    7.1,
                    11.1,
                    26.2,
                    19.9,
                    4.1,
                    13,
                    9.3,
                    16.2,
                    5.9,
                    7.1,
                    27.6,
                    11,
                    6.1,
                    16.8,
                    6.1,
                    10.4,
                    31.3,
                    21.9,
                    17.8,
                    3.5,
                    5.3,
                    14.7,
                    30.4,
                    3.6,
                    9.3,
                    9.2,
                    20.9,
                    24.8,
                    5.1,
                    19.4,
                    30.4,
                    26.9,
                    21.6,
                    6.1,
                    8.7,
                    22.2,
                    14.5,
                    10.4,
                    6.6,
                    15.3,
                    20.5,
                    22.6,
                    10.3,
                    4.6,
                    6.5,
                    21.8,
                    12,
                    19.1,
                    14.4,
                    13.2,
                    13.4,
                    26.7,
                    15.3,
                    14,
                    16.8,
                    3.6,
                    9.6,
                    24,
                    8.3,
                    14.3,
                    13.5,
                    9.5,
                    31.7,
                    15.7,
                    10.4,
                    5.2,
                    20.6,
                    6.5,
                    25.5,
                    11.2,
                    9.9,
                    15,
                    10.9,
                    12.1,
                    31.6,
                    14.3,
                    15,
                    27.9,
                    17.9,
                    13.3,
                    4.6,
                    6.5,
                    22.6,
                    7.1,
                    16.8,
                    8.4,
                    11.9,
                    10.7,
                    12.8,
                    32.8,
                    6.6,
                    14,
                    13.1,
                    5.3,
                    14.3,
                    32.2,
                    12,
                    16.1,
                    7.4,
                    14.7,
                    23.3,
                    5.7,
                    7.6,
                    20.6,
                    10.4,
                    7.1,
                    18.1,
                    10.9,
                    8.4,
                    22.4,
                    13,
                    9,
                    24.2,
                    17,
                    28.5,
                    29.1,
                    18.9,
                    22.4,
                    10.1,
                    24.7,
                    28.4,
                    14.7,
                    20.4,
                    24,
                    16.8,
                    10.6,
                    23.2,
                    17.7,
                    24.6,
                    21.3,
                    30.5,
                    12.6,
                    11.8
                  ]
                },
                {
                  "mode": "markers",
                  "name": "mer_cluster_1",
                  "type": "scatter",
                  "x": [
                    12,
                    13,
                    10,
                    14,
                    15,
                    10,
                    11,
                    11,
                    15,
                    14,
                    9,
                    13,
                    14,
                    15,
                    15,
                    12,
                    14,
                    12,
                    12,
                    14,
                    13,
                    11,
                    12,
                    12,
                    14,
                    11,
                    11,
                    13,
                    14,
                    11,
                    12,
                    11,
                    9,
                    15,
                    14,
                    11,
                    12,
                    13,
                    14,
                    13,
                    11,
                    12,
                    17,
                    10,
                    14,
                    15,
                    16,
                    16,
                    20,
                    18,
                    20,
                    17,
                    15,
                    17,
                    17,
                    17,
                    17,
                    14,
                    11,
                    21,
                    18,
                    19,
                    21,
                    16,
                    12,
                    12,
                    13,
                    13,
                    11,
                    14,
                    12,
                    12,
                    11,
                    11,
                    14,
                    13,
                    14,
                    14,
                    9,
                    12,
                    11
                  ],
                  "y": [
                    51.1,
                    46.1,
                    42.5,
                    56.3,
                    65.3,
                    51.1,
                    45,
                    55.8,
                    48.2,
                    58.6,
                    75.9,
                    45.6,
                    36.8,
                    57.8,
                    44.3,
                    43.6,
                    48.8,
                    46,
                    51.6,
                    45.6,
                    67.2,
                    66.5,
                    40.6,
                    74.6,
                    37.2,
                    66.5,
                    49.7,
                    46.2,
                    55.6,
                    46.7,
                    67.2,
                    76.9,
                    42.1,
                    43.9,
                    34.4,
                    35.7,
                    49.7,
                    52.6,
                    74.2,
                    36.5,
                    55.8,
                    56.3,
                    57.8,
                    35.1,
                    51.9,
                    36,
                    35.3,
                    54.4,
                    36.5,
                    43.1,
                    42.7,
                    36.5,
                    36.5,
                    37.8,
                    63.6,
                    36.5,
                    42.7,
                    37,
                    37.5,
                    63.6,
                    64.7,
                    49.5,
                    49.5,
                    42.1,
                    60.5,
                    37.9,
                    48.9,
                    67.8,
                    70.1,
                    50.6,
                    57.7,
                    60.5,
                    52.3,
                    55.6,
                    47.8,
                    74.6,
                    49.5,
                    65.6,
                    48.9,
                    55.6,
                    70.7
                  ]
                }
              ],
              "layout": {
                "template": {
                  "data": {
                    "bar": [
                      {
                        "error_x": {
                          "color": "#2a3f5f"
                        },
                        "error_y": {
                          "color": "#2a3f5f"
                        },
                        "marker": {
                          "line": {
                            "color": "#E5ECF6",
                            "width": 0.5
                          },
                          "pattern": {
                            "fillmode": "overlay",
                            "size": 10,
                            "solidity": 0.2
                          }
                        },
                        "type": "bar"
                      }
                    ],
                    "barpolar": [
                      {
                        "marker": {
                          "line": {
                            "color": "#E5ECF6",
                            "width": 0.5
                          },
                          "pattern": {
                            "fillmode": "overlay",
                            "size": 10,
                            "solidity": 0.2
                          }
                        },
                        "type": "barpolar"
                      }
                    ],
                    "carpet": [
                      {
                        "aaxis": {
                          "endlinecolor": "#2a3f5f",
                          "gridcolor": "white",
                          "linecolor": "white",
                          "minorgridcolor": "white",
                          "startlinecolor": "#2a3f5f"
                        },
                        "baxis": {
                          "endlinecolor": "#2a3f5f",
                          "gridcolor": "white",
                          "linecolor": "white",
                          "minorgridcolor": "white",
                          "startlinecolor": "#2a3f5f"
                        },
                        "type": "carpet"
                      }
                    ],
                    "choropleth": [
                      {
                        "colorbar": {
                          "outlinewidth": 0,
                          "ticks": ""
                        },
                        "type": "choropleth"
                      }
                    ],
                    "contour": [
                      {
                        "colorbar": {
                          "outlinewidth": 0,
                          "ticks": ""
                        },
                        "colorscale": [
                          [
                            0,
                            "#0d0887"
                          ],
                          [
                            0.1111111111111111,
                            "#46039f"
                          ],
                          [
                            0.2222222222222222,
                            "#7201a8"
                          ],
                          [
                            0.3333333333333333,
                            "#9c179e"
                          ],
                          [
                            0.4444444444444444,
                            "#bd3786"
                          ],
                          [
                            0.5555555555555556,
                            "#d8576b"
                          ],
                          [
                            0.6666666666666666,
                            "#ed7953"
                          ],
                          [
                            0.7777777777777778,
                            "#fb9f3a"
                          ],
                          [
                            0.8888888888888888,
                            "#fdca26"
                          ],
                          [
                            1,
                            "#f0f921"
                          ]
                        ],
                        "type": "contour"
                      }
                    ],
                    "contourcarpet": [
                      {
                        "colorbar": {
                          "outlinewidth": 0,
                          "ticks": ""
                        },
                        "type": "contourcarpet"
                      }
                    ],
                    "heatmap": [
                      {
                        "colorbar": {
                          "outlinewidth": 0,
                          "ticks": ""
                        },
                        "colorscale": [
                          [
                            0,
                            "#0d0887"
                          ],
                          [
                            0.1111111111111111,
                            "#46039f"
                          ],
                          [
                            0.2222222222222222,
                            "#7201a8"
                          ],
                          [
                            0.3333333333333333,
                            "#9c179e"
                          ],
                          [
                            0.4444444444444444,
                            "#bd3786"
                          ],
                          [
                            0.5555555555555556,
                            "#d8576b"
                          ],
                          [
                            0.6666666666666666,
                            "#ed7953"
                          ],
                          [
                            0.7777777777777778,
                            "#fb9f3a"
                          ],
                          [
                            0.8888888888888888,
                            "#fdca26"
                          ],
                          [
                            1,
                            "#f0f921"
                          ]
                        ],
                        "type": "heatmap"
                      }
                    ],
                    "heatmapgl": [
                      {
                        "colorbar": {
                          "outlinewidth": 0,
                          "ticks": ""
                        },
                        "colorscale": [
                          [
                            0,
                            "#0d0887"
                          ],
                          [
                            0.1111111111111111,
                            "#46039f"
                          ],
                          [
                            0.2222222222222222,
                            "#7201a8"
                          ],
                          [
                            0.3333333333333333,
                            "#9c179e"
                          ],
                          [
                            0.4444444444444444,
                            "#bd3786"
                          ],
                          [
                            0.5555555555555556,
                            "#d8576b"
                          ],
                          [
                            0.6666666666666666,
                            "#ed7953"
                          ],
                          [
                            0.7777777777777778,
                            "#fb9f3a"
                          ],
                          [
                            0.8888888888888888,
                            "#fdca26"
                          ],
                          [
                            1,
                            "#f0f921"
                          ]
                        ],
                        "type": "heatmapgl"
                      }
                    ],
                    "histogram": [
                      {
                        "marker": {
                          "pattern": {
                            "fillmode": "overlay",
                            "size": 10,
                            "solidity": 0.2
                          }
                        },
                        "type": "histogram"
                      }
                    ],
                    "histogram2d": [
                      {
                        "colorbar": {
                          "outlinewidth": 0,
                          "ticks": ""
                        },
                        "colorscale": [
                          [
                            0,
                            "#0d0887"
                          ],
                          [
                            0.1111111111111111,
                            "#46039f"
                          ],
                          [
                            0.2222222222222222,
                            "#7201a8"
                          ],
                          [
                            0.3333333333333333,
                            "#9c179e"
                          ],
                          [
                            0.4444444444444444,
                            "#bd3786"
                          ],
                          [
                            0.5555555555555556,
                            "#d8576b"
                          ],
                          [
                            0.6666666666666666,
                            "#ed7953"
                          ],
                          [
                            0.7777777777777778,
                            "#fb9f3a"
                          ],
                          [
                            0.8888888888888888,
                            "#fdca26"
                          ],
                          [
                            1,
                            "#f0f921"
                          ]
                        ],
                        "type": "histogram2d"
                      }
                    ],
                    "histogram2dcontour": [
                      {
                        "colorbar": {
                          "outlinewidth": 0,
                          "ticks": ""
                        },
                        "colorscale": [
                          [
                            0,
                            "#0d0887"
                          ],
                          [
                            0.1111111111111111,
                            "#46039f"
                          ],
                          [
                            0.2222222222222222,
                            "#7201a8"
                          ],
                          [
                            0.3333333333333333,
                            "#9c179e"
                          ],
                          [
                            0.4444444444444444,
                            "#bd3786"
                          ],
                          [
                            0.5555555555555556,
                            "#d8576b"
                          ],
                          [
                            0.6666666666666666,
                            "#ed7953"
                          ],
                          [
                            0.7777777777777778,
                            "#fb9f3a"
                          ],
                          [
                            0.8888888888888888,
                            "#fdca26"
                          ],
                          [
                            1,
                            "#f0f921"
                          ]
                        ],
                        "type": "histogram2dcontour"
                      }
                    ],
                    "mesh3d": [
                      {
                        "colorbar": {
                          "outlinewidth": 0,
                          "ticks": ""
                        },
                        "type": "mesh3d"
                      }
                    ],
                    "parcoords": [
                      {
                        "line": {
                          "colorbar": {
                            "outlinewidth": 0,
                            "ticks": ""
                          }
                        },
                        "type": "parcoords"
                      }
                    ],
                    "pie": [
                      {
                        "automargin": true,
                        "type": "pie"
                      }
                    ],
                    "scatter": [
                      {
                        "fillpattern": {
                          "fillmode": "overlay",
                          "size": 10,
                          "solidity": 0.2
                        },
                        "type": "scatter"
                      }
                    ],
                    "scatter3d": [
                      {
                        "line": {
                          "colorbar": {
                            "outlinewidth": 0,
                            "ticks": ""
                          }
                        },
                        "marker": {
                          "colorbar": {
                            "outlinewidth": 0,
                            "ticks": ""
                          }
                        },
                        "type": "scatter3d"
                      }
                    ],
                    "scattercarpet": [
                      {
                        "marker": {
                          "colorbar": {
                            "outlinewidth": 0,
                            "ticks": ""
                          }
                        },
                        "type": "scattercarpet"
                      }
                    ],
                    "scattergeo": [
                      {
                        "marker": {
                          "colorbar": {
                            "outlinewidth": 0,
                            "ticks": ""
                          }
                        },
                        "type": "scattergeo"
                      }
                    ],
                    "scattergl": [
                      {
                        "marker": {
                          "colorbar": {
                            "outlinewidth": 0,
                            "ticks": ""
                          }
                        },
                        "type": "scattergl"
                      }
                    ],
                    "scattermapbox": [
                      {
                        "marker": {
                          "colorbar": {
                            "outlinewidth": 0,
                            "ticks": ""
                          }
                        },
                        "type": "scattermapbox"
                      }
                    ],
                    "scatterpolar": [
                      {
                        "marker": {
                          "colorbar": {
                            "outlinewidth": 0,
                            "ticks": ""
                          }
                        },
                        "type": "scatterpolar"
                      }
                    ],
                    "scatterpolargl": [
                      {
                        "marker": {
                          "colorbar": {
                            "outlinewidth": 0,
                            "ticks": ""
                          }
                        },
                        "type": "scatterpolargl"
                      }
                    ],
                    "scatterternary": [
                      {
                        "marker": {
                          "colorbar": {
                            "outlinewidth": 0,
                            "ticks": ""
                          }
                        },
                        "type": "scatterternary"
                      }
                    ],
                    "surface": [
                      {
                        "colorbar": {
                          "outlinewidth": 0,
                          "ticks": ""
                        },
                        "colorscale": [
                          [
                            0,
                            "#0d0887"
                          ],
                          [
                            0.1111111111111111,
                            "#46039f"
                          ],
                          [
                            0.2222222222222222,
                            "#7201a8"
                          ],
                          [
                            0.3333333333333333,
                            "#9c179e"
                          ],
                          [
                            0.4444444444444444,
                            "#bd3786"
                          ],
                          [
                            0.5555555555555556,
                            "#d8576b"
                          ],
                          [
                            0.6666666666666666,
                            "#ed7953"
                          ],
                          [
                            0.7777777777777778,
                            "#fb9f3a"
                          ],
                          [
                            0.8888888888888888,
                            "#fdca26"
                          ],
                          [
                            1,
                            "#f0f921"
                          ]
                        ],
                        "type": "surface"
                      }
                    ],
                    "table": [
                      {
                        "cells": {
                          "fill": {
                            "color": "#EBF0F8"
                          },
                          "line": {
                            "color": "white"
                          }
                        },
                        "header": {
                          "fill": {
                            "color": "#C8D4E3"
                          },
                          "line": {
                            "color": "white"
                          }
                        },
                        "type": "table"
                      }
                    ]
                  },
                  "layout": {
                    "annotationdefaults": {
                      "arrowcolor": "#2a3f5f",
                      "arrowhead": 0,
                      "arrowwidth": 1
                    },
                    "autotypenumbers": "strict",
                    "coloraxis": {
                      "colorbar": {
                        "outlinewidth": 0,
                        "ticks": ""
                      }
                    },
                    "colorscale": {
                      "diverging": [
                        [
                          0,
                          "#8e0152"
                        ],
                        [
                          0.1,
                          "#c51b7d"
                        ],
                        [
                          0.2,
                          "#de77ae"
                        ],
                        [
                          0.3,
                          "#f1b6da"
                        ],
                        [
                          0.4,
                          "#fde0ef"
                        ],
                        [
                          0.5,
                          "#f7f7f7"
                        ],
                        [
                          0.6,
                          "#e6f5d0"
                        ],
                        [
                          0.7,
                          "#b8e186"
                        ],
                        [
                          0.8,
                          "#7fbc41"
                        ],
                        [
                          0.9,
                          "#4d9221"
                        ],
                        [
                          1,
                          "#276419"
                        ]
                      ],
                      "sequential": [
                        [
                          0,
                          "#0d0887"
                        ],
                        [
                          0.1111111111111111,
                          "#46039f"
                        ],
                        [
                          0.2222222222222222,
                          "#7201a8"
                        ],
                        [
                          0.3333333333333333,
                          "#9c179e"
                        ],
                        [
                          0.4444444444444444,
                          "#bd3786"
                        ],
                        [
                          0.5555555555555556,
                          "#d8576b"
                        ],
                        [
                          0.6666666666666666,
                          "#ed7953"
                        ],
                        [
                          0.7777777777777778,
                          "#fb9f3a"
                        ],
                        [
                          0.8888888888888888,
                          "#fdca26"
                        ],
                        [
                          1,
                          "#f0f921"
                        ]
                      ],
                      "sequentialminus": [
                        [
                          0,
                          "#0d0887"
                        ],
                        [
                          0.1111111111111111,
                          "#46039f"
                        ],
                        [
                          0.2222222222222222,
                          "#7201a8"
                        ],
                        [
                          0.3333333333333333,
                          "#9c179e"
                        ],
                        [
                          0.4444444444444444,
                          "#bd3786"
                        ],
                        [
                          0.5555555555555556,
                          "#d8576b"
                        ],
                        [
                          0.6666666666666666,
                          "#ed7953"
                        ],
                        [
                          0.7777777777777778,
                          "#fb9f3a"
                        ],
                        [
                          0.8888888888888888,
                          "#fdca26"
                        ],
                        [
                          1,
                          "#f0f921"
                        ]
                      ]
                    },
                    "colorway": [
                      "#636efa",
                      "#EF553B",
                      "#00cc96",
                      "#ab63fa",
                      "#FFA15A",
                      "#19d3f3",
                      "#FF6692",
                      "#B6E880",
                      "#FF97FF",
                      "#FECB52"
                    ],
                    "font": {
                      "color": "#2a3f5f"
                    },
                    "geo": {
                      "bgcolor": "white",
                      "lakecolor": "white",
                      "landcolor": "#E5ECF6",
                      "showlakes": true,
                      "showland": true,
                      "subunitcolor": "white"
                    },
                    "hoverlabel": {
                      "align": "left"
                    },
                    "hovermode": "closest",
                    "mapbox": {
                      "style": "light"
                    },
                    "paper_bgcolor": "white",
                    "plot_bgcolor": "#E5ECF6",
                    "polar": {
                      "angularaxis": {
                        "gridcolor": "white",
                        "linecolor": "white",
                        "ticks": ""
                      },
                      "bgcolor": "#E5ECF6",
                      "radialaxis": {
                        "gridcolor": "white",
                        "linecolor": "white",
                        "ticks": ""
                      }
                    },
                    "scene": {
                      "xaxis": {
                        "backgroundcolor": "#E5ECF6",
                        "gridcolor": "white",
                        "gridwidth": 2,
                        "linecolor": "white",
                        "showbackground": true,
                        "ticks": "",
                        "zerolinecolor": "white"
                      },
                      "yaxis": {
                        "backgroundcolor": "#E5ECF6",
                        "gridcolor": "white",
                        "gridwidth": 2,
                        "linecolor": "white",
                        "showbackground": true,
                        "ticks": "",
                        "zerolinecolor": "white"
                      },
                      "zaxis": {
                        "backgroundcolor": "#E5ECF6",
                        "gridcolor": "white",
                        "gridwidth": 2,
                        "linecolor": "white",
                        "showbackground": true,
                        "ticks": "",
                        "zerolinecolor": "white"
                      }
                    },
                    "shapedefaults": {
                      "line": {
                        "color": "#2a3f5f"
                      }
                    },
                    "ternary": {
                      "aaxis": {
                        "gridcolor": "white",
                        "linecolor": "white",
                        "ticks": ""
                      },
                      "baxis": {
                        "gridcolor": "white",
                        "linecolor": "white",
                        "ticks": ""
                      },
                      "bgcolor": "#E5ECF6",
                      "caxis": {
                        "gridcolor": "white",
                        "linecolor": "white",
                        "ticks": ""
                      }
                    },
                    "title": {
                      "x": 0.05
                    },
                    "xaxis": {
                      "automargin": true,
                      "gridcolor": "white",
                      "linecolor": "white",
                      "ticks": "",
                      "title": {
                        "standoff": 15
                      },
                      "zerolinecolor": "white",
                      "zerolinewidth": 2
                    },
                    "yaxis": {
                      "automargin": true,
                      "gridcolor": "white",
                      "linecolor": "white",
                      "ticks": "",
                      "title": {
                        "standoff": 15
                      },
                      "zerolinecolor": "white",
                      "zerolinewidth": 2
                    }
                  }
                },
                "title": {
                  "text": "Scatter Plot of Total vs RAIV"
                },
                "xaxis": {
                  "title": {
                    "text": "Total"
                  }
                },
                "yaxis": {
                  "title": {
                    "text": "RAIV"
                  }
                }
              }
            }
          },
          "metadata": {},
          "output_type": "display_data"
        },
        {
          "data": {
            "application/vnd.plotly.v1+json": {
              "config": {
                "plotlyServerURL": "https://plot.ly"
              },
              "data": [
                {
                  "mode": "markers",
                  "name": "mer_cluster_0",
                  "type": "scatter",
                  "x": [
                    2,
                    2,
                    3,
                    2,
                    2,
                    3,
                    3,
                    3,
                    2,
                    3,
                    2,
                    2,
                    4,
                    3,
                    4,
                    4,
                    4,
                    3,
                    2,
                    3,
                    3,
                    4,
                    2,
                    2,
                    2,
                    4,
                    2,
                    2,
                    3,
                    4,
                    4,
                    2,
                    2,
                    4,
                    2,
                    4,
                    4,
                    2,
                    4,
                    2,
                    3,
                    2,
                    2,
                    2,
                    2,
                    3,
                    3,
                    3,
                    2,
                    2,
                    2,
                    2,
                    3,
                    3,
                    3,
                    2,
                    2,
                    2,
                    2,
                    3,
                    3,
                    3,
                    4,
                    2,
                    2,
                    2,
                    2,
                    2,
                    2,
                    2,
                    2,
                    2,
                    3,
                    3,
                    4,
                    2,
                    2,
                    3,
                    2,
                    3,
                    2,
                    3,
                    3,
                    4,
                    4,
                    4,
                    3,
                    2,
                    3,
                    2,
                    2,
                    5,
                    2,
                    2,
                    4,
                    4,
                    4,
                    3,
                    2,
                    3,
                    3,
                    2,
                    4,
                    3,
                    3,
                    3,
                    3,
                    3,
                    2,
                    3,
                    3,
                    3,
                    4,
                    4,
                    3,
                    3,
                    5,
                    3,
                    4,
                    3,
                    3,
                    3,
                    3,
                    4,
                    4,
                    3,
                    3,
                    3,
                    4,
                    4,
                    3,
                    3,
                    3,
                    3,
                    3,
                    4,
                    3,
                    3,
                    3,
                    4,
                    2,
                    3,
                    4,
                    4,
                    3,
                    4,
                    2,
                    3,
                    3,
                    3,
                    3,
                    3,
                    3,
                    2,
                    3,
                    4,
                    4,
                    3,
                    4,
                    4,
                    4,
                    4,
                    4,
                    2,
                    3,
                    4,
                    3,
                    4,
                    3,
                    2,
                    3,
                    2,
                    3,
                    4,
                    4,
                    5,
                    4,
                    4,
                    4,
                    3,
                    4,
                    2,
                    3,
                    3,
                    3,
                    4,
                    4,
                    3,
                    3,
                    3,
                    2,
                    4,
                    4,
                    3,
                    2,
                    2,
                    4,
                    4,
                    2,
                    4,
                    2,
                    2,
                    3,
                    4,
                    4,
                    3,
                    4,
                    3,
                    3,
                    4,
                    3,
                    4,
                    2,
                    4,
                    2,
                    2,
                    3,
                    4,
                    2,
                    5,
                    4,
                    4,
                    3,
                    4,
                    3,
                    2,
                    4,
                    3,
                    2,
                    2,
                    2,
                    4,
                    5,
                    4,
                    4,
                    3,
                    3,
                    2,
                    4,
                    4,
                    2,
                    4,
                    4,
                    3,
                    4,
                    3,
                    4,
                    3,
                    3,
                    3,
                    3,
                    2,
                    3,
                    3,
                    3,
                    3,
                    3,
                    3,
                    2,
                    3,
                    4,
                    4,
                    4,
                    2,
                    3,
                    3,
                    3,
                    5,
                    4,
                    3,
                    3,
                    3,
                    2,
                    3,
                    3,
                    4,
                    2,
                    3,
                    3,
                    4,
                    2,
                    4,
                    3,
                    2,
                    2,
                    2,
                    3,
                    3,
                    3,
                    2
                  ],
                  "y": [
                    14.8,
                    19.7,
                    14.8,
                    18.5,
                    31.4,
                    28.6,
                    27.7,
                    25.8,
                    6.9,
                    24.7,
                    13.1,
                    9,
                    30.3,
                    30.3,
                    23.7,
                    30.4,
                    20.2,
                    17.9,
                    18.1,
                    19.3,
                    27.6,
                    15.3,
                    11.8,
                    32.6,
                    19.2,
                    20.7,
                    31.8,
                    9.1,
                    26.5,
                    8.1,
                    7.3,
                    21.8,
                    27.3,
                    10.8,
                    8.6,
                    4.6,
                    18.9,
                    12.3,
                    10.6,
                    19,
                    18.6,
                    27.7,
                    8.8,
                    22.6,
                    11,
                    17.7,
                    19.4,
                    26.8,
                    16.6,
                    33.4,
                    11.9,
                    28.8,
                    13.6,
                    11.4,
                    27.9,
                    14.1,
                    19.6,
                    24.1,
                    10.8,
                    29.1,
                    32.8,
                    6.7,
                    19.8,
                    20.2,
                    27.8,
                    24.4,
                    27.6,
                    6.6,
                    21.5,
                    9.6,
                    5.3,
                    7.4,
                    8.8,
                    7.1,
                    5.9,
                    5.1,
                    14,
                    17.2,
                    5.3,
                    13.4,
                    15,
                    26.9,
                    5.1,
                    17.2,
                    13.1,
                    4.3,
                    7.7,
                    19.3,
                    33.2,
                    15.2,
                    6.1,
                    16.8,
                    4.1,
                    14.9,
                    14.2,
                    10.9,
                    6.5,
                    23,
                    6.6,
                    19.4,
                    23,
                    12.7,
                    13.1,
                    4.3,
                    7.1,
                    13.9,
                    18.1,
                    12.7,
                    8.1,
                    13.4,
                    21.8,
                    21.2,
                    5.9,
                    9.5,
                    22.6,
                    10.2,
                    16.5,
                    27.9,
                    22.7,
                    4.7,
                    11.7,
                    13.1,
                    21.3,
                    11.5,
                    13.5,
                    8.7,
                    14,
                    12.5,
                    32.7,
                    9.1,
                    9.2,
                    3.7,
                    12.7,
                    10.4,
                    11.5,
                    9,
                    22.4,
                    9.9,
                    9.3,
                    11.9,
                    18.4,
                    25.8,
                    10.1,
                    6.6,
                    9.1,
                    28,
                    8.1,
                    6.6,
                    10.6,
                    8.1,
                    10.4,
                    14.7,
                    5.1,
                    9.9,
                    17.7,
                    18.4,
                    10.1,
                    7.1,
                    11.1,
                    26.2,
                    19.9,
                    4.1,
                    13,
                    9.3,
                    16.2,
                    5.9,
                    7.1,
                    27.6,
                    11,
                    6.1,
                    16.8,
                    6.1,
                    10.4,
                    31.3,
                    21.9,
                    17.8,
                    3.5,
                    5.3,
                    14.7,
                    30.4,
                    3.6,
                    9.3,
                    9.2,
                    20.9,
                    24.8,
                    5.1,
                    19.4,
                    30.4,
                    26.9,
                    21.6,
                    6.1,
                    8.7,
                    22.2,
                    14.5,
                    10.4,
                    6.6,
                    15.3,
                    20.5,
                    22.6,
                    10.3,
                    4.6,
                    6.5,
                    21.8,
                    12,
                    19.1,
                    14.4,
                    13.2,
                    13.4,
                    26.7,
                    15.3,
                    14,
                    16.8,
                    3.6,
                    9.6,
                    24,
                    8.3,
                    14.3,
                    13.5,
                    9.5,
                    31.7,
                    15.7,
                    10.4,
                    5.2,
                    20.6,
                    6.5,
                    25.5,
                    11.2,
                    9.9,
                    15,
                    10.9,
                    12.1,
                    31.6,
                    14.3,
                    15,
                    27.9,
                    17.9,
                    13.3,
                    4.6,
                    6.5,
                    22.6,
                    7.1,
                    16.8,
                    8.4,
                    11.9,
                    10.7,
                    12.8,
                    32.8,
                    6.6,
                    14,
                    13.1,
                    5.3,
                    14.3,
                    32.2,
                    12,
                    16.1,
                    7.4,
                    14.7,
                    23.3,
                    5.7,
                    7.6,
                    20.6,
                    10.4,
                    7.1,
                    18.1,
                    10.9,
                    8.4,
                    22.4,
                    13,
                    9,
                    24.2,
                    17,
                    28.5,
                    29.1,
                    18.9,
                    22.4,
                    10.1,
                    24.7,
                    28.4,
                    14.7,
                    20.4,
                    24,
                    16.8,
                    10.6,
                    23.2,
                    17.7,
                    24.6,
                    21.3,
                    30.5,
                    12.6,
                    11.8
                  ]
                },
                {
                  "mode": "markers",
                  "name": "mer_cluster_1",
                  "type": "scatter",
                  "x": [
                    3,
                    3,
                    2,
                    4,
                    3,
                    2,
                    3,
                    3,
                    4,
                    4,
                    2,
                    4,
                    4,
                    3,
                    3,
                    3,
                    4,
                    3,
                    3,
                    4,
                    3,
                    3,
                    3,
                    3,
                    4,
                    3,
                    3,
                    4,
                    4,
                    3,
                    3,
                    3,
                    2,
                    4,
                    3,
                    2,
                    2,
                    2,
                    3,
                    2,
                    2,
                    2,
                    4,
                    2,
                    4,
                    4,
                    4,
                    4,
                    5,
                    4,
                    5,
                    4,
                    4,
                    4,
                    4,
                    4,
                    3,
                    3,
                    3,
                    5,
                    4,
                    4,
                    5,
                    3,
                    3,
                    3,
                    3,
                    3,
                    2,
                    3,
                    3,
                    3,
                    3,
                    2,
                    3,
                    3,
                    4,
                    4,
                    2,
                    2,
                    3
                  ],
                  "y": [
                    51.1,
                    46.1,
                    42.5,
                    56.3,
                    65.3,
                    51.1,
                    45,
                    55.8,
                    48.2,
                    58.6,
                    75.9,
                    45.6,
                    36.8,
                    57.8,
                    44.3,
                    43.6,
                    48.8,
                    46,
                    51.6,
                    45.6,
                    67.2,
                    66.5,
                    40.6,
                    74.6,
                    37.2,
                    66.5,
                    49.7,
                    46.2,
                    55.6,
                    46.7,
                    67.2,
                    76.9,
                    42.1,
                    43.9,
                    34.4,
                    35.7,
                    49.7,
                    52.6,
                    74.2,
                    36.5,
                    55.8,
                    56.3,
                    57.8,
                    35.1,
                    51.9,
                    36,
                    35.3,
                    54.4,
                    36.5,
                    43.1,
                    42.7,
                    36.5,
                    36.5,
                    37.8,
                    63.6,
                    36.5,
                    42.7,
                    37,
                    37.5,
                    63.6,
                    64.7,
                    49.5,
                    49.5,
                    42.1,
                    60.5,
                    37.9,
                    48.9,
                    67.8,
                    70.1,
                    50.6,
                    57.7,
                    60.5,
                    52.3,
                    55.6,
                    47.8,
                    74.6,
                    49.5,
                    65.6,
                    48.9,
                    55.6,
                    70.7
                  ]
                }
              ],
              "layout": {
                "template": {
                  "data": {
                    "bar": [
                      {
                        "error_x": {
                          "color": "#2a3f5f"
                        },
                        "error_y": {
                          "color": "#2a3f5f"
                        },
                        "marker": {
                          "line": {
                            "color": "#E5ECF6",
                            "width": 0.5
                          },
                          "pattern": {
                            "fillmode": "overlay",
                            "size": 10,
                            "solidity": 0.2
                          }
                        },
                        "type": "bar"
                      }
                    ],
                    "barpolar": [
                      {
                        "marker": {
                          "line": {
                            "color": "#E5ECF6",
                            "width": 0.5
                          },
                          "pattern": {
                            "fillmode": "overlay",
                            "size": 10,
                            "solidity": 0.2
                          }
                        },
                        "type": "barpolar"
                      }
                    ],
                    "carpet": [
                      {
                        "aaxis": {
                          "endlinecolor": "#2a3f5f",
                          "gridcolor": "white",
                          "linecolor": "white",
                          "minorgridcolor": "white",
                          "startlinecolor": "#2a3f5f"
                        },
                        "baxis": {
                          "endlinecolor": "#2a3f5f",
                          "gridcolor": "white",
                          "linecolor": "white",
                          "minorgridcolor": "white",
                          "startlinecolor": "#2a3f5f"
                        },
                        "type": "carpet"
                      }
                    ],
                    "choropleth": [
                      {
                        "colorbar": {
                          "outlinewidth": 0,
                          "ticks": ""
                        },
                        "type": "choropleth"
                      }
                    ],
                    "contour": [
                      {
                        "colorbar": {
                          "outlinewidth": 0,
                          "ticks": ""
                        },
                        "colorscale": [
                          [
                            0,
                            "#0d0887"
                          ],
                          [
                            0.1111111111111111,
                            "#46039f"
                          ],
                          [
                            0.2222222222222222,
                            "#7201a8"
                          ],
                          [
                            0.3333333333333333,
                            "#9c179e"
                          ],
                          [
                            0.4444444444444444,
                            "#bd3786"
                          ],
                          [
                            0.5555555555555556,
                            "#d8576b"
                          ],
                          [
                            0.6666666666666666,
                            "#ed7953"
                          ],
                          [
                            0.7777777777777778,
                            "#fb9f3a"
                          ],
                          [
                            0.8888888888888888,
                            "#fdca26"
                          ],
                          [
                            1,
                            "#f0f921"
                          ]
                        ],
                        "type": "contour"
                      }
                    ],
                    "contourcarpet": [
                      {
                        "colorbar": {
                          "outlinewidth": 0,
                          "ticks": ""
                        },
                        "type": "contourcarpet"
                      }
                    ],
                    "heatmap": [
                      {
                        "colorbar": {
                          "outlinewidth": 0,
                          "ticks": ""
                        },
                        "colorscale": [
                          [
                            0,
                            "#0d0887"
                          ],
                          [
                            0.1111111111111111,
                            "#46039f"
                          ],
                          [
                            0.2222222222222222,
                            "#7201a8"
                          ],
                          [
                            0.3333333333333333,
                            "#9c179e"
                          ],
                          [
                            0.4444444444444444,
                            "#bd3786"
                          ],
                          [
                            0.5555555555555556,
                            "#d8576b"
                          ],
                          [
                            0.6666666666666666,
                            "#ed7953"
                          ],
                          [
                            0.7777777777777778,
                            "#fb9f3a"
                          ],
                          [
                            0.8888888888888888,
                            "#fdca26"
                          ],
                          [
                            1,
                            "#f0f921"
                          ]
                        ],
                        "type": "heatmap"
                      }
                    ],
                    "heatmapgl": [
                      {
                        "colorbar": {
                          "outlinewidth": 0,
                          "ticks": ""
                        },
                        "colorscale": [
                          [
                            0,
                            "#0d0887"
                          ],
                          [
                            0.1111111111111111,
                            "#46039f"
                          ],
                          [
                            0.2222222222222222,
                            "#7201a8"
                          ],
                          [
                            0.3333333333333333,
                            "#9c179e"
                          ],
                          [
                            0.4444444444444444,
                            "#bd3786"
                          ],
                          [
                            0.5555555555555556,
                            "#d8576b"
                          ],
                          [
                            0.6666666666666666,
                            "#ed7953"
                          ],
                          [
                            0.7777777777777778,
                            "#fb9f3a"
                          ],
                          [
                            0.8888888888888888,
                            "#fdca26"
                          ],
                          [
                            1,
                            "#f0f921"
                          ]
                        ],
                        "type": "heatmapgl"
                      }
                    ],
                    "histogram": [
                      {
                        "marker": {
                          "pattern": {
                            "fillmode": "overlay",
                            "size": 10,
                            "solidity": 0.2
                          }
                        },
                        "type": "histogram"
                      }
                    ],
                    "histogram2d": [
                      {
                        "colorbar": {
                          "outlinewidth": 0,
                          "ticks": ""
                        },
                        "colorscale": [
                          [
                            0,
                            "#0d0887"
                          ],
                          [
                            0.1111111111111111,
                            "#46039f"
                          ],
                          [
                            0.2222222222222222,
                            "#7201a8"
                          ],
                          [
                            0.3333333333333333,
                            "#9c179e"
                          ],
                          [
                            0.4444444444444444,
                            "#bd3786"
                          ],
                          [
                            0.5555555555555556,
                            "#d8576b"
                          ],
                          [
                            0.6666666666666666,
                            "#ed7953"
                          ],
                          [
                            0.7777777777777778,
                            "#fb9f3a"
                          ],
                          [
                            0.8888888888888888,
                            "#fdca26"
                          ],
                          [
                            1,
                            "#f0f921"
                          ]
                        ],
                        "type": "histogram2d"
                      }
                    ],
                    "histogram2dcontour": [
                      {
                        "colorbar": {
                          "outlinewidth": 0,
                          "ticks": ""
                        },
                        "colorscale": [
                          [
                            0,
                            "#0d0887"
                          ],
                          [
                            0.1111111111111111,
                            "#46039f"
                          ],
                          [
                            0.2222222222222222,
                            "#7201a8"
                          ],
                          [
                            0.3333333333333333,
                            "#9c179e"
                          ],
                          [
                            0.4444444444444444,
                            "#bd3786"
                          ],
                          [
                            0.5555555555555556,
                            "#d8576b"
                          ],
                          [
                            0.6666666666666666,
                            "#ed7953"
                          ],
                          [
                            0.7777777777777778,
                            "#fb9f3a"
                          ],
                          [
                            0.8888888888888888,
                            "#fdca26"
                          ],
                          [
                            1,
                            "#f0f921"
                          ]
                        ],
                        "type": "histogram2dcontour"
                      }
                    ],
                    "mesh3d": [
                      {
                        "colorbar": {
                          "outlinewidth": 0,
                          "ticks": ""
                        },
                        "type": "mesh3d"
                      }
                    ],
                    "parcoords": [
                      {
                        "line": {
                          "colorbar": {
                            "outlinewidth": 0,
                            "ticks": ""
                          }
                        },
                        "type": "parcoords"
                      }
                    ],
                    "pie": [
                      {
                        "automargin": true,
                        "type": "pie"
                      }
                    ],
                    "scatter": [
                      {
                        "fillpattern": {
                          "fillmode": "overlay",
                          "size": 10,
                          "solidity": 0.2
                        },
                        "type": "scatter"
                      }
                    ],
                    "scatter3d": [
                      {
                        "line": {
                          "colorbar": {
                            "outlinewidth": 0,
                            "ticks": ""
                          }
                        },
                        "marker": {
                          "colorbar": {
                            "outlinewidth": 0,
                            "ticks": ""
                          }
                        },
                        "type": "scatter3d"
                      }
                    ],
                    "scattercarpet": [
                      {
                        "marker": {
                          "colorbar": {
                            "outlinewidth": 0,
                            "ticks": ""
                          }
                        },
                        "type": "scattercarpet"
                      }
                    ],
                    "scattergeo": [
                      {
                        "marker": {
                          "colorbar": {
                            "outlinewidth": 0,
                            "ticks": ""
                          }
                        },
                        "type": "scattergeo"
                      }
                    ],
                    "scattergl": [
                      {
                        "marker": {
                          "colorbar": {
                            "outlinewidth": 0,
                            "ticks": ""
                          }
                        },
                        "type": "scattergl"
                      }
                    ],
                    "scattermapbox": [
                      {
                        "marker": {
                          "colorbar": {
                            "outlinewidth": 0,
                            "ticks": ""
                          }
                        },
                        "type": "scattermapbox"
                      }
                    ],
                    "scatterpolar": [
                      {
                        "marker": {
                          "colorbar": {
                            "outlinewidth": 0,
                            "ticks": ""
                          }
                        },
                        "type": "scatterpolar"
                      }
                    ],
                    "scatterpolargl": [
                      {
                        "marker": {
                          "colorbar": {
                            "outlinewidth": 0,
                            "ticks": ""
                          }
                        },
                        "type": "scatterpolargl"
                      }
                    ],
                    "scatterternary": [
                      {
                        "marker": {
                          "colorbar": {
                            "outlinewidth": 0,
                            "ticks": ""
                          }
                        },
                        "type": "scatterternary"
                      }
                    ],
                    "surface": [
                      {
                        "colorbar": {
                          "outlinewidth": 0,
                          "ticks": ""
                        },
                        "colorscale": [
                          [
                            0,
                            "#0d0887"
                          ],
                          [
                            0.1111111111111111,
                            "#46039f"
                          ],
                          [
                            0.2222222222222222,
                            "#7201a8"
                          ],
                          [
                            0.3333333333333333,
                            "#9c179e"
                          ],
                          [
                            0.4444444444444444,
                            "#bd3786"
                          ],
                          [
                            0.5555555555555556,
                            "#d8576b"
                          ],
                          [
                            0.6666666666666666,
                            "#ed7953"
                          ],
                          [
                            0.7777777777777778,
                            "#fb9f3a"
                          ],
                          [
                            0.8888888888888888,
                            "#fdca26"
                          ],
                          [
                            1,
                            "#f0f921"
                          ]
                        ],
                        "type": "surface"
                      }
                    ],
                    "table": [
                      {
                        "cells": {
                          "fill": {
                            "color": "#EBF0F8"
                          },
                          "line": {
                            "color": "white"
                          }
                        },
                        "header": {
                          "fill": {
                            "color": "#C8D4E3"
                          },
                          "line": {
                            "color": "white"
                          }
                        },
                        "type": "table"
                      }
                    ]
                  },
                  "layout": {
                    "annotationdefaults": {
                      "arrowcolor": "#2a3f5f",
                      "arrowhead": 0,
                      "arrowwidth": 1
                    },
                    "autotypenumbers": "strict",
                    "coloraxis": {
                      "colorbar": {
                        "outlinewidth": 0,
                        "ticks": ""
                      }
                    },
                    "colorscale": {
                      "diverging": [
                        [
                          0,
                          "#8e0152"
                        ],
                        [
                          0.1,
                          "#c51b7d"
                        ],
                        [
                          0.2,
                          "#de77ae"
                        ],
                        [
                          0.3,
                          "#f1b6da"
                        ],
                        [
                          0.4,
                          "#fde0ef"
                        ],
                        [
                          0.5,
                          "#f7f7f7"
                        ],
                        [
                          0.6,
                          "#e6f5d0"
                        ],
                        [
                          0.7,
                          "#b8e186"
                        ],
                        [
                          0.8,
                          "#7fbc41"
                        ],
                        [
                          0.9,
                          "#4d9221"
                        ],
                        [
                          1,
                          "#276419"
                        ]
                      ],
                      "sequential": [
                        [
                          0,
                          "#0d0887"
                        ],
                        [
                          0.1111111111111111,
                          "#46039f"
                        ],
                        [
                          0.2222222222222222,
                          "#7201a8"
                        ],
                        [
                          0.3333333333333333,
                          "#9c179e"
                        ],
                        [
                          0.4444444444444444,
                          "#bd3786"
                        ],
                        [
                          0.5555555555555556,
                          "#d8576b"
                        ],
                        [
                          0.6666666666666666,
                          "#ed7953"
                        ],
                        [
                          0.7777777777777778,
                          "#fb9f3a"
                        ],
                        [
                          0.8888888888888888,
                          "#fdca26"
                        ],
                        [
                          1,
                          "#f0f921"
                        ]
                      ],
                      "sequentialminus": [
                        [
                          0,
                          "#0d0887"
                        ],
                        [
                          0.1111111111111111,
                          "#46039f"
                        ],
                        [
                          0.2222222222222222,
                          "#7201a8"
                        ],
                        [
                          0.3333333333333333,
                          "#9c179e"
                        ],
                        [
                          0.4444444444444444,
                          "#bd3786"
                        ],
                        [
                          0.5555555555555556,
                          "#d8576b"
                        ],
                        [
                          0.6666666666666666,
                          "#ed7953"
                        ],
                        [
                          0.7777777777777778,
                          "#fb9f3a"
                        ],
                        [
                          0.8888888888888888,
                          "#fdca26"
                        ],
                        [
                          1,
                          "#f0f921"
                        ]
                      ]
                    },
                    "colorway": [
                      "#636efa",
                      "#EF553B",
                      "#00cc96",
                      "#ab63fa",
                      "#FFA15A",
                      "#19d3f3",
                      "#FF6692",
                      "#B6E880",
                      "#FF97FF",
                      "#FECB52"
                    ],
                    "font": {
                      "color": "#2a3f5f"
                    },
                    "geo": {
                      "bgcolor": "white",
                      "lakecolor": "white",
                      "landcolor": "#E5ECF6",
                      "showlakes": true,
                      "showland": true,
                      "subunitcolor": "white"
                    },
                    "hoverlabel": {
                      "align": "left"
                    },
                    "hovermode": "closest",
                    "mapbox": {
                      "style": "light"
                    },
                    "paper_bgcolor": "white",
                    "plot_bgcolor": "#E5ECF6",
                    "polar": {
                      "angularaxis": {
                        "gridcolor": "white",
                        "linecolor": "white",
                        "ticks": ""
                      },
                      "bgcolor": "#E5ECF6",
                      "radialaxis": {
                        "gridcolor": "white",
                        "linecolor": "white",
                        "ticks": ""
                      }
                    },
                    "scene": {
                      "xaxis": {
                        "backgroundcolor": "#E5ECF6",
                        "gridcolor": "white",
                        "gridwidth": 2,
                        "linecolor": "white",
                        "showbackground": true,
                        "ticks": "",
                        "zerolinecolor": "white"
                      },
                      "yaxis": {
                        "backgroundcolor": "#E5ECF6",
                        "gridcolor": "white",
                        "gridwidth": 2,
                        "linecolor": "white",
                        "showbackground": true,
                        "ticks": "",
                        "zerolinecolor": "white"
                      },
                      "zaxis": {
                        "backgroundcolor": "#E5ECF6",
                        "gridcolor": "white",
                        "gridwidth": 2,
                        "linecolor": "white",
                        "showbackground": true,
                        "ticks": "",
                        "zerolinecolor": "white"
                      }
                    },
                    "shapedefaults": {
                      "line": {
                        "color": "#2a3f5f"
                      }
                    },
                    "ternary": {
                      "aaxis": {
                        "gridcolor": "white",
                        "linecolor": "white",
                        "ticks": ""
                      },
                      "baxis": {
                        "gridcolor": "white",
                        "linecolor": "white",
                        "ticks": ""
                      },
                      "bgcolor": "#E5ECF6",
                      "caxis": {
                        "gridcolor": "white",
                        "linecolor": "white",
                        "ticks": ""
                      }
                    },
                    "title": {
                      "x": 0.05
                    },
                    "xaxis": {
                      "automargin": true,
                      "gridcolor": "white",
                      "linecolor": "white",
                      "ticks": "",
                      "title": {
                        "standoff": 15
                      },
                      "zerolinecolor": "white",
                      "zerolinewidth": 2
                    },
                    "yaxis": {
                      "automargin": true,
                      "gridcolor": "white",
                      "linecolor": "white",
                      "ticks": "",
                      "title": {
                        "standoff": 15
                      },
                      "zerolinecolor": "white",
                      "zerolinewidth": 2
                    }
                  }
                },
                "title": {
                  "text": "Scatter Plot of T_size_exo vs RAIV"
                },
                "xaxis": {
                  "title": {
                    "text": "T_size_exo"
                  }
                },
                "yaxis": {
                  "title": {
                    "text": "RAIV"
                  }
                }
              }
            }
          },
          "metadata": {},
          "output_type": "display_data"
        },
        {
          "data": {
            "application/vnd.plotly.v1+json": {
              "config": {
                "plotlyServerURL": "https://plot.ly"
              },
              "data": [
                {
                  "mode": "markers",
                  "name": "mer_cluster_0",
                  "type": "scatter",
                  "x": [
                    14.8,
                    19.7,
                    14.8,
                    18.5,
                    31.4,
                    28.6,
                    27.7,
                    25.8,
                    6.9,
                    24.7,
                    13.1,
                    9,
                    30.3,
                    30.3,
                    23.7,
                    30.4,
                    20.2,
                    17.9,
                    18.1,
                    19.3,
                    27.6,
                    15.3,
                    11.8,
                    32.6,
                    19.2,
                    20.7,
                    31.8,
                    9.1,
                    26.5,
                    8.1,
                    7.3,
                    21.8,
                    27.3,
                    10.8,
                    8.6,
                    4.6,
                    18.9,
                    12.3,
                    10.6,
                    19,
                    18.6,
                    27.7,
                    8.8,
                    22.6,
                    11,
                    17.7,
                    19.4,
                    26.8,
                    16.6,
                    33.4,
                    11.9,
                    28.8,
                    13.6,
                    11.4,
                    27.9,
                    14.1,
                    19.6,
                    24.1,
                    10.8,
                    29.1,
                    32.8,
                    6.7,
                    19.8,
                    20.2,
                    27.8,
                    24.4,
                    27.6,
                    6.6,
                    21.5,
                    9.6,
                    5.3,
                    7.4,
                    8.8,
                    7.1,
                    5.9,
                    5.1,
                    14,
                    17.2,
                    5.3,
                    13.4,
                    15,
                    26.9,
                    5.1,
                    17.2,
                    13.1,
                    4.3,
                    7.7,
                    19.3,
                    33.2,
                    15.2,
                    6.1,
                    16.8,
                    4.1,
                    14.9,
                    14.2,
                    10.9,
                    6.5,
                    23,
                    6.6,
                    19.4,
                    23,
                    12.7,
                    13.1,
                    4.3,
                    7.1,
                    13.9,
                    18.1,
                    12.7,
                    8.1,
                    13.4,
                    21.8,
                    21.2,
                    5.9,
                    9.5,
                    22.6,
                    10.2,
                    16.5,
                    27.9,
                    22.7,
                    4.7,
                    11.7,
                    13.1,
                    21.3,
                    11.5,
                    13.5,
                    8.7,
                    14,
                    12.5,
                    32.7,
                    9.1,
                    9.2,
                    3.7,
                    12.7,
                    10.4,
                    11.5,
                    9,
                    22.4,
                    9.9,
                    9.3,
                    11.9,
                    18.4,
                    25.8,
                    10.1,
                    6.6,
                    9.1,
                    28,
                    8.1,
                    6.6,
                    10.6,
                    8.1,
                    10.4,
                    14.7,
                    5.1,
                    9.9,
                    17.7,
                    18.4,
                    10.1,
                    7.1,
                    11.1,
                    26.2,
                    19.9,
                    4.1,
                    13,
                    9.3,
                    16.2,
                    5.9,
                    7.1,
                    27.6,
                    11,
                    6.1,
                    16.8,
                    6.1,
                    10.4,
                    31.3,
                    21.9,
                    17.8,
                    3.5,
                    5.3,
                    14.7,
                    30.4,
                    3.6,
                    9.3,
                    9.2,
                    20.9,
                    24.8,
                    5.1,
                    19.4,
                    30.4,
                    26.9,
                    21.6,
                    6.1,
                    8.7,
                    22.2,
                    14.5,
                    10.4,
                    6.6,
                    15.3,
                    20.5,
                    22.6,
                    10.3,
                    4.6,
                    6.5,
                    21.8,
                    12,
                    19.1,
                    14.4,
                    13.2,
                    13.4,
                    26.7,
                    15.3,
                    14,
                    16.8,
                    3.6,
                    9.6,
                    24,
                    8.3,
                    14.3,
                    13.5,
                    9.5,
                    31.7,
                    15.7,
                    10.4,
                    5.2,
                    20.6,
                    6.5,
                    25.5,
                    11.2,
                    9.9,
                    15,
                    10.9,
                    12.1,
                    31.6,
                    14.3,
                    15,
                    27.9,
                    17.9,
                    13.3,
                    4.6,
                    6.5,
                    22.6,
                    7.1,
                    16.8,
                    8.4,
                    11.9,
                    10.7,
                    12.8,
                    32.8,
                    6.6,
                    14,
                    13.1,
                    5.3,
                    14.3,
                    32.2,
                    12,
                    16.1,
                    7.4,
                    14.7,
                    23.3,
                    5.7,
                    7.6,
                    20.6,
                    10.4,
                    7.1,
                    18.1,
                    10.9,
                    8.4,
                    22.4,
                    13,
                    9,
                    24.2,
                    17,
                    28.5,
                    29.1,
                    18.9,
                    22.4,
                    10.1,
                    24.7,
                    28.4,
                    14.7,
                    20.4,
                    24,
                    16.8,
                    10.6,
                    23.2,
                    17.7,
                    24.6,
                    21.3,
                    30.5,
                    12.6,
                    11.8
                  ],
                  "y": [
                    14.8,
                    19.7,
                    14.8,
                    18.5,
                    31.4,
                    28.6,
                    27.7,
                    25.8,
                    6.9,
                    24.7,
                    13.1,
                    9,
                    30.3,
                    30.3,
                    23.7,
                    30.4,
                    20.2,
                    17.9,
                    18.1,
                    19.3,
                    27.6,
                    15.3,
                    11.8,
                    32.6,
                    19.2,
                    20.7,
                    31.8,
                    9.1,
                    26.5,
                    8.1,
                    7.3,
                    21.8,
                    27.3,
                    10.8,
                    8.6,
                    4.6,
                    18.9,
                    12.3,
                    10.6,
                    19,
                    18.6,
                    27.7,
                    8.8,
                    22.6,
                    11,
                    17.7,
                    19.4,
                    26.8,
                    16.6,
                    33.4,
                    11.9,
                    28.8,
                    13.6,
                    11.4,
                    27.9,
                    14.1,
                    19.6,
                    24.1,
                    10.8,
                    29.1,
                    32.8,
                    6.7,
                    19.8,
                    20.2,
                    27.8,
                    24.4,
                    27.6,
                    6.6,
                    21.5,
                    9.6,
                    5.3,
                    7.4,
                    8.8,
                    7.1,
                    5.9,
                    5.1,
                    14,
                    17.2,
                    5.3,
                    13.4,
                    15,
                    26.9,
                    5.1,
                    17.2,
                    13.1,
                    4.3,
                    7.7,
                    19.3,
                    33.2,
                    15.2,
                    6.1,
                    16.8,
                    4.1,
                    14.9,
                    14.2,
                    10.9,
                    6.5,
                    23,
                    6.6,
                    19.4,
                    23,
                    12.7,
                    13.1,
                    4.3,
                    7.1,
                    13.9,
                    18.1,
                    12.7,
                    8.1,
                    13.4,
                    21.8,
                    21.2,
                    5.9,
                    9.5,
                    22.6,
                    10.2,
                    16.5,
                    27.9,
                    22.7,
                    4.7,
                    11.7,
                    13.1,
                    21.3,
                    11.5,
                    13.5,
                    8.7,
                    14,
                    12.5,
                    32.7,
                    9.1,
                    9.2,
                    3.7,
                    12.7,
                    10.4,
                    11.5,
                    9,
                    22.4,
                    9.9,
                    9.3,
                    11.9,
                    18.4,
                    25.8,
                    10.1,
                    6.6,
                    9.1,
                    28,
                    8.1,
                    6.6,
                    10.6,
                    8.1,
                    10.4,
                    14.7,
                    5.1,
                    9.9,
                    17.7,
                    18.4,
                    10.1,
                    7.1,
                    11.1,
                    26.2,
                    19.9,
                    4.1,
                    13,
                    9.3,
                    16.2,
                    5.9,
                    7.1,
                    27.6,
                    11,
                    6.1,
                    16.8,
                    6.1,
                    10.4,
                    31.3,
                    21.9,
                    17.8,
                    3.5,
                    5.3,
                    14.7,
                    30.4,
                    3.6,
                    9.3,
                    9.2,
                    20.9,
                    24.8,
                    5.1,
                    19.4,
                    30.4,
                    26.9,
                    21.6,
                    6.1,
                    8.7,
                    22.2,
                    14.5,
                    10.4,
                    6.6,
                    15.3,
                    20.5,
                    22.6,
                    10.3,
                    4.6,
                    6.5,
                    21.8,
                    12,
                    19.1,
                    14.4,
                    13.2,
                    13.4,
                    26.7,
                    15.3,
                    14,
                    16.8,
                    3.6,
                    9.6,
                    24,
                    8.3,
                    14.3,
                    13.5,
                    9.5,
                    31.7,
                    15.7,
                    10.4,
                    5.2,
                    20.6,
                    6.5,
                    25.5,
                    11.2,
                    9.9,
                    15,
                    10.9,
                    12.1,
                    31.6,
                    14.3,
                    15,
                    27.9,
                    17.9,
                    13.3,
                    4.6,
                    6.5,
                    22.6,
                    7.1,
                    16.8,
                    8.4,
                    11.9,
                    10.7,
                    12.8,
                    32.8,
                    6.6,
                    14,
                    13.1,
                    5.3,
                    14.3,
                    32.2,
                    12,
                    16.1,
                    7.4,
                    14.7,
                    23.3,
                    5.7,
                    7.6,
                    20.6,
                    10.4,
                    7.1,
                    18.1,
                    10.9,
                    8.4,
                    22.4,
                    13,
                    9,
                    24.2,
                    17,
                    28.5,
                    29.1,
                    18.9,
                    22.4,
                    10.1,
                    24.7,
                    28.4,
                    14.7,
                    20.4,
                    24,
                    16.8,
                    10.6,
                    23.2,
                    17.7,
                    24.6,
                    21.3,
                    30.5,
                    12.6,
                    11.8
                  ]
                },
                {
                  "mode": "markers",
                  "name": "mer_cluster_1",
                  "type": "scatter",
                  "x": [
                    51.1,
                    46.1,
                    42.5,
                    56.3,
                    65.3,
                    51.1,
                    45,
                    55.8,
                    48.2,
                    58.6,
                    75.9,
                    45.6,
                    36.8,
                    57.8,
                    44.3,
                    43.6,
                    48.8,
                    46,
                    51.6,
                    45.6,
                    67.2,
                    66.5,
                    40.6,
                    74.6,
                    37.2,
                    66.5,
                    49.7,
                    46.2,
                    55.6,
                    46.7,
                    67.2,
                    76.9,
                    42.1,
                    43.9,
                    34.4,
                    35.7,
                    49.7,
                    52.6,
                    74.2,
                    36.5,
                    55.8,
                    56.3,
                    57.8,
                    35.1,
                    51.9,
                    36,
                    35.3,
                    54.4,
                    36.5,
                    43.1,
                    42.7,
                    36.5,
                    36.5,
                    37.8,
                    63.6,
                    36.5,
                    42.7,
                    37,
                    37.5,
                    63.6,
                    64.7,
                    49.5,
                    49.5,
                    42.1,
                    60.5,
                    37.9,
                    48.9,
                    67.8,
                    70.1,
                    50.6,
                    57.7,
                    60.5,
                    52.3,
                    55.6,
                    47.8,
                    74.6,
                    49.5,
                    65.6,
                    48.9,
                    55.6,
                    70.7
                  ],
                  "y": [
                    51.1,
                    46.1,
                    42.5,
                    56.3,
                    65.3,
                    51.1,
                    45,
                    55.8,
                    48.2,
                    58.6,
                    75.9,
                    45.6,
                    36.8,
                    57.8,
                    44.3,
                    43.6,
                    48.8,
                    46,
                    51.6,
                    45.6,
                    67.2,
                    66.5,
                    40.6,
                    74.6,
                    37.2,
                    66.5,
                    49.7,
                    46.2,
                    55.6,
                    46.7,
                    67.2,
                    76.9,
                    42.1,
                    43.9,
                    34.4,
                    35.7,
                    49.7,
                    52.6,
                    74.2,
                    36.5,
                    55.8,
                    56.3,
                    57.8,
                    35.1,
                    51.9,
                    36,
                    35.3,
                    54.4,
                    36.5,
                    43.1,
                    42.7,
                    36.5,
                    36.5,
                    37.8,
                    63.6,
                    36.5,
                    42.7,
                    37,
                    37.5,
                    63.6,
                    64.7,
                    49.5,
                    49.5,
                    42.1,
                    60.5,
                    37.9,
                    48.9,
                    67.8,
                    70.1,
                    50.6,
                    57.7,
                    60.5,
                    52.3,
                    55.6,
                    47.8,
                    74.6,
                    49.5,
                    65.6,
                    48.9,
                    55.6,
                    70.7
                  ]
                }
              ],
              "layout": {
                "template": {
                  "data": {
                    "bar": [
                      {
                        "error_x": {
                          "color": "#2a3f5f"
                        },
                        "error_y": {
                          "color": "#2a3f5f"
                        },
                        "marker": {
                          "line": {
                            "color": "#E5ECF6",
                            "width": 0.5
                          },
                          "pattern": {
                            "fillmode": "overlay",
                            "size": 10,
                            "solidity": 0.2
                          }
                        },
                        "type": "bar"
                      }
                    ],
                    "barpolar": [
                      {
                        "marker": {
                          "line": {
                            "color": "#E5ECF6",
                            "width": 0.5
                          },
                          "pattern": {
                            "fillmode": "overlay",
                            "size": 10,
                            "solidity": 0.2
                          }
                        },
                        "type": "barpolar"
                      }
                    ],
                    "carpet": [
                      {
                        "aaxis": {
                          "endlinecolor": "#2a3f5f",
                          "gridcolor": "white",
                          "linecolor": "white",
                          "minorgridcolor": "white",
                          "startlinecolor": "#2a3f5f"
                        },
                        "baxis": {
                          "endlinecolor": "#2a3f5f",
                          "gridcolor": "white",
                          "linecolor": "white",
                          "minorgridcolor": "white",
                          "startlinecolor": "#2a3f5f"
                        },
                        "type": "carpet"
                      }
                    ],
                    "choropleth": [
                      {
                        "colorbar": {
                          "outlinewidth": 0,
                          "ticks": ""
                        },
                        "type": "choropleth"
                      }
                    ],
                    "contour": [
                      {
                        "colorbar": {
                          "outlinewidth": 0,
                          "ticks": ""
                        },
                        "colorscale": [
                          [
                            0,
                            "#0d0887"
                          ],
                          [
                            0.1111111111111111,
                            "#46039f"
                          ],
                          [
                            0.2222222222222222,
                            "#7201a8"
                          ],
                          [
                            0.3333333333333333,
                            "#9c179e"
                          ],
                          [
                            0.4444444444444444,
                            "#bd3786"
                          ],
                          [
                            0.5555555555555556,
                            "#d8576b"
                          ],
                          [
                            0.6666666666666666,
                            "#ed7953"
                          ],
                          [
                            0.7777777777777778,
                            "#fb9f3a"
                          ],
                          [
                            0.8888888888888888,
                            "#fdca26"
                          ],
                          [
                            1,
                            "#f0f921"
                          ]
                        ],
                        "type": "contour"
                      }
                    ],
                    "contourcarpet": [
                      {
                        "colorbar": {
                          "outlinewidth": 0,
                          "ticks": ""
                        },
                        "type": "contourcarpet"
                      }
                    ],
                    "heatmap": [
                      {
                        "colorbar": {
                          "outlinewidth": 0,
                          "ticks": ""
                        },
                        "colorscale": [
                          [
                            0,
                            "#0d0887"
                          ],
                          [
                            0.1111111111111111,
                            "#46039f"
                          ],
                          [
                            0.2222222222222222,
                            "#7201a8"
                          ],
                          [
                            0.3333333333333333,
                            "#9c179e"
                          ],
                          [
                            0.4444444444444444,
                            "#bd3786"
                          ],
                          [
                            0.5555555555555556,
                            "#d8576b"
                          ],
                          [
                            0.6666666666666666,
                            "#ed7953"
                          ],
                          [
                            0.7777777777777778,
                            "#fb9f3a"
                          ],
                          [
                            0.8888888888888888,
                            "#fdca26"
                          ],
                          [
                            1,
                            "#f0f921"
                          ]
                        ],
                        "type": "heatmap"
                      }
                    ],
                    "heatmapgl": [
                      {
                        "colorbar": {
                          "outlinewidth": 0,
                          "ticks": ""
                        },
                        "colorscale": [
                          [
                            0,
                            "#0d0887"
                          ],
                          [
                            0.1111111111111111,
                            "#46039f"
                          ],
                          [
                            0.2222222222222222,
                            "#7201a8"
                          ],
                          [
                            0.3333333333333333,
                            "#9c179e"
                          ],
                          [
                            0.4444444444444444,
                            "#bd3786"
                          ],
                          [
                            0.5555555555555556,
                            "#d8576b"
                          ],
                          [
                            0.6666666666666666,
                            "#ed7953"
                          ],
                          [
                            0.7777777777777778,
                            "#fb9f3a"
                          ],
                          [
                            0.8888888888888888,
                            "#fdca26"
                          ],
                          [
                            1,
                            "#f0f921"
                          ]
                        ],
                        "type": "heatmapgl"
                      }
                    ],
                    "histogram": [
                      {
                        "marker": {
                          "pattern": {
                            "fillmode": "overlay",
                            "size": 10,
                            "solidity": 0.2
                          }
                        },
                        "type": "histogram"
                      }
                    ],
                    "histogram2d": [
                      {
                        "colorbar": {
                          "outlinewidth": 0,
                          "ticks": ""
                        },
                        "colorscale": [
                          [
                            0,
                            "#0d0887"
                          ],
                          [
                            0.1111111111111111,
                            "#46039f"
                          ],
                          [
                            0.2222222222222222,
                            "#7201a8"
                          ],
                          [
                            0.3333333333333333,
                            "#9c179e"
                          ],
                          [
                            0.4444444444444444,
                            "#bd3786"
                          ],
                          [
                            0.5555555555555556,
                            "#d8576b"
                          ],
                          [
                            0.6666666666666666,
                            "#ed7953"
                          ],
                          [
                            0.7777777777777778,
                            "#fb9f3a"
                          ],
                          [
                            0.8888888888888888,
                            "#fdca26"
                          ],
                          [
                            1,
                            "#f0f921"
                          ]
                        ],
                        "type": "histogram2d"
                      }
                    ],
                    "histogram2dcontour": [
                      {
                        "colorbar": {
                          "outlinewidth": 0,
                          "ticks": ""
                        },
                        "colorscale": [
                          [
                            0,
                            "#0d0887"
                          ],
                          [
                            0.1111111111111111,
                            "#46039f"
                          ],
                          [
                            0.2222222222222222,
                            "#7201a8"
                          ],
                          [
                            0.3333333333333333,
                            "#9c179e"
                          ],
                          [
                            0.4444444444444444,
                            "#bd3786"
                          ],
                          [
                            0.5555555555555556,
                            "#d8576b"
                          ],
                          [
                            0.6666666666666666,
                            "#ed7953"
                          ],
                          [
                            0.7777777777777778,
                            "#fb9f3a"
                          ],
                          [
                            0.8888888888888888,
                            "#fdca26"
                          ],
                          [
                            1,
                            "#f0f921"
                          ]
                        ],
                        "type": "histogram2dcontour"
                      }
                    ],
                    "mesh3d": [
                      {
                        "colorbar": {
                          "outlinewidth": 0,
                          "ticks": ""
                        },
                        "type": "mesh3d"
                      }
                    ],
                    "parcoords": [
                      {
                        "line": {
                          "colorbar": {
                            "outlinewidth": 0,
                            "ticks": ""
                          }
                        },
                        "type": "parcoords"
                      }
                    ],
                    "pie": [
                      {
                        "automargin": true,
                        "type": "pie"
                      }
                    ],
                    "scatter": [
                      {
                        "fillpattern": {
                          "fillmode": "overlay",
                          "size": 10,
                          "solidity": 0.2
                        },
                        "type": "scatter"
                      }
                    ],
                    "scatter3d": [
                      {
                        "line": {
                          "colorbar": {
                            "outlinewidth": 0,
                            "ticks": ""
                          }
                        },
                        "marker": {
                          "colorbar": {
                            "outlinewidth": 0,
                            "ticks": ""
                          }
                        },
                        "type": "scatter3d"
                      }
                    ],
                    "scattercarpet": [
                      {
                        "marker": {
                          "colorbar": {
                            "outlinewidth": 0,
                            "ticks": ""
                          }
                        },
                        "type": "scattercarpet"
                      }
                    ],
                    "scattergeo": [
                      {
                        "marker": {
                          "colorbar": {
                            "outlinewidth": 0,
                            "ticks": ""
                          }
                        },
                        "type": "scattergeo"
                      }
                    ],
                    "scattergl": [
                      {
                        "marker": {
                          "colorbar": {
                            "outlinewidth": 0,
                            "ticks": ""
                          }
                        },
                        "type": "scattergl"
                      }
                    ],
                    "scattermapbox": [
                      {
                        "marker": {
                          "colorbar": {
                            "outlinewidth": 0,
                            "ticks": ""
                          }
                        },
                        "type": "scattermapbox"
                      }
                    ],
                    "scatterpolar": [
                      {
                        "marker": {
                          "colorbar": {
                            "outlinewidth": 0,
                            "ticks": ""
                          }
                        },
                        "type": "scatterpolar"
                      }
                    ],
                    "scatterpolargl": [
                      {
                        "marker": {
                          "colorbar": {
                            "outlinewidth": 0,
                            "ticks": ""
                          }
                        },
                        "type": "scatterpolargl"
                      }
                    ],
                    "scatterternary": [
                      {
                        "marker": {
                          "colorbar": {
                            "outlinewidth": 0,
                            "ticks": ""
                          }
                        },
                        "type": "scatterternary"
                      }
                    ],
                    "surface": [
                      {
                        "colorbar": {
                          "outlinewidth": 0,
                          "ticks": ""
                        },
                        "colorscale": [
                          [
                            0,
                            "#0d0887"
                          ],
                          [
                            0.1111111111111111,
                            "#46039f"
                          ],
                          [
                            0.2222222222222222,
                            "#7201a8"
                          ],
                          [
                            0.3333333333333333,
                            "#9c179e"
                          ],
                          [
                            0.4444444444444444,
                            "#bd3786"
                          ],
                          [
                            0.5555555555555556,
                            "#d8576b"
                          ],
                          [
                            0.6666666666666666,
                            "#ed7953"
                          ],
                          [
                            0.7777777777777778,
                            "#fb9f3a"
                          ],
                          [
                            0.8888888888888888,
                            "#fdca26"
                          ],
                          [
                            1,
                            "#f0f921"
                          ]
                        ],
                        "type": "surface"
                      }
                    ],
                    "table": [
                      {
                        "cells": {
                          "fill": {
                            "color": "#EBF0F8"
                          },
                          "line": {
                            "color": "white"
                          }
                        },
                        "header": {
                          "fill": {
                            "color": "#C8D4E3"
                          },
                          "line": {
                            "color": "white"
                          }
                        },
                        "type": "table"
                      }
                    ]
                  },
                  "layout": {
                    "annotationdefaults": {
                      "arrowcolor": "#2a3f5f",
                      "arrowhead": 0,
                      "arrowwidth": 1
                    },
                    "autotypenumbers": "strict",
                    "coloraxis": {
                      "colorbar": {
                        "outlinewidth": 0,
                        "ticks": ""
                      }
                    },
                    "colorscale": {
                      "diverging": [
                        [
                          0,
                          "#8e0152"
                        ],
                        [
                          0.1,
                          "#c51b7d"
                        ],
                        [
                          0.2,
                          "#de77ae"
                        ],
                        [
                          0.3,
                          "#f1b6da"
                        ],
                        [
                          0.4,
                          "#fde0ef"
                        ],
                        [
                          0.5,
                          "#f7f7f7"
                        ],
                        [
                          0.6,
                          "#e6f5d0"
                        ],
                        [
                          0.7,
                          "#b8e186"
                        ],
                        [
                          0.8,
                          "#7fbc41"
                        ],
                        [
                          0.9,
                          "#4d9221"
                        ],
                        [
                          1,
                          "#276419"
                        ]
                      ],
                      "sequential": [
                        [
                          0,
                          "#0d0887"
                        ],
                        [
                          0.1111111111111111,
                          "#46039f"
                        ],
                        [
                          0.2222222222222222,
                          "#7201a8"
                        ],
                        [
                          0.3333333333333333,
                          "#9c179e"
                        ],
                        [
                          0.4444444444444444,
                          "#bd3786"
                        ],
                        [
                          0.5555555555555556,
                          "#d8576b"
                        ],
                        [
                          0.6666666666666666,
                          "#ed7953"
                        ],
                        [
                          0.7777777777777778,
                          "#fb9f3a"
                        ],
                        [
                          0.8888888888888888,
                          "#fdca26"
                        ],
                        [
                          1,
                          "#f0f921"
                        ]
                      ],
                      "sequentialminus": [
                        [
                          0,
                          "#0d0887"
                        ],
                        [
                          0.1111111111111111,
                          "#46039f"
                        ],
                        [
                          0.2222222222222222,
                          "#7201a8"
                        ],
                        [
                          0.3333333333333333,
                          "#9c179e"
                        ],
                        [
                          0.4444444444444444,
                          "#bd3786"
                        ],
                        [
                          0.5555555555555556,
                          "#d8576b"
                        ],
                        [
                          0.6666666666666666,
                          "#ed7953"
                        ],
                        [
                          0.7777777777777778,
                          "#fb9f3a"
                        ],
                        [
                          0.8888888888888888,
                          "#fdca26"
                        ],
                        [
                          1,
                          "#f0f921"
                        ]
                      ]
                    },
                    "colorway": [
                      "#636efa",
                      "#EF553B",
                      "#00cc96",
                      "#ab63fa",
                      "#FFA15A",
                      "#19d3f3",
                      "#FF6692",
                      "#B6E880",
                      "#FF97FF",
                      "#FECB52"
                    ],
                    "font": {
                      "color": "#2a3f5f"
                    },
                    "geo": {
                      "bgcolor": "white",
                      "lakecolor": "white",
                      "landcolor": "#E5ECF6",
                      "showlakes": true,
                      "showland": true,
                      "subunitcolor": "white"
                    },
                    "hoverlabel": {
                      "align": "left"
                    },
                    "hovermode": "closest",
                    "mapbox": {
                      "style": "light"
                    },
                    "paper_bgcolor": "white",
                    "plot_bgcolor": "#E5ECF6",
                    "polar": {
                      "angularaxis": {
                        "gridcolor": "white",
                        "linecolor": "white",
                        "ticks": ""
                      },
                      "bgcolor": "#E5ECF6",
                      "radialaxis": {
                        "gridcolor": "white",
                        "linecolor": "white",
                        "ticks": ""
                      }
                    },
                    "scene": {
                      "xaxis": {
                        "backgroundcolor": "#E5ECF6",
                        "gridcolor": "white",
                        "gridwidth": 2,
                        "linecolor": "white",
                        "showbackground": true,
                        "ticks": "",
                        "zerolinecolor": "white"
                      },
                      "yaxis": {
                        "backgroundcolor": "#E5ECF6",
                        "gridcolor": "white",
                        "gridwidth": 2,
                        "linecolor": "white",
                        "showbackground": true,
                        "ticks": "",
                        "zerolinecolor": "white"
                      },
                      "zaxis": {
                        "backgroundcolor": "#E5ECF6",
                        "gridcolor": "white",
                        "gridwidth": 2,
                        "linecolor": "white",
                        "showbackground": true,
                        "ticks": "",
                        "zerolinecolor": "white"
                      }
                    },
                    "shapedefaults": {
                      "line": {
                        "color": "#2a3f5f"
                      }
                    },
                    "ternary": {
                      "aaxis": {
                        "gridcolor": "white",
                        "linecolor": "white",
                        "ticks": ""
                      },
                      "baxis": {
                        "gridcolor": "white",
                        "linecolor": "white",
                        "ticks": ""
                      },
                      "bgcolor": "#E5ECF6",
                      "caxis": {
                        "gridcolor": "white",
                        "linecolor": "white",
                        "ticks": ""
                      }
                    },
                    "title": {
                      "x": 0.05
                    },
                    "xaxis": {
                      "automargin": true,
                      "gridcolor": "white",
                      "linecolor": "white",
                      "ticks": "",
                      "title": {
                        "standoff": 15
                      },
                      "zerolinecolor": "white",
                      "zerolinewidth": 2
                    },
                    "yaxis": {
                      "automargin": true,
                      "gridcolor": "white",
                      "linecolor": "white",
                      "ticks": "",
                      "title": {
                        "standoff": 15
                      },
                      "zerolinecolor": "white",
                      "zerolinewidth": 2
                    }
                  }
                },
                "title": {
                  "text": "Scatter Plot of RAIV vs RAIV"
                },
                "xaxis": {
                  "title": {
                    "text": "RAIV"
                  }
                },
                "yaxis": {
                  "title": {
                    "text": "RAIV"
                  }
                }
              }
            }
          },
          "metadata": {},
          "output_type": "display_data"
        }
      ],
      "source": [
        "# Create a list of variable names\n",
        "variable_names = ['T_surface_loc', 'T_Sinus_dt', 'T_height_loc', 'T_GM_over', 'T_size', 'T_exophytic', 'T_near_Ureter', 'T_rel_Ureter', 'T_APX', 'Total', 'T_size_exo','RAIV']\n",
        "\n",
        "# Loop through each variable and create a scatter plot for each cluster\n",
        "for variable in variable_names:\n",
        "    # Create a scatter plot for cluster 0\n",
        "    trace_cluster_0 = go.Scatter(\n",
        "        x=mer_cluster_0[variable],\n",
        "        y=mer_cluster_0['RAIV'],\n",
        "        mode='markers',\n",
        "        name='mer_cluster_0'\n",
        "    )\n",
        "\n",
        "    # Create a scatter plot for cluster 1\n",
        "    trace_cluster_1 = go.Scatter(\n",
        "        x=mer_cluster_1[variable],\n",
        "        y=mer_cluster_1['RAIV'],\n",
        "        mode='markers',\n",
        "        name='mer_cluster_1'\n",
        "    )\n",
        "\n",
        "    # Create layout\n",
        "    layout = go.Layout(\n",
        "        title=\"Scatter Plot of {} vs RAIV\".format(variable),\n",
        "        xaxis=dict(title=variable),\n",
        "        yaxis=dict(title='RAIV')\n",
        "    )\n",
        "\n",
        "    # Create figure and add traces\n",
        "    fig = go.Figure(data=[trace_cluster_0, trace_cluster_1], layout=layout)\n",
        "\n",
        "    # Show plot\n",
        "    fig.show()\n"
      ]
    },
    {
      "cell_type": "code",
      "execution_count": 22,
      "metadata": {
        "colab": {
          "base_uri": "https://localhost:8080/",
          "height": 238
        },
        "id": "BZVzBRpE5ASK",
        "outputId": "fcf1ccfc-c1dc-451a-b31c-4e0190cab5fb"
      },
      "outputs": [
        {
          "data": {
            "text/html": [
              "<div>\n",
              "<style scoped>\n",
              "    .dataframe tbody tr th:only-of-type {\n",
              "        vertical-align: middle;\n",
              "    }\n",
              "\n",
              "    .dataframe tbody tr th {\n",
              "        vertical-align: top;\n",
              "    }\n",
              "\n",
              "    .dataframe thead th {\n",
              "        text-align: right;\n",
              "    }\n",
              "</style>\n",
              "<table border=\"1\" class=\"dataframe\">\n",
              "  <thead>\n",
              "    <tr style=\"text-align: right;\">\n",
              "      <th></th>\n",
              "      <th>T_surface_loc</th>\n",
              "      <th>T_Sinus_dt</th>\n",
              "      <th>T_height_loc</th>\n",
              "      <th>T_GM_over</th>\n",
              "      <th>T_size</th>\n",
              "      <th>T_exophytic</th>\n",
              "      <th>T_near_Ureter</th>\n",
              "      <th>T_rel_Ureter</th>\n",
              "      <th>T_APX</th>\n",
              "      <th>Total</th>\n",
              "      <th>T_size_exo</th>\n",
              "      <th>RAIV</th>\n",
              "    </tr>\n",
              "    <tr>\n",
              "      <th>serial</th>\n",
              "      <th></th>\n",
              "      <th></th>\n",
              "      <th></th>\n",
              "      <th></th>\n",
              "      <th></th>\n",
              "      <th></th>\n",
              "      <th></th>\n",
              "      <th></th>\n",
              "      <th></th>\n",
              "      <th></th>\n",
              "      <th></th>\n",
              "      <th></th>\n",
              "    </tr>\n",
              "  </thead>\n",
              "  <tbody>\n",
              "    <tr>\n",
              "      <th>3</th>\n",
              "      <td>1.0</td>\n",
              "      <td>1.0</td>\n",
              "      <td>2.0</td>\n",
              "      <td>1.0</td>\n",
              "      <td>1.0</td>\n",
              "      <td>1.0</td>\n",
              "      <td>1.0</td>\n",
              "      <td>1.0</td>\n",
              "      <td>1.0</td>\n",
              "      <td>10</td>\n",
              "      <td>2.0</td>\n",
              "      <td>14.8</td>\n",
              "    </tr>\n",
              "    <tr>\n",
              "      <th>4</th>\n",
              "      <td>1.0</td>\n",
              "      <td>1.0</td>\n",
              "      <td>2.0</td>\n",
              "      <td>2.0</td>\n",
              "      <td>1.0</td>\n",
              "      <td>1.0</td>\n",
              "      <td>3.0</td>\n",
              "      <td>3.0</td>\n",
              "      <td>2.0</td>\n",
              "      <td>13</td>\n",
              "      <td>2.0</td>\n",
              "      <td>19.7</td>\n",
              "    </tr>\n",
              "    <tr>\n",
              "      <th>5</th>\n",
              "      <td>1.0</td>\n",
              "      <td>1.0</td>\n",
              "      <td>2.0</td>\n",
              "      <td>1.0</td>\n",
              "      <td>1.0</td>\n",
              "      <td>2.0</td>\n",
              "      <td>1.0</td>\n",
              "      <td>3.0</td>\n",
              "      <td>1.0</td>\n",
              "      <td>12</td>\n",
              "      <td>3.0</td>\n",
              "      <td>14.8</td>\n",
              "    </tr>\n",
              "    <tr>\n",
              "      <th>6</th>\n",
              "      <td>1.0</td>\n",
              "      <td>1.0</td>\n",
              "      <td>1.0</td>\n",
              "      <td>1.0</td>\n",
              "      <td>1.0</td>\n",
              "      <td>1.0</td>\n",
              "      <td>1.0</td>\n",
              "      <td>1.0</td>\n",
              "      <td>1.0</td>\n",
              "      <td>9</td>\n",
              "      <td>2.0</td>\n",
              "      <td>18.5</td>\n",
              "    </tr>\n",
              "    <tr>\n",
              "      <th>17</th>\n",
              "      <td>1.0</td>\n",
              "      <td>2.0</td>\n",
              "      <td>2.0</td>\n",
              "      <td>1.0</td>\n",
              "      <td>1.0</td>\n",
              "      <td>1.0</td>\n",
              "      <td>3.0</td>\n",
              "      <td>2.0</td>\n",
              "      <td>2.0</td>\n",
              "      <td>13</td>\n",
              "      <td>2.0</td>\n",
              "      <td>31.4</td>\n",
              "    </tr>\n",
              "  </tbody>\n",
              "</table>\n",
              "</div>"
            ],
            "text/plain": [
              "        T_surface_loc  T_Sinus_dt  T_height_loc  T_GM_over  T_size  \\\n",
              "serial                                                               \n",
              "3                 1.0         1.0           2.0        1.0     1.0   \n",
              "4                 1.0         1.0           2.0        2.0     1.0   \n",
              "5                 1.0         1.0           2.0        1.0     1.0   \n",
              "6                 1.0         1.0           1.0        1.0     1.0   \n",
              "17                1.0         2.0           2.0        1.0     1.0   \n",
              "\n",
              "        T_exophytic  T_near_Ureter  T_rel_Ureter  T_APX  Total  T_size_exo  \\\n",
              "serial                                                                       \n",
              "3               1.0            1.0           1.0    1.0     10         2.0   \n",
              "4               1.0            3.0           3.0    2.0     13         2.0   \n",
              "5               2.0            1.0           3.0    1.0     12         3.0   \n",
              "6               1.0            1.0           1.0    1.0      9         2.0   \n",
              "17              1.0            3.0           2.0    2.0     13         2.0   \n",
              "\n",
              "        RAIV  \n",
              "serial        \n",
              "3       14.8  \n",
              "4       19.7  \n",
              "5       14.8  \n",
              "6       18.5  \n",
              "17      31.4  "
            ]
          },
          "execution_count": 22,
          "metadata": {},
          "output_type": "execute_result"
        }
      ],
      "source": [
        "mer_cluster_0.head()"
      ]
    },
    {
      "cell_type": "code",
      "execution_count": 23,
      "metadata": {
        "colab": {
          "base_uri": "https://localhost:8080/"
        },
        "id": "fUwcxziy5SbP",
        "outputId": "f61035a6-4c62-4375-da6d-988db0284512"
      },
      "outputs": [
        {
          "name": "stdout",
          "output_type": "stream",
          "text": [
            "<class 'pandas.core.frame.DataFrame'>\n",
            "Index: 290 entries, 3 to 412\n",
            "Data columns (total 12 columns):\n",
            " #   Column         Non-Null Count  Dtype  \n",
            "---  ------         --------------  -----  \n",
            " 0   T_surface_loc  290 non-null    float64\n",
            " 1   T_Sinus_dt     290 non-null    float64\n",
            " 2   T_height_loc   290 non-null    float64\n",
            " 3   T_GM_over      290 non-null    float64\n",
            " 4   T_size         290 non-null    float64\n",
            " 5   T_exophytic    290 non-null    float64\n",
            " 6   T_near_Ureter  290 non-null    float64\n",
            " 7   T_rel_Ureter   290 non-null    float64\n",
            " 8   T_APX          290 non-null    float64\n",
            " 9   Total          290 non-null    int64  \n",
            " 10  T_size_exo     290 non-null    float64\n",
            " 11  RAIV           290 non-null    float64\n",
            "dtypes: float64(11), int64(1)\n",
            "memory usage: 29.5 KB\n"
          ]
        }
      ],
      "source": [
        "mer_cluster_0.info()"
      ]
    },
    {
      "cell_type": "code",
      "execution_count": 24,
      "metadata": {
        "colab": {
          "base_uri": "https://localhost:8080/"
        },
        "id": "_4tX9veD5fbG",
        "outputId": "85fbdb85-a6a9-4ebe-f524-e73cefe9573c"
      },
      "outputs": [
        {
          "name": "stdout",
          "output_type": "stream",
          "text": [
            "<class 'pandas.core.frame.DataFrame'>\n",
            "Index: 81 entries, 1 to 410\n",
            "Data columns (total 12 columns):\n",
            " #   Column         Non-Null Count  Dtype  \n",
            "---  ------         --------------  -----  \n",
            " 0   T_surface_loc  81 non-null     float64\n",
            " 1   T_Sinus_dt     81 non-null     float64\n",
            " 2   T_height_loc   81 non-null     float64\n",
            " 3   T_GM_over      81 non-null     float64\n",
            " 4   T_size         81 non-null     float64\n",
            " 5   T_exophytic    81 non-null     float64\n",
            " 6   T_near_Ureter  81 non-null     float64\n",
            " 7   T_rel_Ureter   81 non-null     float64\n",
            " 8   T_APX          81 non-null     float64\n",
            " 9   Total          81 non-null     int64  \n",
            " 10  T_size_exo     81 non-null     float64\n",
            " 11  RAIV           81 non-null     float64\n",
            "dtypes: float64(11), int64(1)\n",
            "memory usage: 8.2 KB\n"
          ]
        }
      ],
      "source": [
        "mer_cluster_1.info()"
      ]
    },
    {
      "cell_type": "markdown",
      "metadata": {},
      "source": [
        "## 군집 간의 차이(이미지)"
      ]
    },
    {
      "cell_type": "code",
      "execution_count": 25,
      "metadata": {},
      "outputs": [],
      "source": [
        "# 수정 전\n",
        "# 이상치를 제거한 데이터 : 군집0 > 군집1 (290:81)\n",
        "# 이상치를 제거하지 않은 데이터 : 군집0 > 군집1 (307:82)"
      ]
    }
  ],
  "metadata": {
    "colab": {
      "authorship_tag": "ABX9TyMDECJgDyjhKkpTb4JCk347",
      "include_colab_link": true,
      "mount_file_id": "1CVfHyi2enlmlgO7vktU_eGFXqWSvLHh3",
      "provenance": []
    },
    "kernelspec": {
      "display_name": "Python 3",
      "name": "python3"
    },
    "language_info": {
      "codemirror_mode": {
        "name": "ipython",
        "version": 3
      },
      "file_extension": ".py",
      "mimetype": "text/x-python",
      "name": "python",
      "nbconvert_exporter": "python",
      "pygments_lexer": "ipython3",
      "version": "3.8.18"
    }
  },
  "nbformat": 4,
  "nbformat_minor": 0
}
